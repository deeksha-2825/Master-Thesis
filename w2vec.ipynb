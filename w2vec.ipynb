{
  "cells": [
    {
      "cell_type": "code",
      "execution_count": null,
      "metadata": {
        "id": "1GNwBUBdnORM"
      },
      "outputs": [],
      "source": [
        "import re\n",
        "import pandas as pd\n",
        "import csv\n",
        "import numpy as np\n",
        "from collections import Counter\n",
        "import nltk\n",
        "import random\n",
        "from nltk import word_tokenize\n",
        "from sklearn.feature_extraction.text import CountVectorizer, TfidfVectorizer\n",
        "from sklearn.preprocessing import OneHotEncoder, LabelEncoder\n",
        "from sklearn.ensemble import IsolationForest\n",
        "from nltk.tokenize import sent_tokenize, word_tokenize\n",
        "import warnings\n",
        "\n",
        "warnings.filterwarnings(action = 'ignore')\n",
        "import gensim\n",
        "from gensim.models import Word2Vec"
      ]
    },
    {
      "cell_type": "code",
      "execution_count": null,
      "metadata": {
        "colab": {
          "background_save": true,
          "base_uri": "https://localhost:8080/"
        },
        "id": "pc2jorPjnSxo",
        "outputId": "4ea97716-4713-4c86-e06f-df5a17dc45ce"
      },
      "outputs": [
        {
          "ename": "MessageError",
          "evalue": "ignored",
          "output_type": "error",
          "traceback": [
            "\u001b[0;31m---------------------------------------------------------------------------\u001b[0m",
            "\u001b[0;31mMessageError\u001b[0m                              Traceback (most recent call last)",
            "\u001b[0;32m<ipython-input-2-d5df0069828e>\u001b[0m in \u001b[0;36m<cell line: 2>\u001b[0;34m()\u001b[0m\n\u001b[1;32m      1\u001b[0m \u001b[0;32mfrom\u001b[0m \u001b[0mgoogle\u001b[0m\u001b[0;34m.\u001b[0m\u001b[0mcolab\u001b[0m \u001b[0;32mimport\u001b[0m \u001b[0mdrive\u001b[0m\u001b[0;34m\u001b[0m\u001b[0;34m\u001b[0m\u001b[0m\n\u001b[0;32m----> 2\u001b[0;31m \u001b[0mdrive\u001b[0m\u001b[0;34m.\u001b[0m\u001b[0mmount\u001b[0m\u001b[0;34m(\u001b[0m\u001b[0;34m'/content/drive'\u001b[0m\u001b[0;34m)\u001b[0m\u001b[0;34m\u001b[0m\u001b[0;34m\u001b[0m\u001b[0m\n\u001b[0m",
            "\u001b[0;32m/usr/local/lib/python3.10/dist-packages/google/colab/drive.py\u001b[0m in \u001b[0;36mmount\u001b[0;34m(mountpoint, force_remount, timeout_ms, readonly)\u001b[0m\n\u001b[1;32m    101\u001b[0m \u001b[0;32mdef\u001b[0m \u001b[0mmount\u001b[0m\u001b[0;34m(\u001b[0m\u001b[0mmountpoint\u001b[0m\u001b[0;34m,\u001b[0m \u001b[0mforce_remount\u001b[0m\u001b[0;34m=\u001b[0m\u001b[0;32mFalse\u001b[0m\u001b[0;34m,\u001b[0m \u001b[0mtimeout_ms\u001b[0m\u001b[0;34m=\u001b[0m\u001b[0;36m120000\u001b[0m\u001b[0;34m,\u001b[0m \u001b[0mreadonly\u001b[0m\u001b[0;34m=\u001b[0m\u001b[0;32mFalse\u001b[0m\u001b[0;34m)\u001b[0m\u001b[0;34m:\u001b[0m\u001b[0;34m\u001b[0m\u001b[0;34m\u001b[0m\u001b[0m\n\u001b[1;32m    102\u001b[0m   \u001b[0;34m\"\"\"Mount your Google Drive at the specified mountpoint path.\"\"\"\u001b[0m\u001b[0;34m\u001b[0m\u001b[0;34m\u001b[0m\u001b[0m\n\u001b[0;32m--> 103\u001b[0;31m   return _mount(\n\u001b[0m\u001b[1;32m    104\u001b[0m       \u001b[0mmountpoint\u001b[0m\u001b[0;34m,\u001b[0m\u001b[0;34m\u001b[0m\u001b[0;34m\u001b[0m\u001b[0m\n\u001b[1;32m    105\u001b[0m       \u001b[0mforce_remount\u001b[0m\u001b[0;34m=\u001b[0m\u001b[0mforce_remount\u001b[0m\u001b[0;34m,\u001b[0m\u001b[0;34m\u001b[0m\u001b[0;34m\u001b[0m\u001b[0m\n",
            "\u001b[0;32m/usr/local/lib/python3.10/dist-packages/google/colab/drive.py\u001b[0m in \u001b[0;36m_mount\u001b[0;34m(mountpoint, force_remount, timeout_ms, ephemeral, readonly)\u001b[0m\n\u001b[1;32m    130\u001b[0m   )\n\u001b[1;32m    131\u001b[0m   \u001b[0;32mif\u001b[0m \u001b[0mephemeral\u001b[0m\u001b[0;34m:\u001b[0m\u001b[0;34m\u001b[0m\u001b[0;34m\u001b[0m\u001b[0m\n\u001b[0;32m--> 132\u001b[0;31m     _message.blocking_request(\n\u001b[0m\u001b[1;32m    133\u001b[0m         \u001b[0;34m'request_auth'\u001b[0m\u001b[0;34m,\u001b[0m \u001b[0mrequest\u001b[0m\u001b[0;34m=\u001b[0m\u001b[0;34m{\u001b[0m\u001b[0;34m'authType'\u001b[0m\u001b[0;34m:\u001b[0m \u001b[0;34m'dfs_ephemeral'\u001b[0m\u001b[0;34m}\u001b[0m\u001b[0;34m,\u001b[0m \u001b[0mtimeout_sec\u001b[0m\u001b[0;34m=\u001b[0m\u001b[0;32mNone\u001b[0m\u001b[0;34m\u001b[0m\u001b[0;34m\u001b[0m\u001b[0m\n\u001b[1;32m    134\u001b[0m     )\n",
            "\u001b[0;32m/usr/local/lib/python3.10/dist-packages/google/colab/_message.py\u001b[0m in \u001b[0;36mblocking_request\u001b[0;34m(request_type, request, timeout_sec, parent)\u001b[0m\n\u001b[1;32m    174\u001b[0m       \u001b[0mrequest_type\u001b[0m\u001b[0;34m,\u001b[0m \u001b[0mrequest\u001b[0m\u001b[0;34m,\u001b[0m \u001b[0mparent\u001b[0m\u001b[0;34m=\u001b[0m\u001b[0mparent\u001b[0m\u001b[0;34m,\u001b[0m \u001b[0mexpect_reply\u001b[0m\u001b[0;34m=\u001b[0m\u001b[0;32mTrue\u001b[0m\u001b[0;34m\u001b[0m\u001b[0;34m\u001b[0m\u001b[0m\n\u001b[1;32m    175\u001b[0m   )\n\u001b[0;32m--> 176\u001b[0;31m   \u001b[0;32mreturn\u001b[0m \u001b[0mread_reply_from_input\u001b[0m\u001b[0;34m(\u001b[0m\u001b[0mrequest_id\u001b[0m\u001b[0;34m,\u001b[0m \u001b[0mtimeout_sec\u001b[0m\u001b[0;34m)\u001b[0m\u001b[0;34m\u001b[0m\u001b[0;34m\u001b[0m\u001b[0m\n\u001b[0m",
            "\u001b[0;32m/usr/local/lib/python3.10/dist-packages/google/colab/_message.py\u001b[0m in \u001b[0;36mread_reply_from_input\u001b[0;34m(message_id, timeout_sec)\u001b[0m\n\u001b[1;32m    101\u001b[0m     ):\n\u001b[1;32m    102\u001b[0m       \u001b[0;32mif\u001b[0m \u001b[0;34m'error'\u001b[0m \u001b[0;32min\u001b[0m \u001b[0mreply\u001b[0m\u001b[0;34m:\u001b[0m\u001b[0;34m\u001b[0m\u001b[0;34m\u001b[0m\u001b[0m\n\u001b[0;32m--> 103\u001b[0;31m         \u001b[0;32mraise\u001b[0m \u001b[0mMessageError\u001b[0m\u001b[0;34m(\u001b[0m\u001b[0mreply\u001b[0m\u001b[0;34m[\u001b[0m\u001b[0;34m'error'\u001b[0m\u001b[0;34m]\u001b[0m\u001b[0;34m)\u001b[0m\u001b[0;34m\u001b[0m\u001b[0;34m\u001b[0m\u001b[0m\n\u001b[0m\u001b[1;32m    104\u001b[0m       \u001b[0;32mreturn\u001b[0m \u001b[0mreply\u001b[0m\u001b[0;34m.\u001b[0m\u001b[0mget\u001b[0m\u001b[0;34m(\u001b[0m\u001b[0;34m'data'\u001b[0m\u001b[0;34m,\u001b[0m \u001b[0;32mNone\u001b[0m\u001b[0;34m)\u001b[0m\u001b[0;34m\u001b[0m\u001b[0;34m\u001b[0m\u001b[0m\n\u001b[1;32m    105\u001b[0m \u001b[0;34m\u001b[0m\u001b[0m\n",
            "\u001b[0;31mMessageError\u001b[0m: Error: credential propagation was unsuccessful"
          ]
        }
      ],
      "source": [
        "from google.colab import drive\n",
        "drive.mount('/content/drive')"
      ]
    },
    {
      "cell_type": "code",
      "execution_count": null,
      "metadata": {
        "colab": {
          "background_save": true
        },
        "id": "J0W79vgBnUdM"
      },
      "outputs": [],
      "source": [
        "#df = pd.read_csv('/content/drive/MyDrive/report-tokenstring-novapi.csv', sep=',')\n",
        "df = pd.read_csv('/content/drive/MyDrive/thesis/train/token.csv', sep=',')"
      ]
    },
    {
      "cell_type": "code",
      "execution_count": null,
      "metadata": {
        "id": "GX8su6VSGyyq"
      },
      "outputs": [],
      "source": [
        "df_out = pd.read_csv('/content/drive/MyDrive/thesis/val/val-token.csv', sep=',')"
      ]
    },
    {
      "cell_type": "code",
      "execution_count": null,
      "metadata": {
        "colab": {
          "base_uri": "https://localhost:8080/",
          "height": 206
        },
        "id": "g2trLNuTG9Ej",
        "outputId": "fbffa68f-a266-405c-bf73-2c0e90a125d9"
      },
      "outputs": [
        {
          "data": {
            "text/html": [
              "\n",
              "  <div id=\"df-1bba8718-5d31-413c-b4b8-19d54408b611\">\n",
              "    <div class=\"colab-df-container\">\n",
              "      <div>\n",
              "<style scoped>\n",
              "    .dataframe tbody tr th:only-of-type {\n",
              "        vertical-align: middle;\n",
              "    }\n",
              "\n",
              "    .dataframe tbody tr th {\n",
              "        vertical-align: top;\n",
              "    }\n",
              "\n",
              "    .dataframe thead th {\n",
              "        text-align: right;\n",
              "    }\n",
              "</style>\n",
              "<table border=\"1\" class=\"dataframe\">\n",
              "  <thead>\n",
              "    <tr style=\"text-align: right;\">\n",
              "      <th></th>\n",
              "      <th>0</th>\n",
              "    </tr>\n",
              "  </thead>\n",
              "  <tbody>\n",
              "    <tr>\n",
              "      <th>0</th>\n",
              "      <td>info nova metadata wsgi server get status 200</td>\n",
              "    </tr>\n",
              "    <tr>\n",
              "      <th>1</th>\n",
              "      <td>info nova metadata wsgi server get status 200</td>\n",
              "    </tr>\n",
              "    <tr>\n",
              "      <th>2</th>\n",
              "      <td>info nova metadata wsgi server get status 200</td>\n",
              "    </tr>\n",
              "    <tr>\n",
              "      <th>3</th>\n",
              "      <td>info nova metadata wsgi server get status 200</td>\n",
              "    </tr>\n",
              "    <tr>\n",
              "      <th>4</th>\n",
              "      <td>info nova osapi_compute wsgi server get status...</td>\n",
              "    </tr>\n",
              "  </tbody>\n",
              "</table>\n",
              "</div>\n",
              "      <button class=\"colab-df-convert\" onclick=\"convertToInteractive('df-1bba8718-5d31-413c-b4b8-19d54408b611')\"\n",
              "              title=\"Convert this dataframe to an interactive table.\"\n",
              "              style=\"display:none;\">\n",
              "        \n",
              "  <svg xmlns=\"http://www.w3.org/2000/svg\" height=\"24px\"viewBox=\"0 0 24 24\"\n",
              "       width=\"24px\">\n",
              "    <path d=\"M0 0h24v24H0V0z\" fill=\"none\"/>\n",
              "    <path d=\"M18.56 5.44l.94 2.06.94-2.06 2.06-.94-2.06-.94-.94-2.06-.94 2.06-2.06.94zm-11 1L8.5 8.5l.94-2.06 2.06-.94-2.06-.94L8.5 2.5l-.94 2.06-2.06.94zm10 10l.94 2.06.94-2.06 2.06-.94-2.06-.94-.94-2.06-.94 2.06-2.06.94z\"/><path d=\"M17.41 7.96l-1.37-1.37c-.4-.4-.92-.59-1.43-.59-.52 0-1.04.2-1.43.59L10.3 9.45l-7.72 7.72c-.78.78-.78 2.05 0 2.83L4 21.41c.39.39.9.59 1.41.59.51 0 1.02-.2 1.41-.59l7.78-7.78 2.81-2.81c.8-.78.8-2.07 0-2.86zM5.41 20L4 18.59l7.72-7.72 1.47 1.35L5.41 20z\"/>\n",
              "  </svg>\n",
              "      </button>\n",
              "      \n",
              "  <style>\n",
              "    .colab-df-container {\n",
              "      display:flex;\n",
              "      flex-wrap:wrap;\n",
              "      gap: 12px;\n",
              "    }\n",
              "\n",
              "    .colab-df-convert {\n",
              "      background-color: #E8F0FE;\n",
              "      border: none;\n",
              "      border-radius: 50%;\n",
              "      cursor: pointer;\n",
              "      display: none;\n",
              "      fill: #1967D2;\n",
              "      height: 32px;\n",
              "      padding: 0 0 0 0;\n",
              "      width: 32px;\n",
              "    }\n",
              "\n",
              "    .colab-df-convert:hover {\n",
              "      background-color: #E2EBFA;\n",
              "      box-shadow: 0px 1px 2px rgba(60, 64, 67, 0.3), 0px 1px 3px 1px rgba(60, 64, 67, 0.15);\n",
              "      fill: #174EA6;\n",
              "    }\n",
              "\n",
              "    [theme=dark] .colab-df-convert {\n",
              "      background-color: #3B4455;\n",
              "      fill: #D2E3FC;\n",
              "    }\n",
              "\n",
              "    [theme=dark] .colab-df-convert:hover {\n",
              "      background-color: #434B5C;\n",
              "      box-shadow: 0px 1px 3px 1px rgba(0, 0, 0, 0.15);\n",
              "      filter: drop-shadow(0px 1px 2px rgba(0, 0, 0, 0.3));\n",
              "      fill: #FFFFFF;\n",
              "    }\n",
              "  </style>\n",
              "\n",
              "      <script>\n",
              "        const buttonEl =\n",
              "          document.querySelector('#df-1bba8718-5d31-413c-b4b8-19d54408b611 button.colab-df-convert');\n",
              "        buttonEl.style.display =\n",
              "          google.colab.kernel.accessAllowed ? 'block' : 'none';\n",
              "\n",
              "        async function convertToInteractive(key) {\n",
              "          const element = document.querySelector('#df-1bba8718-5d31-413c-b4b8-19d54408b611');\n",
              "          const dataTable =\n",
              "            await google.colab.kernel.invokeFunction('convertToInteractive',\n",
              "                                                     [key], {});\n",
              "          if (!dataTable) return;\n",
              "\n",
              "          const docLinkHtml = 'Like what you see? Visit the ' +\n",
              "            '<a target=\"_blank\" href=https://colab.research.google.com/notebooks/data_table.ipynb>data table notebook</a>'\n",
              "            + ' to learn more about interactive tables.';\n",
              "          element.innerHTML = '';\n",
              "          dataTable['output_type'] = 'display_data';\n",
              "          await google.colab.output.renderOutput(dataTable, element);\n",
              "          const docLink = document.createElement('div');\n",
              "          docLink.innerHTML = docLinkHtml;\n",
              "          element.appendChild(docLink);\n",
              "        }\n",
              "      </script>\n",
              "    </div>\n",
              "  </div>\n",
              "  "
            ],
            "text/plain": [
              "                                                   0\n",
              "0      info nova metadata wsgi server get status 200\n",
              "1      info nova metadata wsgi server get status 200\n",
              "2      info nova metadata wsgi server get status 200\n",
              "3      info nova metadata wsgi server get status 200\n",
              "4  info nova osapi_compute wsgi server get status..."
            ]
          },
          "execution_count": 70,
          "metadata": {},
          "output_type": "execute_result"
        }
      ],
      "source": [
        "df_out.head(5)"
      ]
    },
    {
      "cell_type": "code",
      "execution_count": null,
      "metadata": {
        "colab": {
          "base_uri": "https://localhost:8080/",
          "height": 206
        },
        "id": "JrLQ37E8oFlh",
        "outputId": "944bcb6b-440d-4ad4-d3b6-21da9feef67f"
      },
      "outputs": [
        {
          "data": {
            "text/html": [
              "\n",
              "  <div id=\"df-722e57dd-c25b-491c-9fc2-e311b48bce04\">\n",
              "    <div class=\"colab-df-container\">\n",
              "      <div>\n",
              "<style scoped>\n",
              "    .dataframe tbody tr th:only-of-type {\n",
              "        vertical-align: middle;\n",
              "    }\n",
              "\n",
              "    .dataframe tbody tr th {\n",
              "        vertical-align: top;\n",
              "    }\n",
              "\n",
              "    .dataframe thead th {\n",
              "        text-align: right;\n",
              "    }\n",
              "</style>\n",
              "<table border=\"1\" class=\"dataframe\">\n",
              "  <thead>\n",
              "    <tr style=\"text-align: right;\">\n",
              "      <th></th>\n",
              "      <th>0</th>\n",
              "    </tr>\n",
              "  </thead>\n",
              "  <tbody>\n",
              "    <tr>\n",
              "      <th>0</th>\n",
              "      <td>info nova metadata wsgi server get status 200</td>\n",
              "    </tr>\n",
              "    <tr>\n",
              "      <th>1</th>\n",
              "      <td>info nova metadata wsgi server get status 200</td>\n",
              "    </tr>\n",
              "    <tr>\n",
              "      <th>2</th>\n",
              "      <td>info nova metadata wsgi server get status 200</td>\n",
              "    </tr>\n",
              "    <tr>\n",
              "      <th>3</th>\n",
              "      <td>info nova metadata wsgi server get status 200</td>\n",
              "    </tr>\n",
              "    <tr>\n",
              "      <th>4</th>\n",
              "      <td>info nova osapi_compute wsgi server get status...</td>\n",
              "    </tr>\n",
              "  </tbody>\n",
              "</table>\n",
              "</div>\n",
              "      <button class=\"colab-df-convert\" onclick=\"convertToInteractive('df-722e57dd-c25b-491c-9fc2-e311b48bce04')\"\n",
              "              title=\"Convert this dataframe to an interactive table.\"\n",
              "              style=\"display:none;\">\n",
              "        \n",
              "  <svg xmlns=\"http://www.w3.org/2000/svg\" height=\"24px\"viewBox=\"0 0 24 24\"\n",
              "       width=\"24px\">\n",
              "    <path d=\"M0 0h24v24H0V0z\" fill=\"none\"/>\n",
              "    <path d=\"M18.56 5.44l.94 2.06.94-2.06 2.06-.94-2.06-.94-.94-2.06-.94 2.06-2.06.94zm-11 1L8.5 8.5l.94-2.06 2.06-.94-2.06-.94L8.5 2.5l-.94 2.06-2.06.94zm10 10l.94 2.06.94-2.06 2.06-.94-2.06-.94-.94-2.06-.94 2.06-2.06.94z\"/><path d=\"M17.41 7.96l-1.37-1.37c-.4-.4-.92-.59-1.43-.59-.52 0-1.04.2-1.43.59L10.3 9.45l-7.72 7.72c-.78.78-.78 2.05 0 2.83L4 21.41c.39.39.9.59 1.41.59.51 0 1.02-.2 1.41-.59l7.78-7.78 2.81-2.81c.8-.78.8-2.07 0-2.86zM5.41 20L4 18.59l7.72-7.72 1.47 1.35L5.41 20z\"/>\n",
              "  </svg>\n",
              "      </button>\n",
              "      \n",
              "  <style>\n",
              "    .colab-df-container {\n",
              "      display:flex;\n",
              "      flex-wrap:wrap;\n",
              "      gap: 12px;\n",
              "    }\n",
              "\n",
              "    .colab-df-convert {\n",
              "      background-color: #E8F0FE;\n",
              "      border: none;\n",
              "      border-radius: 50%;\n",
              "      cursor: pointer;\n",
              "      display: none;\n",
              "      fill: #1967D2;\n",
              "      height: 32px;\n",
              "      padding: 0 0 0 0;\n",
              "      width: 32px;\n",
              "    }\n",
              "\n",
              "    .colab-df-convert:hover {\n",
              "      background-color: #E2EBFA;\n",
              "      box-shadow: 0px 1px 2px rgba(60, 64, 67, 0.3), 0px 1px 3px 1px rgba(60, 64, 67, 0.15);\n",
              "      fill: #174EA6;\n",
              "    }\n",
              "\n",
              "    [theme=dark] .colab-df-convert {\n",
              "      background-color: #3B4455;\n",
              "      fill: #D2E3FC;\n",
              "    }\n",
              "\n",
              "    [theme=dark] .colab-df-convert:hover {\n",
              "      background-color: #434B5C;\n",
              "      box-shadow: 0px 1px 3px 1px rgba(0, 0, 0, 0.15);\n",
              "      filter: drop-shadow(0px 1px 2px rgba(0, 0, 0, 0.3));\n",
              "      fill: #FFFFFF;\n",
              "    }\n",
              "  </style>\n",
              "\n",
              "      <script>\n",
              "        const buttonEl =\n",
              "          document.querySelector('#df-722e57dd-c25b-491c-9fc2-e311b48bce04 button.colab-df-convert');\n",
              "        buttonEl.style.display =\n",
              "          google.colab.kernel.accessAllowed ? 'block' : 'none';\n",
              "\n",
              "        async function convertToInteractive(key) {\n",
              "          const element = document.querySelector('#df-722e57dd-c25b-491c-9fc2-e311b48bce04');\n",
              "          const dataTable =\n",
              "            await google.colab.kernel.invokeFunction('convertToInteractive',\n",
              "                                                     [key], {});\n",
              "          if (!dataTable) return;\n",
              "\n",
              "          const docLinkHtml = 'Like what you see? Visit the ' +\n",
              "            '<a target=\"_blank\" href=https://colab.research.google.com/notebooks/data_table.ipynb>data table notebook</a>'\n",
              "            + ' to learn more about interactive tables.';\n",
              "          element.innerHTML = '';\n",
              "          dataTable['output_type'] = 'display_data';\n",
              "          await google.colab.output.renderOutput(dataTable, element);\n",
              "          const docLink = document.createElement('div');\n",
              "          docLink.innerHTML = docLinkHtml;\n",
              "          element.appendChild(docLink);\n",
              "        }\n",
              "      </script>\n",
              "    </div>\n",
              "  </div>\n",
              "  "
            ],
            "text/plain": [
              "                                                   0\n",
              "0      info nova metadata wsgi server get status 200\n",
              "1      info nova metadata wsgi server get status 200\n",
              "2      info nova metadata wsgi server get status 200\n",
              "3      info nova metadata wsgi server get status 200\n",
              "4  info nova osapi_compute wsgi server get status..."
            ]
          },
          "execution_count": 8,
          "metadata": {},
          "output_type": "execute_result"
        }
      ],
      "source": [
        "df.head(5)"
      ]
    },
    {
      "cell_type": "code",
      "execution_count": null,
      "metadata": {
        "id": "VPnf1q741thb"
      },
      "outputs": [],
      "source": [
        "column_name = ['content']\n",
        "df.columns = column_name"
      ]
    },
    {
      "cell_type": "code",
      "execution_count": null,
      "metadata": {
        "id": "H9oQ8wZVHA15"
      },
      "outputs": [],
      "source": [
        "df_out.columns = column_name"
      ]
    },
    {
      "cell_type": "code",
      "execution_count": null,
      "metadata": {
        "colab": {
          "base_uri": "https://localhost:8080/",
          "height": 206
        },
        "id": "EqUgPyIU1yJR",
        "outputId": "a667a691-1f3c-4577-b93a-19db7abcc6fe"
      },
      "outputs": [
        {
          "data": {
            "text/html": [
              "\n",
              "  <div id=\"df-655a92f9-1599-4ec9-ad3b-1594950c2b42\">\n",
              "    <div class=\"colab-df-container\">\n",
              "      <div>\n",
              "<style scoped>\n",
              "    .dataframe tbody tr th:only-of-type {\n",
              "        vertical-align: middle;\n",
              "    }\n",
              "\n",
              "    .dataframe tbody tr th {\n",
              "        vertical-align: top;\n",
              "    }\n",
              "\n",
              "    .dataframe thead th {\n",
              "        text-align: right;\n",
              "    }\n",
              "</style>\n",
              "<table border=\"1\" class=\"dataframe\">\n",
              "  <thead>\n",
              "    <tr style=\"text-align: right;\">\n",
              "      <th></th>\n",
              "      <th>content</th>\n",
              "    </tr>\n",
              "  </thead>\n",
              "  <tbody>\n",
              "    <tr>\n",
              "      <th>0</th>\n",
              "      <td>info nova metadata wsgi server get status 200</td>\n",
              "    </tr>\n",
              "    <tr>\n",
              "      <th>1</th>\n",
              "      <td>info nova metadata wsgi server get status 200</td>\n",
              "    </tr>\n",
              "    <tr>\n",
              "      <th>2</th>\n",
              "      <td>info nova metadata wsgi server get status 200</td>\n",
              "    </tr>\n",
              "    <tr>\n",
              "      <th>3</th>\n",
              "      <td>info nova metadata wsgi server get status 200</td>\n",
              "    </tr>\n",
              "    <tr>\n",
              "      <th>4</th>\n",
              "      <td>info nova osapi_compute wsgi server get status...</td>\n",
              "    </tr>\n",
              "  </tbody>\n",
              "</table>\n",
              "</div>\n",
              "      <button class=\"colab-df-convert\" onclick=\"convertToInteractive('df-655a92f9-1599-4ec9-ad3b-1594950c2b42')\"\n",
              "              title=\"Convert this dataframe to an interactive table.\"\n",
              "              style=\"display:none;\">\n",
              "        \n",
              "  <svg xmlns=\"http://www.w3.org/2000/svg\" height=\"24px\"viewBox=\"0 0 24 24\"\n",
              "       width=\"24px\">\n",
              "    <path d=\"M0 0h24v24H0V0z\" fill=\"none\"/>\n",
              "    <path d=\"M18.56 5.44l.94 2.06.94-2.06 2.06-.94-2.06-.94-.94-2.06-.94 2.06-2.06.94zm-11 1L8.5 8.5l.94-2.06 2.06-.94-2.06-.94L8.5 2.5l-.94 2.06-2.06.94zm10 10l.94 2.06.94-2.06 2.06-.94-2.06-.94-.94-2.06-.94 2.06-2.06.94z\"/><path d=\"M17.41 7.96l-1.37-1.37c-.4-.4-.92-.59-1.43-.59-.52 0-1.04.2-1.43.59L10.3 9.45l-7.72 7.72c-.78.78-.78 2.05 0 2.83L4 21.41c.39.39.9.59 1.41.59.51 0 1.02-.2 1.41-.59l7.78-7.78 2.81-2.81c.8-.78.8-2.07 0-2.86zM5.41 20L4 18.59l7.72-7.72 1.47 1.35L5.41 20z\"/>\n",
              "  </svg>\n",
              "      </button>\n",
              "      \n",
              "  <style>\n",
              "    .colab-df-container {\n",
              "      display:flex;\n",
              "      flex-wrap:wrap;\n",
              "      gap: 12px;\n",
              "    }\n",
              "\n",
              "    .colab-df-convert {\n",
              "      background-color: #E8F0FE;\n",
              "      border: none;\n",
              "      border-radius: 50%;\n",
              "      cursor: pointer;\n",
              "      display: none;\n",
              "      fill: #1967D2;\n",
              "      height: 32px;\n",
              "      padding: 0 0 0 0;\n",
              "      width: 32px;\n",
              "    }\n",
              "\n",
              "    .colab-df-convert:hover {\n",
              "      background-color: #E2EBFA;\n",
              "      box-shadow: 0px 1px 2px rgba(60, 64, 67, 0.3), 0px 1px 3px 1px rgba(60, 64, 67, 0.15);\n",
              "      fill: #174EA6;\n",
              "    }\n",
              "\n",
              "    [theme=dark] .colab-df-convert {\n",
              "      background-color: #3B4455;\n",
              "      fill: #D2E3FC;\n",
              "    }\n",
              "\n",
              "    [theme=dark] .colab-df-convert:hover {\n",
              "      background-color: #434B5C;\n",
              "      box-shadow: 0px 1px 3px 1px rgba(0, 0, 0, 0.15);\n",
              "      filter: drop-shadow(0px 1px 2px rgba(0, 0, 0, 0.3));\n",
              "      fill: #FFFFFF;\n",
              "    }\n",
              "  </style>\n",
              "\n",
              "      <script>\n",
              "        const buttonEl =\n",
              "          document.querySelector('#df-655a92f9-1599-4ec9-ad3b-1594950c2b42 button.colab-df-convert');\n",
              "        buttonEl.style.display =\n",
              "          google.colab.kernel.accessAllowed ? 'block' : 'none';\n",
              "\n",
              "        async function convertToInteractive(key) {\n",
              "          const element = document.querySelector('#df-655a92f9-1599-4ec9-ad3b-1594950c2b42');\n",
              "          const dataTable =\n",
              "            await google.colab.kernel.invokeFunction('convertToInteractive',\n",
              "                                                     [key], {});\n",
              "          if (!dataTable) return;\n",
              "\n",
              "          const docLinkHtml = 'Like what you see? Visit the ' +\n",
              "            '<a target=\"_blank\" href=https://colab.research.google.com/notebooks/data_table.ipynb>data table notebook</a>'\n",
              "            + ' to learn more about interactive tables.';\n",
              "          element.innerHTML = '';\n",
              "          dataTable['output_type'] = 'display_data';\n",
              "          await google.colab.output.renderOutput(dataTable, element);\n",
              "          const docLink = document.createElement('div');\n",
              "          docLink.innerHTML = docLinkHtml;\n",
              "          element.appendChild(docLink);\n",
              "        }\n",
              "      </script>\n",
              "    </div>\n",
              "  </div>\n",
              "  "
            ],
            "text/plain": [
              "                                             content\n",
              "0      info nova metadata wsgi server get status 200\n",
              "1      info nova metadata wsgi server get status 200\n",
              "2      info nova metadata wsgi server get status 200\n",
              "3      info nova metadata wsgi server get status 200\n",
              "4  info nova osapi_compute wsgi server get status..."
            ]
          },
          "execution_count": 10,
          "metadata": {},
          "output_type": "execute_result"
        }
      ],
      "source": [
        "df.head(5)"
      ]
    },
    {
      "cell_type": "code",
      "execution_count": null,
      "metadata": {
        "colab": {
          "base_uri": "https://localhost:8080/"
        },
        "id": "x-lskou-18W7",
        "outputId": "c2ccac20-1975-4887-ea7b-7ed796607ea6"
      },
      "outputs": [
        {
          "name": "stderr",
          "output_type": "stream",
          "text": [
            "[nltk_data] Downloading package punkt to /root/nltk_data...\n",
            "[nltk_data]   Unzipping tokenizers/punkt.zip.\n"
          ]
        },
        {
          "data": {
            "text/plain": [
              "True"
            ]
          },
          "execution_count": 11,
          "metadata": {},
          "output_type": "execute_result"
        }
      ],
      "source": [
        "nltk.download('punkt')"
      ]
    },
    {
      "cell_type": "code",
      "execution_count": null,
      "metadata": {
        "colab": {
          "base_uri": "https://localhost:8080/"
        },
        "id": "defY0kq85EOX",
        "outputId": "38f82021-9d7a-4623-9e9f-1d4a4af23602"
      },
      "outputs": [
        {
          "data": {
            "text/plain": [
              "content    False\n",
              "dtype: bool"
            ]
          },
          "execution_count": 12,
          "metadata": {},
          "output_type": "execute_result"
        }
      ],
      "source": [
        "df.isna().any()"
      ]
    },
    {
      "cell_type": "code",
      "execution_count": null,
      "metadata": {
        "id": "oC7ruWn75Y39"
      },
      "outputs": [],
      "source": [
        "df.dropna(inplace=True)"
      ]
    },
    {
      "cell_type": "code",
      "execution_count": null,
      "metadata": {
        "id": "hrifpyls12WW"
      },
      "outputs": [],
      "source": [
        "df['clean_content'] = df['content'].apply(lambda x: word_tokenize(x))"
      ]
    },
    {
      "cell_type": "code",
      "execution_count": null,
      "metadata": {
        "id": "MXK2o1ISHI5i"
      },
      "outputs": [],
      "source": [
        "df_out['clean_content'] = df_out['content'].apply(lambda x: word_tokenize(x))"
      ]
    },
    {
      "cell_type": "code",
      "execution_count": null,
      "metadata": {
        "colab": {
          "base_uri": "https://localhost:8080/",
          "height": 206
        },
        "id": "gHXX4RMY1_CT",
        "outputId": "3d0c4474-8f94-4861-9b12-b02c8f2341f4"
      },
      "outputs": [
        {
          "data": {
            "text/html": [
              "\n",
              "  <div id=\"df-509e98c8-a305-47bf-9900-89319ba5b9e8\">\n",
              "    <div class=\"colab-df-container\">\n",
              "      <div>\n",
              "<style scoped>\n",
              "    .dataframe tbody tr th:only-of-type {\n",
              "        vertical-align: middle;\n",
              "    }\n",
              "\n",
              "    .dataframe tbody tr th {\n",
              "        vertical-align: top;\n",
              "    }\n",
              "\n",
              "    .dataframe thead th {\n",
              "        text-align: right;\n",
              "    }\n",
              "</style>\n",
              "<table border=\"1\" class=\"dataframe\">\n",
              "  <thead>\n",
              "    <tr style=\"text-align: right;\">\n",
              "      <th></th>\n",
              "      <th>content</th>\n",
              "      <th>clean_content</th>\n",
              "    </tr>\n",
              "  </thead>\n",
              "  <tbody>\n",
              "    <tr>\n",
              "      <th>0</th>\n",
              "      <td>info nova metadata wsgi server get status 200</td>\n",
              "      <td>[info, nova, metadata, wsgi, server, get, stat...</td>\n",
              "    </tr>\n",
              "    <tr>\n",
              "      <th>1</th>\n",
              "      <td>info nova metadata wsgi server get status 200</td>\n",
              "      <td>[info, nova, metadata, wsgi, server, get, stat...</td>\n",
              "    </tr>\n",
              "    <tr>\n",
              "      <th>2</th>\n",
              "      <td>info nova metadata wsgi server get status 200</td>\n",
              "      <td>[info, nova, metadata, wsgi, server, get, stat...</td>\n",
              "    </tr>\n",
              "    <tr>\n",
              "      <th>3</th>\n",
              "      <td>info nova metadata wsgi server get status 200</td>\n",
              "      <td>[info, nova, metadata, wsgi, server, get, stat...</td>\n",
              "    </tr>\n",
              "    <tr>\n",
              "      <th>4</th>\n",
              "      <td>info nova osapi_compute wsgi server get status...</td>\n",
              "      <td>[info, nova, osapi_compute, wsgi, server, get,...</td>\n",
              "    </tr>\n",
              "  </tbody>\n",
              "</table>\n",
              "</div>\n",
              "      <button class=\"colab-df-convert\" onclick=\"convertToInteractive('df-509e98c8-a305-47bf-9900-89319ba5b9e8')\"\n",
              "              title=\"Convert this dataframe to an interactive table.\"\n",
              "              style=\"display:none;\">\n",
              "        \n",
              "  <svg xmlns=\"http://www.w3.org/2000/svg\" height=\"24px\"viewBox=\"0 0 24 24\"\n",
              "       width=\"24px\">\n",
              "    <path d=\"M0 0h24v24H0V0z\" fill=\"none\"/>\n",
              "    <path d=\"M18.56 5.44l.94 2.06.94-2.06 2.06-.94-2.06-.94-.94-2.06-.94 2.06-2.06.94zm-11 1L8.5 8.5l.94-2.06 2.06-.94-2.06-.94L8.5 2.5l-.94 2.06-2.06.94zm10 10l.94 2.06.94-2.06 2.06-.94-2.06-.94-.94-2.06-.94 2.06-2.06.94z\"/><path d=\"M17.41 7.96l-1.37-1.37c-.4-.4-.92-.59-1.43-.59-.52 0-1.04.2-1.43.59L10.3 9.45l-7.72 7.72c-.78.78-.78 2.05 0 2.83L4 21.41c.39.39.9.59 1.41.59.51 0 1.02-.2 1.41-.59l7.78-7.78 2.81-2.81c.8-.78.8-2.07 0-2.86zM5.41 20L4 18.59l7.72-7.72 1.47 1.35L5.41 20z\"/>\n",
              "  </svg>\n",
              "      </button>\n",
              "      \n",
              "  <style>\n",
              "    .colab-df-container {\n",
              "      display:flex;\n",
              "      flex-wrap:wrap;\n",
              "      gap: 12px;\n",
              "    }\n",
              "\n",
              "    .colab-df-convert {\n",
              "      background-color: #E8F0FE;\n",
              "      border: none;\n",
              "      border-radius: 50%;\n",
              "      cursor: pointer;\n",
              "      display: none;\n",
              "      fill: #1967D2;\n",
              "      height: 32px;\n",
              "      padding: 0 0 0 0;\n",
              "      width: 32px;\n",
              "    }\n",
              "\n",
              "    .colab-df-convert:hover {\n",
              "      background-color: #E2EBFA;\n",
              "      box-shadow: 0px 1px 2px rgba(60, 64, 67, 0.3), 0px 1px 3px 1px rgba(60, 64, 67, 0.15);\n",
              "      fill: #174EA6;\n",
              "    }\n",
              "\n",
              "    [theme=dark] .colab-df-convert {\n",
              "      background-color: #3B4455;\n",
              "      fill: #D2E3FC;\n",
              "    }\n",
              "\n",
              "    [theme=dark] .colab-df-convert:hover {\n",
              "      background-color: #434B5C;\n",
              "      box-shadow: 0px 1px 3px 1px rgba(0, 0, 0, 0.15);\n",
              "      filter: drop-shadow(0px 1px 2px rgba(0, 0, 0, 0.3));\n",
              "      fill: #FFFFFF;\n",
              "    }\n",
              "  </style>\n",
              "\n",
              "      <script>\n",
              "        const buttonEl =\n",
              "          document.querySelector('#df-509e98c8-a305-47bf-9900-89319ba5b9e8 button.colab-df-convert');\n",
              "        buttonEl.style.display =\n",
              "          google.colab.kernel.accessAllowed ? 'block' : 'none';\n",
              "\n",
              "        async function convertToInteractive(key) {\n",
              "          const element = document.querySelector('#df-509e98c8-a305-47bf-9900-89319ba5b9e8');\n",
              "          const dataTable =\n",
              "            await google.colab.kernel.invokeFunction('convertToInteractive',\n",
              "                                                     [key], {});\n",
              "          if (!dataTable) return;\n",
              "\n",
              "          const docLinkHtml = 'Like what you see? Visit the ' +\n",
              "            '<a target=\"_blank\" href=https://colab.research.google.com/notebooks/data_table.ipynb>data table notebook</a>'\n",
              "            + ' to learn more about interactive tables.';\n",
              "          element.innerHTML = '';\n",
              "          dataTable['output_type'] = 'display_data';\n",
              "          await google.colab.output.renderOutput(dataTable, element);\n",
              "          const docLink = document.createElement('div');\n",
              "          docLink.innerHTML = docLinkHtml;\n",
              "          element.appendChild(docLink);\n",
              "        }\n",
              "      </script>\n",
              "    </div>\n",
              "  </div>\n",
              "  "
            ],
            "text/plain": [
              "                                             content  \\\n",
              "0      info nova metadata wsgi server get status 200   \n",
              "1      info nova metadata wsgi server get status 200   \n",
              "2      info nova metadata wsgi server get status 200   \n",
              "3      info nova metadata wsgi server get status 200   \n",
              "4  info nova osapi_compute wsgi server get status...   \n",
              "\n",
              "                                       clean_content  \n",
              "0  [info, nova, metadata, wsgi, server, get, stat...  \n",
              "1  [info, nova, metadata, wsgi, server, get, stat...  \n",
              "2  [info, nova, metadata, wsgi, server, get, stat...  \n",
              "3  [info, nova, metadata, wsgi, server, get, stat...  \n",
              "4  [info, nova, osapi_compute, wsgi, server, get,...  "
            ]
          },
          "execution_count": 73,
          "metadata": {},
          "output_type": "execute_result"
        }
      ],
      "source": [
        "df.head(5)"
      ]
    },
    {
      "cell_type": "code",
      "execution_count": null,
      "metadata": {
        "id": "pWUkvEngFRTi"
      },
      "outputs": [],
      "source": [
        "pattern = r'dcpsgx'"
      ]
    },
    {
      "cell_type": "code",
      "execution_count": null,
      "metadata": {
        "id": "nNPJX1KXFULq"
      },
      "outputs": [],
      "source": [
        "rows_mtch = df[df['content'].str.contains(pattern, regex=True)]"
      ]
    },
    {
      "cell_type": "code",
      "execution_count": null,
      "metadata": {
        "colab": {
          "base_uri": "https://localhost:8080/"
        },
        "id": "MqwS4gaZFcA9",
        "outputId": "bbdf8c13-e248-4b1a-c5a7-165dce257fbb"
      },
      "outputs": [
        {
          "name": "stdout",
          "output_type": "stream",
          "text": [
            "Empty DataFrame\n",
            "Columns: [content, clean_content]\n",
            "Index: []\n"
          ]
        }
      ],
      "source": [
        "print(rows_mtch)"
      ]
    },
    {
      "cell_type": "code",
      "execution_count": null,
      "metadata": {
        "id": "QpVXa5SioVa1"
      },
      "outputs": [],
      "source": [
        "text = df.clean_content"
      ]
    },
    {
      "cell_type": "code",
      "execution_count": null,
      "metadata": {
        "id": "ENSlkZ7fHSu_"
      },
      "outputs": [],
      "source": [
        "x_out = df_out.clean_content"
      ]
    },
    {
      "cell_type": "code",
      "execution_count": null,
      "metadata": {
        "colab": {
          "base_uri": "https://localhost:8080/"
        },
        "id": "BeBo-pdUotsy",
        "outputId": "cfb83efa-3dc0-4b69-91df-168896e649b9"
      },
      "outputs": [
        {
          "data": {
            "text/plain": [
              "pandas.core.series.Series"
            ]
          },
          "execution_count": 20,
          "metadata": {},
          "output_type": "execute_result"
        }
      ],
      "source": [
        "type(text)"
      ]
    },
    {
      "cell_type": "code",
      "execution_count": null,
      "metadata": {
        "colab": {
          "base_uri": "https://localhost:8080/"
        },
        "id": "VGsPi-D5ov7c",
        "outputId": "5e9ef96a-f6f7-41bb-d196-c21de16eec4d"
      },
      "outputs": [
        {
          "data": {
            "text/plain": [
              "1021009"
            ]
          },
          "execution_count": 21,
          "metadata": {},
          "output_type": "execute_result"
        }
      ],
      "source": [
        "len(text)"
      ]
    },
    {
      "cell_type": "code",
      "execution_count": null,
      "metadata": {
        "colab": {
          "base_uri": "https://localhost:8080/"
        },
        "id": "QK-txYmlqeEZ",
        "outputId": "1aa7a2c3-913e-4f30-d06f-48fe066d4697"
      },
      "outputs": [
        {
          "data": {
            "text/plain": [
              "0    [info, nova, metadata, wsgi, server, get, stat...\n",
              "1    [info, nova, metadata, wsgi, server, get, stat...\n",
              "2    [info, nova, metadata, wsgi, server, get, stat...\n",
              "3    [info, nova, metadata, wsgi, server, get, stat...\n",
              "4    [info, nova, osapi_compute, wsgi, server, get,...\n",
              "Name: clean_content, dtype: object"
            ]
          },
          "execution_count": 22,
          "metadata": {},
          "output_type": "execute_result"
        }
      ],
      "source": [
        "text.head(5)"
      ]
    },
    {
      "cell_type": "code",
      "execution_count": null,
      "metadata": {
        "colab": {
          "base_uri": "https://localhost:8080/"
        },
        "id": "TDTDKhmtsQPw",
        "outputId": "a738c5eb-82e0-4c65-d7f7-4efe4a5a73be"
      },
      "outputs": [
        {
          "data": {
            "text/plain": [
              "list"
            ]
          },
          "execution_count": 23,
          "metadata": {},
          "output_type": "execute_result"
        }
      ],
      "source": [
        "type(text[0])"
      ]
    },
    {
      "cell_type": "code",
      "execution_count": null,
      "metadata": {
        "colab": {
          "base_uri": "https://localhost:8080/"
        },
        "id": "QJ8WenO9sxRE",
        "outputId": "2406b479-6222-4262-b41d-bf09fb339fd0"
      },
      "outputs": [
        {
          "data": {
            "text/plain": [
              "['info', 'nova', 'metadata', 'wsgi', 'server', 'get', 'status', '200']"
            ]
          },
          "execution_count": 24,
          "metadata": {},
          "output_type": "execute_result"
        }
      ],
      "source": [
        "text[0]"
      ]
    },
    {
      "cell_type": "code",
      "execution_count": null,
      "metadata": {
        "id": "58gNASr3ozVz"
      },
      "outputs": [],
      "source": [
        "#model = Word2Vec(text, vector_size=100, min_count=1, window=5)"
      ]
    },
    {
      "cell_type": "code",
      "execution_count": null,
      "metadata": {
        "id": "MBCmQ1ECo-U2"
      },
      "outputs": [],
      "source": [
        "#model.save('/content/drive/MyDrive/thesis/Preprocess/w2vec.model')"
      ]
    },
    {
      "cell_type": "code",
      "execution_count": null,
      "metadata": {
        "id": "hJE9KjZrpTBr"
      },
      "outputs": [],
      "source": [
        "#model.wv['nova']"
      ]
    },
    {
      "cell_type": "code",
      "execution_count": null,
      "metadata": {
        "id": "ELfa4zjp2_p8"
      },
      "outputs": [],
      "source": [
        "#model.wv.most_similar(positive=['info'], topn=5)"
      ]
    },
    {
      "cell_type": "code",
      "execution_count": null,
      "metadata": {
        "id": "yvPv8EIqpYxR"
      },
      "outputs": [],
      "source": [
        "#model.wv.most_similar(positive=['nova'], topn=5)"
      ]
    },
    {
      "cell_type": "code",
      "execution_count": null,
      "metadata": {
        "id": "ZM35E7HD3H7R"
      },
      "outputs": [],
      "source": [
        "#model.wv.most_similar(positive=['get'], topn=5)"
      ]
    },
    {
      "cell_type": "code",
      "execution_count": null,
      "metadata": {
        "id": "pRaFZJn-3KjU"
      },
      "outputs": [],
      "source": [
        "#model.wv.most_similar(positive=['wsgi'], topn=5)"
      ]
    },
    {
      "cell_type": "code",
      "execution_count": null,
      "metadata": {
        "id": "CJGdP6D8G8LH"
      },
      "outputs": [],
      "source": [
        "#visualize the model"
      ]
    },
    {
      "cell_type": "code",
      "execution_count": null,
      "metadata": {
        "colab": {
          "base_uri": "https://localhost:8080/"
        },
        "id": "8i3KwNkZHp7v",
        "outputId": "16412d25-46e4-4a1f-9a79-af7c9675ac90"
      },
      "outputs": [
        {
          "name": "stdout",
          "output_type": "stream",
          "text": [
            "fasttext-wiki-news-subwords-300\n",
            "conceptnet-numberbatch-17-06-300\n",
            "word2vec-ruscorpora-300\n",
            "word2vec-google-news-300\n",
            "glove-wiki-gigaword-50\n",
            "glove-wiki-gigaword-100\n",
            "glove-wiki-gigaword-200\n",
            "glove-wiki-gigaword-300\n",
            "glove-twitter-25\n",
            "glove-twitter-50\n",
            "glove-twitter-100\n",
            "glove-twitter-200\n",
            "__testing_word2vec-matrix-synopsis\n"
          ]
        }
      ],
      "source": [
        "import gensim.downloader as api\n",
        "\n",
        "# Get information about available pre-trained models\n",
        "models_info = api.info()\n",
        "\n",
        "# List the available models\n",
        "available_models = list(models_info['models'].keys())\n",
        "\n",
        "# Print the available models\n",
        "for model_name in available_models:\n",
        "    print(model_name)\n"
      ]
    },
    {
      "cell_type": "code",
      "execution_count": null,
      "metadata": {
        "colab": {
          "base_uri": "https://localhost:8080/"
        },
        "id": "tB-Ggr9hJjxV",
        "outputId": "f39462ca-039d-4261-d9da-c6fb5a311391"
      },
      "outputs": [
        {
          "name": "stdout",
          "output_type": "stream",
          "text": [
            "[==================================================] 100.0% 1662.8/1662.8MB downloaded\n"
          ]
        }
      ],
      "source": [
        "model2 = api.load(\"word2vec-google-news-300\")"
      ]
    },
    {
      "cell_type": "code",
      "execution_count": null,
      "metadata": {
        "colab": {
          "base_uri": "https://localhost:8080/"
        },
        "id": "BcNU-rZcKShx",
        "outputId": "c5880d71-8267-4107-e3fd-d153627ac616"
      },
      "outputs": [
        {
          "data": {
            "text/plain": [
              "array([ 0.03320312, -0.08984375, -0.29492188,  0.11523438, -0.07128906,\n",
              "       -0.05395508,  0.01049805,  0.11914062,  0.02453613,  0.08007812,\n",
              "       -0.15039062, -0.19042969,  0.04785156,  0.17089844, -0.12695312,\n",
              "        0.04394531,  0.04760742,  0.15722656,  0.17089844,  0.06201172,\n",
              "       -0.10644531,  0.10791016,  0.2734375 ,  0.01989746,  0.20996094,\n",
              "       -0.05737305, -0.03710938, -0.12060547,  0.12255859, -0.04589844,\n",
              "       -0.04663086,  0.08349609, -0.171875  , -0.00500488,  0.15234375,\n",
              "       -0.12890625,  0.03295898, -0.01409912,  0.11669922,  0.11669922,\n",
              "        0.07763672, -0.13574219,  0.11816406, -0.01647949, -0.16308594,\n",
              "       -0.17578125, -0.08544922, -0.05444336,  0.04492188,  0.11425781,\n",
              "       -0.13183594,  0.2265625 ,  0.0612793 , -0.04370117, -0.0133667 ,\n",
              "        0.06542969,  0.05004883,  0.00445557, -0.06982422, -0.08789062,\n",
              "        0.13769531, -0.04663086, -0.17480469,  0.01818848,  0.01660156,\n",
              "        0.06005859, -0.00970459,  0.00915527, -0.06933594,  0.14355469,\n",
              "        0.19140625,  0.18261719,  0.10595703, -0.08935547, -0.19238281,\n",
              "       -0.04663086,  0.08837891,  0.23730469,  0.02355957,  0.15039062,\n",
              "       -0.03369141,  0.03198242,  0.13671875,  0.17871094,  0.10888672,\n",
              "        0.11621094, -0.14648438,  0.15625   , -0.0378418 ,  0.00302124,\n",
              "       -0.00674438,  0.2109375 , -0.04125977, -0.15332031, -0.12353516,\n",
              "       -0.16601562,  0.30273438,  0.20800781,  0.16015625,  0.01647949,\n",
              "       -0.14160156, -0.18652344, -0.02478027,  0.04956055, -0.17871094,\n",
              "       -0.10839844, -0.14746094, -0.08691406,  0.21191406,  0.11474609,\n",
              "        0.02026367,  0.00976562, -0.0189209 , -0.15917969,  0.07177734,\n",
              "        0.11572266,  0.17382812, -0.0279541 ,  0.1640625 , -0.04296875,\n",
              "       -0.08447266, -0.03198242, -0.10742188,  0.31640625,  0.12451172,\n",
              "        0.07470703, -0.12988281, -0.10351562,  0.0189209 , -0.06787109,\n",
              "        0.09033203, -0.17382812, -0.03027344, -0.07177734,  0.03491211,\n",
              "       -0.05029297,  0.10205078,  0.18652344, -0.09228516,  0.04492188,\n",
              "       -0.00741577, -0.05322266, -0.08203125, -0.03808594,  0.03564453,\n",
              "       -0.012146  , -0.13574219, -0.45898438, -0.12695312, -0.09423828,\n",
              "        0.125     ,  0.09814453, -0.18164062,  0.10644531, -0.07128906,\n",
              "       -0.10058594,  0.11962891, -0.14746094, -0.19433594,  0.09277344,\n",
              "        0.07177734, -0.0625    , -0.07080078, -0.02209473,  0.08886719,\n",
              "       -0.2734375 , -0.0378418 , -0.19628906,  0.10888672, -0.18554688,\n",
              "       -0.3125    , -0.10400391, -0.07617188,  0.06542969, -0.10351562,\n",
              "        0.0067749 ,  0.21777344, -0.11181641,  0.01538086,  0.25390625,\n",
              "        0.02612305, -0.07470703,  0.08642578,  0.25585938, -0.13085938,\n",
              "       -0.07080078,  0.03540039, -0.05615234,  0.05395508, -0.10449219,\n",
              "        0.20214844, -0.11425781,  0.07568359, -0.06494141,  0.0480957 ,\n",
              "       -0.10058594, -0.04956055, -0.18261719, -0.19335938, -0.03833008,\n",
              "        0.03369141,  0.07617188, -0.09472656,  0.02770996,  0.15429688,\n",
              "       -0.04589844, -0.16699219, -0.09716797,  0.10498047, -0.01867676,\n",
              "       -0.02075195,  0.16210938,  0.04907227,  0.14355469, -0.20605469,\n",
              "        0.06494141,  0.06933594, -0.00561523,  0.06347656, -0.15039062,\n",
              "       -0.16796875, -0.23730469,  0.13476562,  0.078125  ,  0.15722656,\n",
              "        0.06689453,  0.11962891,  0.11914062, -0.01190186, -0.07470703,\n",
              "        0.18164062, -0.06738281,  0.11523438,  0.140625  ,  0.09619141,\n",
              "        0.16894531, -0.04150391, -0.08740234,  0.11328125,  0.00411987,\n",
              "        0.13867188,  0.14257812, -0.05175781, -0.15820312,  0.10839844,\n",
              "        0.04467773, -0.08105469,  0.125     , -0.08935547,  0.0045166 ,\n",
              "       -0.02990723,  0.00720215,  0.0177002 ,  0.05883789,  0.09667969,\n",
              "        0.16015625,  0.01428223,  0.0039978 , -0.07617188, -0.12011719,\n",
              "       -0.12402344, -0.20214844, -0.12695312,  0.08007812,  0.15332031,\n",
              "        0.125     ,  0.14257812, -0.05541992, -0.0625    ,  0.00576782,\n",
              "       -0.01434326,  0.24414062,  0.27148438,  0.10253906,  0.0291748 ,\n",
              "       -0.07177734, -0.06884766, -0.29101562, -0.07617188, -0.13378906,\n",
              "        0.08496094, -0.171875  ,  0.05371094,  0.15527344, -0.04785156,\n",
              "        0.03979492, -0.11425781, -0.04321289,  0.03613281, -0.00558472,\n",
              "       -0.02172852,  0.18261719, -0.08691406,  0.09667969, -0.01251221,\n",
              "        0.07568359,  0.00427246, -0.12695312,  0.16113281, -0.16015625],\n",
              "      dtype=float32)"
            ]
          },
          "execution_count": 35,
          "metadata": {},
          "output_type": "execute_result"
        }
      ],
      "source": [
        "model2['get']"
      ]
    },
    {
      "cell_type": "markdown",
      "metadata": {
        "id": "nSZbXlAtGD-A"
      },
      "source": [
        "Train the extended word2vec with pretrained"
      ]
    },
    {
      "cell_type": "code",
      "execution_count": null,
      "metadata": {
        "id": "C0NlZg7THz_8"
      },
      "outputs": [],
      "source": [
        "from gensim.models import Word2Vec\n",
        "\n",
        "# Assuming you have a DataFrame called 'df' with a column named 'text' containing the sentences\n",
        "sentences = df['clean_content'].tolist()\n",
        "\n",
        "\n",
        "# Extend the model with additional training\n",
        "extended_model = Word2Vec(vector_size=100, window=5, min_count=1)\n",
        "extended_model.build_vocab(sentences)"
      ]
    },
    {
      "cell_type": "code",
      "execution_count": null,
      "metadata": {
        "id": "XZm-q-VkPa4O"
      },
      "outputs": [],
      "source": [
        "# Initialize vectors with the pre-trained model's vectors\n",
        "extended_model.wv.vectors = model2.vectors\n",
        "extended_model.wv.index_to_key = model2.index_to_key"
      ]
    },
    {
      "cell_type": "code",
      "execution_count": null,
      "metadata": {
        "colab": {
          "base_uri": "https://localhost:8080/"
        },
        "id": "6s483CkSNS9b",
        "outputId": "16ec75d7-ba91-464b-e5a9-3ddc64364239"
      },
      "outputs": [
        {
          "name": "stderr",
          "output_type": "stream",
          "text": [
            "WARNING:gensim.models.word2vec:Effective 'alpha' higher than previous training cycles\n"
          ]
        }
      ],
      "source": [
        "w2vec = extended_model.train(sentences, total_examples=len(sentences), epochs=10)\n"
      ]
    },
    {
      "cell_type": "code",
      "execution_count": null,
      "metadata": {
        "colab": {
          "base_uri": "https://localhost:8080/"
        },
        "id": "AefhFaEXD-Ys",
        "outputId": "d26440dc-0f7c-4b4e-cd19-9c08a3ad6c78"
      },
      "outputs": [
        {
          "data": {
            "text/plain": [
              "['/content/drive/MyDrive/thesis/models/w2vec.joblib']"
            ]
          },
          "execution_count": 42,
          "metadata": {},
          "output_type": "execute_result"
        }
      ],
      "source": [
        "from joblib import dump, load\n",
        "\n",
        "# save the model\n",
        "dump(w2vec,'/content/drive/MyDrive/thesis/models/w2vec.joblib')"
      ]
    },
    {
      "cell_type": "code",
      "execution_count": null,
      "metadata": {
        "colab": {
          "base_uri": "https://localhost:8080/"
        },
        "id": "xO9P0bkzT5aj",
        "outputId": "64c3d3f5-f01c-4249-d978-91cceaff6a90"
      },
      "outputs": [
        {
          "name": "stdout",
          "output_type": "stream",
          "text": [
            "Vector for the word 'info':\n",
            "[ 0.12574193  2.334908    0.01064271  0.9083518  -0.41587496 -0.04207111\n",
            " -0.05495502  0.68888247 -0.08766832 -1.0025516   1.5186074   1.1005973\n",
            "  0.888898   -1.0847154   0.27583808 -0.51720136 -0.4445435  -1.1155697\n",
            "  0.2085375   0.04845091  1.8605634   0.9961903  -0.54300153 -1.4459743\n",
            "  0.05855396  0.24953337  0.26344    -0.3653399   0.17490025  1.9407301\n",
            " -0.56130743 -0.7584599   0.10917322 -0.9532025   0.19345567  0.54810876\n",
            "  0.472495   -0.7703207  -0.0525462   0.79540926 -0.49603394 -0.94755757\n",
            " -0.64872783 -0.6239441  -0.1945345   0.74127173 -0.33427548 -0.9423025\n",
            " -0.8703688   0.4302847   1.246889    1.1161038  -0.9257807   0.9065018\n",
            " -0.46122098 -0.4225481   0.29858208  0.77493405 -0.373278    0.37676588\n",
            " -0.28004506 -0.70784533  1.1407167   0.3032287  -1.3887299  -0.6516082\n",
            "  0.41142344  1.2281729  -0.59471077  0.12102404 -0.97070324 -0.25412777\n",
            "  0.5647581   0.93442214  1.3924315  -1.7499799   0.82676375  1.5256788\n",
            "  0.57205486  0.33310142  0.36123213 -0.2846723   1.0128838   1.3462797\n",
            " -0.2376855  -0.17329086  0.9813421  -0.36813504 -0.14410582  0.32186037\n",
            "  0.3016236  -1.5658532  -0.53918344 -0.6101022   0.32164863 -0.7075442\n",
            " -0.79950553  0.32990962  0.7586511  -1.5208873   1.7764616   2.1341333\n",
            "  0.60861886 -1.0905827  -0.3900736   0.23898084  0.5959651  -0.11479643\n",
            "  0.5631919   0.6559841   0.49786577  1.8891336  -0.37115404 -0.06496104\n",
            " -0.11394103 -0.8497301  -1.6328748   0.42154557  0.44637343  0.569508\n",
            "  0.40627936  1.7446707  -0.13732971 -1.0827528  -0.41122255  0.70195425\n",
            "  0.07558781 -1.2209413   0.92928123  1.6818058  -0.09135336 -0.63335764\n",
            "  0.09156638 -0.7476468  -0.00569711  0.53633195  0.5414243   0.43846196\n",
            " -0.815961    0.32636753  0.02647762 -0.7904625   0.779635   -0.2890943\n",
            " -0.6824162   0.02744024 -0.03610499  0.48172313 -1.0035363   0.3678109\n",
            "  1.4145842   0.72458005 -0.4610188  -1.1949685  -0.08990714 -0.02061721\n",
            "  1.8139597   1.3720901  -0.9941646  -0.1817135   0.55526143 -0.47939807\n",
            "  1.1370845  -0.37498182  0.01297691 -0.12146387 -0.71089196  2.3412077\n",
            " -0.31474498  0.13852495 -0.6831057  -0.69400436  1.0378411   0.30634353\n",
            " -0.6205691  -1.9426767   0.9245767   1.0879152   0.540902    0.93844634\n",
            "  0.7960532  -0.9408891   0.47140884  0.9951463  -1.9815044  -0.41554683\n",
            "  1.3546667  -0.73107    -0.6239988  -1.1529654  -1.1607064   0.7176574\n",
            "  1.23893    -1.0449296   0.10003913  0.26025966  0.40639764  0.47157413\n",
            "  0.26175007 -0.80766755  1.085382    1.7873143   0.24472281 -0.9277947\n",
            " -1.0276605  -0.43468142  0.9302601   0.1455883   0.4828849   0.6797082\n",
            "  0.5315769   1.7319486  -0.2953378  -0.1360248   0.490029   -0.68154854\n",
            " -1.0285745   0.82163876  0.58633465  0.70505965  0.6484545   1.6411277\n",
            " -0.1028211  -0.562761   -0.26249346  0.84260094 -0.20542915 -1.3907433\n",
            "  0.9599699   1.4849874  -0.26469582 -0.06203586 -0.05532394 -0.96867687\n",
            "  0.16499348  0.6383341   0.20015204  0.5053182  -0.6810776   0.61082196\n",
            "  0.11038662 -0.98221195  0.40428025 -0.35775995 -0.6877181   0.300797\n",
            "  0.05498975  0.53006077 -0.8198437   0.47729698  1.1075399   0.43896618\n",
            " -0.610998   -1.2679083  -0.06885445  0.32110506  1.3841968   0.94398683\n",
            " -1.0191714  -0.3022396   0.65962994 -0.4539808   0.79756314  0.09325259\n",
            " -0.09138227 -0.37468126 -0.6171504   2.2216663  -0.5356739  -0.56771994\n",
            " -0.2050124  -0.889684    0.976163    0.53515285 -0.28104508 -1.6296042\n",
            "  1.5055147   1.2306364   0.5064133   0.9767401   0.95557666 -1.0931547\n",
            "  0.60338986  0.76472664 -2.1518416  -0.37650725  0.8791527  -0.9189339\n",
            " -0.1715019  -1.4009833  -1.3772461   0.3768502   1.03369    -0.91485494\n",
            " -0.13111652  0.9400366   0.647803    0.12135739 -0.23409314 -0.57271224]\n"
          ]
        }
      ],
      "source": [
        "# Assuming you have trained the extended model\n",
        "\n",
        "# Access the KeyedVectors object of the extended model\n",
        "extended_vectors = extended_model.wv\n",
        "\n",
        "# Get the vector for a specific word\n",
        "word = \"info\"\n",
        "if word in extended_vectors:\n",
        "    word_vector = extended_vectors[word]\n",
        "    print(\"Vector for the word '{}':\".format(word))\n",
        "    print(word_vector)\n",
        "else:\n",
        "    print(\"Word '{}' not found in the model.\".format(word))\n"
      ]
    },
    {
      "cell_type": "code",
      "execution_count": null,
      "metadata": {
        "id": "HWgBCbxGwp4U"
      },
      "outputs": [],
      "source": [
        "#extended_model.wv.most_similar['nova']"
      ]
    },
    {
      "cell_type": "code",
      "execution_count": null,
      "metadata": {
        "id": "KZn-O3FwUWuX"
      },
      "outputs": [],
      "source": [
        "def get_doc_vector(doc):\n",
        "    # Split the document into words\n",
        "    words = doc\n",
        "\n",
        "    # Compute the average of the Word2Vec embeddings for each word in the document\n",
        "    vectors = []\n",
        "    for word in words:\n",
        "        try:\n",
        "            vectors.append(extended_model.wv[word])\n",
        "        except KeyError:\n",
        "            pass\n",
        "    if len(vectors) == 0:\n",
        "        return np.zeros(100)\n",
        "    else:\n",
        "        return np.mean(vectors, axis=0)"
      ]
    },
    {
      "cell_type": "code",
      "execution_count": null,
      "metadata": {
        "id": "Mj3B6PP8U-hg"
      },
      "outputs": [],
      "source": [
        "X = [get_doc_vector(doc) for doc in text]"
      ]
    },
    {
      "cell_type": "code",
      "execution_count": null,
      "metadata": {
        "id": "Ukngc5_CGnbn"
      },
      "outputs": [],
      "source": [
        "x_outlier =  [get_doc_vector(doc) for doc in x_out]"
      ]
    },
    {
      "cell_type": "code",
      "execution_count": null,
      "metadata": {
        "id": "nA4Ahkyk1Mbx"
      },
      "outputs": [],
      "source": [
        "type(X)"
      ]
    },
    {
      "cell_type": "code",
      "execution_count": null,
      "metadata": {
        "id": "zTLcP8YX2_bD"
      },
      "outputs": [],
      "source": [
        "df_array = np.array(X)"
      ]
    },
    {
      "cell_type": "code",
      "execution_count": null,
      "metadata": {
        "colab": {
          "base_uri": "https://localhost:8080/"
        },
        "id": "wAmWM8Ur3htk",
        "outputId": "055402c7-e26d-4a2d-afb1-371f0e72d2ea"
      },
      "outputs": [
        {
          "data": {
            "text/plain": [
              "(1021009, 300)"
            ]
          },
          "execution_count": 77,
          "metadata": {},
          "output_type": "execute_result"
        }
      ],
      "source": [
        "df_array.shape"
      ]
    },
    {
      "cell_type": "code",
      "execution_count": null,
      "metadata": {
        "id": "VXrpju22Hfx0"
      },
      "outputs": [],
      "source": [
        "x_out = np.array(x_outlier)"
      ]
    },
    {
      "cell_type": "code",
      "execution_count": null,
      "metadata": {
        "colab": {
          "base_uri": "https://localhost:8080/"
        },
        "id": "Ime1kyp6HmXs",
        "outputId": "61c29179-73e2-4b4b-8344-383f276c4088"
      },
      "outputs": [
        {
          "data": {
            "text/plain": [
              "(102000, 300)"
            ]
          },
          "execution_count": 79,
          "metadata": {},
          "output_type": "execute_result"
        }
      ],
      "source": [
        "x_out.shape"
      ]
    },
    {
      "cell_type": "code",
      "execution_count": null,
      "metadata": {
        "id": "DhG71pqhOKUC"
      },
      "outputs": [],
      "source": [
        "df = pd.DataFrame(df_array)\n",
        "x_outli = pd.DataFrame(x_out)"
      ]
    },
    {
      "cell_type": "code",
      "execution_count": null,
      "metadata": {
        "colab": {
          "base_uri": "https://localhost:8080/",
          "height": 300
        },
        "id": "vfB98vKwOqsY",
        "outputId": "03c2e706-c9d4-4413-99e9-cb8cf9fb49d0"
      },
      "outputs": [
        {
          "data": {
            "text/html": [
              "\n",
              "  <div id=\"df-4806b4ef-da01-4fe2-afa8-31a2140c213a\">\n",
              "    <div class=\"colab-df-container\">\n",
              "      <div>\n",
              "<style scoped>\n",
              "    .dataframe tbody tr th:only-of-type {\n",
              "        vertical-align: middle;\n",
              "    }\n",
              "\n",
              "    .dataframe tbody tr th {\n",
              "        vertical-align: top;\n",
              "    }\n",
              "\n",
              "    .dataframe thead th {\n",
              "        text-align: right;\n",
              "    }\n",
              "</style>\n",
              "<table border=\"1\" class=\"dataframe\">\n",
              "  <thead>\n",
              "    <tr style=\"text-align: right;\">\n",
              "      <th></th>\n",
              "      <th>0</th>\n",
              "      <th>1</th>\n",
              "      <th>2</th>\n",
              "      <th>3</th>\n",
              "      <th>4</th>\n",
              "      <th>5</th>\n",
              "      <th>6</th>\n",
              "      <th>7</th>\n",
              "      <th>8</th>\n",
              "      <th>9</th>\n",
              "      <th>...</th>\n",
              "      <th>290</th>\n",
              "      <th>291</th>\n",
              "      <th>292</th>\n",
              "      <th>293</th>\n",
              "      <th>294</th>\n",
              "      <th>295</th>\n",
              "      <th>296</th>\n",
              "      <th>297</th>\n",
              "      <th>298</th>\n",
              "      <th>299</th>\n",
              "    </tr>\n",
              "  </thead>\n",
              "  <tbody>\n",
              "    <tr>\n",
              "      <th>0</th>\n",
              "      <td>-0.929935</td>\n",
              "      <td>0.613733</td>\n",
              "      <td>1.145898</td>\n",
              "      <td>-0.266752</td>\n",
              "      <td>0.523098</td>\n",
              "      <td>-1.577337</td>\n",
              "      <td>1.563985</td>\n",
              "      <td>-0.022327</td>\n",
              "      <td>0.626007</td>\n",
              "      <td>-0.674033</td>\n",
              "      <td>...</td>\n",
              "      <td>-0.306232</td>\n",
              "      <td>-0.022893</td>\n",
              "      <td>0.069833</td>\n",
              "      <td>0.312855</td>\n",
              "      <td>-0.018345</td>\n",
              "      <td>1.231639</td>\n",
              "      <td>-0.266718</td>\n",
              "      <td>0.761987</td>\n",
              "      <td>1.378311</td>\n",
              "      <td>-0.367940</td>\n",
              "    </tr>\n",
              "    <tr>\n",
              "      <th>1</th>\n",
              "      <td>-0.929935</td>\n",
              "      <td>0.613733</td>\n",
              "      <td>1.145898</td>\n",
              "      <td>-0.266752</td>\n",
              "      <td>0.523098</td>\n",
              "      <td>-1.577337</td>\n",
              "      <td>1.563985</td>\n",
              "      <td>-0.022327</td>\n",
              "      <td>0.626007</td>\n",
              "      <td>-0.674033</td>\n",
              "      <td>...</td>\n",
              "      <td>-0.306232</td>\n",
              "      <td>-0.022893</td>\n",
              "      <td>0.069833</td>\n",
              "      <td>0.312855</td>\n",
              "      <td>-0.018345</td>\n",
              "      <td>1.231639</td>\n",
              "      <td>-0.266718</td>\n",
              "      <td>0.761987</td>\n",
              "      <td>1.378311</td>\n",
              "      <td>-0.367940</td>\n",
              "    </tr>\n",
              "    <tr>\n",
              "      <th>2</th>\n",
              "      <td>-0.929935</td>\n",
              "      <td>0.613733</td>\n",
              "      <td>1.145898</td>\n",
              "      <td>-0.266752</td>\n",
              "      <td>0.523098</td>\n",
              "      <td>-1.577337</td>\n",
              "      <td>1.563985</td>\n",
              "      <td>-0.022327</td>\n",
              "      <td>0.626007</td>\n",
              "      <td>-0.674033</td>\n",
              "      <td>...</td>\n",
              "      <td>-0.306232</td>\n",
              "      <td>-0.022893</td>\n",
              "      <td>0.069833</td>\n",
              "      <td>0.312855</td>\n",
              "      <td>-0.018345</td>\n",
              "      <td>1.231639</td>\n",
              "      <td>-0.266718</td>\n",
              "      <td>0.761987</td>\n",
              "      <td>1.378311</td>\n",
              "      <td>-0.367940</td>\n",
              "    </tr>\n",
              "    <tr>\n",
              "      <th>3</th>\n",
              "      <td>-0.929935</td>\n",
              "      <td>0.613733</td>\n",
              "      <td>1.145898</td>\n",
              "      <td>-0.266752</td>\n",
              "      <td>0.523098</td>\n",
              "      <td>-1.577337</td>\n",
              "      <td>1.563985</td>\n",
              "      <td>-0.022327</td>\n",
              "      <td>0.626007</td>\n",
              "      <td>-0.674033</td>\n",
              "      <td>...</td>\n",
              "      <td>-0.306232</td>\n",
              "      <td>-0.022893</td>\n",
              "      <td>0.069833</td>\n",
              "      <td>0.312855</td>\n",
              "      <td>-0.018345</td>\n",
              "      <td>1.231639</td>\n",
              "      <td>-0.266718</td>\n",
              "      <td>0.761987</td>\n",
              "      <td>1.378311</td>\n",
              "      <td>-0.367940</td>\n",
              "    </tr>\n",
              "    <tr>\n",
              "      <th>4</th>\n",
              "      <td>-0.478213</td>\n",
              "      <td>0.050284</td>\n",
              "      <td>1.042063</td>\n",
              "      <td>-0.036998</td>\n",
              "      <td>0.012197</td>\n",
              "      <td>-1.502205</td>\n",
              "      <td>1.844592</td>\n",
              "      <td>-0.049236</td>\n",
              "      <td>0.289834</td>\n",
              "      <td>-0.243856</td>\n",
              "      <td>...</td>\n",
              "      <td>0.360452</td>\n",
              "      <td>-0.120225</td>\n",
              "      <td>-0.124290</td>\n",
              "      <td>0.039549</td>\n",
              "      <td>-0.360130</td>\n",
              "      <td>1.625848</td>\n",
              "      <td>-1.467177</td>\n",
              "      <td>1.304148</td>\n",
              "      <td>0.964949</td>\n",
              "      <td>-0.830429</td>\n",
              "    </tr>\n",
              "  </tbody>\n",
              "</table>\n",
              "<p>5 rows × 300 columns</p>\n",
              "</div>\n",
              "      <button class=\"colab-df-convert\" onclick=\"convertToInteractive('df-4806b4ef-da01-4fe2-afa8-31a2140c213a')\"\n",
              "              title=\"Convert this dataframe to an interactive table.\"\n",
              "              style=\"display:none;\">\n",
              "        \n",
              "  <svg xmlns=\"http://www.w3.org/2000/svg\" height=\"24px\"viewBox=\"0 0 24 24\"\n",
              "       width=\"24px\">\n",
              "    <path d=\"M0 0h24v24H0V0z\" fill=\"none\"/>\n",
              "    <path d=\"M18.56 5.44l.94 2.06.94-2.06 2.06-.94-2.06-.94-.94-2.06-.94 2.06-2.06.94zm-11 1L8.5 8.5l.94-2.06 2.06-.94-2.06-.94L8.5 2.5l-.94 2.06-2.06.94zm10 10l.94 2.06.94-2.06 2.06-.94-2.06-.94-.94-2.06-.94 2.06-2.06.94z\"/><path d=\"M17.41 7.96l-1.37-1.37c-.4-.4-.92-.59-1.43-.59-.52 0-1.04.2-1.43.59L10.3 9.45l-7.72 7.72c-.78.78-.78 2.05 0 2.83L4 21.41c.39.39.9.59 1.41.59.51 0 1.02-.2 1.41-.59l7.78-7.78 2.81-2.81c.8-.78.8-2.07 0-2.86zM5.41 20L4 18.59l7.72-7.72 1.47 1.35L5.41 20z\"/>\n",
              "  </svg>\n",
              "      </button>\n",
              "      \n",
              "  <style>\n",
              "    .colab-df-container {\n",
              "      display:flex;\n",
              "      flex-wrap:wrap;\n",
              "      gap: 12px;\n",
              "    }\n",
              "\n",
              "    .colab-df-convert {\n",
              "      background-color: #E8F0FE;\n",
              "      border: none;\n",
              "      border-radius: 50%;\n",
              "      cursor: pointer;\n",
              "      display: none;\n",
              "      fill: #1967D2;\n",
              "      height: 32px;\n",
              "      padding: 0 0 0 0;\n",
              "      width: 32px;\n",
              "    }\n",
              "\n",
              "    .colab-df-convert:hover {\n",
              "      background-color: #E2EBFA;\n",
              "      box-shadow: 0px 1px 2px rgba(60, 64, 67, 0.3), 0px 1px 3px 1px rgba(60, 64, 67, 0.15);\n",
              "      fill: #174EA6;\n",
              "    }\n",
              "\n",
              "    [theme=dark] .colab-df-convert {\n",
              "      background-color: #3B4455;\n",
              "      fill: #D2E3FC;\n",
              "    }\n",
              "\n",
              "    [theme=dark] .colab-df-convert:hover {\n",
              "      background-color: #434B5C;\n",
              "      box-shadow: 0px 1px 3px 1px rgba(0, 0, 0, 0.15);\n",
              "      filter: drop-shadow(0px 1px 2px rgba(0, 0, 0, 0.3));\n",
              "      fill: #FFFFFF;\n",
              "    }\n",
              "  </style>\n",
              "\n",
              "      <script>\n",
              "        const buttonEl =\n",
              "          document.querySelector('#df-4806b4ef-da01-4fe2-afa8-31a2140c213a button.colab-df-convert');\n",
              "        buttonEl.style.display =\n",
              "          google.colab.kernel.accessAllowed ? 'block' : 'none';\n",
              "\n",
              "        async function convertToInteractive(key) {\n",
              "          const element = document.querySelector('#df-4806b4ef-da01-4fe2-afa8-31a2140c213a');\n",
              "          const dataTable =\n",
              "            await google.colab.kernel.invokeFunction('convertToInteractive',\n",
              "                                                     [key], {});\n",
              "          if (!dataTable) return;\n",
              "\n",
              "          const docLinkHtml = 'Like what you see? Visit the ' +\n",
              "            '<a target=\"_blank\" href=https://colab.research.google.com/notebooks/data_table.ipynb>data table notebook</a>'\n",
              "            + ' to learn more about interactive tables.';\n",
              "          element.innerHTML = '';\n",
              "          dataTable['output_type'] = 'display_data';\n",
              "          await google.colab.output.renderOutput(dataTable, element);\n",
              "          const docLink = document.createElement('div');\n",
              "          docLink.innerHTML = docLinkHtml;\n",
              "          element.appendChild(docLink);\n",
              "        }\n",
              "      </script>\n",
              "    </div>\n",
              "  </div>\n",
              "  "
            ],
            "text/plain": [
              "        0         1         2         3         4         5         6    \\\n",
              "0 -0.929935  0.613733  1.145898 -0.266752  0.523098 -1.577337  1.563985   \n",
              "1 -0.929935  0.613733  1.145898 -0.266752  0.523098 -1.577337  1.563985   \n",
              "2 -0.929935  0.613733  1.145898 -0.266752  0.523098 -1.577337  1.563985   \n",
              "3 -0.929935  0.613733  1.145898 -0.266752  0.523098 -1.577337  1.563985   \n",
              "4 -0.478213  0.050284  1.042063 -0.036998  0.012197 -1.502205  1.844592   \n",
              "\n",
              "        7         8         9    ...       290       291       292       293  \\\n",
              "0 -0.022327  0.626007 -0.674033  ... -0.306232 -0.022893  0.069833  0.312855   \n",
              "1 -0.022327  0.626007 -0.674033  ... -0.306232 -0.022893  0.069833  0.312855   \n",
              "2 -0.022327  0.626007 -0.674033  ... -0.306232 -0.022893  0.069833  0.312855   \n",
              "3 -0.022327  0.626007 -0.674033  ... -0.306232 -0.022893  0.069833  0.312855   \n",
              "4 -0.049236  0.289834 -0.243856  ...  0.360452 -0.120225 -0.124290  0.039549   \n",
              "\n",
              "        294       295       296       297       298       299  \n",
              "0 -0.018345  1.231639 -0.266718  0.761987  1.378311 -0.367940  \n",
              "1 -0.018345  1.231639 -0.266718  0.761987  1.378311 -0.367940  \n",
              "2 -0.018345  1.231639 -0.266718  0.761987  1.378311 -0.367940  \n",
              "3 -0.018345  1.231639 -0.266718  0.761987  1.378311 -0.367940  \n",
              "4 -0.360130  1.625848 -1.467177  1.304148  0.964949 -0.830429  \n",
              "\n",
              "[5 rows x 300 columns]"
            ]
          },
          "execution_count": 81,
          "metadata": {},
          "output_type": "execute_result"
        }
      ],
      "source": [
        "df.head(5)"
      ]
    },
    {
      "cell_type": "code",
      "execution_count": null,
      "metadata": {
        "id": "I6TO11REOtd9"
      },
      "outputs": [],
      "source": [
        "from sklearn.preprocessing import MinMaxScaler\n",
        "\n",
        "mm_scaler = MinMaxScaler()\n",
        "x_scaled_cv = mm_scaler.fit_transform(df)"
      ]
    },
    {
      "cell_type": "code",
      "execution_count": null,
      "metadata": {
        "id": "RnDXGofeOv8l"
      },
      "outputs": [],
      "source": [
        "x_out_w2v = mm_scaler.transform(x_outli)"
      ]
    },
    {
      "cell_type": "code",
      "execution_count": null,
      "metadata": {
        "id": "1hMcTLCIO2xi"
      },
      "outputs": [],
      "source": [
        "df = pd.DataFrame(x_scaled_cv)\n",
        "x_outli = pd.DataFrame(x_out_w2v)"
      ]
    },
    {
      "cell_type": "code",
      "execution_count": null,
      "metadata": {
        "id": "i2A1fT5fO85s"
      },
      "outputs": [],
      "source": [
        "df.to_csv('/content/drive/MyDrive/thesis/train/w2vec.csv', index=False)\n",
        "x_outli.to_csv('/content/drive/MyDrive/thesis/val/val-w2vec.csv', index=False)\n"
      ]
    },
    {
      "cell_type": "code",
      "execution_count": null,
      "metadata": {
        "colab": {
          "base_uri": "https://localhost:8080/"
        },
        "id": "xKN3f1Mn06Oa",
        "outputId": "56c85f2a-c7a8-4263-8702-c78edb4ba004"
      },
      "outputs": [
        {
          "name": "stdout",
          "output_type": "stream",
          "text": [
            "Epoch 1/10\n",
            "27121/27121 [==============================] - 112s 4ms/step - loss: 0.4465 - acc: 0.0239 - val_loss: 0.4430 - val_acc: 0.0190\n",
            "Epoch 2/10\n",
            "27121/27121 [==============================] - 110s 4ms/step - loss: 0.4452 - acc: 0.0340 - val_loss: 0.4429 - val_acc: 0.0045\n",
            "Epoch 3/10\n",
            "27121/27121 [==============================] - 111s 4ms/step - loss: 0.4451 - acc: 0.0309 - val_loss: 0.4429 - val_acc: 0.0024\n",
            "Epoch 4/10\n",
            "27121/27121 [==============================] - 110s 4ms/step - loss: 0.4451 - acc: 0.0203 - val_loss: 0.4429 - val_acc: 0.0474\n",
            "Epoch 5/10\n",
            "27121/27121 [==============================] - 108s 4ms/step - loss: 0.4451 - acc: 0.0109 - val_loss: 0.4429 - val_acc: 0.0482\n",
            "Epoch 6/10\n",
            "27121/27121 [==============================] - 114s 4ms/step - loss: 0.4451 - acc: 0.0125 - val_loss: 0.4429 - val_acc: 0.0040\n",
            "Epoch 7/10\n",
            "27121/27121 [==============================] - 114s 4ms/step - loss: 0.4451 - acc: 0.0154 - val_loss: 0.4429 - val_acc: 0.0043\n",
            "Epoch 8/10\n",
            "27121/27121 [==============================] - 114s 4ms/step - loss: 0.4451 - acc: 0.0102 - val_loss: 0.4429 - val_acc: 0.0491\n",
            "Epoch 9/10\n",
            "27121/27121 [==============================] - 114s 4ms/step - loss: 0.4451 - acc: 0.0105 - val_loss: 0.4429 - val_acc: 0.0027\n",
            "Epoch 10/10\n",
            "27121/27121 [==============================] - 113s 4ms/step - loss: 0.4451 - acc: 0.0103 - val_loss: 0.4429 - val_acc: 0.0027\n",
            "31907/31907 [==============================] - 37s 1ms/step\n"
          ]
        }
      ],
      "source": [
        "from tensorflow.keras.layers import Input, Dense\n",
        "from tensorflow.keras.models import Model\n",
        "\n",
        "# Prepare your data\n",
        "\n",
        "# Define the dimensions of your input data\n",
        "input_dim = df_array.shape[1]\n",
        "\n",
        "# Define the architecture of the autoencoder\n",
        "input_layer = Input(shape=(input_dim,))\n",
        "encoded = Dense(128, activation='relu')(input_layer)\n",
        "encoded = Dense(64, activation='relu')(encoded)\n",
        "encoded = Dense(32, activation='relu')(encoded)\n",
        "\n",
        "decoded = Dense(64, activation='relu')(encoded)\n",
        "decoded = Dense(128, activation='relu')(decoded)\n",
        "decoded = Dense(input_dim, activation='sigmoid')(decoded)\n",
        "\n",
        "# Create the autoencoder model\n",
        "autoencoder = Model(input_layer, decoded)\n",
        "\n",
        "# Compile the autoencoder model\n",
        "autoencoder.compile(optimizer='adam', loss='mse', metrics = 'acc')\n",
        "\n",
        "# Train the autoencoder\n",
        "history = autoencoder.fit(df_array, df_array, epochs=10, batch_size=32, validation_split=0.15)\n",
        "\n",
        "# Extract the encoder part\n",
        "encoder = Model(input_layer, encoded)\n",
        "\n",
        "# Apply the encoder for dimensionality reduction\n",
        "reduced_data = encoder.predict(df_array)\n"
      ]
    },
    {
      "cell_type": "code",
      "execution_count": null,
      "metadata": {
        "colab": {
          "base_uri": "https://localhost:8080/"
        },
        "id": "rXMiM62IHwTo",
        "outputId": "951518ab-52e6-447e-bdc0-1695f4e9564d"
      },
      "outputs": [
        {
          "name": "stdout",
          "output_type": "stream",
          "text": [
            "3188/3188 [==============================] - 4s 1ms/step\n"
          ]
        }
      ],
      "source": [
        "outlier = encoder.predict(x_out)"
      ]
    },
    {
      "cell_type": "code",
      "execution_count": null,
      "metadata": {
        "id": "MdaZy4AFwyou"
      },
      "outputs": [],
      "source": [
        "w2vec = pd.DataFrame(reduced_data)"
      ]
    },
    {
      "cell_type": "code",
      "execution_count": null,
      "metadata": {
        "colab": {
          "base_uri": "https://localhost:8080/",
          "height": 300
        },
        "id": "CpoltyYqzvO_",
        "outputId": "398a41a9-1d9f-4aea-c0bc-b95b57ac0a46"
      },
      "outputs": [
        {
          "data": {
            "text/html": [
              "\n",
              "  <div id=\"df-faf32a3a-e267-43bf-bb7f-4b6a9639c8f0\">\n",
              "    <div class=\"colab-df-container\">\n",
              "      <div>\n",
              "<style scoped>\n",
              "    .dataframe tbody tr th:only-of-type {\n",
              "        vertical-align: middle;\n",
              "    }\n",
              "\n",
              "    .dataframe tbody tr th {\n",
              "        vertical-align: top;\n",
              "    }\n",
              "\n",
              "    .dataframe thead th {\n",
              "        text-align: right;\n",
              "    }\n",
              "</style>\n",
              "<table border=\"1\" class=\"dataframe\">\n",
              "  <thead>\n",
              "    <tr style=\"text-align: right;\">\n",
              "      <th></th>\n",
              "      <th>0</th>\n",
              "      <th>1</th>\n",
              "      <th>2</th>\n",
              "      <th>3</th>\n",
              "      <th>4</th>\n",
              "      <th>5</th>\n",
              "      <th>6</th>\n",
              "      <th>7</th>\n",
              "      <th>8</th>\n",
              "      <th>9</th>\n",
              "      <th>...</th>\n",
              "      <th>22</th>\n",
              "      <th>23</th>\n",
              "      <th>24</th>\n",
              "      <th>25</th>\n",
              "      <th>26</th>\n",
              "      <th>27</th>\n",
              "      <th>28</th>\n",
              "      <th>29</th>\n",
              "      <th>30</th>\n",
              "      <th>31</th>\n",
              "    </tr>\n",
              "  </thead>\n",
              "  <tbody>\n",
              "    <tr>\n",
              "      <th>0</th>\n",
              "      <td>0.0</td>\n",
              "      <td>0.0</td>\n",
              "      <td>0.0</td>\n",
              "      <td>0.0</td>\n",
              "      <td>0.0</td>\n",
              "      <td>0.0</td>\n",
              "      <td>0.0</td>\n",
              "      <td>0.0</td>\n",
              "      <td>0.0</td>\n",
              "      <td>0.0</td>\n",
              "      <td>...</td>\n",
              "      <td>0.0</td>\n",
              "      <td>5.141374</td>\n",
              "      <td>0.515627</td>\n",
              "      <td>0.0</td>\n",
              "      <td>0.0</td>\n",
              "      <td>0.0</td>\n",
              "      <td>0.000000</td>\n",
              "      <td>0.0</td>\n",
              "      <td>0.0</td>\n",
              "      <td>0.000000</td>\n",
              "    </tr>\n",
              "    <tr>\n",
              "      <th>1</th>\n",
              "      <td>0.0</td>\n",
              "      <td>0.0</td>\n",
              "      <td>0.0</td>\n",
              "      <td>0.0</td>\n",
              "      <td>0.0</td>\n",
              "      <td>0.0</td>\n",
              "      <td>0.0</td>\n",
              "      <td>0.0</td>\n",
              "      <td>0.0</td>\n",
              "      <td>0.0</td>\n",
              "      <td>...</td>\n",
              "      <td>0.0</td>\n",
              "      <td>5.141374</td>\n",
              "      <td>0.515627</td>\n",
              "      <td>0.0</td>\n",
              "      <td>0.0</td>\n",
              "      <td>0.0</td>\n",
              "      <td>0.000000</td>\n",
              "      <td>0.0</td>\n",
              "      <td>0.0</td>\n",
              "      <td>0.000000</td>\n",
              "    </tr>\n",
              "    <tr>\n",
              "      <th>2</th>\n",
              "      <td>0.0</td>\n",
              "      <td>0.0</td>\n",
              "      <td>0.0</td>\n",
              "      <td>0.0</td>\n",
              "      <td>0.0</td>\n",
              "      <td>0.0</td>\n",
              "      <td>0.0</td>\n",
              "      <td>0.0</td>\n",
              "      <td>0.0</td>\n",
              "      <td>0.0</td>\n",
              "      <td>...</td>\n",
              "      <td>0.0</td>\n",
              "      <td>5.141374</td>\n",
              "      <td>0.515627</td>\n",
              "      <td>0.0</td>\n",
              "      <td>0.0</td>\n",
              "      <td>0.0</td>\n",
              "      <td>0.000000</td>\n",
              "      <td>0.0</td>\n",
              "      <td>0.0</td>\n",
              "      <td>0.000000</td>\n",
              "    </tr>\n",
              "    <tr>\n",
              "      <th>3</th>\n",
              "      <td>0.0</td>\n",
              "      <td>0.0</td>\n",
              "      <td>0.0</td>\n",
              "      <td>0.0</td>\n",
              "      <td>0.0</td>\n",
              "      <td>0.0</td>\n",
              "      <td>0.0</td>\n",
              "      <td>0.0</td>\n",
              "      <td>0.0</td>\n",
              "      <td>0.0</td>\n",
              "      <td>...</td>\n",
              "      <td>0.0</td>\n",
              "      <td>5.141374</td>\n",
              "      <td>0.515627</td>\n",
              "      <td>0.0</td>\n",
              "      <td>0.0</td>\n",
              "      <td>0.0</td>\n",
              "      <td>0.000000</td>\n",
              "      <td>0.0</td>\n",
              "      <td>0.0</td>\n",
              "      <td>0.000000</td>\n",
              "    </tr>\n",
              "    <tr>\n",
              "      <th>4</th>\n",
              "      <td>0.0</td>\n",
              "      <td>0.0</td>\n",
              "      <td>0.0</td>\n",
              "      <td>0.0</td>\n",
              "      <td>0.0</td>\n",
              "      <td>0.0</td>\n",
              "      <td>0.0</td>\n",
              "      <td>0.0</td>\n",
              "      <td>0.0</td>\n",
              "      <td>0.0</td>\n",
              "      <td>...</td>\n",
              "      <td>0.0</td>\n",
              "      <td>3.067468</td>\n",
              "      <td>0.605815</td>\n",
              "      <td>0.0</td>\n",
              "      <td>0.0</td>\n",
              "      <td>0.0</td>\n",
              "      <td>0.741926</td>\n",
              "      <td>0.0</td>\n",
              "      <td>0.0</td>\n",
              "      <td>1.610108</td>\n",
              "    </tr>\n",
              "  </tbody>\n",
              "</table>\n",
              "<p>5 rows × 32 columns</p>\n",
              "</div>\n",
              "      <button class=\"colab-df-convert\" onclick=\"convertToInteractive('df-faf32a3a-e267-43bf-bb7f-4b6a9639c8f0')\"\n",
              "              title=\"Convert this dataframe to an interactive table.\"\n",
              "              style=\"display:none;\">\n",
              "        \n",
              "  <svg xmlns=\"http://www.w3.org/2000/svg\" height=\"24px\"viewBox=\"0 0 24 24\"\n",
              "       width=\"24px\">\n",
              "    <path d=\"M0 0h24v24H0V0z\" fill=\"none\"/>\n",
              "    <path d=\"M18.56 5.44l.94 2.06.94-2.06 2.06-.94-2.06-.94-.94-2.06-.94 2.06-2.06.94zm-11 1L8.5 8.5l.94-2.06 2.06-.94-2.06-.94L8.5 2.5l-.94 2.06-2.06.94zm10 10l.94 2.06.94-2.06 2.06-.94-2.06-.94-.94-2.06-.94 2.06-2.06.94z\"/><path d=\"M17.41 7.96l-1.37-1.37c-.4-.4-.92-.59-1.43-.59-.52 0-1.04.2-1.43.59L10.3 9.45l-7.72 7.72c-.78.78-.78 2.05 0 2.83L4 21.41c.39.39.9.59 1.41.59.51 0 1.02-.2 1.41-.59l7.78-7.78 2.81-2.81c.8-.78.8-2.07 0-2.86zM5.41 20L4 18.59l7.72-7.72 1.47 1.35L5.41 20z\"/>\n",
              "  </svg>\n",
              "      </button>\n",
              "      \n",
              "  <style>\n",
              "    .colab-df-container {\n",
              "      display:flex;\n",
              "      flex-wrap:wrap;\n",
              "      gap: 12px;\n",
              "    }\n",
              "\n",
              "    .colab-df-convert {\n",
              "      background-color: #E8F0FE;\n",
              "      border: none;\n",
              "      border-radius: 50%;\n",
              "      cursor: pointer;\n",
              "      display: none;\n",
              "      fill: #1967D2;\n",
              "      height: 32px;\n",
              "      padding: 0 0 0 0;\n",
              "      width: 32px;\n",
              "    }\n",
              "\n",
              "    .colab-df-convert:hover {\n",
              "      background-color: #E2EBFA;\n",
              "      box-shadow: 0px 1px 2px rgba(60, 64, 67, 0.3), 0px 1px 3px 1px rgba(60, 64, 67, 0.15);\n",
              "      fill: #174EA6;\n",
              "    }\n",
              "\n",
              "    [theme=dark] .colab-df-convert {\n",
              "      background-color: #3B4455;\n",
              "      fill: #D2E3FC;\n",
              "    }\n",
              "\n",
              "    [theme=dark] .colab-df-convert:hover {\n",
              "      background-color: #434B5C;\n",
              "      box-shadow: 0px 1px 3px 1px rgba(0, 0, 0, 0.15);\n",
              "      filter: drop-shadow(0px 1px 2px rgba(0, 0, 0, 0.3));\n",
              "      fill: #FFFFFF;\n",
              "    }\n",
              "  </style>\n",
              "\n",
              "      <script>\n",
              "        const buttonEl =\n",
              "          document.querySelector('#df-faf32a3a-e267-43bf-bb7f-4b6a9639c8f0 button.colab-df-convert');\n",
              "        buttonEl.style.display =\n",
              "          google.colab.kernel.accessAllowed ? 'block' : 'none';\n",
              "\n",
              "        async function convertToInteractive(key) {\n",
              "          const element = document.querySelector('#df-faf32a3a-e267-43bf-bb7f-4b6a9639c8f0');\n",
              "          const dataTable =\n",
              "            await google.colab.kernel.invokeFunction('convertToInteractive',\n",
              "                                                     [key], {});\n",
              "          if (!dataTable) return;\n",
              "\n",
              "          const docLinkHtml = 'Like what you see? Visit the ' +\n",
              "            '<a target=\"_blank\" href=https://colab.research.google.com/notebooks/data_table.ipynb>data table notebook</a>'\n",
              "            + ' to learn more about interactive tables.';\n",
              "          element.innerHTML = '';\n",
              "          dataTable['output_type'] = 'display_data';\n",
              "          await google.colab.output.renderOutput(dataTable, element);\n",
              "          const docLink = document.createElement('div');\n",
              "          docLink.innerHTML = docLinkHtml;\n",
              "          element.appendChild(docLink);\n",
              "        }\n",
              "      </script>\n",
              "    </div>\n",
              "  </div>\n",
              "  "
            ],
            "text/plain": [
              "    0    1    2    3    4    5    6    7    8    9   ...   22        23  \\\n",
              "0  0.0  0.0  0.0  0.0  0.0  0.0  0.0  0.0  0.0  0.0  ...  0.0  5.141374   \n",
              "1  0.0  0.0  0.0  0.0  0.0  0.0  0.0  0.0  0.0  0.0  ...  0.0  5.141374   \n",
              "2  0.0  0.0  0.0  0.0  0.0  0.0  0.0  0.0  0.0  0.0  ...  0.0  5.141374   \n",
              "3  0.0  0.0  0.0  0.0  0.0  0.0  0.0  0.0  0.0  0.0  ...  0.0  5.141374   \n",
              "4  0.0  0.0  0.0  0.0  0.0  0.0  0.0  0.0  0.0  0.0  ...  0.0  3.067468   \n",
              "\n",
              "         24   25   26   27        28   29   30        31  \n",
              "0  0.515627  0.0  0.0  0.0  0.000000  0.0  0.0  0.000000  \n",
              "1  0.515627  0.0  0.0  0.0  0.000000  0.0  0.0  0.000000  \n",
              "2  0.515627  0.0  0.0  0.0  0.000000  0.0  0.0  0.000000  \n",
              "3  0.515627  0.0  0.0  0.0  0.000000  0.0  0.0  0.000000  \n",
              "4  0.605815  0.0  0.0  0.0  0.741926  0.0  0.0  1.610108  \n",
              "\n",
              "[5 rows x 32 columns]"
            ]
          },
          "execution_count": 63,
          "metadata": {},
          "output_type": "execute_result"
        }
      ],
      "source": [
        "w2vec.head(5)"
      ]
    },
    {
      "cell_type": "code",
      "execution_count": null,
      "metadata": {
        "id": "m8xjOtNsH2gy"
      },
      "outputs": [],
      "source": [
        "w2vec_out = pd.DataFrame(outlier)"
      ]
    },
    {
      "cell_type": "code",
      "execution_count": null,
      "metadata": {
        "id": "aeVC-xGuw2-V"
      },
      "outputs": [],
      "source": [
        "w2vec.to_csv('/content/drive/MyDrive/thesis/train/w2vec-reduce.csv', index=False)"
      ]
    },
    {
      "cell_type": "code",
      "execution_count": null,
      "metadata": {
        "id": "iK2WyiKnZ1kt"
      },
      "outputs": [],
      "source": [
        "w2vec_out.to_csv('/content/drive/MyDrive/thesis/val/val-w2vec-reduce.csv', index=False)"
      ]
    },
    {
      "cell_type": "code",
      "execution_count": null,
      "metadata": {
        "id": "bEdd7E9ANkBX"
      },
      "outputs": [],
      "source": []
    }
  ],
  "metadata": {
    "accelerator": "GPU",
    "colab": {
      "machine_shape": "hm",
      "provenance": []
    },
    "gpuClass": "standard",
    "kernelspec": {
      "display_name": "Python 3",
      "name": "python3"
    },
    "language_info": {
      "name": "python"
    }
  },
  "nbformat": 4,
  "nbformat_minor": 0
}