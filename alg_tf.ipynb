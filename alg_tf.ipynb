{
  "nbformat": 4,
  "nbformat_minor": 0,
  "metadata": {
    "colab": {
      "provenance": [],
      "machine_shape": "hm",
      "gpuType": "A100"
    },
    "kernelspec": {
      "name": "python3",
      "display_name": "Python 3"
    },
    "language_info": {
      "name": "python"
    },
    "accelerator": "GPU"
  },
  "cells": [
    {
      "cell_type": "code",
      "execution_count": null,
      "metadata": {
        "id": "a3NUyBSsZkvp"
      },
      "outputs": [],
      "source": [
        "import re\n",
        "import pandas as pd\n",
        "import csv\n",
        "import numpy as np\n",
        "from collections import Counter\n",
        "import nltk\n",
        "import random\n",
        "from nltk import word_tokenize\n",
        "from sklearn.feature_extraction.text import CountVectorizer\n",
        "from sklearn.preprocessing import OneHotEncoder, LabelEncoder\n",
        "from sklearn.ensemble import IsolationForest\n",
        "from nltk.tokenize import sent_tokenize, word_tokenize\n",
        "import warnings\n",
        "\n",
        "warnings.filterwarnings(action = 'ignore')\n",
        "import gensim\n",
        "from gensim.models import Word2Vec"
      ]
    },
    {
      "cell_type": "code",
      "source": [
        "import tensorflow as tf\n",
        "import math\n",
        "import os\n",
        "import time\n",
        "import numpy as np\n",
        "import pandas as pd\n",
        "import random\n",
        "import statistics\n",
        "import seaborn as sns\n",
        "from collections import Counter\n",
        "import matplotlib.pyplot as plt\n",
        "from tensorflow.keras import Model\n",
        "from tensorflow.keras import Sequential, regularizers\n",
        "from sklearn.preprocessing import MinMaxScaler\n",
        "from tensorflow.keras.layers import Dense, Input, LSTM, Dropout, TimeDistributed, RepeatVector, Bidirectional\n",
        "from tensorflow.keras.losses import CategoricalCrossentropy, MeanSquaredLogarithmicError\n",
        "from tensorflow.keras.callbacks import EarlyStopping\n",
        "from tensorflow.keras.metrics import Accuracy, Precision, AUC, Recall\n",
        "from sklearn.metrics import silhouette_score"
      ],
      "metadata": {
        "id": "PwdG6_whc_Xb"
      },
      "execution_count": null,
      "outputs": []
    },
    {
      "cell_type": "code",
      "source": [
        "from google.colab import drive\n",
        "drive.mount('/content/drive')"
      ],
      "metadata": {
        "colab": {
          "base_uri": "https://localhost:8080/"
        },
        "id": "lHg-ZOxAZqjA",
        "outputId": "1f027136-6981-408f-ffcf-98d18f478da7"
      },
      "execution_count": null,
      "outputs": [
        {
          "output_type": "stream",
          "name": "stdout",
          "text": [
            "Mounted at /content/drive\n"
          ]
        }
      ]
    },
    {
      "cell_type": "code",
      "source": [
        "df_outlier = pd.read_csv('/content/drive/MyDrive/thesis/val/raw_val_all.csv', sep=',')"
      ],
      "metadata": {
        "id": "jEtJCvSlZsIQ"
      },
      "execution_count": null,
      "outputs": []
    },
    {
      "cell_type": "code",
      "source": [
        "true_labels = df_outlier.label"
      ],
      "metadata": {
        "id": "sCgA34_ACUvS"
      },
      "execution_count": null,
      "outputs": []
    },
    {
      "cell_type": "code",
      "source": [
        "df_validate = pd.read_csv('/content/drive/MyDrive/thesis/val/raw_val.csv', sep=',')"
      ],
      "metadata": {
        "id": "0SB8Ysq6ZtzC"
      },
      "execution_count": null,
      "outputs": []
    },
    {
      "cell_type": "code",
      "source": [
        "df_oh = pd.read_csv('/content/drive/MyDrive/thesis/train/tf-idf_scaled.csv', sep=',')\n",
        "x_out_oh = pd.read_csv('/content/drive/MyDrive/thesis/val/val-tf-idf_scaled.csv', sep=',')"
      ],
      "metadata": {
        "id": "jmm0hjHPZvfZ"
      },
      "execution_count": null,
      "outputs": []
    },
    {
      "cell_type": "code",
      "source": [
        "test = df_oh[:int(split_len)]\n",
        "train = df_oh[int(split_len):]"
      ],
      "metadata": {
        "id": "3vVIlPoiacRf"
      },
      "execution_count": null,
      "outputs": []
    },
    {
      "cell_type": "code",
      "source": [
        "x_train = train.values.reshape(train.shape[0], 1, train.shape[1])\n",
        "x_test = test.values.reshape(test.shape[0], 1,train.shape[1])\n",
        "\n",
        "x_out = x_out_oh.values.reshape(x_out_oh.shape[0], 1,x_out_oh.shape[1])\n",
        "\n",
        "#define the model\n",
        "\n",
        "def autoencoder_model(X):\n",
        "\n",
        "  inputs = Input(shape=(X.shape[1], X.shape[2]))\n",
        "  L1 = Bidirectional(LSTM(128, activation='relu', return_sequences=True,\n",
        "              kernel_regularizer=regularizers.l2(0.00)))(inputs)\n",
        "  L2 = Bidirectional(LSTM(64, activation='relu', return_sequences=False))(L1)\n",
        "  L3 = RepeatVector(X.shape[1])(L2)\n",
        "  L4 = Bidirectional(LSTM(64, activation='relu', return_sequences=True))(L3)\n",
        "  L5 = Bidirectional(LSTM(128, activation='relu', return_sequences=True))(L4)\n",
        "  output = TimeDistributed(Dense(X.shape[2]))(L5)\n",
        "  model = Model(inputs=inputs, outputs=output)\n",
        "  return model\n",
        "\n",
        "# create the autoencoder model\n",
        "model = autoencoder_model(x_train)\n",
        "model.compile(optimizer='adam', loss=['mse'],\n",
        "              metrics=['mae', 'acc', tf.keras.metrics.Recall(), tf.keras.metrics.Precision()])\n",
        "model.summary()\n",
        "\n",
        "nb_epochs = 10\n",
        "batch_size = 1000\n",
        "history = model.fit(x_train, x_train, epochs=nb_epochs, batch_size=batch_size,\n",
        "                    validation_split=0.15).history\n",
        "\n",
        "\n",
        "\n"
      ],
      "metadata": {
        "colab": {
          "base_uri": "https://localhost:8080/"
        },
        "id": "hwF-qalRdGJl",
        "outputId": "0a3b03ea-6b61-4eaa-914c-fa65616fed3e"
      },
      "execution_count": null,
      "outputs": [
        {
          "output_type": "stream",
          "name": "stderr",
          "text": [
            "WARNING:tensorflow:Layer lstm_8 will not use cuDNN kernels since it doesn't meet the criteria. It will use a generic GPU kernel as fallback when running on GPU.\n",
            "WARNING:tensorflow:Layer lstm_8 will not use cuDNN kernels since it doesn't meet the criteria. It will use a generic GPU kernel as fallback when running on GPU.\n",
            "WARNING:tensorflow:Layer lstm_8 will not use cuDNN kernels since it doesn't meet the criteria. It will use a generic GPU kernel as fallback when running on GPU.\n",
            "WARNING:tensorflow:Layer lstm_9 will not use cuDNN kernels since it doesn't meet the criteria. It will use a generic GPU kernel as fallback when running on GPU.\n",
            "WARNING:tensorflow:Layer lstm_9 will not use cuDNN kernels since it doesn't meet the criteria. It will use a generic GPU kernel as fallback when running on GPU.\n",
            "WARNING:tensorflow:Layer lstm_9 will not use cuDNN kernels since it doesn't meet the criteria. It will use a generic GPU kernel as fallback when running on GPU.\n",
            "WARNING:tensorflow:Layer lstm_10 will not use cuDNN kernels since it doesn't meet the criteria. It will use a generic GPU kernel as fallback when running on GPU.\n",
            "WARNING:tensorflow:Layer lstm_10 will not use cuDNN kernels since it doesn't meet the criteria. It will use a generic GPU kernel as fallback when running on GPU.\n",
            "WARNING:tensorflow:Layer lstm_10 will not use cuDNN kernels since it doesn't meet the criteria. It will use a generic GPU kernel as fallback when running on GPU.\n",
            "WARNING:tensorflow:Layer lstm_11 will not use cuDNN kernels since it doesn't meet the criteria. It will use a generic GPU kernel as fallback when running on GPU.\n",
            "WARNING:tensorflow:Layer lstm_11 will not use cuDNN kernels since it doesn't meet the criteria. It will use a generic GPU kernel as fallback when running on GPU.\n",
            "WARNING:tensorflow:Layer lstm_11 will not use cuDNN kernels since it doesn't meet the criteria. It will use a generic GPU kernel as fallback when running on GPU.\n"
          ]
        },
        {
          "output_type": "stream",
          "name": "stdout",
          "text": [
            "Model: \"model_2\"\n",
            "_________________________________________________________________\n",
            " Layer (type)                Output Shape              Param #   \n",
            "=================================================================\n",
            " input_3 (InputLayer)        [(None, 1, 518)]          0         \n",
            "                                                                 \n",
            " bidirectional (Bidirectiona  (None, 1, 256)           662528    \n",
            " l)                                                              \n",
            "                                                                 \n",
            " bidirectional_1 (Bidirectio  (None, 128)              164352    \n",
            " nal)                                                            \n",
            "                                                                 \n",
            " repeat_vector_2 (RepeatVect  (None, 1, 128)           0         \n",
            " or)                                                             \n",
            "                                                                 \n",
            " bidirectional_2 (Bidirectio  (None, 1, 128)           98816     \n",
            " nal)                                                            \n",
            "                                                                 \n",
            " bidirectional_3 (Bidirectio  (None, 1, 256)           263168    \n",
            " nal)                                                            \n",
            "                                                                 \n",
            " time_distributed_2 (TimeDis  (None, 1, 518)           133126    \n",
            " tributed)                                                       \n",
            "                                                                 \n",
            "=================================================================\n",
            "Total params: 1,321,990\n",
            "Trainable params: 1,321,990\n",
            "Non-trainable params: 0\n",
            "_________________________________________________________________\n",
            "Epoch 1/10\n",
            "608/608 [==============================] - 30s 29ms/step - loss: 0.0018 - mae: 0.0040 - acc: 0.1305 - recall_2: 0.8611 - precision_2: 0.9863 - val_loss: 4.6172e-04 - val_mae: 0.0018 - val_acc: 0.2006 - val_recall_2: 0.9464 - val_precision_2: 0.9978\n",
            "Epoch 2/10\n",
            "608/608 [==============================] - 16s 26ms/step - loss: 1.0127e-04 - mae: 0.0010 - acc: 0.3965 - recall_2: 0.9853 - precision_2: 0.9985 - val_loss: 3.3215e-04 - val_mae: 0.0013 - val_acc: 0.8910 - val_recall_2: 0.9610 - val_precision_2: 0.9994\n",
            "Epoch 3/10\n",
            "608/608 [==============================] - 15s 25ms/step - loss: 3.2917e-05 - mae: 6.0086e-04 - acc: 0.5041 - recall_2: 0.9906 - precision_2: 1.0000 - val_loss: 3.1351e-04 - val_mae: 9.5214e-04 - val_acc: 0.2631 - val_recall_2: 0.9615 - val_precision_2: 1.0000\n",
            "Epoch 4/10\n",
            "608/608 [==============================] - 16s 26ms/step - loss: 2.5897e-05 - mae: 6.1587e-04 - acc: 0.4814 - recall_2: 0.9910 - precision_2: 1.0000 - val_loss: 2.9163e-04 - val_mae: 9.5144e-04 - val_acc: 0.2117 - val_recall_2: 0.9622 - val_precision_2: 1.0000\n",
            "Epoch 5/10\n",
            "608/608 [==============================] - 16s 26ms/step - loss: 2.0127e-05 - mae: 6.0109e-04 - acc: 0.4108 - recall_2: 0.9914 - precision_2: 1.0000 - val_loss: 2.8566e-04 - val_mae: 8.8724e-04 - val_acc: 0.9196 - val_recall_2: 0.9634 - val_precision_2: 1.0000\n",
            "Epoch 6/10\n",
            "608/608 [==============================] - 16s 26ms/step - loss: 1.8037e-05 - mae: 4.7167e-04 - acc: 0.3815 - recall_2: 0.9918 - precision_2: 1.0000 - val_loss: 2.8487e-04 - val_mae: 9.3059e-04 - val_acc: 0.2588 - val_recall_2: 0.9633 - val_precision_2: 1.0000\n",
            "Epoch 7/10\n",
            "608/608 [==============================] - 15s 25ms/step - loss: 1.6422e-05 - mae: 5.5070e-04 - acc: 0.4021 - recall_2: 0.9917 - precision_2: 1.0000 - val_loss: 2.8469e-04 - val_mae: 8.3040e-04 - val_acc: 0.9123 - val_recall_2: 0.9638 - val_precision_2: 1.0000\n",
            "Epoch 8/10\n",
            "608/608 [==============================] - 15s 25ms/step - loss: 1.4152e-05 - mae: 5.1466e-04 - acc: 0.4073 - recall_2: 0.9919 - precision_2: 0.9999 - val_loss: 2.8482e-04 - val_mae: 0.0010 - val_acc: 0.2701 - val_recall_2: 0.9640 - val_precision_2: 0.9999\n",
            "Epoch 9/10\n",
            "608/608 [==============================] - 15s 25ms/step - loss: 1.2644e-05 - mae: 5.5825e-04 - acc: 0.3962 - recall_2: 0.9923 - precision_2: 0.9999 - val_loss: 2.8535e-04 - val_mae: 9.9105e-04 - val_acc: 0.9400 - val_recall_2: 0.9643 - val_precision_2: 1.0000\n",
            "Epoch 10/10\n",
            "608/608 [==============================] - 15s 25ms/step - loss: 1.1044e-05 - mae: 4.4964e-04 - acc: 0.4223 - recall_2: 0.9927 - precision_2: 1.0000 - val_loss: 2.8422e-04 - val_mae: 8.2798e-04 - val_acc: 0.2437 - val_recall_2: 0.9643 - val_precision_2: 1.0000\n"
          ]
        }
      ]
    },
    {
      "cell_type": "code",
      "source": [
        "# calculate the loss on the test set\n",
        "X_pred = model.predict(x_out)\n",
        "X_pred = X_pred.reshape(X_pred.shape[0], X_pred.shape[2])\n",
        "X_pred = pd.DataFrame(X_pred, columns=x_out_oh.columns)\n",
        "X_pred.index = x_out_oh.index\n",
        "\n",
        "scored = pd.DataFrame(index=x_out_oh.index)\n",
        "Xtest = x_out_oh.values.reshape(x_out_oh.shape[0], x_out_oh.shape[1])\n",
        "scored['Loss_mae'] = np.mean(np.abs(X_pred-Xtest), axis = 1)\n",
        "scored['Threshold'] = 0.009\n",
        "scored['Anomaly'] = np.where(scored['Loss_mae'] > scored['Threshold'], -1, 1)\n",
        "scored.head()\n",
        "test_pred = scored.Anomaly\n",
        "\n",
        "from sklearn.metrics import classification_report\n",
        "print(classification_report(true_labels, test_pred))"
      ],
      "metadata": {
        "colab": {
          "base_uri": "https://localhost:8080/"
        },
        "id": "9gWSSchKdJNY",
        "outputId": "07c61413-e879-462c-a1a8-48afbcc01b50"
      },
      "execution_count": null,
      "outputs": [
        {
          "output_type": "stream",
          "name": "stdout",
          "text": [
            "3188/3188 [==============================] - 7s 2ms/step\n",
            "              precision    recall  f1-score   support\n",
            "\n",
            "          -1       0.92      0.56      0.70      3737\n",
            "           1       0.98      1.00      0.99     98263\n",
            "\n",
            "    accuracy                           0.98    102000\n",
            "   macro avg       0.95      0.78      0.84    102000\n",
            "weighted avg       0.98      0.98      0.98    102000\n",
            "\n"
          ]
        }
      ]
    },
    {
      "cell_type": "code",
      "source": [
        "pip install pyod"
      ],
      "metadata": {
        "colab": {
          "base_uri": "https://localhost:8080/"
        },
        "id": "csMAna0gCbIa",
        "outputId": "b3fa088f-4b12-4691-871d-93c0afd485d0"
      },
      "execution_count": null,
      "outputs": [
        {
          "output_type": "stream",
          "name": "stdout",
          "text": [
            "Looking in indexes: https://pypi.org/simple, https://us-python.pkg.dev/colab-wheels/public/simple/\n",
            "Collecting pyod\n",
            "  Downloading pyod-1.0.9.tar.gz (149 kB)\n",
            "\u001b[?25l     \u001b[90m━━━━━━━━━━━━━━━━━━━━━━━━━━━━━━━━━━━━━━━━\u001b[0m \u001b[32m0.0/150.0 kB\u001b[0m \u001b[31m?\u001b[0m eta \u001b[36m-:--:--\u001b[0m\r\u001b[2K     \u001b[90m━━━━━━━━━━━━━━━━━━━━━━━━━━━━━━━━━━━━━━━\u001b[0m \u001b[32m150.0/150.0 kB\u001b[0m \u001b[31m4.6 MB/s\u001b[0m eta \u001b[36m0:00:00\u001b[0m\n",
            "\u001b[?25h  Preparing metadata (setup.py) ... \u001b[?25l\u001b[?25hdone\n",
            "Requirement already satisfied: joblib in /usr/local/lib/python3.10/dist-packages (from pyod) (1.2.0)\n",
            "Requirement already satisfied: matplotlib in /usr/local/lib/python3.10/dist-packages (from pyod) (3.7.1)\n",
            "Requirement already satisfied: numpy>=1.19 in /usr/local/lib/python3.10/dist-packages (from pyod) (1.22.4)\n",
            "Requirement already satisfied: numba>=0.51 in /usr/local/lib/python3.10/dist-packages (from pyod) (0.56.4)\n",
            "Requirement already satisfied: scipy>=1.5.1 in /usr/local/lib/python3.10/dist-packages (from pyod) (1.10.1)\n",
            "Requirement already satisfied: scikit_learn>=0.20.0 in /usr/local/lib/python3.10/dist-packages (from pyod) (1.2.2)\n",
            "Requirement already satisfied: six in /usr/local/lib/python3.10/dist-packages (from pyod) (1.16.0)\n",
            "Requirement already satisfied: llvmlite<0.40,>=0.39.0dev0 in /usr/local/lib/python3.10/dist-packages (from numba>=0.51->pyod) (0.39.1)\n",
            "Requirement already satisfied: setuptools in /usr/local/lib/python3.10/dist-packages (from numba>=0.51->pyod) (67.7.2)\n",
            "Requirement already satisfied: threadpoolctl>=2.0.0 in /usr/local/lib/python3.10/dist-packages (from scikit_learn>=0.20.0->pyod) (3.1.0)\n",
            "Requirement already satisfied: contourpy>=1.0.1 in /usr/local/lib/python3.10/dist-packages (from matplotlib->pyod) (1.0.7)\n",
            "Requirement already satisfied: cycler>=0.10 in /usr/local/lib/python3.10/dist-packages (from matplotlib->pyod) (0.11.0)\n",
            "Requirement already satisfied: fonttools>=4.22.0 in /usr/local/lib/python3.10/dist-packages (from matplotlib->pyod) (4.39.3)\n",
            "Requirement already satisfied: kiwisolver>=1.0.1 in /usr/local/lib/python3.10/dist-packages (from matplotlib->pyod) (1.4.4)\n",
            "Requirement already satisfied: packaging>=20.0 in /usr/local/lib/python3.10/dist-packages (from matplotlib->pyod) (23.1)\n",
            "Requirement already satisfied: pillow>=6.2.0 in /usr/local/lib/python3.10/dist-packages (from matplotlib->pyod) (8.4.0)\n",
            "Requirement already satisfied: pyparsing>=2.3.1 in /usr/local/lib/python3.10/dist-packages (from matplotlib->pyod) (3.0.9)\n",
            "Requirement already satisfied: python-dateutil>=2.7 in /usr/local/lib/python3.10/dist-packages (from matplotlib->pyod) (2.8.2)\n",
            "Building wheels for collected packages: pyod\n",
            "  Building wheel for pyod (setup.py) ... \u001b[?25l\u001b[?25hdone\n",
            "  Created wheel for pyod: filename=pyod-1.0.9-py3-none-any.whl size=184097 sha256=6fdfe8d4dec7cb1b4754accb526889f139f1cb599aa55707d17215c5a69d3723\n",
            "  Stored in directory: /root/.cache/pip/wheels/83/55/6b/552e083cf5509c0afe808b76cf434f1be284d01a112623bd37\n",
            "Successfully built pyod\n",
            "Installing collected packages: pyod\n",
            "Successfully installed pyod-1.0.9\n"
          ]
        }
      ]
    },
    {
      "cell_type": "code",
      "source": [
        "from pyod.models.copod import COPOD\n",
        "if __name__ == \"__main__\":\n",
        "\n",
        "    # train COPOD detector\n",
        "    clf_name = 'COPOD'\n",
        "    clf = COPOD(contamination=0.065)\n",
        "\n",
        "    # you could try parallel version as well.\n",
        "    # clf = COPOD(n_jobs=2)\n",
        "    clf.fit(train)\n",
        "    pred_test = clf.predict(x_out_oh)\n",
        "\n",
        "if (pred_test == 1).any():\n",
        "    pred_test[pred_test == 1] = -1\n",
        "\n",
        "if (pred_test == 0).any():\n",
        "    pred_test[pred_test == 0] = 1\n",
        "\n",
        "Counter(pred_test)\n",
        "\n",
        "from sklearn.metrics import classification_report\n",
        "print(classification_report(true_labels, pred_test))"
      ],
      "metadata": {
        "id": "svIfK3wo99-1",
        "colab": {
          "base_uri": "https://localhost:8080/"
        },
        "outputId": "bded42ec-70e1-4dc9-ae58-e5362187b288"
      },
      "execution_count": null,
      "outputs": [
        {
          "output_type": "stream",
          "name": "stdout",
          "text": [
            "              precision    recall  f1-score   support\n",
            "\n",
            "          -1       0.29      0.56      0.38      3737\n",
            "           1       0.98      0.95      0.96     98263\n",
            "\n",
            "    accuracy                           0.93    102000\n",
            "   macro avg       0.63      0.75      0.67    102000\n",
            "weighted avg       0.96      0.93      0.94    102000\n",
            "\n"
          ]
        }
      ]
    },
    {
      "cell_type": "code",
      "source": [
        "Counter(pred_test)"
      ],
      "metadata": {
        "colab": {
          "base_uri": "https://localhost:8080/"
        },
        "id": "zMnSH_WQCkZp",
        "outputId": "71848f83-9d24-4c31-cc1a-c517cee12a18"
      },
      "execution_count": null,
      "outputs": [
        {
          "output_type": "execute_result",
          "data": {
            "text/plain": [
              "Counter({1: 94684, -1: 7316})"
            ]
          },
          "metadata": {},
          "execution_count": 18
        }
      ]
    },
    {
      "cell_type": "code",
      "source": [
        "from pyod.models.ecod import ECOD\n",
        "if __name__ == \"__main__\":\n",
        "\n",
        "    # train COPOD detector\n",
        "    clf_name = 'ECOD'\n",
        "    clf = ECOD(contamination=0.065)\n",
        "\n",
        "    # you could try parallel version as well.\n",
        "    # clf = COPOD(n_jobs=2)\n",
        "    clf.fit(train)\n",
        "    pred_test = clf.predict(x_out_oh)\n",
        "\n",
        "if (pred_test == 1).any():\n",
        "    pred_test[pred_test == 1] = -1\n",
        "\n",
        "if (pred_test == 0).any():\n",
        "    pred_test[pred_test == 0] = 1\n",
        "\n",
        "Counter(pred_test)\n",
        "\n",
        "from sklearn.metrics import classification_report\n",
        "print(classification_report(true_labels, pred_test))"
      ],
      "metadata": {
        "id": "7a5mB9zF-JX_",
        "colab": {
          "base_uri": "https://localhost:8080/"
        },
        "outputId": "cf380644-fb6f-4499-8981-3dff3d6d0781"
      },
      "execution_count": null,
      "outputs": [
        {
          "output_type": "stream",
          "name": "stdout",
          "text": [
            "              precision    recall  f1-score   support\n",
            "\n",
            "          -1       0.29      0.56      0.38      3737\n",
            "           1       0.98      0.95      0.96     98263\n",
            "\n",
            "    accuracy                           0.93    102000\n",
            "   macro avg       0.63      0.75      0.67    102000\n",
            "weighted avg       0.96      0.93      0.94    102000\n",
            "\n"
          ]
        }
      ]
    },
    {
      "cell_type": "code",
      "source": [
        "Counter(pred_test)"
      ],
      "metadata": {
        "id": "60SKQM65-L-H",
        "colab": {
          "base_uri": "https://localhost:8080/"
        },
        "outputId": "7b95fd2f-a506-4ae6-da7b-76fb51a80fd2"
      },
      "execution_count": null,
      "outputs": [
        {
          "output_type": "execute_result",
          "data": {
            "text/plain": [
              "Counter({1: 94856, -1: 7144})"
            ]
          },
          "metadata": {},
          "execution_count": 14
        }
      ]
    },
    {
      "cell_type": "code",
      "source": [
        "clf = IsolationForest(n_estimators=200, contamination = 0.045)"
      ],
      "metadata": {
        "id": "LWqnHLU0acqM"
      },
      "execution_count": null,
      "outputs": []
    },
    {
      "cell_type": "code",
      "source": [
        "clf_if_tf = clf.fit(train)"
      ],
      "metadata": {
        "id": "ja2-0I5NdQ-u"
      },
      "execution_count": null,
      "outputs": []
    },
    {
      "cell_type": "code",
      "source": [
        "from joblib import dump, load\n",
        "\n",
        "# save the model\n",
        "dump(clf_if_tf,'/content/drive/MyDrive/thesis/models/lof/clf_lof_tf.joblib')"
      ],
      "metadata": {
        "id": "aRpC0atOagdL",
        "colab": {
          "base_uri": "https://localhost:8080/"
        },
        "outputId": "071b8381-33a6-4e08-83c9-d579eaf107e6"
      },
      "execution_count": null,
      "outputs": [
        {
          "output_type": "execute_result",
          "data": {
            "text/plain": [
              "['/content/drive/MyDrive/thesis/models/lof/clf_lof_tf.joblib']"
            ]
          },
          "metadata": {},
          "execution_count": 53
        }
      ]
    },
    {
      "cell_type": "code",
      "source": [
        "clf_if_tf = load('/content/drive/MyDrive/thesis/models/lof/clf_lof_tf.joblib')"
      ],
      "metadata": {
        "id": "Da3w0BDxgbTP"
      },
      "execution_count": null,
      "outputs": []
    },
    {
      "cell_type": "code",
      "source": [
        "pred_test = clf_if_tf.predict(x_out_oh)"
      ],
      "metadata": {
        "id": "SU6VNDm7ajmN"
      },
      "execution_count": null,
      "outputs": []
    },
    {
      "cell_type": "code",
      "source": [
        "Counter(pred_test)"
      ],
      "metadata": {
        "id": "4bi9m5bVapAi",
        "colab": {
          "base_uri": "https://localhost:8080/"
        },
        "outputId": "b2b7551b-4dcf-4ffa-ff19-94214e6c7191"
      },
      "execution_count": null,
      "outputs": [
        {
          "output_type": "execute_result",
          "data": {
            "text/plain": [
              "Counter({1: 95382, -1: 6618})"
            ]
          },
          "metadata": {},
          "execution_count": 56
        }
      ]
    },
    {
      "cell_type": "code",
      "source": [
        "true_labels = df_outlier.label"
      ],
      "metadata": {
        "id": "j8pVcUgwapwt"
      },
      "execution_count": null,
      "outputs": []
    },
    {
      "cell_type": "code",
      "source": [
        "df_validate['label'] = pred_test"
      ],
      "metadata": {
        "id": "mrkut1cbato5"
      },
      "execution_count": null,
      "outputs": []
    },
    {
      "cell_type": "code",
      "source": [
        "df_validate[df_validate['label'] == -1].to_csv('/content/drive/MyDrive/thesis/models/iforest/tf_results_val.csv', index=False)"
      ],
      "metadata": {
        "id": "LNA19UhxavRl"
      },
      "execution_count": null,
      "outputs": []
    },
    {
      "cell_type": "code",
      "source": [
        "from sklearn.metrics import classification_report\n",
        "print(classification_report(true_labels, pred_test))"
      ],
      "metadata": {
        "id": "1sCevhhVaz-o",
        "colab": {
          "base_uri": "https://localhost:8080/"
        },
        "outputId": "6355916f-9f1b-4891-8226-ae03c246801b"
      },
      "execution_count": null,
      "outputs": [
        {
          "output_type": "stream",
          "name": "stdout",
          "text": [
            "              precision    recall  f1-score   support\n",
            "\n",
            "          -1       0.25      0.45      0.32      3737\n",
            "           1       0.98      0.95      0.96     98263\n",
            "\n",
            "    accuracy                           0.93    102000\n",
            "   macro avg       0.62      0.70      0.64    102000\n",
            "weighted avg       0.95      0.93      0.94    102000\n",
            "\n"
          ]
        }
      ]
    },
    {
      "cell_type": "code",
      "source": [
        "from sklearn.metrics import accuracy_score, precision_score, recall_score, f1_score\n",
        "\n",
        "# Assuming you have the true labels for the dataset in 'true_labels' and the LOF predictions in 'lof_predictions'\n",
        "\n",
        "# Convert LOF scores to binary labels based on a threshold (e.g., outliers with scores above the threshold are considered anomalies)\n",
        "\n",
        "# Calculate accuracy\n",
        "accuracy = accuracy_score(true_labels, pred_test)\n",
        "print(\"Accuracy:\", accuracy)\n",
        "\n",
        "# Calculate precision\n",
        "precision = precision_score(true_labels, pred_test)\n",
        "print(\"Precision:\", precision)\n",
        "\n",
        "# Calculate recall\n",
        "recall = recall_score(true_labels, pred_test)\n",
        "print(\"Recall:\", recall)\n",
        "\n",
        "# Calculate F1 score\n",
        "f1 = f1_score(true_labels, pred_test)\n",
        "print(\"F1 Score:\", f1)"
      ],
      "metadata": {
        "id": "Lff2wkLra2V5",
        "colab": {
          "base_uri": "https://localhost:8080/"
        },
        "outputId": "97f2cfce-e35b-4fab-dcf9-a73f9d9deaf4"
      },
      "execution_count": null,
      "outputs": [
        {
          "output_type": "stream",
          "name": "stdout",
          "text": [
            "Accuracy: 0.9313039215686274\n",
            "Precision: 0.9783711811452894\n",
            "Recall: 0.9496860466299625\n",
            "F1 Score: 0.9638152288982417\n"
          ]
        }
      ]
    },
    {
      "cell_type": "code",
      "source": [],
      "metadata": {
        "id": "Qew_FrcDi7_r"
      },
      "execution_count": null,
      "outputs": []
    },
    {
      "cell_type": "markdown",
      "source": [
        "tf+pca"
      ],
      "metadata": {
        "id": "UoIzvldUa5Hz"
      }
    },
    {
      "cell_type": "code",
      "source": [
        "df_oh = pd.read_csv('/content/drive/MyDrive/thesis/train/reduce_pca_tf.csv', sep=',')\n",
        "x_out_oh = pd.read_csv('/content/drive/MyDrive/thesis/val/val-reduce_pca_tf.csv', sep=',')"
      ],
      "metadata": {
        "id": "il9IfneUa6o7"
      },
      "execution_count": null,
      "outputs": []
    },
    {
      "cell_type": "code",
      "source": [
        "split_len = 0.3 * len(df_oh)\n",
        "split_len"
      ],
      "metadata": {
        "colab": {
          "base_uri": "https://localhost:8080/"
        },
        "id": "0GgnM3Zci8st",
        "outputId": "53cc8269-8e57-40ad-b543-f01240b055b7"
      },
      "execution_count": null,
      "outputs": [
        {
          "output_type": "execute_result",
          "data": {
            "text/plain": [
              "306302.7"
            ]
          },
          "metadata": {},
          "execution_count": 36
        }
      ]
    },
    {
      "cell_type": "code",
      "source": [
        "test = df_oh[:int(split_len)]\n",
        "train = df_oh[int(split_len):]"
      ],
      "metadata": {
        "id": "0b7up9VojAOP"
      },
      "execution_count": null,
      "outputs": []
    },
    {
      "cell_type": "code",
      "source": [
        "x_train = train.values.reshape(train.shape[0], 1, train.shape[1])\n",
        "x_test = test.values.reshape(test.shape[0], 1,train.shape[1])\n",
        "\n",
        "x_out = x_out_oh.values.reshape(x_out_oh.shape[0], 1,x_out_oh.shape[1])\n",
        "\n",
        "#define the model\n",
        "\n",
        "def autoencoder_model(X):\n",
        "\n",
        "  inputs = Input(shape=(X.shape[1], X.shape[2]))\n",
        "  L1 = Bidirectional(LSTM(128, activation='relu', return_sequences=True,\n",
        "              kernel_regularizer=regularizers.l2(0.00)))(inputs)\n",
        "  L2 = Bidirectional(LSTM(64, activation='relu', return_sequences=False))(L1)\n",
        "  L3 = RepeatVector(X.shape[1])(L2)\n",
        "  L4 = Bidirectional(LSTM(64, activation='relu', return_sequences=True))(L3)\n",
        "  L5 = Bidirectional(LSTM(128, activation='relu', return_sequences=True))(L4)\n",
        "  output = TimeDistributed(Dense(X.shape[2]))(L5)\n",
        "  model = Model(inputs=inputs, outputs=output)\n",
        "  return model\n",
        "\n",
        "# create the autoencoder model\n",
        "model = autoencoder_model(x_train)\n",
        "model.compile(optimizer='adam', loss=['mse'],\n",
        "              metrics=['mae', 'acc', tf.keras.metrics.Recall(), tf.keras.metrics.Precision()])\n",
        "model.summary()\n",
        "\n",
        "nb_epochs = 10\n",
        "batch_size = 1000\n",
        "history = model.fit(x_train, x_train, epochs=nb_epochs, batch_size=batch_size,\n",
        "                    validation_split=0.15).history\n",
        "\n",
        "\n",
        "\n"
      ],
      "metadata": {
        "colab": {
          "base_uri": "https://localhost:8080/"
        },
        "id": "Mubx7HkDgkM4",
        "outputId": "c91fd498-5bc7-468b-c5b8-ed5ab46638a5"
      },
      "execution_count": null,
      "outputs": [
        {
          "output_type": "stream",
          "name": "stderr",
          "text": [
            "WARNING:tensorflow:Layer lstm_12 will not use cuDNN kernels since it doesn't meet the criteria. It will use a generic GPU kernel as fallback when running on GPU.\n",
            "WARNING:tensorflow:Layer lstm_12 will not use cuDNN kernels since it doesn't meet the criteria. It will use a generic GPU kernel as fallback when running on GPU.\n",
            "WARNING:tensorflow:Layer lstm_12 will not use cuDNN kernels since it doesn't meet the criteria. It will use a generic GPU kernel as fallback when running on GPU.\n",
            "WARNING:tensorflow:Layer lstm_13 will not use cuDNN kernels since it doesn't meet the criteria. It will use a generic GPU kernel as fallback when running on GPU.\n",
            "WARNING:tensorflow:Layer lstm_13 will not use cuDNN kernels since it doesn't meet the criteria. It will use a generic GPU kernel as fallback when running on GPU.\n",
            "WARNING:tensorflow:Layer lstm_13 will not use cuDNN kernels since it doesn't meet the criteria. It will use a generic GPU kernel as fallback when running on GPU.\n",
            "WARNING:tensorflow:Layer lstm_14 will not use cuDNN kernels since it doesn't meet the criteria. It will use a generic GPU kernel as fallback when running on GPU.\n",
            "WARNING:tensorflow:Layer lstm_14 will not use cuDNN kernels since it doesn't meet the criteria. It will use a generic GPU kernel as fallback when running on GPU.\n",
            "WARNING:tensorflow:Layer lstm_14 will not use cuDNN kernels since it doesn't meet the criteria. It will use a generic GPU kernel as fallback when running on GPU.\n",
            "WARNING:tensorflow:Layer lstm_15 will not use cuDNN kernels since it doesn't meet the criteria. It will use a generic GPU kernel as fallback when running on GPU.\n",
            "WARNING:tensorflow:Layer lstm_15 will not use cuDNN kernels since it doesn't meet the criteria. It will use a generic GPU kernel as fallback when running on GPU.\n",
            "WARNING:tensorflow:Layer lstm_15 will not use cuDNN kernels since it doesn't meet the criteria. It will use a generic GPU kernel as fallback when running on GPU.\n"
          ]
        },
        {
          "output_type": "stream",
          "name": "stdout",
          "text": [
            "Model: \"model_3\"\n",
            "_________________________________________________________________\n",
            " Layer (type)                Output Shape              Param #   \n",
            "=================================================================\n",
            " input_4 (InputLayer)        [(None, 1, 25)]           0         \n",
            "                                                                 \n",
            " bidirectional_4 (Bidirectio  (None, 1, 256)           157696    \n",
            " nal)                                                            \n",
            "                                                                 \n",
            " bidirectional_5 (Bidirectio  (None, 128)              164352    \n",
            " nal)                                                            \n",
            "                                                                 \n",
            " repeat_vector_3 (RepeatVect  (None, 1, 128)           0         \n",
            " or)                                                             \n",
            "                                                                 \n",
            " bidirectional_6 (Bidirectio  (None, 1, 128)           98816     \n",
            " nal)                                                            \n",
            "                                                                 \n",
            " bidirectional_7 (Bidirectio  (None, 1, 256)           263168    \n",
            " nal)                                                            \n",
            "                                                                 \n",
            " time_distributed_3 (TimeDis  (None, 1, 25)            6425      \n",
            " tributed)                                                       \n",
            "                                                                 \n",
            "=================================================================\n",
            "Total params: 690,457\n",
            "Trainable params: 690,457\n",
            "Non-trainable params: 0\n",
            "_________________________________________________________________\n",
            "Epoch 1/10\n",
            "608/608 [==============================] - 28s 26ms/step - loss: 0.0079 - mae: 0.0304 - acc: 0.7735 - recall_3: 0.0134 - precision_3: 0.9999 - val_loss: 8.3492e-04 - val_mae: 0.0039 - val_acc: 0.9766 - val_recall_3: 0.0193 - val_precision_3: 1.0000\n",
            "Epoch 2/10\n",
            "608/608 [==============================] - 14s 24ms/step - loss: 1.2613e-04 - mae: 0.0017 - acc: 0.9790 - recall_3: 0.0176 - precision_3: 1.0000 - val_loss: 5.7567e-04 - val_mae: 0.0027 - val_acc: 0.9383 - val_recall_3: 0.0215 - val_precision_3: 0.9984\n",
            "Epoch 3/10\n",
            "608/608 [==============================] - 14s 24ms/step - loss: 7.6984e-05 - mae: 0.0015 - acc: 0.9772 - recall_3: 0.0178 - precision_3: 1.0000 - val_loss: 5.1508e-04 - val_mae: 0.0027 - val_acc: 0.9859 - val_recall_3: 0.0221 - val_precision_3: 1.0000\n",
            "Epoch 4/10\n",
            "608/608 [==============================] - 14s 24ms/step - loss: 4.9121e-05 - mae: 0.0016 - acc: 0.9770 - recall_3: 0.0178 - precision_3: 1.0000 - val_loss: 5.1285e-04 - val_mae: 0.0025 - val_acc: 0.9425 - val_recall_3: 0.0214 - val_precision_3: 1.0000\n",
            "Epoch 5/10\n",
            "608/608 [==============================] - 14s 24ms/step - loss: 3.3696e-05 - mae: 0.0015 - acc: 0.9782 - recall_3: 0.0178 - precision_3: 1.0000 - val_loss: 5.1916e-04 - val_mae: 0.0027 - val_acc: 0.9896 - val_recall_3: 0.0217 - val_precision_3: 1.0000\n",
            "Epoch 6/10\n",
            "608/608 [==============================] - 14s 24ms/step - loss: 2.6286e-05 - mae: 0.0014 - acc: 0.9776 - recall_3: 0.0179 - precision_3: 1.0000 - val_loss: 5.4588e-04 - val_mae: 0.0029 - val_acc: 0.9896 - val_recall_3: 0.0221 - val_precision_3: 1.0000\n",
            "Epoch 7/10\n",
            "608/608 [==============================] - 14s 24ms/step - loss: 1.8571e-05 - mae: 0.0013 - acc: 0.9774 - recall_3: 0.0180 - precision_3: 1.0000 - val_loss: 5.4721e-04 - val_mae: 0.0024 - val_acc: 0.9425 - val_recall_3: 0.0221 - val_precision_3: 1.0000\n",
            "Epoch 8/10\n",
            "608/608 [==============================] - 14s 24ms/step - loss: 1.3048e-05 - mae: 0.0012 - acc: 0.9783 - recall_3: 0.0181 - precision_3: 1.0000 - val_loss: 5.6886e-04 - val_mae: 0.0021 - val_acc: 0.9430 - val_recall_3: 0.0220 - val_precision_3: 1.0000\n",
            "Epoch 9/10\n",
            "608/608 [==============================] - 14s 24ms/step - loss: 1.0438e-05 - mae: 0.0012 - acc: 0.9783 - recall_3: 0.0180 - precision_3: 1.0000 - val_loss: 5.6992e-04 - val_mae: 0.0035 - val_acc: 0.9901 - val_recall_3: 0.0217 - val_precision_3: 1.0000\n",
            "Epoch 10/10\n",
            "608/608 [==============================] - 14s 24ms/step - loss: 8.0750e-06 - mae: 0.0010 - acc: 0.9793 - recall_3: 0.0180 - precision_3: 1.0000 - val_loss: 5.7667e-04 - val_mae: 0.0019 - val_acc: 0.9901 - val_recall_3: 0.0218 - val_precision_3: 1.0000\n"
          ]
        }
      ]
    },
    {
      "cell_type": "code",
      "source": [
        "# plot the loss distribution of the training set\n",
        "X_pred = model.predict(x_train)\n",
        "X_pred = X_pred.reshape(X_pred.shape[0], X_pred.shape[2])\n",
        "X_pred = pd.DataFrame(X_pred, columns=train.columns)\n",
        "X_pred.index = train.index\n",
        "\n",
        "scored = pd.DataFrame(index=train.index)\n",
        "Xtrain = x_train.reshape(x_train.shape[0], x_train.shape[2])\n",
        "scored['Loss_mse'] = np.mean(np.abs(X_pred-Xtrain), axis = 1)\n",
        "plt.figure(figsize=(16,9), dpi=80)\n",
        "plt.title('Loss Distribution', fontsize=16)\n",
        "sns.distplot(scored['Loss_mse'], bins = 20, kde= True, color = 'blue');\n",
        "plt.xlim([0.0,.5])"
      ],
      "metadata": {
        "colab": {
          "base_uri": "https://localhost:8080/",
          "height": 873
        },
        "id": "hEyizktqgkzp",
        "outputId": "e00b36f2-56bc-4945-cc0c-5509359f3d64"
      },
      "execution_count": null,
      "outputs": [
        {
          "output_type": "stream",
          "name": "stdout",
          "text": [
            "22335/22335 [==============================] - 72s 3ms/step\n"
          ]
        },
        {
          "output_type": "stream",
          "name": "stderr",
          "text": [
            "<ipython-input-39-75a6f4c073f7>:12: UserWarning: \n",
            "\n",
            "`distplot` is a deprecated function and will be removed in seaborn v0.14.0.\n",
            "\n",
            "Please adapt your code to use either `displot` (a figure-level function with\n",
            "similar flexibility) or `histplot` (an axes-level function for histograms).\n",
            "\n",
            "For a guide to updating your code to use the new functions, please see\n",
            "https://gist.github.com/mwaskom/de44147ed2974457ad6372750bbe5751\n",
            "\n",
            "  sns.distplot(scored['Loss_mse'], bins = 20, kde= True, color = 'blue');\n"
          ]
        },
        {
          "output_type": "execute_result",
          "data": {
            "text/plain": [
              "(0.0, 0.5)"
            ]
          },
          "metadata": {},
          "execution_count": 39
        },
        {
          "output_type": "display_data",
          "data": {
            "text/plain": [
              "<Figure size 1280x720 with 1 Axes>"
            ],
            "image/png": "[encoded data removed]"
          },
          "metadata": {}
        }
      ]
    },
    {
      "cell_type": "code",
      "source": [
        "# calculate the loss on the test set\n",
        "X_pred = model.predict(x_out)\n",
        "X_pred = X_pred.reshape(X_pred.shape[0], X_pred.shape[2])\n",
        "X_pred = pd.DataFrame(X_pred, columns=x_out_oh.columns)\n",
        "X_pred.index = x_out_oh.index\n",
        "\n",
        "scored = pd.DataFrame(index=x_out_oh.index)\n",
        "Xtest = x_out_oh.values.reshape(x_out_oh.shape[0], x_out_oh.shape[1])\n",
        "scored['Loss_mae'] = np.mean(np.abs(X_pred-Xtest), axis = 1)\n",
        "scored['Threshold'] = 0.1\n",
        "scored['Anomaly'] = np.where(scored['Loss_mae'] > scored['Threshold'], -1, 1)\n",
        "scored.head()\n",
        "test_pred = scored.Anomaly\n",
        "\n",
        "from sklearn.metrics import classification_report\n",
        "print(classification_report(true_labels, test_pred))"
      ],
      "metadata": {
        "colab": {
          "base_uri": "https://localhost:8080/"
        },
        "id": "ySCDNGMjgpms",
        "outputId": "18c760c6-2687-42af-b73d-8251e979b718"
      },
      "execution_count": null,
      "outputs": [
        {
          "output_type": "stream",
          "name": "stdout",
          "text": [
            "3188/3188 [==============================] - 10s 3ms/step\n",
            "              precision    recall  f1-score   support\n",
            "\n",
            "          -1       1.00      0.53      0.70      3737\n",
            "           1       0.98      1.00      0.99     98263\n",
            "\n",
            "    accuracy                           0.98    102000\n",
            "   macro avg       0.99      0.77      0.84    102000\n",
            "weighted avg       0.98      0.98      0.98    102000\n",
            "\n"
          ]
        }
      ]
    },
    {
      "cell_type": "code",
      "source": [
        "from pyod.models.copod import COPOD\n",
        "if __name__ == \"__main__\":\n",
        "\n",
        "    # train COPOD detector\n",
        "    clf_name = 'COPOD'\n",
        "    clf = COPOD(contamination=0.02)\n",
        "\n",
        "    # you could try parallel version as well.\n",
        "    # clf = COPOD(n_jobs=2)\n",
        "    clf.fit(train)\n",
        "    pred_test = clf.predict(x_out_oh)\n",
        "\n",
        "if (pred_test == 1).any():\n",
        "    pred_test[pred_test == 1] = -1\n",
        "\n",
        "if (pred_test == 0).any():\n",
        "    pred_test[pred_test == 0] = 1\n",
        "\n",
        "Counter(pred_test)\n",
        "\n",
        "from sklearn.metrics import classification_report\n",
        "print(classification_report(true_labels, pred_test))"
      ],
      "metadata": {
        "id": "qKDOSzaE-Y3a",
        "colab": {
          "base_uri": "https://localhost:8080/",
          "height": 383
        },
        "outputId": "b2552f6d-09c2-4876-a58f-e615f854c95f"
      },
      "execution_count": null,
      "outputs": [
        {
          "output_type": "error",
          "ename": "ModuleNotFoundError",
          "evalue": "ignored",
          "traceback": [
            "\u001b[0;31m---------------------------------------------------------------------------\u001b[0m",
            "\u001b[0;31mModuleNotFoundError\u001b[0m                       Traceback (most recent call last)",
            "\u001b[0;32m<ipython-input-26-e4f1610dbfae>\u001b[0m in \u001b[0;36m<cell line: 1>\u001b[0;34m()\u001b[0m\n\u001b[0;32m----> 1\u001b[0;31m \u001b[0;32mfrom\u001b[0m \u001b[0mpyod\u001b[0m\u001b[0;34m.\u001b[0m\u001b[0mmodels\u001b[0m\u001b[0;34m.\u001b[0m\u001b[0mcopod\u001b[0m \u001b[0;32mimport\u001b[0m \u001b[0mCOPOD\u001b[0m\u001b[0;34m\u001b[0m\u001b[0;34m\u001b[0m\u001b[0m\n\u001b[0m\u001b[1;32m      2\u001b[0m \u001b[0;32mif\u001b[0m \u001b[0m__name__\u001b[0m \u001b[0;34m==\u001b[0m \u001b[0;34m\"__main__\"\u001b[0m\u001b[0;34m:\u001b[0m\u001b[0;34m\u001b[0m\u001b[0;34m\u001b[0m\u001b[0m\n\u001b[1;32m      3\u001b[0m \u001b[0;34m\u001b[0m\u001b[0m\n\u001b[1;32m      4\u001b[0m     \u001b[0;31m# train COPOD detector\u001b[0m\u001b[0;34m\u001b[0m\u001b[0;34m\u001b[0m\u001b[0m\n\u001b[1;32m      5\u001b[0m     \u001b[0mclf_name\u001b[0m \u001b[0;34m=\u001b[0m \u001b[0;34m'COPOD'\u001b[0m\u001b[0;34m\u001b[0m\u001b[0;34m\u001b[0m\u001b[0m\n",
            "\u001b[0;31mModuleNotFoundError\u001b[0m: No module named 'pyod'",
            "",
            "\u001b[0;31m---------------------------------------------------------------------------\u001b[0;32m\nNOTE: If your import is failing due to a missing package, you can\nmanually install dependencies using either !pip or !apt.\n\nTo view examples of installing some common dependencies, click the\n\"Open Examples\" button below.\n\u001b[0;31m---------------------------------------------------------------------------\u001b[0m\n"
          ],
          "errorDetails": {
            "actions": [
              {
                "action": "open_url",
                "actionText": "Open Examples",
                "url": "/notebooks/snippets/importing_libraries.ipynb"
              }
            ]
          }
        }
      ]
    },
    {
      "cell_type": "code",
      "source": [
        "Counter(pred_test)"
      ],
      "metadata": {
        "colab": {
          "base_uri": "https://localhost:8080/"
        },
        "id": "t9GvvmpNJWzY",
        "outputId": "1db4d2c5-0e3e-45b1-9a93-94d7595e4724"
      },
      "execution_count": null,
      "outputs": [
        {
          "output_type": "execute_result",
          "data": {
            "text/plain": [
              "Counter({1: 97463, -1: 4537})"
            ]
          },
          "metadata": {},
          "execution_count": 28
        }
      ]
    },
    {
      "cell_type": "code",
      "source": [
        "from pyod.models.ecod import ECOD\n",
        "if __name__ == \"__main__\":\n",
        "\n",
        "    # train COPOD detector\n",
        "    clf_name = 'ECOD'\n",
        "    clf = ECOD(contamination=0.025)\n",
        "\n",
        "    # you could try parallel version as well.\n",
        "    # clf = COPOD(n_jobs=2)\n",
        "    clf.fit(train)\n",
        "    pred_test = clf.predict(x_out_oh)\n",
        "\n",
        "if (pred_test == 1).any():\n",
        "    pred_test[pred_test == 1] = -1\n",
        "\n",
        "if (pred_test == 0).any():\n",
        "    pred_test[pred_test == 0] = 1\n",
        "\n",
        "Counter(pred_test)\n",
        "\n",
        "from sklearn.metrics import classification_report\n",
        "print(classification_report(true_labels, pred_test))"
      ],
      "metadata": {
        "id": "9cpx5hNI-bqE",
        "colab": {
          "base_uri": "https://localhost:8080/"
        },
        "outputId": "c06dce1f-e229-4266-bee9-2188c937b6e1"
      },
      "execution_count": null,
      "outputs": [
        {
          "output_type": "stream",
          "name": "stdout",
          "text": [
            "              precision    recall  f1-score   support\n",
            "\n",
            "          -1       0.65      1.00      0.79      3737\n",
            "           1       1.00      0.98      0.99     98263\n",
            "\n",
            "    accuracy                           0.98    102000\n",
            "   macro avg       0.82      0.99      0.89    102000\n",
            "weighted avg       0.99      0.98      0.98    102000\n",
            "\n"
          ]
        }
      ]
    },
    {
      "cell_type": "code",
      "source": [
        "Counter(pred_test)"
      ],
      "metadata": {
        "colab": {
          "base_uri": "https://localhost:8080/"
        },
        "id": "QEp_GhzTJN1t",
        "outputId": "7d661814-c017-4697-b986-cc88e3d07512"
      },
      "execution_count": null,
      "outputs": [
        {
          "output_type": "execute_result",
          "data": {
            "text/plain": [
              "Counter({1: 96239, -1: 5761})"
            ]
          },
          "metadata": {},
          "execution_count": 31
        }
      ]
    },
    {
      "cell_type": "code",
      "source": [
        "clf = IsolationForest(n_estimators=200, contamination = 0.045)"
      ],
      "metadata": {
        "id": "sG6MnYoojDTp"
      },
      "execution_count": null,
      "outputs": []
    },
    {
      "cell_type": "code",
      "source": [
        "clf_if_tf = clf.fit(train)"
      ],
      "metadata": {
        "id": "odRqLjLojFqJ"
      },
      "execution_count": null,
      "outputs": []
    },
    {
      "cell_type": "code",
      "source": [
        "from joblib import dump, load\n",
        "\n",
        "# save the model\n",
        "dump(clf_if_tf,'/content/drive/MyDrive/thesis/models/lof/clf_lof_tf_pca.joblib')"
      ],
      "metadata": {
        "colab": {
          "base_uri": "https://localhost:8080/"
        },
        "id": "JCUM5RowjJIz",
        "outputId": "70702b34-ee1e-4bc9-de3f-a34114f6686b"
      },
      "execution_count": null,
      "outputs": [
        {
          "output_type": "execute_result",
          "data": {
            "text/plain": [
              "['/content/drive/MyDrive/thesis/models/lof/clf_lof_tf_pca.joblib']"
            ]
          },
          "metadata": {},
          "execution_count": 67
        }
      ]
    },
    {
      "cell_type": "code",
      "source": [
        "clf_if_tf = load('/content/drive/MyDrive/thesis/models/lof/clf_lof_tf_pca.joblib')"
      ],
      "metadata": {
        "id": "8f8kPlbLjNbz"
      },
      "execution_count": null,
      "outputs": []
    },
    {
      "cell_type": "code",
      "source": [
        "pred_test = clf_if_tf.predict(x_out_oh)"
      ],
      "metadata": {
        "id": "-5forTZDjRc0"
      },
      "execution_count": null,
      "outputs": []
    },
    {
      "cell_type": "code",
      "source": [
        "Counter(pred_test)"
      ],
      "metadata": {
        "colab": {
          "base_uri": "https://localhost:8080/"
        },
        "id": "Mk3TfTPDjUqS",
        "outputId": "32ce0208-03f6-4c0a-88c2-5238e7d11dba"
      },
      "execution_count": null,
      "outputs": [
        {
          "output_type": "execute_result",
          "data": {
            "text/plain": [
              "Counter({1: 95597, -1: 6403})"
            ]
          },
          "metadata": {},
          "execution_count": 70
        }
      ]
    },
    {
      "cell_type": "code",
      "source": [
        "true_labels = df_outlier.label"
      ],
      "metadata": {
        "id": "J5_07aIYjW7X"
      },
      "execution_count": null,
      "outputs": []
    },
    {
      "cell_type": "code",
      "source": [
        "df_validate['label'] = pred_test"
      ],
      "metadata": {
        "id": "6496ODCWjZBN"
      },
      "execution_count": null,
      "outputs": []
    },
    {
      "cell_type": "code",
      "source": [
        "df_validate[df_validate['label'] == -1].to_csv('/content/drive/MyDrive/thesis/models/iforest/tf_pca_results_val.csv', index=False)"
      ],
      "metadata": {
        "id": "iyhrtFiJjbOF"
      },
      "execution_count": null,
      "outputs": []
    },
    {
      "cell_type": "code",
      "source": [
        "from sklearn.metrics import classification_report\n",
        "print(classification_report(true_labels, pred_test))"
      ],
      "metadata": {
        "colab": {
          "base_uri": "https://localhost:8080/"
        },
        "id": "TmQ9BJx2jh7x",
        "outputId": "e54f5561-f62f-452b-92b7-cda20b6ab040"
      },
      "execution_count": null,
      "outputs": [
        {
          "output_type": "stream",
          "name": "stdout",
          "text": [
            "              precision    recall  f1-score   support\n",
            "\n",
            "          -1       0.58      1.00      0.74      3737\n",
            "           1       1.00      0.97      0.99     98263\n",
            "\n",
            "    accuracy                           0.97    102000\n",
            "   macro avg       0.79      0.99      0.86    102000\n",
            "weighted avg       0.98      0.97      0.98    102000\n",
            "\n"
          ]
        }
      ]
    },
    {
      "cell_type": "code",
      "source": [
        "from sklearn.metrics import accuracy_score, precision_score, recall_score, f1_score\n",
        "\n",
        "# Assuming you have the true labels for the dataset in 'true_labels' and the LOF predictions in 'lof_predictions'\n",
        "\n",
        "# Convert LOF scores to binary labels based on a threshold (e.g., outliers with scores above the threshold are considered anomalies)\n",
        "\n",
        "# Calculate accuracy\n",
        "accuracy = accuracy_score(true_labels, pred_test)\n",
        "print(\"Accuracy:\", accuracy)\n",
        "\n",
        "# Calculate precision\n",
        "precision = precision_score(true_labels, pred_test)\n",
        "print(\"Precision:\", precision)\n",
        "\n",
        "# Calculate recall\n",
        "recall = recall_score(true_labels, pred_test)\n",
        "print(\"Recall:\", recall)\n",
        "\n",
        "# Calculate F1 score\n",
        "f1 = f1_score(true_labels, pred_test)\n",
        "print(\"F1 Score:\", f1)"
      ],
      "metadata": {
        "id": "ZjSJrdkDjrYv"
      },
      "execution_count": null,
      "outputs": []
    },
    {
      "cell_type": "code",
      "source": [],
      "metadata": {
        "id": "2GFauAFNjtym"
      },
      "execution_count": null,
      "outputs": []
    },
    {
      "cell_type": "code",
      "source": [],
      "metadata": {
        "id": "ATR2kyPuj2Z6"
      },
      "execution_count": null,
      "outputs": []
    },
    {
      "cell_type": "markdown",
      "source": [
        "Tf+AE"
      ],
      "metadata": {
        "id": "9QGzjgFxj2_J"
      }
    },
    {
      "cell_type": "code",
      "source": [
        "df_oh = pd.read_csv('/content/drive/MyDrive/thesis/train/reduce_ae_tf-idf.csv', sep=',')\n",
        "x_out_oh = pd.read_csv('/content/drive/MyDrive/thesis/val/val-reduce_ae_tf-idf.csv', sep=',')"
      ],
      "metadata": {
        "id": "iJUQfqmQj4V_"
      },
      "execution_count": null,
      "outputs": []
    },
    {
      "cell_type": "code",
      "source": [
        "split_len = 0.3 * len(df_oh)\n",
        "split_len"
      ],
      "metadata": {
        "colab": {
          "base_uri": "https://localhost:8080/"
        },
        "id": "ZnjGgdr4mwtF",
        "outputId": "b94490ba-fca2-48e6-fdd4-37b1c86febd5"
      },
      "execution_count": null,
      "outputs": [
        {
          "output_type": "execute_result",
          "data": {
            "text/plain": [
              "306302.7"
            ]
          },
          "metadata": {},
          "execution_count": 6
        }
      ]
    },
    {
      "cell_type": "code",
      "source": [
        "test = df_oh[:int(split_len)]\n",
        "train = df_oh[int(split_len):]"
      ],
      "metadata": {
        "id": "IFtMgzcTm0_O"
      },
      "execution_count": null,
      "outputs": []
    },
    {
      "cell_type": "code",
      "source": [
        "x_train = train.values.reshape(train.shape[0], 1, train.shape[1])\n",
        "x_test = test.values.reshape(test.shape[0], 1,train.shape[1])\n",
        "\n",
        "x_out = x_out_oh.values.reshape(x_out_oh.shape[0], 1,x_out_oh.shape[1])\n",
        "\n",
        "#define the model\n",
        "\n",
        "def autoencoder_model(X):\n",
        "\n",
        "  inputs = Input(shape=(X.shape[1], X.shape[2]))\n",
        "  L1 = Bidirectional(LSTM(128, activation='relu', return_sequences=True,\n",
        "              kernel_regularizer=regularizers.l2(0.00)))(inputs)\n",
        "  L2 = Bidirectional(LSTM(64, activation='relu', return_sequences=False))(L1)\n",
        "  L3 = RepeatVector(X.shape[1])(L2)\n",
        "  L4 = Bidirectional(LSTM(64, activation='relu', return_sequences=True))(L3)\n",
        "  L5 = Bidirectional(LSTM(128, activation='relu', return_sequences=True))(L4)\n",
        "  output = TimeDistributed(Dense(X.shape[2]))(L5)\n",
        "  model = Model(inputs=inputs, outputs=output)\n",
        "  return model\n",
        "\n",
        "# create the autoencoder model\n",
        "model = autoencoder_model(x_train)\n",
        "model.compile(optimizer='adam', loss=['mse'],\n",
        "              metrics=['mae', 'acc', tf.keras.metrics.Recall(), tf.keras.metrics.Precision()])\n",
        "model.summary()\n",
        "\n",
        "nb_epochs = 10\n",
        "batch_size = 1000\n",
        "history = model.fit(x_train, x_train, epochs=nb_epochs, batch_size=batch_size,\n",
        "                    validation_split=0.15).history\n",
        "\n",
        "\n",
        "\n"
      ],
      "metadata": {
        "colab": {
          "base_uri": "https://localhost:8080/"
        },
        "id": "pXDIDlfajSoA",
        "outputId": "772dc9cb-6bf7-42fa-ff92-8a4078e209c8"
      },
      "execution_count": null,
      "outputs": [
        {
          "output_type": "stream",
          "name": "stderr",
          "text": [
            "WARNING:tensorflow:Layer lstm will not use cuDNN kernels since it doesn't meet the criteria. It will use a generic GPU kernel as fallback when running on GPU.\n",
            "WARNING:tensorflow:Layer lstm will not use cuDNN kernels since it doesn't meet the criteria. It will use a generic GPU kernel as fallback when running on GPU.\n",
            "WARNING:tensorflow:Layer lstm will not use cuDNN kernels since it doesn't meet the criteria. It will use a generic GPU kernel as fallback when running on GPU.\n",
            "WARNING:tensorflow:Layer lstm_1 will not use cuDNN kernels since it doesn't meet the criteria. It will use a generic GPU kernel as fallback when running on GPU.\n",
            "WARNING:tensorflow:Layer lstm_1 will not use cuDNN kernels since it doesn't meet the criteria. It will use a generic GPU kernel as fallback when running on GPU.\n",
            "WARNING:tensorflow:Layer lstm_1 will not use cuDNN kernels since it doesn't meet the criteria. It will use a generic GPU kernel as fallback when running on GPU.\n",
            "WARNING:tensorflow:Layer lstm_2 will not use cuDNN kernels since it doesn't meet the criteria. It will use a generic GPU kernel as fallback when running on GPU.\n",
            "WARNING:tensorflow:Layer lstm_2 will not use cuDNN kernels since it doesn't meet the criteria. It will use a generic GPU kernel as fallback when running on GPU.\n",
            "WARNING:tensorflow:Layer lstm_2 will not use cuDNN kernels since it doesn't meet the criteria. It will use a generic GPU kernel as fallback when running on GPU.\n",
            "WARNING:tensorflow:Layer lstm_3 will not use cuDNN kernels since it doesn't meet the criteria. It will use a generic GPU kernel as fallback when running on GPU.\n",
            "WARNING:tensorflow:Layer lstm_3 will not use cuDNN kernels since it doesn't meet the criteria. It will use a generic GPU kernel as fallback when running on GPU.\n",
            "WARNING:tensorflow:Layer lstm_3 will not use cuDNN kernels since it doesn't meet the criteria. It will use a generic GPU kernel as fallback when running on GPU.\n"
          ]
        },
        {
          "output_type": "stream",
          "name": "stdout",
          "text": [
            "Model: \"model\"\n",
            "_________________________________________________________________\n",
            " Layer (type)                Output Shape              Param #   \n",
            "=================================================================\n",
            " input_1 (InputLayer)        [(None, 1, 32)]           0         \n",
            "                                                                 \n",
            " bidirectional (Bidirectiona  (None, 1, 256)           164864    \n",
            " l)                                                              \n",
            "                                                                 \n",
            " bidirectional_1 (Bidirectio  (None, 128)              164352    \n",
            " nal)                                                            \n",
            "                                                                 \n",
            " repeat_vector (RepeatVector  (None, 1, 128)           0         \n",
            " )                                                               \n",
            "                                                                 \n",
            " bidirectional_2 (Bidirectio  (None, 1, 128)           98816     \n",
            " nal)                                                            \n",
            "                                                                 \n",
            " bidirectional_3 (Bidirectio  (None, 1, 256)           263168    \n",
            " nal)                                                            \n",
            "                                                                 \n",
            " time_distributed (TimeDistr  (None, 1, 32)            8224      \n",
            " ibuted)                                                         \n",
            "                                                                 \n",
            "=================================================================\n",
            "Total params: 699,424\n",
            "Trainable params: 699,424\n",
            "Non-trainable params: 0\n",
            "_________________________________________________________________\n",
            "Epoch 1/10\n",
            "608/608 [==============================] - 32s 25ms/step - loss: 0.7502 - mae: 0.1870 - acc: 0.9028 - recall: 0.8988 - precision: 0.9941 - val_loss: 0.0041 - val_mae: 0.0101 - val_acc: 0.9995 - val_recall: 0.9169 - val_precision: 1.0000\n",
            "Epoch 2/10\n",
            "608/608 [==============================] - 14s 22ms/step - loss: 4.5786e-04 - mae: 0.0089 - acc: 0.9965 - recall: 0.9183 - precision: 1.0000 - val_loss: 0.0032 - val_mae: 0.0166 - val_acc: 0.9998 - val_recall: 0.9170 - val_precision: 1.0000\n",
            "Epoch 3/10\n",
            "608/608 [==============================] - 14s 22ms/step - loss: 2.9273e-04 - mae: 0.0084 - acc: 0.9943 - recall: 0.9183 - precision: 1.0000 - val_loss: 0.0026 - val_mae: 0.0110 - val_acc: 0.9990 - val_recall: 0.9173 - val_precision: 1.0000\n",
            "Epoch 4/10\n",
            "608/608 [==============================] - 14s 22ms/step - loss: 4.0033e-04 - mae: 0.0105 - acc: 0.9934 - recall: 0.9183 - precision: 1.0000 - val_loss: 0.0024 - val_mae: 0.0098 - val_acc: 0.9995 - val_recall: 0.9170 - val_precision: 1.0000\n",
            "Epoch 5/10\n",
            "608/608 [==============================] - 14s 22ms/step - loss: 5.4792e-04 - mae: 0.0119 - acc: 0.9954 - recall: 0.9183 - precision: 1.0000 - val_loss: 0.0022 - val_mae: 0.0067 - val_acc: 0.9999 - val_recall: 0.9170 - val_precision: 1.0000\n",
            "Epoch 6/10\n",
            "608/608 [==============================] - 14s 22ms/step - loss: 5.1745e-04 - mae: 0.0124 - acc: 0.9954 - recall: 0.9183 - precision: 1.0000 - val_loss: 0.0020 - val_mae: 0.0069 - val_acc: 0.9999 - val_recall: 0.9173 - val_precision: 1.0000\n",
            "Epoch 7/10\n",
            "608/608 [==============================] - 14s 22ms/step - loss: 7.3401e-04 - mae: 0.0155 - acc: 0.9942 - recall: 0.9183 - precision: 1.0000 - val_loss: 0.0019 - val_mae: 0.0121 - val_acc: 0.9999 - val_recall: 0.9173 - val_precision: 1.0000\n",
            "Epoch 8/10\n",
            "608/608 [==============================] - 14s 22ms/step - loss: 7.7382e-04 - mae: 0.0113 - acc: 0.9942 - recall: 0.9184 - precision: 1.0000 - val_loss: 0.0017 - val_mae: 0.0075 - val_acc: 0.9999 - val_recall: 0.9173 - val_precision: 1.0000\n",
            "Epoch 9/10\n",
            "608/608 [==============================] - 14s 22ms/step - loss: 4.2330e-04 - mae: 0.0122 - acc: 0.9968 - recall: 0.9183 - precision: 1.0000 - val_loss: 0.0016 - val_mae: 0.0110 - val_acc: 0.9996 - val_recall: 0.9172 - val_precision: 1.0000\n",
            "Epoch 10/10\n",
            "608/608 [==============================] - 14s 23ms/step - loss: 6.1662e-04 - mae: 0.0128 - acc: 0.9924 - recall: 0.9183 - precision: 1.0000 - val_loss: 0.0318 - val_mae: 0.1431 - val_acc: 0.9894 - val_recall: 0.9183 - val_precision: 1.0000\n"
          ]
        }
      ]
    },
    {
      "cell_type": "code",
      "source": [
        "# plot the loss distribution of the training set\n",
        "X_pred = model.predict(x_train)\n",
        "X_pred = X_pred.reshape(X_pred.shape[0], X_pred.shape[2])\n",
        "X_pred = pd.DataFrame(X_pred, columns=train.columns)\n",
        "X_pred.index = train.index\n",
        "\n",
        "scored = pd.DataFrame(index=train.index)\n",
        "Xtrain = x_train.reshape(x_train.shape[0], x_train.shape[2])\n",
        "scored['Loss_mse'] = np.mean(np.abs(X_pred-Xtrain), axis = 1)\n",
        "plt.figure(figsize=(16,9), dpi=80)\n",
        "plt.title('Loss Distribution', fontsize=16)\n",
        "sns.distplot(scored['Loss_mse'], bins = 20, kde= True, color = 'blue');\n",
        "plt.xlim([0.0,.5])"
      ],
      "metadata": {
        "colab": {
          "base_uri": "https://localhost:8080/",
          "height": 873
        },
        "id": "u_Eg9NyLjTKn",
        "outputId": "f7006931-ef3f-43e4-d76c-8f5aa37c0414"
      },
      "execution_count": null,
      "outputs": [
        {
          "output_type": "stream",
          "name": "stdout",
          "text": [
            "22335/22335 [==============================] - 70s 3ms/step\n"
          ]
        },
        {
          "output_type": "stream",
          "name": "stderr",
          "text": [
            "<ipython-input-9-75a6f4c073f7>:12: UserWarning: \n",
            "\n",
            "`distplot` is a deprecated function and will be removed in seaborn v0.14.0.\n",
            "\n",
            "Please adapt your code to use either `displot` (a figure-level function with\n",
            "similar flexibility) or `histplot` (an axes-level function for histograms).\n",
            "\n",
            "For a guide to updating your code to use the new functions, please see\n",
            "https://gist.github.com/mwaskom/de44147ed2974457ad6372750bbe5751\n",
            "\n",
            "  sns.distplot(scored['Loss_mse'], bins = 20, kde= True, color = 'blue');\n"
          ]
        },
        {
          "output_type": "execute_result",
          "data": {
            "text/plain": [
              "(0.0, 0.5)"
            ]
          },
          "metadata": {},
          "execution_count": 9
        },
        {
          "output_type": "display_data",
          "data": {
            "text/plain": [
              "<Figure size 1280x720 with 1 Axes>"
            ],
            "image/png": "[encoded data removed]"
          },
          "metadata": {}
        }
      ]
    },
    {
      "cell_type": "code",
      "source": [
        "# calculate the loss on the test set\n",
        "X_pred = model.predict(x_out)\n",
        "X_pred = X_pred.reshape(X_pred.shape[0], X_pred.shape[2])\n",
        "X_pred = pd.DataFrame(X_pred, columns=x_out_oh.columns)\n",
        "X_pred.index = x_out_oh.index\n",
        "\n",
        "scored = pd.DataFrame(index=x_out_oh.index)\n",
        "Xtest = x_out_oh.values.reshape(x_out_oh.shape[0], x_out_oh.shape[1])\n",
        "scored['Loss_mae'] = np.mean(np.abs(X_pred-Xtest), axis = 1)\n",
        "scored['Threshold'] = 0.19\n",
        "scored['Anomaly'] = np.where(scored['Loss_mae'] > scored['Threshold'], -1, 1)\n",
        "scored.head()\n",
        "test_pred = scored.Anomaly\n",
        "\n",
        "from sklearn.metrics import classification_report\n",
        "print(classification_report(true_labels, test_pred))"
      ],
      "metadata": {
        "colab": {
          "base_uri": "https://localhost:8080/"
        },
        "id": "5GlZK8CmjW5s",
        "outputId": "816978d7-344e-45ac-8eee-e4dc40ea281e"
      },
      "execution_count": null,
      "outputs": [
        {
          "output_type": "stream",
          "name": "stdout",
          "text": [
            "3188/3188 [==============================] - 11s 3ms/step\n",
            "              precision    recall  f1-score   support\n",
            "\n",
            "          -1       0.99      0.49      0.65      3737\n",
            "           1       0.98      1.00      0.99     98263\n",
            "\n",
            "    accuracy                           0.98    102000\n",
            "   macro avg       0.98      0.74      0.82    102000\n",
            "weighted avg       0.98      0.98      0.98    102000\n",
            "\n"
          ]
        }
      ]
    },
    {
      "cell_type": "code",
      "source": [
        "scored.head()"
      ],
      "metadata": {
        "colab": {
          "base_uri": "https://localhost:8080/",
          "height": 206
        },
        "id": "Ss3bQ70dmEZr",
        "outputId": "07bab2b0-c500-429a-ed5c-45ca47439007"
      },
      "execution_count": null,
      "outputs": [
        {
          "output_type": "execute_result",
          "data": {
            "text/plain": [
              "   Loss_mae  Threshold  Anomaly\n",
              "0  0.004989       0.03        1\n",
              "1  0.004989       0.03        1\n",
              "2  0.004989       0.03        1\n",
              "3  0.004989       0.03        1\n",
              "4  0.003994       0.03        1"
            ],
            "text/html": [
              "\n",
              "  <div id=\"df-788ec080-230c-4a3a-8d5f-64a1546b085d\">\n",
              "    <div class=\"colab-df-container\">\n",
              "      <div>\n",
              "<style scoped>\n",
              "    .dataframe tbody tr th:only-of-type {\n",
              "        vertical-align: middle;\n",
              "    }\n",
              "\n",
              "    .dataframe tbody tr th {\n",
              "        vertical-align: top;\n",
              "    }\n",
              "\n",
              "    .dataframe thead th {\n",
              "        text-align: right;\n",
              "    }\n",
              "</style>\n",
              "<table border=\"1\" class=\"dataframe\">\n",
              "  <thead>\n",
              "    <tr style=\"text-align: right;\">\n",
              "      <th></th>\n",
              "      <th>Loss_mae</th>\n",
              "      <th>Threshold</th>\n",
              "      <th>Anomaly</th>\n",
              "    </tr>\n",
              "  </thead>\n",
              "  <tbody>\n",
              "    <tr>\n",
              "      <th>0</th>\n",
              "      <td>0.004989</td>\n",
              "      <td>0.03</td>\n",
              "      <td>1</td>\n",
              "    </tr>\n",
              "    <tr>\n",
              "      <th>1</th>\n",
              "      <td>0.004989</td>\n",
              "      <td>0.03</td>\n",
              "      <td>1</td>\n",
              "    </tr>\n",
              "    <tr>\n",
              "      <th>2</th>\n",
              "      <td>0.004989</td>\n",
              "      <td>0.03</td>\n",
              "      <td>1</td>\n",
              "    </tr>\n",
              "    <tr>\n",
              "      <th>3</th>\n",
              "      <td>0.004989</td>\n",
              "      <td>0.03</td>\n",
              "      <td>1</td>\n",
              "    </tr>\n",
              "    <tr>\n",
              "      <th>4</th>\n",
              "      <td>0.003994</td>\n",
              "      <td>0.03</td>\n",
              "      <td>1</td>\n",
              "    </tr>\n",
              "  </tbody>\n",
              "</table>\n",
              "</div>\n",
              "      <button class=\"colab-df-convert\" onclick=\"convertToInteractive('df-788ec080-230c-4a3a-8d5f-64a1546b085d')\"\n",
              "              title=\"Convert this dataframe to an interactive table.\"\n",
              "              style=\"display:none;\">\n",
              "        \n",
              "  <svg xmlns=\"http://www.w3.org/2000/svg\" height=\"24px\"viewBox=\"0 0 24 24\"\n",
              "       width=\"24px\">\n",
              "    <path d=\"M0 0h24v24H0V0z\" fill=\"none\"/>\n",
              "    <path d=\"M18.56 5.44l.94 2.06.94-2.06 2.06-.94-2.06-.94-.94-2.06-.94 2.06-2.06.94zm-11 1L8.5 8.5l.94-2.06 2.06-.94-2.06-.94L8.5 2.5l-.94 2.06-2.06.94zm10 10l.94 2.06.94-2.06 2.06-.94-2.06-.94-.94-2.06-.94 2.06-2.06.94z\"/><path d=\"M17.41 7.96l-1.37-1.37c-.4-.4-.92-.59-1.43-.59-.52 0-1.04.2-1.43.59L10.3 9.45l-7.72 7.72c-.78.78-.78 2.05 0 2.83L4 21.41c.39.39.9.59 1.41.59.51 0 1.02-.2 1.41-.59l7.78-7.78 2.81-2.81c.8-.78.8-2.07 0-2.86zM5.41 20L4 18.59l7.72-7.72 1.47 1.35L5.41 20z\"/>\n",
              "  </svg>\n",
              "      </button>\n",
              "      \n",
              "  <style>\n",
              "    .colab-df-container {\n",
              "      display:flex;\n",
              "      flex-wrap:wrap;\n",
              "      gap: 12px;\n",
              "    }\n",
              "\n",
              "    .colab-df-convert {\n",
              "      background-color: #E8F0FE;\n",
              "      border: none;\n",
              "      border-radius: 50%;\n",
              "      cursor: pointer;\n",
              "      display: none;\n",
              "      fill: #1967D2;\n",
              "      height: 32px;\n",
              "      padding: 0 0 0 0;\n",
              "      width: 32px;\n",
              "    }\n",
              "\n",
              "    .colab-df-convert:hover {\n",
              "      background-color: #E2EBFA;\n",
              "      box-shadow: 0px 1px 2px rgba(60, 64, 67, 0.3), 0px 1px 3px 1px rgba(60, 64, 67, 0.15);\n",
              "      fill: #174EA6;\n",
              "    }\n",
              "\n",
              "    [theme=dark] .colab-df-convert {\n",
              "      background-color: #3B4455;\n",
              "      fill: #D2E3FC;\n",
              "    }\n",
              "\n",
              "    [theme=dark] .colab-df-convert:hover {\n",
              "      background-color: #434B5C;\n",
              "      box-shadow: 0px 1px 3px 1px rgba(0, 0, 0, 0.15);\n",
              "      filter: drop-shadow(0px 1px 2px rgba(0, 0, 0, 0.3));\n",
              "      fill: #FFFFFF;\n",
              "    }\n",
              "  </style>\n",
              "\n",
              "      <script>\n",
              "        const buttonEl =\n",
              "          document.querySelector('#df-788ec080-230c-4a3a-8d5f-64a1546b085d button.colab-df-convert');\n",
              "        buttonEl.style.display =\n",
              "          google.colab.kernel.accessAllowed ? 'block' : 'none';\n",
              "\n",
              "        async function convertToInteractive(key) {\n",
              "          const element = document.querySelector('#df-788ec080-230c-4a3a-8d5f-64a1546b085d');\n",
              "          const dataTable =\n",
              "            await google.colab.kernel.invokeFunction('convertToInteractive',\n",
              "                                                     [key], {});\n",
              "          if (!dataTable) return;\n",
              "\n",
              "          const docLinkHtml = 'Like what you see? Visit the ' +\n",
              "            '<a target=\"_blank\" href=https://colab.research.google.com/notebooks/data_table.ipynb>data table notebook</a>'\n",
              "            + ' to learn more about interactive tables.';\n",
              "          element.innerHTML = '';\n",
              "          dataTable['output_type'] = 'display_data';\n",
              "          await google.colab.output.renderOutput(dataTable, element);\n",
              "          const docLink = document.createElement('div');\n",
              "          docLink.innerHTML = docLinkHtml;\n",
              "          element.appendChild(docLink);\n",
              "        }\n",
              "      </script>\n",
              "    </div>\n",
              "  </div>\n",
              "  "
            ]
          },
          "metadata": {},
          "execution_count": 28
        }
      ]
    },
    {
      "cell_type": "code",
      "source": [
        "from pyod.models.copod import COPOD\n",
        "if __name__ == \"__main__\":\n",
        "\n",
        "    # train COPOD detector\n",
        "    clf_name = 'COPOD'\n",
        "    clf = COPOD(contamination=0.09)\n",
        "\n",
        "    # you could try parallel version as well.\n",
        "    # clf = COPOD(n_jobs=2)\n",
        "    clf.fit(train)\n",
        "    pred_test = clf.predict(x_out_oh)\n",
        "\n",
        "if (pred_test == 1).any():\n",
        "    pred_test[pred_test == 1] = -1\n",
        "\n",
        "if (pred_test == 0).any():\n",
        "    pred_test[pred_test == 0] = 1\n",
        "\n",
        "Counter(pred_test)\n",
        "\n",
        "from sklearn.metrics import classification_report\n",
        "print(classification_report(true_labels, pred_test))"
      ],
      "metadata": {
        "id": "HunjS6-L-m_T",
        "colab": {
          "base_uri": "https://localhost:8080/",
          "height": 383
        },
        "outputId": "0ce3e2fb-63b9-4790-fcb0-972ba8f5c662"
      },
      "execution_count": null,
      "outputs": [
        {
          "output_type": "error",
          "ename": "ModuleNotFoundError",
          "evalue": "ignored",
          "traceback": [
            "\u001b[0;31m---------------------------------------------------------------------------\u001b[0m",
            "\u001b[0;31mModuleNotFoundError\u001b[0m                       Traceback (most recent call last)",
            "\u001b[0;32m<ipython-input-27-f8b3bf7bf5d5>\u001b[0m in \u001b[0;36m<cell line: 1>\u001b[0;34m()\u001b[0m\n\u001b[0;32m----> 1\u001b[0;31m \u001b[0;32mfrom\u001b[0m \u001b[0mpyod\u001b[0m\u001b[0;34m.\u001b[0m\u001b[0mmodels\u001b[0m\u001b[0;34m.\u001b[0m\u001b[0mcopod\u001b[0m \u001b[0;32mimport\u001b[0m \u001b[0mCOPOD\u001b[0m\u001b[0;34m\u001b[0m\u001b[0;34m\u001b[0m\u001b[0m\n\u001b[0m\u001b[1;32m      2\u001b[0m \u001b[0;32mif\u001b[0m \u001b[0m__name__\u001b[0m \u001b[0;34m==\u001b[0m \u001b[0;34m\"__main__\"\u001b[0m\u001b[0;34m:\u001b[0m\u001b[0;34m\u001b[0m\u001b[0;34m\u001b[0m\u001b[0m\n\u001b[1;32m      3\u001b[0m \u001b[0;34m\u001b[0m\u001b[0m\n\u001b[1;32m      4\u001b[0m     \u001b[0;31m# train COPOD detector\u001b[0m\u001b[0;34m\u001b[0m\u001b[0;34m\u001b[0m\u001b[0m\n\u001b[1;32m      5\u001b[0m     \u001b[0mclf_name\u001b[0m \u001b[0;34m=\u001b[0m \u001b[0;34m'COPOD'\u001b[0m\u001b[0;34m\u001b[0m\u001b[0;34m\u001b[0m\u001b[0m\n",
            "\u001b[0;31mModuleNotFoundError\u001b[0m: No module named 'pyod'",
            "",
            "\u001b[0;31m---------------------------------------------------------------------------\u001b[0;32m\nNOTE: If your import is failing due to a missing package, you can\nmanually install dependencies using either !pip or !apt.\n\nTo view examples of installing some common dependencies, click the\n\"Open Examples\" button below.\n\u001b[0;31m---------------------------------------------------------------------------\u001b[0m\n"
          ],
          "errorDetails": {
            "actions": [
              {
                "action": "open_url",
                "actionText": "Open Examples",
                "url": "/notebooks/snippets/importing_libraries.ipynb"
              }
            ]
          }
        }
      ]
    },
    {
      "cell_type": "code",
      "source": [
        "from pyod.models.ecod import ECOD\n",
        "if __name__ == \"__main__\":\n",
        "\n",
        "    # train COPOD detector\n",
        "    clf_name = 'ECOD'\n",
        "    clf = ECOD(contamination=0.075)\n",
        "\n",
        "    # you could try parallel version as well.\n",
        "    # clf = COPOD(n_jobs=2)\n",
        "    clf.fit(train)\n",
        "    pred_test = clf.predict(x_out_oh)\n",
        "\n",
        "if (pred_test == 1).any():\n",
        "    pred_test[pred_test == 1] = -1\n",
        "\n",
        "if (pred_test == 0).any():\n",
        "    pred_test[pred_test == 0] = 1\n",
        "\n",
        "Counter(pred_test)\n",
        "\n",
        "from sklearn.metrics import classification_report\n",
        "print(classification_report(true_labels, pred_test))"
      ],
      "metadata": {
        "id": "9tWJ9D28-ih7",
        "colab": {
          "base_uri": "https://localhost:8080/"
        },
        "outputId": "29057e85-e140-4de7-826f-2ec6e3962997"
      },
      "execution_count": null,
      "outputs": [
        {
          "output_type": "stream",
          "name": "stdout",
          "text": [
            "              precision    recall  f1-score   support\n",
            "\n",
            "          -1       0.41      1.00      0.58      3737\n",
            "           1       1.00      0.95      0.97     98263\n",
            "\n",
            "    accuracy                           0.95    102000\n",
            "   macro avg       0.70      0.97      0.78    102000\n",
            "weighted avg       0.98      0.95      0.96    102000\n",
            "\n"
          ]
        }
      ]
    },
    {
      "cell_type": "code",
      "source": [
        "clf = IsolationForest(n_estimators=200, contamination = 0.045)"
      ],
      "metadata": {
        "id": "PfAfpCQ4m3QP"
      },
      "execution_count": null,
      "outputs": []
    },
    {
      "cell_type": "code",
      "source": [
        "clf_if_tf = clf.fit(train)"
      ],
      "metadata": {
        "id": "oG1yk7Kmm5d6"
      },
      "execution_count": null,
      "outputs": []
    },
    {
      "cell_type": "code",
      "source": [
        "from joblib import dump, load\n",
        "\n",
        "# save the model\n",
        "dump(clf_if_tf,'/content/drive/MyDrive/thesis/models/lof/clf_lof_tf_ae.joblib')"
      ],
      "metadata": {
        "colab": {
          "base_uri": "https://localhost:8080/"
        },
        "id": "fcW_Cx7Em7nI",
        "outputId": "fa799484-8606-4f3f-e7c1-41961f05e577"
      },
      "execution_count": null,
      "outputs": [
        {
          "output_type": "execute_result",
          "data": {
            "text/plain": [
              "['/content/drive/MyDrive/thesis/models/lof/clf_lof_tf_ae.joblib']"
            ]
          },
          "metadata": {},
          "execution_count": 114
        }
      ]
    },
    {
      "cell_type": "code",
      "source": [
        "clf_if_tf = load('/content/drive/MyDrive/thesis/models/lof/clf_lof_tf_ae.joblib')"
      ],
      "metadata": {
        "id": "E5rsH98Nm_Kx"
      },
      "execution_count": null,
      "outputs": []
    },
    {
      "cell_type": "code",
      "source": [
        "pred_test = clf_if_tf.predict(x_out_oh)"
      ],
      "metadata": {
        "id": "Z5a9-L7EnCfP"
      },
      "execution_count": null,
      "outputs": []
    },
    {
      "cell_type": "code",
      "source": [
        "Counter(pred_test)"
      ],
      "metadata": {
        "colab": {
          "base_uri": "https://localhost:8080/"
        },
        "id": "dC98SwN-nE7w",
        "outputId": "798a0b97-4af7-4495-cb07-02a5f7f7021d"
      },
      "execution_count": null,
      "outputs": [
        {
          "output_type": "execute_result",
          "data": {
            "text/plain": [
              "Counter({1: 97350, -1: 4650})"
            ]
          },
          "metadata": {},
          "execution_count": 117
        }
      ]
    },
    {
      "cell_type": "code",
      "source": [
        "true_labels = df_outlier.label"
      ],
      "metadata": {
        "id": "X56SRo6GnHT1"
      },
      "execution_count": null,
      "outputs": []
    },
    {
      "cell_type": "code",
      "source": [
        "df_validate['label'] = pred_test"
      ],
      "metadata": {
        "id": "4E7_VEW3nJl6"
      },
      "execution_count": null,
      "outputs": []
    },
    {
      "cell_type": "code",
      "source": [
        "df_validate[df_validate['label'] == -1].to_csv('/content/drive/MyDrive/thesis/models/iforest/tf_ae_results_val.csv', index=False)"
      ],
      "metadata": {
        "id": "uu4vkaU3nMHX"
      },
      "execution_count": null,
      "outputs": []
    },
    {
      "cell_type": "code",
      "source": [
        "from sklearn.metrics import classification_report\n",
        "print(classification_report(true_labels, pred_test))"
      ],
      "metadata": {
        "colab": {
          "base_uri": "https://localhost:8080/"
        },
        "id": "EvgUwNSFnO5z",
        "outputId": "9fc9a24e-5dd8-46e4-f1a4-59fa5c4d35db"
      },
      "execution_count": null,
      "outputs": [
        {
          "output_type": "stream",
          "name": "stdout",
          "text": [
            "              precision    recall  f1-score   support\n",
            "\n",
            "          -1       0.45      0.56      0.50      3737\n",
            "           1       0.98      0.97      0.98     98263\n",
            "\n",
            "    accuracy                           0.96    102000\n",
            "   macro avg       0.72      0.77      0.74    102000\n",
            "weighted avg       0.96      0.96      0.96    102000\n",
            "\n"
          ]
        }
      ]
    },
    {
      "cell_type": "code",
      "source": [
        "from sklearn.metrics import accuracy_score, precision_score, recall_score, f1_score\n",
        "\n",
        "# Assuming you have the true labels for the dataset in 'true_labels' and the LOF predictions in 'lof_predictions'\n",
        "\n",
        "# Convert LOF scores to binary labels based on a threshold (e.g., outliers with scores above the threshold are considered anomalies)\n",
        "\n",
        "# Calculate accuracy\n",
        "accuracy = accuracy_score(true_labels, pred_test)\n",
        "print(\"Accuracy:\", accuracy)\n",
        "\n",
        "# Calculate precision\n",
        "precision = precision_score(true_labels, pred_test)\n",
        "print(\"Precision:\", precision)\n",
        "\n",
        "# Calculate recall\n",
        "recall = recall_score(true_labels, pred_test)\n",
        "print(\"Recall:\", recall)\n",
        "\n",
        "# Calculate F1 score\n",
        "f1 = f1_score(true_labels, pred_test)\n",
        "print(\"F1 Score:\", f1)"
      ],
      "metadata": {
        "colab": {
          "base_uri": "https://localhost:8080/"
        },
        "id": "4EW2UhUYnRgw",
        "outputId": "d0ac68e0-1e80-4ce7-f2e7-287e2136ca48"
      },
      "execution_count": null,
      "outputs": [
        {
          "output_type": "stream",
          "name": "stdout",
          "text": [
            "Accuracy: 0.9592941176470589\n",
            "Precision: 0.9825462749320617\n",
            "Recall: 0.9750669122660615\n",
            "F1 Score: 0.9787923055705953\n"
          ]
        }
      ]
    },
    {
      "cell_type": "code",
      "source": [],
      "metadata": {
        "id": "2wxUo3rxnblB"
      },
      "execution_count": null,
      "outputs": []
    }
  ]
}