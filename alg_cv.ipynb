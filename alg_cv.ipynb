{
  "cells": [
    {
      "cell_type": "code",
      "execution_count": null,
      "metadata": {
        "id": "0NYXgKUPD907"
      },
      "outputs": [],
      "source": [
        "import re\n",
        "import pandas as pd\n",
        "import csv\n",
        "import numpy as np\n",
        "from collections import Counter\n",
        "import nltk\n",
        "import random\n",
        "from nltk import word_tokenize\n",
        "from sklearn.feature_extraction.text import CountVectorizer\n",
        "from sklearn.preprocessing import OneHotEncoder, LabelEncoder\n",
        "from sklearn.ensemble import IsolationForest\n",
        "from nltk.tokenize import sent_tokenize, word_tokenize\n",
        "import warnings\n",
        "\n",
        "warnings.filterwarnings(action = 'ignore')\n",
        "import gensim\n",
        "from gensim.models import Word2Vec"
      ]
    },
    {
      "cell_type": "code",
      "execution_count": null,
      "metadata": {
        "id": "dWzH7ackPuSv"
      },
      "outputs": [],
      "source": [
        "import tensorflow as tf\n",
        "import math\n",
        "import os\n",
        "import time\n",
        "import numpy as np\n",
        "import pandas as pd\n",
        "import random\n",
        "import statistics\n",
        "import seaborn as sns\n",
        "from collections import Counter\n",
        "import matplotlib.pyplot as plt\n",
        "from tensorflow.keras import Model\n",
        "from tensorflow.keras import Sequential, regularizers\n",
        "from sklearn.preprocessing import MinMaxScaler\n",
        "from tensorflow.keras.layers import Dense, Input, LSTM, Dropout, TimeDistributed, RepeatVector, Bidirectional\n",
        "from tensorflow.keras.losses import CategoricalCrossentropy, MeanSquaredLogarithmicError\n",
        "from tensorflow.keras.callbacks import EarlyStopping\n",
        "from tensorflow.keras.metrics import Accuracy, Precision, AUC, Recall\n",
        "from sklearn.metrics import silhouette_score"
      ]
    },
    {
      "cell_type": "code",
      "execution_count": null,
      "metadata": {
        "colab": {
          "background_save": true,
          "base_uri": "https://localhost:8080/"
        },
        "id": "jLAAtq8tlprC",
        "outputId": "57079fdf-6515-4649-d4ae-6b8e30c7117f"
      },
      "outputs": [
        {
          "name": "stdout",
          "output_type": "stream",
          "text": [
            "Looking in indexes: https://pypi.org/simple, https://us-python.pkg.dev/colab-wheels/public/simple/\n",
            "Collecting pyod\n",
            "  Downloading pyod-1.0.9.tar.gz (149 kB)\n",
            "\u001b[2K     \u001b[90m━━━━━━━━━━━━━━━━━━━━━━━━━━━━━━━━━━━━━━━\u001b[0m \u001b[32m150.0/150.0 kB\u001b[0m \u001b[31m4.0 MB/s\u001b[0m eta \u001b[36m0:00:00\u001b[0m\n",
            "\u001b[?25h  Preparing metadata (setup.py) ... \u001b[?25l\u001b[?25hdone\n",
            "Requirement already satisfied: joblib in /usr/local/lib/python3.10/dist-packages (from pyod) (1.2.0)\n",
            "Requirement already satisfied: matplotlib in /usr/local/lib/python3.10/dist-packages (from pyod) (3.7.1)\n",
            "Requirement already satisfied: numpy>=1.19 in /usr/local/lib/python3.10/dist-packages (from pyod) (1.22.4)\n",
            "Requirement already satisfied: numba>=0.51 in /usr/local/lib/python3.10/dist-packages (from pyod) (0.56.4)\n",
            "Requirement already satisfied: scipy>=1.5.1 in /usr/local/lib/python3.10/dist-packages (from pyod) (1.10.1)\n",
            "Requirement already satisfied: scikit_learn>=0.20.0 in /usr/local/lib/python3.10/dist-packages (from pyod) (1.2.2)\n",
            "Requirement already satisfied: six in /usr/local/lib/python3.10/dist-packages (from pyod) (1.16.0)\n",
            "Requirement already satisfied: llvmlite<0.40,>=0.39.0dev0 in /usr/local/lib/python3.10/dist-packages (from numba>=0.51->pyod) (0.39.1)\n",
            "Requirement already satisfied: setuptools in /usr/local/lib/python3.10/dist-packages (from numba>=0.51->pyod) (67.7.2)\n",
            "Requirement already satisfied: threadpoolctl>=2.0.0 in /usr/local/lib/python3.10/dist-packages (from scikit_learn>=0.20.0->pyod) (3.1.0)\n",
            "Requirement already satisfied: contourpy>=1.0.1 in /usr/local/lib/python3.10/dist-packages (from matplotlib->pyod) (1.0.7)\n",
            "Requirement already satisfied: cycler>=0.10 in /usr/local/lib/python3.10/dist-packages (from matplotlib->pyod) (0.11.0)\n",
            "Requirement already satisfied: fonttools>=4.22.0 in /usr/local/lib/python3.10/dist-packages (from matplotlib->pyod) (4.39.3)\n",
            "Requirement already satisfied: kiwisolver>=1.0.1 in /usr/local/lib/python3.10/dist-packages (from matplotlib->pyod) (1.4.4)\n",
            "Requirement already satisfied: packaging>=20.0 in /usr/local/lib/python3.10/dist-packages (from matplotlib->pyod) (23.1)\n",
            "Requirement already satisfied: pillow>=6.2.0 in /usr/local/lib/python3.10/dist-packages (from matplotlib->pyod) (8.4.0)\n",
            "Requirement already satisfied: pyparsing>=2.3.1 in /usr/local/lib/python3.10/dist-packages (from matplotlib->pyod) (3.0.9)\n",
            "Requirement already satisfied: python-dateutil>=2.7 in /usr/local/lib/python3.10/dist-packages (from matplotlib->pyod) (2.8.2)\n",
            "Building wheels for collected packages: pyod\n",
            "  Building wheel for pyod (setup.py) ... \u001b[?25l\u001b[?25hdone\n",
            "  Created wheel for pyod: filename=pyod-1.0.9-py3-none-any.whl size=184097 sha256=a38edc23f9bda69c7fe884305349b70a40ee7f539f323adfab499fc38d86be16\n",
            "  Stored in directory: /root/.cache/pip/wheels/83/55/6b/552e083cf5509c0afe808b76cf434f1be284d01a112623bd37\n",
            "Successfully built pyod\n",
            "Installing collected packages: pyod\n",
            "Successfully installed pyod-1.0.9\n"
          ]
        }
      ],
      "source": [
        "pip install pyod"
      ]
    },
    {
      "cell_type": "code",
      "execution_count": null,
      "metadata": {
        "colab": {
          "base_uri": "https://localhost:8080/"
        },
        "id": "Ltub3X8hEKfa",
        "outputId": "7e65e4b7-1817-468c-c9ec-5434073be7cf"
      },
      "outputs": [
        {
          "name": "stdout",
          "output_type": "stream",
          "text": [
            "Mounted at /content/drive\n"
          ]
        }
      ],
      "source": [
        "from google.colab import drive\n",
        "drive.mount('/content/drive')"
      ]
    },
    {
      "cell_type": "code",
      "execution_count": null,
      "metadata": {
        "id": "z7gJ6De1EVd3"
      },
      "outputs": [],
      "source": [
        "df_outlier = pd.read_csv('/content/drive/MyDrive/thesis/val/raw_val_all.csv', sep=',')"
      ]
    },
    {
      "cell_type": "code",
      "execution_count": null,
      "metadata": {
        "colab": {
          "base_uri": "https://localhost:8080/"
        },
        "id": "TH1GPHl7XQBa",
        "outputId": "067872a4-814a-4c96-ed36-8de9dc041919"
      },
      "outputs": [
        {
          "data": {
            "text/html": [
              "\n",
              "  <div id=\"df-fb27d2af-d4aa-40cf-8abd-eb417b8a1c52\">\n",
              "    <div class=\"colab-df-container\">\n",
              "      <div>\n",
              "<style scoped>\n",
              "    .dataframe tbody tr th:only-of-type {\n",
              "        vertical-align: middle;\n",
              "    }\n",
              "\n",
              "    .dataframe tbody tr th {\n",
              "        vertical-align: top;\n",
              "    }\n",
              "\n",
              "    .dataframe thead th {\n",
              "        text-align: right;\n",
              "    }\n",
              "</style>\n",
              "<table border=\"1\" class=\"dataframe\">\n",
              "  <thead>\n",
              "    <tr style=\"text-align: right;\">\n",
              "      <th></th>\n",
              "      <th>message</th>\n",
              "      <th>label</th>\n",
              "    </tr>\n",
              "  </thead>\n",
              "  <tbody>\n",
              "    <tr>\n",
              "      <th>0</th>\n",
              "      <td>2023-05-10 18:56:18.091 33 INFO nova.metadata....</td>\n",
              "      <td>1</td>\n",
              "    </tr>\n",
              "    <tr>\n",
              "      <th>1</th>\n",
              "      <td>2023-05-10 18:56:18.094 34 INFO nova.metadata....</td>\n",
              "      <td>1</td>\n",
              "    </tr>\n",
              "    <tr>\n",
              "      <th>2</th>\n",
              "      <td>2023-05-10 18:56:18.098 34 INFO nova.metadata....</td>\n",
              "      <td>1</td>\n",
              "    </tr>\n",
              "    <tr>\n",
              "      <th>3</th>\n",
              "      <td>2023-05-10 18:56:18.117 35 INFO nova.metadata....</td>\n",
              "      <td>1</td>\n",
              "    </tr>\n",
              "    <tr>\n",
              "      <th>4</th>\n",
              "      <td>2023-05-10 18:56:18.120 13 INFO nova.osapi_com...</td>\n",
              "      <td>1</td>\n",
              "    </tr>\n",
              "  </tbody>\n",
              "</table>\n",
              "</div>\n",
              "      <button class=\"colab-df-convert\" onclick=\"convertToInteractive('df-fb27d2af-d4aa-40cf-8abd-eb417b8a1c52')\"\n",
              "              title=\"Convert this dataframe to an interactive table.\"\n",
              "              style=\"display:none;\">\n",
              "        \n",
              "  <svg xmlns=\"http://www.w3.org/2000/svg\" height=\"24px\"viewBox=\"0 0 24 24\"\n",
              "       width=\"24px\">\n",
              "    <path d=\"M0 0h24v24H0V0z\" fill=\"none\"/>\n",
              "    <path d=\"M18.56 5.44l.94 2.06.94-2.06 2.06-.94-2.06-.94-.94-2.06-.94 2.06-2.06.94zm-11 1L8.5 8.5l.94-2.06 2.06-.94-2.06-.94L8.5 2.5l-.94 2.06-2.06.94zm10 10l.94 2.06.94-2.06 2.06-.94-2.06-.94-.94-2.06-.94 2.06-2.06.94z\"/><path d=\"M17.41 7.96l-1.37-1.37c-.4-.4-.92-.59-1.43-.59-.52 0-1.04.2-1.43.59L10.3 9.45l-7.72 7.72c-.78.78-.78 2.05 0 2.83L4 21.41c.39.39.9.59 1.41.59.51 0 1.02-.2 1.41-.59l7.78-7.78 2.81-2.81c.8-.78.8-2.07 0-2.86zM5.41 20L4 18.59l7.72-7.72 1.47 1.35L5.41 20z\"/>\n",
              "  </svg>\n",
              "      </button>\n",
              "      \n",
              "  <style>\n",
              "    .colab-df-container {\n",
              "      display:flex;\n",
              "      flex-wrap:wrap;\n",
              "      gap: 12px;\n",
              "    }\n",
              "\n",
              "    .colab-df-convert {\n",
              "      background-color: #E8F0FE;\n",
              "      border: none;\n",
              "      border-radius: 50%;\n",
              "      cursor: pointer;\n",
              "      display: none;\n",
              "      fill: #1967D2;\n",
              "      height: 32px;\n",
              "      padding: 0 0 0 0;\n",
              "      width: 32px;\n",
              "    }\n",
              "\n",
              "    .colab-df-convert:hover {\n",
              "      background-color: #E2EBFA;\n",
              "      box-shadow: 0px 1px 2px rgba(60, 64, 67, 0.3), 0px 1px 3px 1px rgba(60, 64, 67, 0.15);\n",
              "      fill: #174EA6;\n",
              "    }\n",
              "\n",
              "    [theme=dark] .colab-df-convert {\n",
              "      background-color: #3B4455;\n",
              "      fill: #D2E3FC;\n",
              "    }\n",
              "\n",
              "    [theme=dark] .colab-df-convert:hover {\n",
              "      background-color: #434B5C;\n",
              "      box-shadow: 0px 1px 3px 1px rgba(0, 0, 0, 0.15);\n",
              "      filter: drop-shadow(0px 1px 2px rgba(0, 0, 0, 0.3));\n",
              "      fill: #FFFFFF;\n",
              "    }\n",
              "  </style>\n",
              "\n",
              "      <script>\n",
              "        const buttonEl =\n",
              "          document.querySelector('#df-fb27d2af-d4aa-40cf-8abd-eb417b8a1c52 button.colab-df-convert');\n",
              "        buttonEl.style.display =\n",
              "          google.colab.kernel.accessAllowed ? 'block' : 'none';\n",
              "\n",
              "        async function convertToInteractive(key) {\n",
              "          const element = document.querySelector('#df-fb27d2af-d4aa-40cf-8abd-eb417b8a1c52');\n",
              "          const dataTable =\n",
              "            await google.colab.kernel.invokeFunction('convertToInteractive',\n",
              "                                                     [key], {});\n",
              "          if (!dataTable) return;\n",
              "\n",
              "          const docLinkHtml = 'Like what you see? Visit the ' +\n",
              "            '<a target=\"_blank\" href=https://colab.research.google.com/notebooks/data_table.ipynb>data table notebook</a>'\n",
              "            + ' to learn more about interactive tables.';\n",
              "          element.innerHTML = '';\n",
              "          dataTable['output_type'] = 'display_data';\n",
              "          await google.colab.output.renderOutput(dataTable, element);\n",
              "          const docLink = document.createElement('div');\n",
              "          docLink.innerHTML = docLinkHtml;\n",
              "          element.appendChild(docLink);\n",
              "        }\n",
              "      </script>\n",
              "    </div>\n",
              "  </div>\n",
              "  "
            ],
            "text/plain": [
              "                                             message  label\n",
              "0  2023-05-10 18:56:18.091 33 INFO nova.metadata....      1\n",
              "1  2023-05-10 18:56:18.094 34 INFO nova.metadata....      1\n",
              "2  2023-05-10 18:56:18.098 34 INFO nova.metadata....      1\n",
              "3  2023-05-10 18:56:18.117 35 INFO nova.metadata....      1\n",
              "4  2023-05-10 18:56:18.120 13 INFO nova.osapi_com...      1"
            ]
          },
          "execution_count": 4,
          "metadata": {},
          "output_type": "execute_result"
        }
      ],
      "source": [
        "df_outlier.head(5)"
      ]
    },
    {
      "cell_type": "code",
      "execution_count": null,
      "metadata": {
        "id": "qsrDGNMiXS-u"
      },
      "outputs": [],
      "source": [
        "true_labels = df_outlier.label"
      ]
    },
    {
      "cell_type": "code",
      "execution_count": null,
      "metadata": {
        "id": "_plJ3TWQXXpM"
      },
      "outputs": [],
      "source": [
        "x_val = df_outlier.drop(['label'], axis =1)"
      ]
    },
    {
      "cell_type": "code",
      "execution_count": null,
      "metadata": {
        "colab": {
          "base_uri": "https://localhost:8080/",
          "height": 206
        },
        "id": "Me4I9oWXXgvd",
        "outputId": "a72a800d-9d05-4e34-c4a7-13eb5498895a"
      },
      "outputs": [
        {
          "data": {
            "text/html": [
              "\n",
              "  <div id=\"df-6736b4c2-e24d-49b5-baae-af5ac5e9e28a\">\n",
              "    <div class=\"colab-df-container\">\n",
              "      <div>\n",
              "<style scoped>\n",
              "    .dataframe tbody tr th:only-of-type {\n",
              "        vertical-align: middle;\n",
              "    }\n",
              "\n",
              "    .dataframe tbody tr th {\n",
              "        vertical-align: top;\n",
              "    }\n",
              "\n",
              "    .dataframe thead th {\n",
              "        text-align: right;\n",
              "    }\n",
              "</style>\n",
              "<table border=\"1\" class=\"dataframe\">\n",
              "  <thead>\n",
              "    <tr style=\"text-align: right;\">\n",
              "      <th></th>\n",
              "      <th>message</th>\n",
              "    </tr>\n",
              "  </thead>\n",
              "  <tbody>\n",
              "    <tr>\n",
              "      <th>0</th>\n",
              "      <td>2023-05-10 18:56:18.091 33 INFO nova.metadata....</td>\n",
              "    </tr>\n",
              "    <tr>\n",
              "      <th>1</th>\n",
              "      <td>2023-05-10 18:56:18.094 34 INFO nova.metadata....</td>\n",
              "    </tr>\n",
              "    <tr>\n",
              "      <th>2</th>\n",
              "      <td>2023-05-10 18:56:18.098 34 INFO nova.metadata....</td>\n",
              "    </tr>\n",
              "    <tr>\n",
              "      <th>3</th>\n",
              "      <td>2023-05-10 18:56:18.117 35 INFO nova.metadata....</td>\n",
              "    </tr>\n",
              "    <tr>\n",
              "      <th>4</th>\n",
              "      <td>2023-05-10 18:56:18.120 13 INFO nova.osapi_com...</td>\n",
              "    </tr>\n",
              "  </tbody>\n",
              "</table>\n",
              "</div>\n",
              "      <button class=\"colab-df-convert\" onclick=\"convertToInteractive('df-6736b4c2-e24d-49b5-baae-af5ac5e9e28a')\"\n",
              "              title=\"Convert this dataframe to an interactive table.\"\n",
              "              style=\"display:none;\">\n",
              "        \n",
              "  <svg xmlns=\"http://www.w3.org/2000/svg\" height=\"24px\"viewBox=\"0 0 24 24\"\n",
              "       width=\"24px\">\n",
              "    <path d=\"M0 0h24v24H0V0z\" fill=\"none\"/>\n",
              "    <path d=\"M18.56 5.44l.94 2.06.94-2.06 2.06-.94-2.06-.94-.94-2.06-.94 2.06-2.06.94zm-11 1L8.5 8.5l.94-2.06 2.06-.94-2.06-.94L8.5 2.5l-.94 2.06-2.06.94zm10 10l.94 2.06.94-2.06 2.06-.94-2.06-.94-.94-2.06-.94 2.06-2.06.94z\"/><path d=\"M17.41 7.96l-1.37-1.37c-.4-.4-.92-.59-1.43-.59-.52 0-1.04.2-1.43.59L10.3 9.45l-7.72 7.72c-.78.78-.78 2.05 0 2.83L4 21.41c.39.39.9.59 1.41.59.51 0 1.02-.2 1.41-.59l7.78-7.78 2.81-2.81c.8-.78.8-2.07 0-2.86zM5.41 20L4 18.59l7.72-7.72 1.47 1.35L5.41 20z\"/>\n",
              "  </svg>\n",
              "      </button>\n",
              "      \n",
              "  <style>\n",
              "    .colab-df-container {\n",
              "      display:flex;\n",
              "      flex-wrap:wrap;\n",
              "      gap: 12px;\n",
              "    }\n",
              "\n",
              "    .colab-df-convert {\n",
              "      background-color: #E8F0FE;\n",
              "      border: none;\n",
              "      border-radius: 50%;\n",
              "      cursor: pointer;\n",
              "      display: none;\n",
              "      fill: #1967D2;\n",
              "      height: 32px;\n",
              "      padding: 0 0 0 0;\n",
              "      width: 32px;\n",
              "    }\n",
              "\n",
              "    .colab-df-convert:hover {\n",
              "      background-color: #E2EBFA;\n",
              "      box-shadow: 0px 1px 2px rgba(60, 64, 67, 0.3), 0px 1px 3px 1px rgba(60, 64, 67, 0.15);\n",
              "      fill: #174EA6;\n",
              "    }\n",
              "\n",
              "    [theme=dark] .colab-df-convert {\n",
              "      background-color: #3B4455;\n",
              "      fill: #D2E3FC;\n",
              "    }\n",
              "\n",
              "    [theme=dark] .colab-df-convert:hover {\n",
              "      background-color: #434B5C;\n",
              "      box-shadow: 0px 1px 3px 1px rgba(0, 0, 0, 0.15);\n",
              "      filter: drop-shadow(0px 1px 2px rgba(0, 0, 0, 0.3));\n",
              "      fill: #FFFFFF;\n",
              "    }\n",
              "  </style>\n",
              "\n",
              "      <script>\n",
              "        const buttonEl =\n",
              "          document.querySelector('#df-6736b4c2-e24d-49b5-baae-af5ac5e9e28a button.colab-df-convert');\n",
              "        buttonEl.style.display =\n",
              "          google.colab.kernel.accessAllowed ? 'block' : 'none';\n",
              "\n",
              "        async function convertToInteractive(key) {\n",
              "          const element = document.querySelector('#df-6736b4c2-e24d-49b5-baae-af5ac5e9e28a');\n",
              "          const dataTable =\n",
              "            await google.colab.kernel.invokeFunction('convertToInteractive',\n",
              "                                                     [key], {});\n",
              "          if (!dataTable) return;\n",
              "\n",
              "          const docLinkHtml = 'Like what you see? Visit the ' +\n",
              "            '<a target=\"_blank\" href=https://colab.research.google.com/notebooks/data_table.ipynb>data table notebook</a>'\n",
              "            + ' to learn more about interactive tables.';\n",
              "          element.innerHTML = '';\n",
              "          dataTable['output_type'] = 'display_data';\n",
              "          await google.colab.output.renderOutput(dataTable, element);\n",
              "          const docLink = document.createElement('div');\n",
              "          docLink.innerHTML = docLinkHtml;\n",
              "          element.appendChild(docLink);\n",
              "        }\n",
              "      </script>\n",
              "    </div>\n",
              "  </div>\n",
              "  "
            ],
            "text/plain": [
              "                                             message\n",
              "0  2023-05-10 18:56:18.091 33 INFO nova.metadata....\n",
              "1  2023-05-10 18:56:18.094 34 INFO nova.metadata....\n",
              "2  2023-05-10 18:56:18.098 34 INFO nova.metadata....\n",
              "3  2023-05-10 18:56:18.117 35 INFO nova.metadata....\n",
              "4  2023-05-10 18:56:18.120 13 INFO nova.osapi_com..."
            ]
          },
          "execution_count": 40,
          "metadata": {},
          "output_type": "execute_result"
        }
      ],
      "source": [
        "x_val.head(5)"
      ]
    },
    {
      "cell_type": "code",
      "execution_count": null,
      "metadata": {
        "id": "iFBtWHG68j7I"
      },
      "outputs": [],
      "source": [
        "df_validate = pd.read_csv('/content/drive/MyDrive/thesis/val/raw_val.csv', sep=',')"
      ]
    },
    {
      "cell_type": "markdown",
      "metadata": {
        "id": "wwSzUAPJEj7h"
      },
      "source": [
        "CV+IForest"
      ]
    },
    {
      "cell_type": "code",
      "execution_count": null,
      "metadata": {
        "id": "YeQzJZMAEm5Q"
      },
      "outputs": [],
      "source": [
        "df_cv = pd.read_csv('/content/drive/MyDrive/thesis/train/cv_scaled.csv', sep=',')\n",
        "x_out_cv = pd.read_csv('/content/drive/MyDrive/thesis/val/val-cv_out.csv', sep=',')"
      ]
    },
    {
      "cell_type": "code",
      "execution_count": null,
      "metadata": {
        "id": "Dl1hwlUNWb2D"
      },
      "outputs": [],
      "source": [
        "x_out_val = pd.DataFrame(x_out_cv)"
      ]
    },
    {
      "cell_type": "code",
      "execution_count": null,
      "metadata": {
        "colab": {
          "base_uri": "https://localhost:8080/",
          "height": 236
        },
        "id": "10EEZ8cIWiqS",
        "outputId": "dcf0b600-d2d2-4780-f40c-7c1937ebc3b1"
      },
      "outputs": [
        {
          "data": {
            "text/html": [
              "\n",
              "  <div id=\"df-212acf8f-e474-418b-b0b8-f1ac6755905a\">\n",
              "    <div class=\"colab-df-container\">\n",
              "      <div>\n",
              "<style scoped>\n",
              "    .dataframe tbody tr th:only-of-type {\n",
              "        vertical-align: middle;\n",
              "    }\n",
              "\n",
              "    .dataframe tbody tr th {\n",
              "        vertical-align: top;\n",
              "    }\n",
              "\n",
              "    .dataframe thead th {\n",
              "        text-align: right;\n",
              "    }\n",
              "</style>\n",
              "<table border=\"1\" class=\"dataframe\">\n",
              "  <thead>\n",
              "    <tr style=\"text-align: right;\">\n",
              "      <th></th>\n",
              "      <th>0</th>\n",
              "      <th>1</th>\n",
              "      <th>2</th>\n",
              "      <th>3</th>\n",
              "      <th>4</th>\n",
              "      <th>5</th>\n",
              "      <th>6</th>\n",
              "      <th>7</th>\n",
              "      <th>8</th>\n",
              "      <th>9</th>\n",
              "      <th>...</th>\n",
              "      <th>508</th>\n",
              "      <th>509</th>\n",
              "      <th>510</th>\n",
              "      <th>511</th>\n",
              "      <th>512</th>\n",
              "      <th>513</th>\n",
              "      <th>514</th>\n",
              "      <th>515</th>\n",
              "      <th>516</th>\n",
              "      <th>517</th>\n",
              "    </tr>\n",
              "  </thead>\n",
              "  <tbody>\n",
              "    <tr>\n",
              "      <th>0</th>\n",
              "      <td>0.0</td>\n",
              "      <td>0.0</td>\n",
              "      <td>0.0</td>\n",
              "      <td>0.0</td>\n",
              "      <td>0.0</td>\n",
              "      <td>0.0</td>\n",
              "      <td>0.0</td>\n",
              "      <td>0.0</td>\n",
              "      <td>0.0</td>\n",
              "      <td>0.0</td>\n",
              "      <td>...</td>\n",
              "      <td>0.0</td>\n",
              "      <td>0.0</td>\n",
              "      <td>0.0</td>\n",
              "      <td>0.0</td>\n",
              "      <td>0.0</td>\n",
              "      <td>0.0</td>\n",
              "      <td>0.0</td>\n",
              "      <td>0.0</td>\n",
              "      <td>0.007299</td>\n",
              "      <td>0.0</td>\n",
              "    </tr>\n",
              "    <tr>\n",
              "      <th>1</th>\n",
              "      <td>0.0</td>\n",
              "      <td>0.0</td>\n",
              "      <td>0.0</td>\n",
              "      <td>0.0</td>\n",
              "      <td>0.0</td>\n",
              "      <td>0.0</td>\n",
              "      <td>0.0</td>\n",
              "      <td>0.0</td>\n",
              "      <td>0.0</td>\n",
              "      <td>0.0</td>\n",
              "      <td>...</td>\n",
              "      <td>0.0</td>\n",
              "      <td>0.0</td>\n",
              "      <td>0.0</td>\n",
              "      <td>0.0</td>\n",
              "      <td>0.0</td>\n",
              "      <td>0.0</td>\n",
              "      <td>0.0</td>\n",
              "      <td>0.0</td>\n",
              "      <td>0.007299</td>\n",
              "      <td>0.0</td>\n",
              "    </tr>\n",
              "    <tr>\n",
              "      <th>2</th>\n",
              "      <td>0.0</td>\n",
              "      <td>0.0</td>\n",
              "      <td>0.0</td>\n",
              "      <td>0.0</td>\n",
              "      <td>0.0</td>\n",
              "      <td>0.0</td>\n",
              "      <td>0.0</td>\n",
              "      <td>0.0</td>\n",
              "      <td>0.0</td>\n",
              "      <td>0.0</td>\n",
              "      <td>...</td>\n",
              "      <td>0.0</td>\n",
              "      <td>0.0</td>\n",
              "      <td>0.0</td>\n",
              "      <td>0.0</td>\n",
              "      <td>0.0</td>\n",
              "      <td>0.0</td>\n",
              "      <td>0.0</td>\n",
              "      <td>0.0</td>\n",
              "      <td>0.007299</td>\n",
              "      <td>0.0</td>\n",
              "    </tr>\n",
              "    <tr>\n",
              "      <th>3</th>\n",
              "      <td>0.0</td>\n",
              "      <td>0.0</td>\n",
              "      <td>0.0</td>\n",
              "      <td>0.0</td>\n",
              "      <td>0.0</td>\n",
              "      <td>0.0</td>\n",
              "      <td>0.0</td>\n",
              "      <td>0.0</td>\n",
              "      <td>0.0</td>\n",
              "      <td>0.0</td>\n",
              "      <td>...</td>\n",
              "      <td>0.0</td>\n",
              "      <td>0.0</td>\n",
              "      <td>0.0</td>\n",
              "      <td>0.0</td>\n",
              "      <td>0.0</td>\n",
              "      <td>0.0</td>\n",
              "      <td>0.0</td>\n",
              "      <td>0.0</td>\n",
              "      <td>0.007299</td>\n",
              "      <td>0.0</td>\n",
              "    </tr>\n",
              "    <tr>\n",
              "      <th>4</th>\n",
              "      <td>0.0</td>\n",
              "      <td>0.0</td>\n",
              "      <td>0.0</td>\n",
              "      <td>0.0</td>\n",
              "      <td>0.0</td>\n",
              "      <td>0.0</td>\n",
              "      <td>0.0</td>\n",
              "      <td>0.0</td>\n",
              "      <td>0.0</td>\n",
              "      <td>0.0</td>\n",
              "      <td>...</td>\n",
              "      <td>0.0</td>\n",
              "      <td>0.0</td>\n",
              "      <td>0.0</td>\n",
              "      <td>0.0</td>\n",
              "      <td>0.0</td>\n",
              "      <td>0.0</td>\n",
              "      <td>0.0</td>\n",
              "      <td>0.0</td>\n",
              "      <td>0.007299</td>\n",
              "      <td>0.0</td>\n",
              "    </tr>\n",
              "  </tbody>\n",
              "</table>\n",
              "<p>5 rows × 518 columns</p>\n",
              "</div>\n",
              "      <button class=\"colab-df-convert\" onclick=\"convertToInteractive('df-212acf8f-e474-418b-b0b8-f1ac6755905a')\"\n",
              "              title=\"Convert this dataframe to an interactive table.\"\n",
              "              style=\"display:none;\">\n",
              "        \n",
              "  <svg xmlns=\"http://www.w3.org/2000/svg\" height=\"24px\"viewBox=\"0 0 24 24\"\n",
              "       width=\"24px\">\n",
              "    <path d=\"M0 0h24v24H0V0z\" fill=\"none\"/>\n",
              "    <path d=\"M18.56 5.44l.94 2.06.94-2.06 2.06-.94-2.06-.94-.94-2.06-.94 2.06-2.06.94zm-11 1L8.5 8.5l.94-2.06 2.06-.94-2.06-.94L8.5 2.5l-.94 2.06-2.06.94zm10 10l.94 2.06.94-2.06 2.06-.94-2.06-.94-.94-2.06-.94 2.06-2.06.94z\"/><path d=\"M17.41 7.96l-1.37-1.37c-.4-.4-.92-.59-1.43-.59-.52 0-1.04.2-1.43.59L10.3 9.45l-7.72 7.72c-.78.78-.78 2.05 0 2.83L4 21.41c.39.39.9.59 1.41.59.51 0 1.02-.2 1.41-.59l7.78-7.78 2.81-2.81c.8-.78.8-2.07 0-2.86zM5.41 20L4 18.59l7.72-7.72 1.47 1.35L5.41 20z\"/>\n",
              "  </svg>\n",
              "      </button>\n",
              "      \n",
              "  <style>\n",
              "    .colab-df-container {\n",
              "      display:flex;\n",
              "      flex-wrap:wrap;\n",
              "      gap: 12px;\n",
              "    }\n",
              "\n",
              "    .colab-df-convert {\n",
              "      background-color: #E8F0FE;\n",
              "      border: none;\n",
              "      border-radius: 50%;\n",
              "      cursor: pointer;\n",
              "      display: none;\n",
              "      fill: #1967D2;\n",
              "      height: 32px;\n",
              "      padding: 0 0 0 0;\n",
              "      width: 32px;\n",
              "    }\n",
              "\n",
              "    .colab-df-convert:hover {\n",
              "      background-color: #E2EBFA;\n",
              "      box-shadow: 0px 1px 2px rgba(60, 64, 67, 0.3), 0px 1px 3px 1px rgba(60, 64, 67, 0.15);\n",
              "      fill: #174EA6;\n",
              "    }\n",
              "\n",
              "    [theme=dark] .colab-df-convert {\n",
              "      background-color: #3B4455;\n",
              "      fill: #D2E3FC;\n",
              "    }\n",
              "\n",
              "    [theme=dark] .colab-df-convert:hover {\n",
              "      background-color: #434B5C;\n",
              "      box-shadow: 0px 1px 3px 1px rgba(0, 0, 0, 0.15);\n",
              "      filter: drop-shadow(0px 1px 2px rgba(0, 0, 0, 0.3));\n",
              "      fill: #FFFFFF;\n",
              "    }\n",
              "  </style>\n",
              "\n",
              "      <script>\n",
              "        const buttonEl =\n",
              "          document.querySelector('#df-212acf8f-e474-418b-b0b8-f1ac6755905a button.colab-df-convert');\n",
              "        buttonEl.style.display =\n",
              "          google.colab.kernel.accessAllowed ? 'block' : 'none';\n",
              "\n",
              "        async function convertToInteractive(key) {\n",
              "          const element = document.querySelector('#df-212acf8f-e474-418b-b0b8-f1ac6755905a');\n",
              "          const dataTable =\n",
              "            await google.colab.kernel.invokeFunction('convertToInteractive',\n",
              "                                                     [key], {});\n",
              "          if (!dataTable) return;\n",
              "\n",
              "          const docLinkHtml = 'Like what you see? Visit the ' +\n",
              "            '<a target=\"_blank\" href=https://colab.research.google.com/notebooks/data_table.ipynb>data table notebook</a>'\n",
              "            + ' to learn more about interactive tables.';\n",
              "          element.innerHTML = '';\n",
              "          dataTable['output_type'] = 'display_data';\n",
              "          await google.colab.output.renderOutput(dataTable, element);\n",
              "          const docLink = document.createElement('div');\n",
              "          docLink.innerHTML = docLinkHtml;\n",
              "          element.appendChild(docLink);\n",
              "        }\n",
              "      </script>\n",
              "    </div>\n",
              "  </div>\n",
              "  "
            ],
            "text/plain": [
              "   0    1    2    3    4    5    6    7    8    9    ...  508  509  510  511  \\\n",
              "0  0.0  0.0  0.0  0.0  0.0  0.0  0.0  0.0  0.0  0.0  ...  0.0  0.0  0.0  0.0   \n",
              "1  0.0  0.0  0.0  0.0  0.0  0.0  0.0  0.0  0.0  0.0  ...  0.0  0.0  0.0  0.0   \n",
              "2  0.0  0.0  0.0  0.0  0.0  0.0  0.0  0.0  0.0  0.0  ...  0.0  0.0  0.0  0.0   \n",
              "3  0.0  0.0  0.0  0.0  0.0  0.0  0.0  0.0  0.0  0.0  ...  0.0  0.0  0.0  0.0   \n",
              "4  0.0  0.0  0.0  0.0  0.0  0.0  0.0  0.0  0.0  0.0  ...  0.0  0.0  0.0  0.0   \n",
              "\n",
              "   512  513  514  515       516  517  \n",
              "0  0.0  0.0  0.0  0.0  0.007299  0.0  \n",
              "1  0.0  0.0  0.0  0.0  0.007299  0.0  \n",
              "2  0.0  0.0  0.0  0.0  0.007299  0.0  \n",
              "3  0.0  0.0  0.0  0.0  0.007299  0.0  \n",
              "4  0.0  0.0  0.0  0.0  0.007299  0.0  \n",
              "\n",
              "[5 rows x 518 columns]"
            ]
          },
          "execution_count": 33,
          "metadata": {},
          "output_type": "execute_result"
        }
      ],
      "source": [
        "x_out_val.head(5)"
      ]
    },
    {
      "cell_type": "code",
      "execution_count": null,
      "metadata": {
        "colab": {
          "base_uri": "https://localhost:8080/",
          "height": 236
        },
        "id": "jec_U67yEnvR",
        "outputId": "8658bfac-c564-4c1d-b8a8-e71cd1c5f107"
      },
      "outputs": [
        {
          "data": {
            "text/html": [
              "\n",
              "  <div id=\"df-5bff10fc-b532-4108-b819-0cff9492ca58\">\n",
              "    <div class=\"colab-df-container\">\n",
              "      <div>\n",
              "<style scoped>\n",
              "    .dataframe tbody tr th:only-of-type {\n",
              "        vertical-align: middle;\n",
              "    }\n",
              "\n",
              "    .dataframe tbody tr th {\n",
              "        vertical-align: top;\n",
              "    }\n",
              "\n",
              "    .dataframe thead th {\n",
              "        text-align: right;\n",
              "    }\n",
              "</style>\n",
              "<table border=\"1\" class=\"dataframe\">\n",
              "  <thead>\n",
              "    <tr style=\"text-align: right;\">\n",
              "      <th></th>\n",
              "      <th>0</th>\n",
              "      <th>1</th>\n",
              "      <th>2</th>\n",
              "      <th>3</th>\n",
              "      <th>4</th>\n",
              "      <th>5</th>\n",
              "      <th>6</th>\n",
              "      <th>7</th>\n",
              "      <th>8</th>\n",
              "      <th>9</th>\n",
              "      <th>...</th>\n",
              "      <th>508</th>\n",
              "      <th>509</th>\n",
              "      <th>510</th>\n",
              "      <th>511</th>\n",
              "      <th>512</th>\n",
              "      <th>513</th>\n",
              "      <th>514</th>\n",
              "      <th>515</th>\n",
              "      <th>516</th>\n",
              "      <th>517</th>\n",
              "    </tr>\n",
              "  </thead>\n",
              "  <tbody>\n",
              "    <tr>\n",
              "      <th>0</th>\n",
              "      <td>0.0</td>\n",
              "      <td>0.0</td>\n",
              "      <td>0.0</td>\n",
              "      <td>0.0</td>\n",
              "      <td>0.0</td>\n",
              "      <td>0.0</td>\n",
              "      <td>0.0</td>\n",
              "      <td>0.0</td>\n",
              "      <td>0.0</td>\n",
              "      <td>0.0</td>\n",
              "      <td>...</td>\n",
              "      <td>0.0</td>\n",
              "      <td>0.0</td>\n",
              "      <td>0.0</td>\n",
              "      <td>0.0</td>\n",
              "      <td>0.0</td>\n",
              "      <td>0.0</td>\n",
              "      <td>0.0</td>\n",
              "      <td>0.0</td>\n",
              "      <td>0.007299</td>\n",
              "      <td>0.0</td>\n",
              "    </tr>\n",
              "    <tr>\n",
              "      <th>1</th>\n",
              "      <td>0.0</td>\n",
              "      <td>0.0</td>\n",
              "      <td>0.0</td>\n",
              "      <td>0.0</td>\n",
              "      <td>0.0</td>\n",
              "      <td>0.0</td>\n",
              "      <td>0.0</td>\n",
              "      <td>0.0</td>\n",
              "      <td>0.0</td>\n",
              "      <td>0.0</td>\n",
              "      <td>...</td>\n",
              "      <td>0.0</td>\n",
              "      <td>0.0</td>\n",
              "      <td>0.0</td>\n",
              "      <td>0.0</td>\n",
              "      <td>0.0</td>\n",
              "      <td>0.0</td>\n",
              "      <td>0.0</td>\n",
              "      <td>0.0</td>\n",
              "      <td>0.007299</td>\n",
              "      <td>0.0</td>\n",
              "    </tr>\n",
              "    <tr>\n",
              "      <th>2</th>\n",
              "      <td>0.0</td>\n",
              "      <td>0.0</td>\n",
              "      <td>0.0</td>\n",
              "      <td>0.0</td>\n",
              "      <td>0.0</td>\n",
              "      <td>0.0</td>\n",
              "      <td>0.0</td>\n",
              "      <td>0.0</td>\n",
              "      <td>0.0</td>\n",
              "      <td>0.0</td>\n",
              "      <td>...</td>\n",
              "      <td>0.0</td>\n",
              "      <td>0.0</td>\n",
              "      <td>0.0</td>\n",
              "      <td>0.0</td>\n",
              "      <td>0.0</td>\n",
              "      <td>0.0</td>\n",
              "      <td>0.0</td>\n",
              "      <td>0.0</td>\n",
              "      <td>0.007299</td>\n",
              "      <td>0.0</td>\n",
              "    </tr>\n",
              "    <tr>\n",
              "      <th>3</th>\n",
              "      <td>0.0</td>\n",
              "      <td>0.0</td>\n",
              "      <td>0.0</td>\n",
              "      <td>0.0</td>\n",
              "      <td>0.0</td>\n",
              "      <td>0.0</td>\n",
              "      <td>0.0</td>\n",
              "      <td>0.0</td>\n",
              "      <td>0.0</td>\n",
              "      <td>0.0</td>\n",
              "      <td>...</td>\n",
              "      <td>0.0</td>\n",
              "      <td>0.0</td>\n",
              "      <td>0.0</td>\n",
              "      <td>0.0</td>\n",
              "      <td>0.0</td>\n",
              "      <td>0.0</td>\n",
              "      <td>0.0</td>\n",
              "      <td>0.0</td>\n",
              "      <td>0.007299</td>\n",
              "      <td>0.0</td>\n",
              "    </tr>\n",
              "    <tr>\n",
              "      <th>4</th>\n",
              "      <td>0.0</td>\n",
              "      <td>0.0</td>\n",
              "      <td>0.0</td>\n",
              "      <td>0.0</td>\n",
              "      <td>0.0</td>\n",
              "      <td>0.0</td>\n",
              "      <td>0.0</td>\n",
              "      <td>0.0</td>\n",
              "      <td>0.0</td>\n",
              "      <td>0.0</td>\n",
              "      <td>...</td>\n",
              "      <td>0.0</td>\n",
              "      <td>0.0</td>\n",
              "      <td>0.0</td>\n",
              "      <td>0.0</td>\n",
              "      <td>0.0</td>\n",
              "      <td>0.0</td>\n",
              "      <td>0.0</td>\n",
              "      <td>0.0</td>\n",
              "      <td>0.007299</td>\n",
              "      <td>0.0</td>\n",
              "    </tr>\n",
              "  </tbody>\n",
              "</table>\n",
              "<p>5 rows × 518 columns</p>\n",
              "</div>\n",
              "      <button class=\"colab-df-convert\" onclick=\"convertToInteractive('df-5bff10fc-b532-4108-b819-0cff9492ca58')\"\n",
              "              title=\"Convert this dataframe to an interactive table.\"\n",
              "              style=\"display:none;\">\n",
              "        \n",
              "  <svg xmlns=\"http://www.w3.org/2000/svg\" height=\"24px\"viewBox=\"0 0 24 24\"\n",
              "       width=\"24px\">\n",
              "    <path d=\"M0 0h24v24H0V0z\" fill=\"none\"/>\n",
              "    <path d=\"M18.56 5.44l.94 2.06.94-2.06 2.06-.94-2.06-.94-.94-2.06-.94 2.06-2.06.94zm-11 1L8.5 8.5l.94-2.06 2.06-.94-2.06-.94L8.5 2.5l-.94 2.06-2.06.94zm10 10l.94 2.06.94-2.06 2.06-.94-2.06-.94-.94-2.06-.94 2.06-2.06.94z\"/><path d=\"M17.41 7.96l-1.37-1.37c-.4-.4-.92-.59-1.43-.59-.52 0-1.04.2-1.43.59L10.3 9.45l-7.72 7.72c-.78.78-.78 2.05 0 2.83L4 21.41c.39.39.9.59 1.41.59.51 0 1.02-.2 1.41-.59l7.78-7.78 2.81-2.81c.8-.78.8-2.07 0-2.86zM5.41 20L4 18.59l7.72-7.72 1.47 1.35L5.41 20z\"/>\n",
              "  </svg>\n",
              "      </button>\n",
              "      \n",
              "  <style>\n",
              "    .colab-df-container {\n",
              "      display:flex;\n",
              "      flex-wrap:wrap;\n",
              "      gap: 12px;\n",
              "    }\n",
              "\n",
              "    .colab-df-convert {\n",
              "      background-color: #E8F0FE;\n",
              "      border: none;\n",
              "      border-radius: 50%;\n",
              "      cursor: pointer;\n",
              "      display: none;\n",
              "      fill: #1967D2;\n",
              "      height: 32px;\n",
              "      padding: 0 0 0 0;\n",
              "      width: 32px;\n",
              "    }\n",
              "\n",
              "    .colab-df-convert:hover {\n",
              "      background-color: #E2EBFA;\n",
              "      box-shadow: 0px 1px 2px rgba(60, 64, 67, 0.3), 0px 1px 3px 1px rgba(60, 64, 67, 0.15);\n",
              "      fill: #174EA6;\n",
              "    }\n",
              "\n",
              "    [theme=dark] .colab-df-convert {\n",
              "      background-color: #3B4455;\n",
              "      fill: #D2E3FC;\n",
              "    }\n",
              "\n",
              "    [theme=dark] .colab-df-convert:hover {\n",
              "      background-color: #434B5C;\n",
              "      box-shadow: 0px 1px 3px 1px rgba(0, 0, 0, 0.15);\n",
              "      filter: drop-shadow(0px 1px 2px rgba(0, 0, 0, 0.3));\n",
              "      fill: #FFFFFF;\n",
              "    }\n",
              "  </style>\n",
              "\n",
              "      <script>\n",
              "        const buttonEl =\n",
              "          document.querySelector('#df-5bff10fc-b532-4108-b819-0cff9492ca58 button.colab-df-convert');\n",
              "        buttonEl.style.display =\n",
              "          google.colab.kernel.accessAllowed ? 'block' : 'none';\n",
              "\n",
              "        async function convertToInteractive(key) {\n",
              "          const element = document.querySelector('#df-5bff10fc-b532-4108-b819-0cff9492ca58');\n",
              "          const dataTable =\n",
              "            await google.colab.kernel.invokeFunction('convertToInteractive',\n",
              "                                                     [key], {});\n",
              "          if (!dataTable) return;\n",
              "\n",
              "          const docLinkHtml = 'Like what you see? Visit the ' +\n",
              "            '<a target=\"_blank\" href=https://colab.research.google.com/notebooks/data_table.ipynb>data table notebook</a>'\n",
              "            + ' to learn more about interactive tables.';\n",
              "          element.innerHTML = '';\n",
              "          dataTable['output_type'] = 'display_data';\n",
              "          await google.colab.output.renderOutput(dataTable, element);\n",
              "          const docLink = document.createElement('div');\n",
              "          docLink.innerHTML = docLinkHtml;\n",
              "          element.appendChild(docLink);\n",
              "        }\n",
              "      </script>\n",
              "    </div>\n",
              "  </div>\n",
              "  "
            ],
            "text/plain": [
              "     0    1    2    3    4    5    6    7    8    9  ...  508  509  510  511  \\\n",
              "0  0.0  0.0  0.0  0.0  0.0  0.0  0.0  0.0  0.0  0.0  ...  0.0  0.0  0.0  0.0   \n",
              "1  0.0  0.0  0.0  0.0  0.0  0.0  0.0  0.0  0.0  0.0  ...  0.0  0.0  0.0  0.0   \n",
              "2  0.0  0.0  0.0  0.0  0.0  0.0  0.0  0.0  0.0  0.0  ...  0.0  0.0  0.0  0.0   \n",
              "3  0.0  0.0  0.0  0.0  0.0  0.0  0.0  0.0  0.0  0.0  ...  0.0  0.0  0.0  0.0   \n",
              "4  0.0  0.0  0.0  0.0  0.0  0.0  0.0  0.0  0.0  0.0  ...  0.0  0.0  0.0  0.0   \n",
              "\n",
              "   512  513  514  515       516  517  \n",
              "0  0.0  0.0  0.0  0.0  0.007299  0.0  \n",
              "1  0.0  0.0  0.0  0.0  0.007299  0.0  \n",
              "2  0.0  0.0  0.0  0.0  0.007299  0.0  \n",
              "3  0.0  0.0  0.0  0.0  0.007299  0.0  \n",
              "4  0.0  0.0  0.0  0.0  0.007299  0.0  \n",
              "\n",
              "[5 rows x 518 columns]"
            ]
          },
          "execution_count": 6,
          "metadata": {},
          "output_type": "execute_result"
        }
      ],
      "source": [
        "df_cv.head(5)"
      ]
    },
    {
      "cell_type": "code",
      "execution_count": null,
      "metadata": {
        "id": "VqiUo1xfEqn-"
      },
      "outputs": [],
      "source": [
        "from sklearn.preprocessing import MinMaxScaler\n",
        "\n",
        "mm_scaler = MinMaxScaler()\n",
        "x_scaled_cv = mm_scaler.fit_transform(df_cv)"
      ]
    },
    {
      "cell_type": "code",
      "execution_count": null,
      "metadata": {
        "id": "OhOq8rU2Etwi"
      },
      "outputs": [],
      "source": [
        "x_out_cv = mm_scaler.transform(x_out_cv)"
      ]
    },
    {
      "cell_type": "code",
      "execution_count": null,
      "metadata": {
        "colab": {
          "base_uri": "https://localhost:8080/"
        },
        "id": "6uDLYNKyEvoN",
        "outputId": "29e8d048-8d25-488f-89b4-d57abcdc68ce"
      },
      "outputs": [
        {
          "data": {
            "text/plain": [
              "306302.7"
            ]
          },
          "execution_count": 9,
          "metadata": {},
          "output_type": "execute_result"
        }
      ],
      "source": [
        "split_len = 0.3 * len(df_cv)\n",
        "split_len"
      ]
    },
    {
      "cell_type": "code",
      "execution_count": null,
      "metadata": {
        "id": "qRZUWfXYExOu"
      },
      "outputs": [],
      "source": [
        "test = df_cv[:int(split_len)]\n",
        "train = df_cv[int(split_len):]"
      ]
    },
    {
      "cell_type": "code",
      "execution_count": null,
      "metadata": {
        "id": "_X3Nx_-hQAIa"
      },
      "outputs": [],
      "source": []
    },
    {
      "cell_type": "markdown",
      "metadata": {
        "id": "-wl3KiwtQB2z"
      },
      "source": [
        "LSTM"
      ]
    },
    {
      "cell_type": "code",
      "execution_count": null,
      "metadata": {
        "id": "9hPbtTv0QC9L"
      },
      "outputs": [],
      "source": [
        "x_train = train.values.reshape(train.shape[0], 1, train.shape[1])\n",
        "x_test = test.values.reshape(test.shape[0], 1,train.shape[1])\n"
      ]
    },
    {
      "cell_type": "code",
      "execution_count": null,
      "metadata": {
        "id": "8vg43FfGSWN6"
      },
      "outputs": [],
      "source": [
        "x_out = x_out_cv.reshape(x_out_cv.shape[0], 1,x_out_cv.shape[1])"
      ]
    },
    {
      "cell_type": "code",
      "execution_count": null,
      "metadata": {
        "id": "bwpO60WpQzSo"
      },
      "outputs": [],
      "source": [
        "#define the model\n",
        "\n",
        "def autoencoder_model(X):\n",
        "\n",
        "  inputs = Input(shape=(X.shape[1], X.shape[2]))\n",
        "  L1 = Bidirectional(LSTM(128, activation='relu', return_sequences=True,\n",
        "              kernel_regularizer=regularizers.l2(0.00)))(inputs)\n",
        "  L2 = Bidirectional(LSTM(64, activation='relu', return_sequences=False))(L1)\n",
        "  L3 = RepeatVector(X.shape[1])(L2)\n",
        "  L4 = Bidirectional(LSTM(64, activation='relu', return_sequences=True))(L3)\n",
        "  L5 = Bidirectional(LSTM(128, activation='relu', return_sequences=True))(L4)\n",
        "  output = TimeDistributed(Dense(X.shape[2]))(L5)\n",
        "  model = Model(inputs=inputs, outputs=output)\n",
        "  return model\n"
      ]
    },
    {
      "cell_type": "code",
      "execution_count": null,
      "metadata": {
        "colab": {
          "base_uri": "https://localhost:8080/"
        },
        "id": "Qu2LeMyQQ3bf",
        "outputId": "673707e3-f410-4889-ae3c-db8bec1ade30"
      },
      "outputs": [
        {
          "name": "stderr",
          "output_type": "stream",
          "text": [
            "WARNING:tensorflow:Layer lstm will not use cuDNN kernels since it doesn't meet the criteria. It will use a generic GPU kernel as fallback when running on GPU.\n",
            "WARNING:tensorflow:Layer lstm will not use cuDNN kernels since it doesn't meet the criteria. It will use a generic GPU kernel as fallback when running on GPU.\n",
            "WARNING:tensorflow:Layer lstm will not use cuDNN kernels since it doesn't meet the criteria. It will use a generic GPU kernel as fallback when running on GPU.\n",
            "WARNING:tensorflow:Layer lstm_1 will not use cuDNN kernels since it doesn't meet the criteria. It will use a generic GPU kernel as fallback when running on GPU.\n",
            "WARNING:tensorflow:Layer lstm_1 will not use cuDNN kernels since it doesn't meet the criteria. It will use a generic GPU kernel as fallback when running on GPU.\n",
            "WARNING:tensorflow:Layer lstm_1 will not use cuDNN kernels since it doesn't meet the criteria. It will use a generic GPU kernel as fallback when running on GPU.\n",
            "WARNING:tensorflow:Layer lstm_2 will not use cuDNN kernels since it doesn't meet the criteria. It will use a generic GPU kernel as fallback when running on GPU.\n",
            "WARNING:tensorflow:Layer lstm_2 will not use cuDNN kernels since it doesn't meet the criteria. It will use a generic GPU kernel as fallback when running on GPU.\n",
            "WARNING:tensorflow:Layer lstm_2 will not use cuDNN kernels since it doesn't meet the criteria. It will use a generic GPU kernel as fallback when running on GPU.\n",
            "WARNING:tensorflow:Layer lstm_3 will not use cuDNN kernels since it doesn't meet the criteria. It will use a generic GPU kernel as fallback when running on GPU.\n",
            "WARNING:tensorflow:Layer lstm_3 will not use cuDNN kernels since it doesn't meet the criteria. It will use a generic GPU kernel as fallback when running on GPU.\n",
            "WARNING:tensorflow:Layer lstm_3 will not use cuDNN kernels since it doesn't meet the criteria. It will use a generic GPU kernel as fallback when running on GPU.\n"
          ]
        },
        {
          "name": "stdout",
          "output_type": "stream",
          "text": [
            "Model: \"model\"\n",
            "_________________________________________________________________\n",
            " Layer (type)                Output Shape              Param #   \n",
            "=================================================================\n",
            " input_1 (InputLayer)        [(None, 1, 518)]          0         \n",
            "                                                                 \n",
            " bidirectional (Bidirectiona  (None, 1, 256)           662528    \n",
            " l)                                                              \n",
            "                                                                 \n",
            " bidirectional_1 (Bidirectio  (None, 128)              164352    \n",
            " nal)                                                            \n",
            "                                                                 \n",
            " repeat_vector (RepeatVector  (None, 1, 128)           0         \n",
            " )                                                               \n",
            "                                                                 \n",
            " bidirectional_2 (Bidirectio  (None, 1, 128)           98816     \n",
            " nal)                                                            \n",
            "                                                                 \n",
            " bidirectional_3 (Bidirectio  (None, 1, 256)           263168    \n",
            " nal)                                                            \n",
            "                                                                 \n",
            " time_distributed (TimeDistr  (None, 1, 518)           133126    \n",
            " ibuted)                                                         \n",
            "                                                                 \n",
            "=================================================================\n",
            "Total params: 1,321,990\n",
            "Trainable params: 1,321,990\n",
            "Non-trainable params: 0\n",
            "_________________________________________________________________\n"
          ]
        }
      ],
      "source": [
        "# create the autoencoder model\n",
        "model = autoencoder_model(x_train)\n",
        "model.compile(optimizer='adam', loss=['mse'],\n",
        "              metrics=['mae', 'acc', tf.keras.metrics.Recall(), tf.keras.metrics.Precision()])\n",
        "model.summary()"
      ]
    },
    {
      "cell_type": "code",
      "execution_count": null,
      "metadata": {
        "colab": {
          "base_uri": "https://localhost:8080/"
        },
        "id": "71iSUsbeR069",
        "outputId": "e39ba1bb-c28f-43d6-a418-71c448ae300c"
      },
      "outputs": [
        {
          "name": "stdout",
          "output_type": "stream",
          "text": [
            "Epoch 1/10\n",
            "608/608 [==============================] - 36s 29ms/step - loss: 0.0011 - mae: 0.0028 - acc: 0.0386 - recall: 0.3227 - precision: 0.9888 - val_loss: 4.6797e-04 - val_mae: 0.0013 - val_acc: 6.9025e-04 - val_recall: 0.4422 - val_precision: 0.9988\n",
            "Epoch 2/10\n",
            "608/608 [==============================] - 16s 26ms/step - loss: 8.9031e-05 - mae: 9.4604e-04 - acc: 0.4404 - recall: 0.3992 - precision: 0.9985 - val_loss: 3.6475e-04 - val_mae: 9.8237e-04 - val_acc: 0.6910 - val_recall: 0.3677 - val_precision: 0.9937\n",
            "Epoch 3/10\n",
            "608/608 [==============================] - 16s 26ms/step - loss: 2.8633e-05 - mae: 4.5858e-04 - acc: 0.4145 - recall: 0.3979 - precision: 0.9998 - val_loss: 3.3811e-04 - val_mae: 9.8955e-04 - val_acc: 0.0390 - val_recall: 0.3451 - val_precision: 0.9966\n",
            "Epoch 4/10\n",
            "608/608 [==============================] - 16s 26ms/step - loss: 2.0887e-05 - mae: 5.4702e-04 - acc: 0.3992 - recall: 0.4022 - precision: 0.9999 - val_loss: 3.2786e-04 - val_mae: 0.0010 - val_acc: 0.7146 - val_recall: 0.3503 - val_precision: 0.9974\n",
            "Epoch 5/10\n",
            "608/608 [==============================] - 16s 26ms/step - loss: 1.4003e-05 - mae: 5.3301e-04 - acc: 0.4529 - recall: 0.4019 - precision: 0.9998 - val_loss: 3.1993e-04 - val_mae: 8.6130e-04 - val_acc: 0.6905 - val_recall: 0.3565 - val_precision: 0.9971\n",
            "Epoch 6/10\n",
            "608/608 [==============================] - 16s 26ms/step - loss: 1.1681e-05 - mae: 4.0527e-04 - acc: 0.4544 - recall: 0.4027 - precision: 0.9999 - val_loss: 3.1735e-04 - val_mae: 8.0494e-04 - val_acc: 0.2096 - val_recall: 0.4511 - val_precision: 0.9978\n",
            "Epoch 7/10\n",
            "608/608 [==============================] - 16s 26ms/step - loss: 1.0678e-05 - mae: 4.3076e-04 - acc: 0.4503 - recall: 0.4037 - precision: 0.9999 - val_loss: 3.1560e-04 - val_mae: 0.0011 - val_acc: 0.0149 - val_recall: 0.3522 - val_precision: 0.9997\n",
            "Epoch 8/10\n",
            "608/608 [==============================] - 16s 26ms/step - loss: 9.7627e-06 - mae: 4.1355e-04 - acc: 0.4558 - recall: 0.4051 - precision: 0.9999 - val_loss: 3.1526e-04 - val_mae: 9.3865e-04 - val_acc: 0.7145 - val_recall: 0.4591 - val_precision: 0.9997\n",
            "Epoch 9/10\n",
            "608/608 [==============================] - 16s 26ms/step - loss: 8.7753e-06 - mae: 4.3153e-04 - acc: 0.4745 - recall: 0.4063 - precision: 0.9999 - val_loss: 3.1985e-04 - val_mae: 0.0010 - val_acc: 0.8913 - val_recall: 0.4491 - val_precision: 0.9978\n",
            "Epoch 10/10\n",
            "608/608 [==============================] - 16s 26ms/step - loss: 6.9791e-06 - mae: 4.1101e-04 - acc: 0.4725 - recall: 0.4041 - precision: 0.9999 - val_loss: 3.2235e-04 - val_mae: 9.2083e-04 - val_acc: 0.0155 - val_recall: 0.3568 - val_precision: 0.9971\n"
          ]
        }
      ],
      "source": [
        "nb_epochs = 10\n",
        "batch_size = 1000\n",
        "history = model.fit(x_train, x_train, epochs=nb_epochs, batch_size=batch_size,\n",
        "                    validation_split=0.15).history"
      ]
    },
    {
      "cell_type": "code",
      "execution_count": null,
      "metadata": {
        "colab": {
          "base_uri": "https://localhost:8080/",
          "height": 873
        },
        "id": "JD3obuuGUQzj",
        "outputId": "0c7f854d-892d-4db2-cc53-2e96aa776e10"
      },
      "outputs": [
        {
          "name": "stdout",
          "output_type": "stream",
          "text": [
            "22335/22335 [==============================] - 75s 3ms/step\n"
          ]
        },
        {
          "name": "stderr",
          "output_type": "stream",
          "text": [
            "<ipython-input-21-75a6f4c073f7>:12: UserWarning: \n",
            "\n",
            "`distplot` is a deprecated function and will be removed in seaborn v0.14.0.\n",
            "\n",
            "Please adapt your code to use either `displot` (a figure-level function with\n",
            "similar flexibility) or `histplot` (an axes-level function for histograms).\n",
            "\n",
            "For a guide to updating your code to use the new functions, please see\n",
            "https://gist.github.com/mwaskom/de44147ed2974457ad6372750bbe5751\n",
            "\n",
            "  sns.distplot(scored['Loss_mse'], bins = 20, kde= True, color = 'blue');\n"
          ]
        },
        {
          "data": {
            "text/plain": [
              "(0.0, 0.5)"
            ]
          },
          "execution_count": 21,
          "metadata": {},
          "output_type": "execute_result"
        },
        {
          "data": {
            "image/png": "[encoded data removed]",
            "text/plain": [
              "<Figure size 1280x720 with 1 Axes>"
            ]
          },
          "metadata": {},
          "output_type": "display_data"
        }
      ],
      "source": [
        "# plot the loss distribution of the training set\n",
        "X_pred = model.predict(x_train)\n",
        "X_pred = X_pred.reshape(X_pred.shape[0], X_pred.shape[2])\n",
        "X_pred = pd.DataFrame(X_pred, columns=train.columns)\n",
        "X_pred.index = train.index\n",
        "\n",
        "scored = pd.DataFrame(index=train.index)\n",
        "Xtrain = x_train.reshape(x_train.shape[0], x_train.shape[2])\n",
        "scored['Loss_mse'] = np.mean(np.abs(X_pred-Xtrain), axis = 1)\n",
        "plt.figure(figsize=(16,9), dpi=80)\n",
        "plt.title('Loss Distribution', fontsize=16)\n",
        "sns.distplot(scored['Loss_mse'], bins = 20, kde= True, color = 'blue');\n",
        "plt.xlim([0.0,.5])"
      ]
    },
    {
      "cell_type": "code",
      "execution_count": null,
      "metadata": {
        "colab": {
          "base_uri": "https://localhost:8080/",
          "height": 224
        },
        "id": "CorsJw7zTgbZ",
        "outputId": "f47a0272-0a77-443b-8e99-ed9c6dabf8f3"
      },
      "outputs": [
        {
          "name": "stdout",
          "output_type": "stream",
          "text": [
            "3188/3188 [==============================] - 11s 3ms/step\n"
          ]
        },
        {
          "data": {
            "text/html": [
              "\n",
              "  <div id=\"df-ec51256b-98b5-469b-983a-a5c78299d3a6\">\n",
              "    <div class=\"colab-df-container\">\n",
              "      <div>\n",
              "<style scoped>\n",
              "    .dataframe tbody tr th:only-of-type {\n",
              "        vertical-align: middle;\n",
              "    }\n",
              "\n",
              "    .dataframe tbody tr th {\n",
              "        vertical-align: top;\n",
              "    }\n",
              "\n",
              "    .dataframe thead th {\n",
              "        text-align: right;\n",
              "    }\n",
              "</style>\n",
              "<table border=\"1\" class=\"dataframe\">\n",
              "  <thead>\n",
              "    <tr style=\"text-align: right;\">\n",
              "      <th></th>\n",
              "      <th>Loss_mae</th>\n",
              "      <th>Threshold</th>\n",
              "      <th>Anomaly</th>\n",
              "    </tr>\n",
              "  </thead>\n",
              "  <tbody>\n",
              "    <tr>\n",
              "      <th>0</th>\n",
              "      <td>0.000333</td>\n",
              "      <td>0.005</td>\n",
              "      <td>1</td>\n",
              "    </tr>\n",
              "    <tr>\n",
              "      <th>1</th>\n",
              "      <td>0.000333</td>\n",
              "      <td>0.005</td>\n",
              "      <td>1</td>\n",
              "    </tr>\n",
              "    <tr>\n",
              "      <th>2</th>\n",
              "      <td>0.000333</td>\n",
              "      <td>0.005</td>\n",
              "      <td>1</td>\n",
              "    </tr>\n",
              "    <tr>\n",
              "      <th>3</th>\n",
              "      <td>0.000333</td>\n",
              "      <td>0.005</td>\n",
              "      <td>1</td>\n",
              "    </tr>\n",
              "    <tr>\n",
              "      <th>4</th>\n",
              "      <td>0.000446</td>\n",
              "      <td>0.005</td>\n",
              "      <td>1</td>\n",
              "    </tr>\n",
              "  </tbody>\n",
              "</table>\n",
              "</div>\n",
              "      <button class=\"colab-df-convert\" onclick=\"convertToInteractive('df-ec51256b-98b5-469b-983a-a5c78299d3a6')\"\n",
              "              title=\"Convert this dataframe to an interactive table.\"\n",
              "              style=\"display:none;\">\n",
              "        \n",
              "  <svg xmlns=\"http://www.w3.org/2000/svg\" height=\"24px\"viewBox=\"0 0 24 24\"\n",
              "       width=\"24px\">\n",
              "    <path d=\"M0 0h24v24H0V0z\" fill=\"none\"/>\n",
              "    <path d=\"M18.56 5.44l.94 2.06.94-2.06 2.06-.94-2.06-.94-.94-2.06-.94 2.06-2.06.94zm-11 1L8.5 8.5l.94-2.06 2.06-.94-2.06-.94L8.5 2.5l-.94 2.06-2.06.94zm10 10l.94 2.06.94-2.06 2.06-.94-2.06-.94-.94-2.06-.94 2.06-2.06.94z\"/><path d=\"M17.41 7.96l-1.37-1.37c-.4-.4-.92-.59-1.43-.59-.52 0-1.04.2-1.43.59L10.3 9.45l-7.72 7.72c-.78.78-.78 2.05 0 2.83L4 21.41c.39.39.9.59 1.41.59.51 0 1.02-.2 1.41-.59l7.78-7.78 2.81-2.81c.8-.78.8-2.07 0-2.86zM5.41 20L4 18.59l7.72-7.72 1.47 1.35L5.41 20z\"/>\n",
              "  </svg>\n",
              "      </button>\n",
              "      \n",
              "  <style>\n",
              "    .colab-df-container {\n",
              "      display:flex;\n",
              "      flex-wrap:wrap;\n",
              "      gap: 12px;\n",
              "    }\n",
              "\n",
              "    .colab-df-convert {\n",
              "      background-color: #E8F0FE;\n",
              "      border: none;\n",
              "      border-radius: 50%;\n",
              "      cursor: pointer;\n",
              "      display: none;\n",
              "      fill: #1967D2;\n",
              "      height: 32px;\n",
              "      padding: 0 0 0 0;\n",
              "      width: 32px;\n",
              "    }\n",
              "\n",
              "    .colab-df-convert:hover {\n",
              "      background-color: #E2EBFA;\n",
              "      box-shadow: 0px 1px 2px rgba(60, 64, 67, 0.3), 0px 1px 3px 1px rgba(60, 64, 67, 0.15);\n",
              "      fill: #174EA6;\n",
              "    }\n",
              "\n",
              "    [theme=dark] .colab-df-convert {\n",
              "      background-color: #3B4455;\n",
              "      fill: #D2E3FC;\n",
              "    }\n",
              "\n",
              "    [theme=dark] .colab-df-convert:hover {\n",
              "      background-color: #434B5C;\n",
              "      box-shadow: 0px 1px 3px 1px rgba(0, 0, 0, 0.15);\n",
              "      filter: drop-shadow(0px 1px 2px rgba(0, 0, 0, 0.3));\n",
              "      fill: #FFFFFF;\n",
              "    }\n",
              "  </style>\n",
              "\n",
              "      <script>\n",
              "        const buttonEl =\n",
              "          document.querySelector('#df-ec51256b-98b5-469b-983a-a5c78299d3a6 button.colab-df-convert');\n",
              "        buttonEl.style.display =\n",
              "          google.colab.kernel.accessAllowed ? 'block' : 'none';\n",
              "\n",
              "        async function convertToInteractive(key) {\n",
              "          const element = document.querySelector('#df-ec51256b-98b5-469b-983a-a5c78299d3a6');\n",
              "          const dataTable =\n",
              "            await google.colab.kernel.invokeFunction('convertToInteractive',\n",
              "                                                     [key], {});\n",
              "          if (!dataTable) return;\n",
              "\n",
              "          const docLinkHtml = 'Like what you see? Visit the ' +\n",
              "            '<a target=\"_blank\" href=https://colab.research.google.com/notebooks/data_table.ipynb>data table notebook</a>'\n",
              "            + ' to learn more about interactive tables.';\n",
              "          element.innerHTML = '';\n",
              "          dataTable['output_type'] = 'display_data';\n",
              "          await google.colab.output.renderOutput(dataTable, element);\n",
              "          const docLink = document.createElement('div');\n",
              "          docLink.innerHTML = docLinkHtml;\n",
              "          element.appendChild(docLink);\n",
              "        }\n",
              "      </script>\n",
              "    </div>\n",
              "  </div>\n",
              "  "
            ],
            "text/plain": [
              "   Loss_mae  Threshold  Anomaly\n",
              "0  0.000333      0.005        1\n",
              "1  0.000333      0.005        1\n",
              "2  0.000333      0.005        1\n",
              "3  0.000333      0.005        1\n",
              "4  0.000446      0.005        1"
            ]
          },
          "execution_count": 26,
          "metadata": {},
          "output_type": "execute_result"
        }
      ],
      "source": [
        "# calculate the loss on the test set\n",
        "X_pred = model.predict(x_out)\n",
        "X_pred = X_pred.reshape(X_pred.shape[0], X_pred.shape[2])\n",
        "X_pred = pd.DataFrame(X_pred, columns=x_out_val.columns)\n",
        "X_pred.index = x_out_val.index\n",
        "\n",
        "scored = pd.DataFrame(index=x_out_val.index)\n",
        "Xtest = x_out.reshape(x_out.shape[0], x_out.shape[2])\n",
        "scored['Loss_mae'] = np.mean(np.abs(X_pred-Xtest), axis = 1)\n",
        "scored['Threshold'] = 0.005\n",
        "scored['Anomaly'] = np.where(scored['Loss_mae'] > scored['Threshold'], -1, 1)\n",
        "scored.head()"
      ]
    },
    {
      "cell_type": "code",
      "execution_count": null,
      "metadata": {
        "id": "3rG_0gctYJku"
      },
      "outputs": [],
      "source": [
        "test_pred = scored.Anomaly"
      ]
    },
    {
      "cell_type": "code",
      "execution_count": null,
      "metadata": {
        "colab": {
          "base_uri": "https://localhost:8080/"
        },
        "id": "sb1uaLOaYJnW",
        "outputId": "568e6ca7-a0d8-4ad7-f393-5c7139e4c1be"
      },
      "outputs": [
        {
          "data": {
            "text/plain": [
              "Counter({1: 94934, -1: 7066})"
            ]
          },
          "execution_count": 152,
          "metadata": {},
          "output_type": "execute_result"
        }
      ],
      "source": [
        "Counter(test_pred)"
      ]
    },
    {
      "cell_type": "code",
      "execution_count": null,
      "metadata": {
        "colab": {
          "base_uri": "https://localhost:8080/"
        },
        "id": "2nOp08u4bnYc",
        "outputId": "65273f3c-b8e0-4d6c-c549-506d3f6de9d1"
      },
      "outputs": [
        {
          "name": "stdout",
          "output_type": "stream",
          "text": [
            "              precision    recall  f1-score   support\n",
            "\n",
            "          -1       1.00      0.54      0.70      3737\n",
            "           1       0.98      1.00      0.99     98263\n",
            "\n",
            "    accuracy                           0.98    102000\n",
            "   macro avg       0.99      0.77      0.85    102000\n",
            "weighted avg       0.98      0.98      0.98    102000\n",
            "\n"
          ]
        }
      ],
      "source": [
        "from sklearn.metrics import classification_report\n",
        "print(classification_report(true_labels, test_pred))"
      ]
    },
    {
      "cell_type": "code",
      "execution_count": null,
      "metadata": {
        "id": "mYSrMNlbbnau"
      },
      "outputs": [],
      "source": []
    },
    {
      "cell_type": "code",
      "execution_count": null,
      "metadata": {
        "id": "nFWv7fWgbndF"
      },
      "outputs": [],
      "source": []
    },
    {
      "cell_type": "code",
      "execution_count": null,
      "metadata": {
        "id": "86AMrjFKEzVr"
      },
      "outputs": [],
      "source": [
        "clf = IsolationForest(n_estimators=200, contamination = 0.055)"
      ]
    },
    {
      "cell_type": "code",
      "execution_count": null,
      "metadata": {
        "id": "a0Kd2PoeSCp1"
      },
      "outputs": [],
      "source": []
    },
    {
      "cell_type": "code",
      "execution_count": null,
      "metadata": {
        "id": "mMZsRkUil6S2"
      },
      "outputs": [],
      "source": [
        "from pyod.models.copod import COPOD\n",
        "if __name__ == \"__main__\":\n",
        "\n",
        "    # train COPOD detector\n",
        "    clf_name = 'COPOD'\n",
        "    clf = COPOD(contamination=0.065)\n",
        "\n",
        "    # you could try parallel version as well.\n",
        "    # clf = COPOD(n_jobs=2)\n",
        "    clf.fit(train)\n",
        "    pred_test = clf.predict(x_out_cv_scale)"
      ]
    },
    {
      "cell_type": "code",
      "execution_count": null,
      "metadata": {
        "id": "u8zIcIYanal4"
      },
      "outputs": [],
      "source": [
        "if (pred_test == 1).any():\n",
        "    pred_test[pred_test == 1] = -1\n",
        "\n",
        "if (pred_test == 0).any():\n",
        "    pred_test[pred_test == 0] = 1"
      ]
    },
    {
      "cell_type": "code",
      "execution_count": null,
      "metadata": {
        "colab": {
          "base_uri": "https://localhost:8080/"
        },
        "id": "I6BokE-DnFYu",
        "outputId": "8e7ed01a-35c7-4115-ad3b-c8a20a9f2aef"
      },
      "outputs": [
        {
          "data": {
            "text/plain": [
              "Counter({1: 94804, -1: 7196})"
            ]
          },
          "execution_count": 75,
          "metadata": {},
          "output_type": "execute_result"
        }
      ],
      "source": [
        "Counter(pred_test)"
      ]
    },
    {
      "cell_type": "code",
      "execution_count": null,
      "metadata": {
        "colab": {
          "base_uri": "https://localhost:8080/"
        },
        "id": "BhrpD0bCnPOB",
        "outputId": "af1bc28b-72b8-475a-f6e8-87e9b2305549"
      },
      "outputs": [
        {
          "name": "stdout",
          "output_type": "stream",
          "text": [
            "              precision    recall  f1-score   support\n",
            "\n",
            "          -1       0.29      0.56      0.38      3737\n",
            "           1       0.98      0.95      0.96     98263\n",
            "\n",
            "    accuracy                           0.93    102000\n",
            "   macro avg       0.64      0.75      0.67    102000\n",
            "weighted avg       0.96      0.93      0.94    102000\n",
            "\n"
          ]
        }
      ],
      "source": [
        "from sklearn.metrics import classification_report\n",
        "print(classification_report(true_labels, pred_test))"
      ]
    },
    {
      "cell_type": "code",
      "execution_count": null,
      "metadata": {
        "colab": {
          "base_uri": "https://localhost:8080/"
        },
        "id": "x8DwgQqbxd51",
        "outputId": "7bbee95f-f11a-4425-ed4f-460503d7b1f4"
      },
      "outputs": [
        {
          "data": {
            "text/plain": [
              "Counter({1: 94819, -1: 7181})"
            ]
          },
          "execution_count": 19,
          "metadata": {},
          "output_type": "execute_result"
        }
      ],
      "source": [
        "from pyod.models.ecod import ECOD\n",
        "if __name__ == \"__main__\":\n",
        "\n",
        "    # train COPOD detector\n",
        "    clf_name = 'ECOD'\n",
        "    clf = ECOD(contamination=0.055)\n",
        "\n",
        "    # you could try parallel version as well.\n",
        "    # clf = COPOD(n_jobs=2)\n",
        "    clf.fit(train)\n",
        "    pred_test = clf.predict(x_out_cv_scale)\n",
        "\n",
        "if (pred_test == 1).any():\n",
        "    pred_test[pred_test == 1] = -1\n",
        "\n",
        "if (pred_test == 0).any():\n",
        "    pred_test[pred_test == 0] = 1\n",
        "\n",
        "Counter(pred_test)"
      ]
    },
    {
      "cell_type": "code",
      "execution_count": null,
      "metadata": {
        "colab": {
          "base_uri": "https://localhost:8080/"
        },
        "id": "TIw0Vcq95NWY",
        "outputId": "c15d3e3d-35ce-4acd-b38f-fd2851394889"
      },
      "outputs": [
        {
          "name": "stdout",
          "output_type": "stream",
          "text": [
            "              precision    recall  f1-score   support\n",
            "\n",
            "          -1       0.29      0.56      0.38      3737\n",
            "           1       0.98      0.95      0.96     98263\n",
            "\n",
            "    accuracy                           0.93    102000\n",
            "   macro avg       0.64      0.75      0.67    102000\n",
            "weighted avg       0.96      0.93      0.94    102000\n",
            "\n"
          ]
        }
      ],
      "source": [
        "from sklearn.metrics import classification_report\n",
        "print(classification_report(true_labels, pred_test))"
      ]
    },
    {
      "cell_type": "code",
      "execution_count": null,
      "metadata": {
        "id": "sYrDTv3JmM6x"
      },
      "outputs": [],
      "source": [
        "from joblib import dump, load\n",
        "\n",
        "# save the model\n",
        "dump(clf,'/content/drive/MyDrive/thesis/models/copod/clf_co_cv.joblib')"
      ]
    },
    {
      "cell_type": "code",
      "execution_count": null,
      "metadata": {
        "id": "bOKv1rcoGGhT"
      },
      "outputs": [],
      "source": [
        "clf_if_cv = clf.fit(train)"
      ]
    },
    {
      "cell_type": "code",
      "execution_count": null,
      "metadata": {
        "colab": {
          "base_uri": "https://localhost:8080/"
        },
        "id": "YihYkrlZJXBx",
        "outputId": "f336f7cb-9710-4eb9-b335-6dc0e710858a"
      },
      "outputs": [
        {
          "data": {
            "text/plain": [
              "['/content/drive/MyDrive/thesis/models/iforest/clf_if_cv.joblib']"
            ]
          },
          "execution_count": 170,
          "metadata": {},
          "output_type": "execute_result"
        }
      ],
      "source": [
        "from joblib import dump, load\n",
        "\n",
        "# save the model\n",
        "dump(clf_if_cv,'/content/drive/MyDrive/thesis/models/iforest/clf_if_cv.joblib')"
      ]
    },
    {
      "cell_type": "code",
      "execution_count": null,
      "metadata": {
        "id": "6OWm104y82Iw"
      },
      "outputs": [],
      "source": [
        "from joblib import dump, load\n",
        "clf_if_cv = load('/content/drive/MyDrive/thesis/models/iforest/clf_if_cv.joblib')"
      ]
    },
    {
      "cell_type": "code",
      "execution_count": null,
      "metadata": {
        "id": "1N5EGOHDGQld"
      },
      "outputs": [],
      "source": [
        "pred_test = clf_if_cv.predict(x_out_cv_scale)"
      ]
    },
    {
      "cell_type": "code",
      "execution_count": null,
      "metadata": {
        "colab": {
          "base_uri": "https://localhost:8080/"
        },
        "id": "N9iMaHPAGf2S",
        "outputId": "0730abff-0859-4522-8c69-6e91edcf941e"
      },
      "outputs": [
        {
          "data": {
            "text/plain": [
              "Counter({1: 93967, -1: 8033})"
            ]
          },
          "execution_count": 173,
          "metadata": {},
          "output_type": "execute_result"
        }
      ],
      "source": [
        "Counter(pred_test)"
      ]
    },
    {
      "cell_type": "code",
      "execution_count": null,
      "metadata": {
        "id": "EYVDrItuGnad"
      },
      "outputs": [],
      "source": [
        "true_labels = df_outlier.label"
      ]
    },
    {
      "cell_type": "code",
      "execution_count": null,
      "metadata": {
        "colab": {
          "base_uri": "https://localhost:8080/"
        },
        "id": "TJPrBtwqHZxp",
        "outputId": "7eae364c-53b3-4645-a88b-ff401e46e83d"
      },
      "outputs": [
        {
          "data": {
            "text/plain": [
              "Counter({1: 98263, -1: 3737})"
            ]
          },
          "execution_count": 180,
          "metadata": {},
          "output_type": "execute_result"
        }
      ],
      "source": [
        "Counter(true_labels)"
      ]
    },
    {
      "cell_type": "code",
      "execution_count": null,
      "metadata": {
        "id": "BeUt-ckz9Mle"
      },
      "outputs": [],
      "source": [
        "df_validate['label'] = pred_test"
      ]
    },
    {
      "cell_type": "code",
      "execution_count": null,
      "metadata": {
        "colab": {
          "base_uri": "https://localhost:8080/",
          "height": 206
        },
        "id": "TypWeCaA94VD",
        "outputId": "7db6cb85-2c65-4eef-b225-2aa66d518a6b"
      },
      "outputs": [
        {
          "data": {
            "text/html": [
              "\n",
              "  <div id=\"df-697daca8-f93f-476a-a9da-1d77f5a1bf51\">\n",
              "    <div class=\"colab-df-container\">\n",
              "      <div>\n",
              "<style scoped>\n",
              "    .dataframe tbody tr th:only-of-type {\n",
              "        vertical-align: middle;\n",
              "    }\n",
              "\n",
              "    .dataframe tbody tr th {\n",
              "        vertical-align: top;\n",
              "    }\n",
              "\n",
              "    .dataframe thead th {\n",
              "        text-align: right;\n",
              "    }\n",
              "</style>\n",
              "<table border=\"1\" class=\"dataframe\">\n",
              "  <thead>\n",
              "    <tr style=\"text-align: right;\">\n",
              "      <th></th>\n",
              "      <th>message</th>\n",
              "      <th>label</th>\n",
              "    </tr>\n",
              "  </thead>\n",
              "  <tbody>\n",
              "    <tr>\n",
              "      <th>0</th>\n",
              "      <td>2023-05-10 18:56:18.091 33 INFO nova.metadata....</td>\n",
              "      <td>1</td>\n",
              "    </tr>\n",
              "    <tr>\n",
              "      <th>1</th>\n",
              "      <td>2023-05-10 18:56:18.094 34 INFO nova.metadata....</td>\n",
              "      <td>1</td>\n",
              "    </tr>\n",
              "    <tr>\n",
              "      <th>2</th>\n",
              "      <td>2023-05-10 18:56:18.098 34 INFO nova.metadata....</td>\n",
              "      <td>1</td>\n",
              "    </tr>\n",
              "    <tr>\n",
              "      <th>3</th>\n",
              "      <td>2023-05-10 18:56:18.117 35 INFO nova.metadata....</td>\n",
              "      <td>1</td>\n",
              "    </tr>\n",
              "    <tr>\n",
              "      <th>4</th>\n",
              "      <td>2023-05-10 18:56:18.120 13 INFO nova.osapi_com...</td>\n",
              "      <td>1</td>\n",
              "    </tr>\n",
              "  </tbody>\n",
              "</table>\n",
              "</div>\n",
              "      <button class=\"colab-df-convert\" onclick=\"convertToInteractive('df-697daca8-f93f-476a-a9da-1d77f5a1bf51')\"\n",
              "              title=\"Convert this dataframe to an interactive table.\"\n",
              "              style=\"display:none;\">\n",
              "        \n",
              "  <svg xmlns=\"http://www.w3.org/2000/svg\" height=\"24px\"viewBox=\"0 0 24 24\"\n",
              "       width=\"24px\">\n",
              "    <path d=\"M0 0h24v24H0V0z\" fill=\"none\"/>\n",
              "    <path d=\"M18.56 5.44l.94 2.06.94-2.06 2.06-.94-2.06-.94-.94-2.06-.94 2.06-2.06.94zm-11 1L8.5 8.5l.94-2.06 2.06-.94-2.06-.94L8.5 2.5l-.94 2.06-2.06.94zm10 10l.94 2.06.94-2.06 2.06-.94-2.06-.94-.94-2.06-.94 2.06-2.06.94z\"/><path d=\"M17.41 7.96l-1.37-1.37c-.4-.4-.92-.59-1.43-.59-.52 0-1.04.2-1.43.59L10.3 9.45l-7.72 7.72c-.78.78-.78 2.05 0 2.83L4 21.41c.39.39.9.59 1.41.59.51 0 1.02-.2 1.41-.59l7.78-7.78 2.81-2.81c.8-.78.8-2.07 0-2.86zM5.41 20L4 18.59l7.72-7.72 1.47 1.35L5.41 20z\"/>\n",
              "  </svg>\n",
              "      </button>\n",
              "      \n",
              "  <style>\n",
              "    .colab-df-container {\n",
              "      display:flex;\n",
              "      flex-wrap:wrap;\n",
              "      gap: 12px;\n",
              "    }\n",
              "\n",
              "    .colab-df-convert {\n",
              "      background-color: #E8F0FE;\n",
              "      border: none;\n",
              "      border-radius: 50%;\n",
              "      cursor: pointer;\n",
              "      display: none;\n",
              "      fill: #1967D2;\n",
              "      height: 32px;\n",
              "      padding: 0 0 0 0;\n",
              "      width: 32px;\n",
              "    }\n",
              "\n",
              "    .colab-df-convert:hover {\n",
              "      background-color: #E2EBFA;\n",
              "      box-shadow: 0px 1px 2px rgba(60, 64, 67, 0.3), 0px 1px 3px 1px rgba(60, 64, 67, 0.15);\n",
              "      fill: #174EA6;\n",
              "    }\n",
              "\n",
              "    [theme=dark] .colab-df-convert {\n",
              "      background-color: #3B4455;\n",
              "      fill: #D2E3FC;\n",
              "    }\n",
              "\n",
              "    [theme=dark] .colab-df-convert:hover {\n",
              "      background-color: #434B5C;\n",
              "      box-shadow: 0px 1px 3px 1px rgba(0, 0, 0, 0.15);\n",
              "      filter: drop-shadow(0px 1px 2px rgba(0, 0, 0, 0.3));\n",
              "      fill: #FFFFFF;\n",
              "    }\n",
              "  </style>\n",
              "\n",
              "      <script>\n",
              "        const buttonEl =\n",
              "          document.querySelector('#df-697daca8-f93f-476a-a9da-1d77f5a1bf51 button.colab-df-convert');\n",
              "        buttonEl.style.display =\n",
              "          google.colab.kernel.accessAllowed ? 'block' : 'none';\n",
              "\n",
              "        async function convertToInteractive(key) {\n",
              "          const element = document.querySelector('#df-697daca8-f93f-476a-a9da-1d77f5a1bf51');\n",
              "          const dataTable =\n",
              "            await google.colab.kernel.invokeFunction('convertToInteractive',\n",
              "                                                     [key], {});\n",
              "          if (!dataTable) return;\n",
              "\n",
              "          const docLinkHtml = 'Like what you see? Visit the ' +\n",
              "            '<a target=\"_blank\" href=https://colab.research.google.com/notebooks/data_table.ipynb>data table notebook</a>'\n",
              "            + ' to learn more about interactive tables.';\n",
              "          element.innerHTML = '';\n",
              "          dataTable['output_type'] = 'display_data';\n",
              "          await google.colab.output.renderOutput(dataTable, element);\n",
              "          const docLink = document.createElement('div');\n",
              "          docLink.innerHTML = docLinkHtml;\n",
              "          element.appendChild(docLink);\n",
              "        }\n",
              "      </script>\n",
              "    </div>\n",
              "  </div>\n",
              "  "
            ],
            "text/plain": [
              "                                             message  label\n",
              "0  2023-05-10 18:56:18.091 33 INFO nova.metadata....      1\n",
              "1  2023-05-10 18:56:18.094 34 INFO nova.metadata....      1\n",
              "2  2023-05-10 18:56:18.098 34 INFO nova.metadata....      1\n",
              "3  2023-05-10 18:56:18.117 35 INFO nova.metadata....      1\n",
              "4  2023-05-10 18:56:18.120 13 INFO nova.osapi_com...      1"
            ]
          },
          "execution_count": 176,
          "metadata": {},
          "output_type": "execute_result"
        }
      ],
      "source": [
        "df_validate.head(5)"
      ]
    },
    {
      "cell_type": "code",
      "execution_count": null,
      "metadata": {
        "id": "1OGd9g1k97Vf"
      },
      "outputs": [],
      "source": [
        "index_values = df_validate[df_validate['label'] == -1].index\n"
      ]
    },
    {
      "cell_type": "code",
      "execution_count": null,
      "metadata": {
        "id": "kDqTlu9Z-GHU"
      },
      "outputs": [],
      "source": [
        "df_validate[df_validate['label'] == -1].to_csv('/content/drive/MyDrive/thesis/models/iforest/cv_results_val.csv', index=False)"
      ]
    },
    {
      "cell_type": "code",
      "execution_count": null,
      "metadata": {
        "colab": {
          "base_uri": "https://localhost:8080/"
        },
        "id": "4JNq6skYI65Y",
        "outputId": "2bd63593-4903-424f-d3ee-23fd2b832c96"
      },
      "outputs": [
        {
          "name": "stdout",
          "output_type": "stream",
          "text": [
            "              precision    recall  f1-score   support\n",
            "\n",
            "          -1       0.38      0.82      0.52      3737\n",
            "           1       0.99      0.95      0.97     98263\n",
            "\n",
            "    accuracy                           0.94    102000\n",
            "   macro avg       0.69      0.88      0.75    102000\n",
            "weighted avg       0.97      0.94      0.95    102000\n",
            "\n"
          ]
        }
      ],
      "source": [
        "from sklearn.metrics import classification_report\n",
        "print(classification_report(true_labels, pred_test))"
      ]
    },
    {
      "cell_type": "code",
      "execution_count": null,
      "metadata": {
        "colab": {
          "base_uri": "https://localhost:8080/"
        },
        "id": "pLEKjXcH9YMi",
        "outputId": "4a84cebe-0dff-4cd5-e6ff-aa888618efee"
      },
      "outputs": [
        {
          "name": "stdout",
          "output_type": "stream",
          "text": [
            "Accuracy: 0.9558627450980393\n",
            "Precision: 0.9767621604580448\n",
            "Recall: 0.9774380997934116\n",
            "F1 Score: 0.9771000132252257\n"
          ]
        }
      ],
      "source": [
        "from sklearn.metrics import accuracy_score, precision_score, recall_score, f1_score\n",
        "\n",
        "# Assuming you have the true labels for the dataset in 'true_labels' and the LOF predictions in 'lof_predictions'\n",
        "\n",
        "# Convert LOF scores to binary labels based on a threshold (e.g., outliers with scores above the threshold are considered anomalies)\n",
        "\n",
        "# Calculate accuracy\n",
        "accuracy = accuracy_score(true_labels, pred_test)\n",
        "print(\"Accuracy:\", accuracy)\n",
        "\n",
        "# Calculate precision\n",
        "precision = precision_score(true_labels, pred_test)\n",
        "print(\"Precision:\", precision)\n",
        "\n",
        "# Calculate recall\n",
        "recall = recall_score(true_labels, pred_test)\n",
        "print(\"Recall:\", recall)\n",
        "\n",
        "# Calculate F1 score\n",
        "f1 = f1_score(true_labels, pred_test)\n",
        "print(\"F1 Score:\", f1)"
      ]
    },
    {
      "cell_type": "code",
      "execution_count": null,
      "metadata": {
        "id": "gmK4xYzbCAd_"
      },
      "outputs": [],
      "source": []
    },
    {
      "cell_type": "markdown",
      "metadata": {
        "id": "j3MTRuztCJFP"
      },
      "source": [
        "CV+PCA rerun file changed"
      ]
    },
    {
      "cell_type": "code",
      "execution_count": null,
      "metadata": {
        "id": "nbVk1fukCLkw"
      },
      "outputs": [],
      "source": [
        "df = pd.read_csv('/content/drive/MyDrive/thesis/train/reduce_pca_cv.csv', sep = ',')\n",
        "x_out = pd.read_csv('/content/drive/MyDrive/thesis/val/val-reduce_cv_pca.csv', sep = ',')"
      ]
    },
    {
      "cell_type": "code",
      "execution_count": null,
      "metadata": {
        "colab": {
          "base_uri": "https://localhost:8080/"
        },
        "id": "QHPUhbwyCS69",
        "outputId": "1cc9fcae-c830-46bc-9339-8085fde02726"
      },
      "outputs": [
        {
          "data": {
            "text/plain": [
              "306302.7"
            ]
          },
          "execution_count": 29,
          "metadata": {},
          "output_type": "execute_result"
        }
      ],
      "source": [
        "split_len = 0.3 * len(df)\n",
        "split_len"
      ]
    },
    {
      "cell_type": "code",
      "execution_count": null,
      "metadata": {
        "id": "_tn6N4H-CU8X"
      },
      "outputs": [],
      "source": [
        "test = df[:int(split_len)]\n",
        "train = df[int(split_len):]"
      ]
    },
    {
      "cell_type": "code",
      "execution_count": null,
      "metadata": {
        "colab": {
          "base_uri": "https://localhost:8080/"
        },
        "id": "aAL7ONr2ghD4",
        "outputId": "58618317-0cbb-4b5a-9c82-93a36b4c3abe"
      },
      "outputs": [
        {
          "data": {
            "text/plain": [
              "pandas.core.frame.DataFrame"
            ]
          },
          "execution_count": 157,
          "metadata": {},
          "output_type": "execute_result"
        }
      ],
      "source": [
        "type(x_out)"
      ]
    },
    {
      "cell_type": "code",
      "execution_count": null,
      "metadata": {
        "colab": {
          "base_uri": "https://localhost:8080/"
        },
        "id": "5s4WkLGLghId",
        "outputId": "e6d1df2a-5617-4ad3-f210-694e06d47fbe"
      },
      "outputs": [
        {
          "name": "stderr",
          "output_type": "stream",
          "text": [
            "WARNING:tensorflow:Layer lstm_4 will not use cuDNN kernels since it doesn't meet the criteria. It will use a generic GPU kernel as fallback when running on GPU.\n",
            "WARNING:tensorflow:Layer lstm_4 will not use cuDNN kernels since it doesn't meet the criteria. It will use a generic GPU kernel as fallback when running on GPU.\n",
            "WARNING:tensorflow:Layer lstm_4 will not use cuDNN kernels since it doesn't meet the criteria. It will use a generic GPU kernel as fallback when running on GPU.\n",
            "WARNING:tensorflow:Layer lstm_5 will not use cuDNN kernels since it doesn't meet the criteria. It will use a generic GPU kernel as fallback when running on GPU.\n",
            "WARNING:tensorflow:Layer lstm_5 will not use cuDNN kernels since it doesn't meet the criteria. It will use a generic GPU kernel as fallback when running on GPU.\n",
            "WARNING:tensorflow:Layer lstm_5 will not use cuDNN kernels since it doesn't meet the criteria. It will use a generic GPU kernel as fallback when running on GPU.\n",
            "WARNING:tensorflow:Layer lstm_6 will not use cuDNN kernels since it doesn't meet the criteria. It will use a generic GPU kernel as fallback when running on GPU.\n",
            "WARNING:tensorflow:Layer lstm_6 will not use cuDNN kernels since it doesn't meet the criteria. It will use a generic GPU kernel as fallback when running on GPU.\n",
            "WARNING:tensorflow:Layer lstm_6 will not use cuDNN kernels since it doesn't meet the criteria. It will use a generic GPU kernel as fallback when running on GPU.\n",
            "WARNING:tensorflow:Layer lstm_7 will not use cuDNN kernels since it doesn't meet the criteria. It will use a generic GPU kernel as fallback when running on GPU.\n",
            "WARNING:tensorflow:Layer lstm_7 will not use cuDNN kernels since it doesn't meet the criteria. It will use a generic GPU kernel as fallback when running on GPU.\n",
            "WARNING:tensorflow:Layer lstm_7 will not use cuDNN kernels since it doesn't meet the criteria. It will use a generic GPU kernel as fallback when running on GPU.\n"
          ]
        },
        {
          "name": "stdout",
          "output_type": "stream",
          "text": [
            "Model: \"model_1\"\n",
            "_________________________________________________________________\n",
            " Layer (type)                Output Shape              Param #   \n",
            "=================================================================\n",
            " input_2 (InputLayer)        [(None, 1, 25)]           0         \n",
            "                                                                 \n",
            " bidirectional_4 (Bidirectio  (None, 1, 256)           157696    \n",
            " nal)                                                            \n",
            "                                                                 \n",
            " bidirectional_5 (Bidirectio  (None, 128)              164352    \n",
            " nal)                                                            \n",
            "                                                                 \n",
            " repeat_vector_1 (RepeatVect  (None, 1, 128)           0         \n",
            " or)                                                             \n",
            "                                                                 \n",
            " bidirectional_6 (Bidirectio  (None, 1, 128)           98816     \n",
            " nal)                                                            \n",
            "                                                                 \n",
            " bidirectional_7 (Bidirectio  (None, 1, 256)           263168    \n",
            " nal)                                                            \n",
            "                                                                 \n",
            " time_distributed_1 (TimeDis  (None, 1, 25)            6425      \n",
            " tributed)                                                       \n",
            "                                                                 \n",
            "=================================================================\n",
            "Total params: 690,457\n",
            "Trainable params: 690,457\n",
            "Non-trainable params: 0\n",
            "_________________________________________________________________\n",
            "Epoch 1/10\n",
            "608/608 [==============================] - 28s 27ms/step - loss: 0.0070 - mae: 0.0266 - acc: 0.8071 - recall_1: 0.0100 - precision_1: 1.0000 - val_loss: 5.4211e-04 - val_mae: 0.0047 - val_acc: 0.9635 - val_recall_1: 0.0151 - val_precision_1: 1.0000\n",
            "Epoch 2/10\n",
            "608/608 [==============================] - 15s 25ms/step - loss: 9.4245e-05 - mae: 0.0016 - acc: 0.9889 - recall_1: 0.0143 - precision_1: 1.0000 - val_loss: 3.5700e-04 - val_mae: 0.0023 - val_acc: 0.9746 - val_recall_1: 0.0153 - val_precision_1: 1.0000\n",
            "Epoch 3/10\n",
            "608/608 [==============================] - 15s 25ms/step - loss: 5.6340e-05 - mae: 0.0015 - acc: 0.9911 - recall_1: 0.0144 - precision_1: 1.0000 - val_loss: 3.3631e-04 - val_mae: 0.0027 - val_acc: 0.9883 - val_recall_1: 0.0154 - val_precision_1: 1.0000\n",
            "Epoch 4/10\n",
            "608/608 [==============================] - 15s 24ms/step - loss: 3.2083e-05 - mae: 0.0014 - acc: 0.9932 - recall_1: 0.0145 - precision_1: 1.0000 - val_loss: 3.0725e-04 - val_mae: 0.0020 - val_acc: 0.9908 - val_recall_1: 0.0155 - val_precision_1: 1.0000\n",
            "Epoch 5/10\n",
            "608/608 [==============================] - 15s 25ms/step - loss: 1.8085e-05 - mae: 0.0012 - acc: 0.9950 - recall_1: 0.0145 - precision_1: 1.0000 - val_loss: 2.9285e-04 - val_mae: 0.0019 - val_acc: 0.9908 - val_recall_1: 0.0156 - val_precision_1: 1.0000\n",
            "Epoch 6/10\n",
            "608/608 [==============================] - 15s 25ms/step - loss: 9.6797e-06 - mae: 0.0010 - acc: 0.9941 - recall_1: 0.0145 - precision_1: 1.0000 - val_loss: 2.8146e-04 - val_mae: 0.0015 - val_acc: 0.9910 - val_recall_1: 0.0156 - val_precision_1: 1.0000\n",
            "Epoch 7/10\n",
            "608/608 [==============================] - 15s 24ms/step - loss: 4.9847e-06 - mae: 7.9612e-04 - acc: 0.9942 - recall_1: 0.0145 - precision_1: 1.0000 - val_loss: 2.7896e-04 - val_mae: 0.0017 - val_acc: 0.9913 - val_recall_1: 0.0155 - val_precision_1: 1.0000\n",
            "Epoch 8/10\n",
            "608/608 [==============================] - 15s 24ms/step - loss: 4.5558e-06 - mae: 8.2571e-04 - acc: 0.9943 - recall_1: 0.0145 - precision_1: 1.0000 - val_loss: 2.7630e-04 - val_mae: 0.0015 - val_acc: 0.9811 - val_recall_1: 0.0155 - val_precision_1: 1.0000\n",
            "Epoch 9/10\n",
            "608/608 [==============================] - 15s 25ms/step - loss: 4.3051e-06 - mae: 8.1210e-04 - acc: 0.9945 - recall_1: 0.0145 - precision_1: 1.0000 - val_loss: 2.8167e-04 - val_mae: 0.0022 - val_acc: 0.9913 - val_recall_1: 0.0155 - val_precision_1: 1.0000\n",
            "Epoch 10/10\n",
            "608/608 [==============================] - 15s 24ms/step - loss: 3.9503e-06 - mae: 8.1569e-04 - acc: 0.9942 - recall_1: 0.0145 - precision_1: 1.0000 - val_loss: 2.8015e-04 - val_mae: 0.0016 - val_acc: 0.9913 - val_recall_1: 0.0155 - val_precision_1: 1.0000\n"
          ]
        }
      ],
      "source": [
        "x_train = train.values.reshape(train.shape[0], 1, train.shape[1])\n",
        "x_test = test.values.reshape(test.shape[0], 1,train.shape[1])\n",
        "\n",
        "x_out_val = x_out.values.reshape(x_out.shape[0], 1,x_out.shape[1])\n",
        "\n",
        "#define the model\n",
        "\n",
        "def autoencoder_model(X):\n",
        "\n",
        "  inputs = Input(shape=(X.shape[1], X.shape[2]))\n",
        "  L1 = Bidirectional(LSTM(128, activation='relu', return_sequences=True,\n",
        "              kernel_regularizer=regularizers.l2(0.00)))(inputs)\n",
        "  L2 = Bidirectional(LSTM(64, activation='relu', return_sequences=False))(L1)\n",
        "  L3 = RepeatVector(X.shape[1])(L2)\n",
        "  L4 = Bidirectional(LSTM(64, activation='relu', return_sequences=True))(L3)\n",
        "  L5 = Bidirectional(LSTM(128, activation='relu', return_sequences=True))(L4)\n",
        "  output = TimeDistributed(Dense(X.shape[2]))(L5)\n",
        "  model = Model(inputs=inputs, outputs=output)\n",
        "  return model\n",
        "\n",
        "\n",
        "# create the autoencoder model\n",
        "model = autoencoder_model(x_train)\n",
        "model.compile(optimizer='adam', loss=['mse'],\n",
        "              metrics=['mae', 'acc', tf.keras.metrics.Recall(), tf.keras.metrics.Precision()])\n",
        "model.summary()\n",
        "\n",
        "nb_epochs = 10\n",
        "batch_size = 1000\n",
        "history = model.fit(x_train, x_train, epochs=nb_epochs, batch_size=batch_size,\n",
        "                    validation_split=0.15).history"
      ]
    },
    {
      "cell_type": "code",
      "execution_count": null,
      "metadata": {
        "colab": {
          "base_uri": "https://localhost:8080/",
          "height": 873
        },
        "id": "zcffL6Swj_jg",
        "outputId": "362535da-9c50-4c34-b422-b60b36ce4a31"
      },
      "outputs": [
        {
          "name": "stdout",
          "output_type": "stream",
          "text": [
            "22335/22335 [==============================] - 74s 3ms/step\n"
          ]
        },
        {
          "name": "stderr",
          "output_type": "stream",
          "text": [
            "<ipython-input-32-75a6f4c073f7>:12: UserWarning: \n",
            "\n",
            "`distplot` is a deprecated function and will be removed in seaborn v0.14.0.\n",
            "\n",
            "Please adapt your code to use either `displot` (a figure-level function with\n",
            "similar flexibility) or `histplot` (an axes-level function for histograms).\n",
            "\n",
            "For a guide to updating your code to use the new functions, please see\n",
            "https://gist.github.com/mwaskom/de44147ed2974457ad6372750bbe5751\n",
            "\n",
            "  sns.distplot(scored['Loss_mse'], bins = 20, kde= True, color = 'blue');\n"
          ]
        },
        {
          "data": {
            "text/plain": [
              "(0.0, 0.5)"
            ]
          },
          "execution_count": 32,
          "metadata": {},
          "output_type": "execute_result"
        },
        {
          "data": {
            "image/png": "[encoded data removed]",
            "text/plain": [
              "<Figure size 1280x720 with 1 Axes>"
            ]
          },
          "metadata": {},
          "output_type": "display_data"
        }
      ],
      "source": [
        "# plot the loss distribution of the training set\n",
        "X_pred = model.predict(x_train)\n",
        "X_pred = X_pred.reshape(X_pred.shape[0], X_pred.shape[2])\n",
        "X_pred = pd.DataFrame(X_pred, columns=train.columns)\n",
        "X_pred.index = train.index\n",
        "\n",
        "scored = pd.DataFrame(index=train.index)\n",
        "Xtrain = x_train.reshape(x_train.shape[0], x_train.shape[2])\n",
        "scored['Loss_mse'] = np.mean(np.abs(X_pred-Xtrain), axis = 1)\n",
        "plt.figure(figsize=(16,9), dpi=80)\n",
        "plt.title('Loss Distribution', fontsize=16)\n",
        "sns.distplot(scored['Loss_mse'], bins = 20, kde= True, color = 'blue');\n",
        "plt.xlim([0.0,.5])"
      ]
    },
    {
      "cell_type": "code",
      "execution_count": null,
      "metadata": {
        "colab": {
          "base_uri": "https://localhost:8080/"
        },
        "id": "wZyhRl6ShGNr",
        "outputId": "80fa31f5-702f-4be6-9aad-33f8a45e2f58"
      },
      "outputs": [
        {
          "name": "stdout",
          "output_type": "stream",
          "text": [
            "3188/3188 [==============================] - 10s 3ms/step\n",
            "              precision    recall  f1-score   support\n",
            "\n",
            "          -1       0.83      0.54      0.65      3737\n",
            "           1       0.98      1.00      0.99     98263\n",
            "\n",
            "    accuracy                           0.98    102000\n",
            "   macro avg       0.91      0.77      0.82    102000\n",
            "weighted avg       0.98      0.98      0.98    102000\n",
            "\n"
          ]
        }
      ],
      "source": [
        "# calculate the loss on the test set\n",
        "X_pred = model.predict(x_out_val)\n",
        "X_pred = X_pred.reshape(X_pred.shape[0], X_pred.shape[2])\n",
        "X_pred = pd.DataFrame(X_pred, columns=x_out.columns)\n",
        "X_pred.index = x_out.index\n",
        "\n",
        "scored = pd.DataFrame(index=x_out.index)\n",
        "Xtest = x_out.values.reshape(x_out.shape[0], x_out.shape[1])\n",
        "scored['Loss_mae'] = np.mean(np.abs(X_pred-Xtest), axis = 1)\n",
        "scored['Threshold'] = 0.015\n",
        "scored['Anomaly'] = np.where(scored['Loss_mae'] > scored['Threshold'], -1, 1)\n",
        "scored.head()\n",
        "test_pred = scored.Anomaly\n",
        "from sklearn.metrics import classification_report\n",
        "print(classification_report(true_labels, test_pred))"
      ]
    },
    {
      "cell_type": "code",
      "execution_count": null,
      "metadata": {
        "colab": {
          "base_uri": "https://localhost:8080/"
        },
        "id": "3218W6owhURs",
        "outputId": "20568228-8202-4788-b03d-7955f9ec8038"
      },
      "outputs": [
        {
          "data": {
            "text/plain": [
              "Counter({1: 101577, -1: 423})"
            ]
          },
          "execution_count": 177,
          "metadata": {},
          "output_type": "execute_result"
        }
      ],
      "source": [
        "Counter(test_pred)"
      ]
    },
    {
      "cell_type": "code",
      "execution_count": null,
      "metadata": {
        "colab": {
          "base_uri": "https://localhost:8080/",
          "height": 206
        },
        "id": "zgNOyJA2hUT_",
        "outputId": "8768ab71-2be5-44c1-87b8-438d9e8ab8a2"
      },
      "outputs": [
        {
          "data": {
            "text/html": [
              "\n",
              "  <div id=\"df-cd401388-f223-4f44-9d24-3c2713e75439\">\n",
              "    <div class=\"colab-df-container\">\n",
              "      <div>\n",
              "<style scoped>\n",
              "    .dataframe tbody tr th:only-of-type {\n",
              "        vertical-align: middle;\n",
              "    }\n",
              "\n",
              "    .dataframe tbody tr th {\n",
              "        vertical-align: top;\n",
              "    }\n",
              "\n",
              "    .dataframe thead th {\n",
              "        text-align: right;\n",
              "    }\n",
              "</style>\n",
              "<table border=\"1\" class=\"dataframe\">\n",
              "  <thead>\n",
              "    <tr style=\"text-align: right;\">\n",
              "      <th></th>\n",
              "      <th>Loss_mae</th>\n",
              "      <th>Threshold</th>\n",
              "      <th>Anomaly</th>\n",
              "    </tr>\n",
              "  </thead>\n",
              "  <tbody>\n",
              "    <tr>\n",
              "      <th>0</th>\n",
              "      <td>0.065152</td>\n",
              "      <td>0.1</td>\n",
              "      <td>1</td>\n",
              "    </tr>\n",
              "    <tr>\n",
              "      <th>1</th>\n",
              "      <td>0.065152</td>\n",
              "      <td>0.1</td>\n",
              "      <td>1</td>\n",
              "    </tr>\n",
              "    <tr>\n",
              "      <th>2</th>\n",
              "      <td>0.065152</td>\n",
              "      <td>0.1</td>\n",
              "      <td>1</td>\n",
              "    </tr>\n",
              "    <tr>\n",
              "      <th>3</th>\n",
              "      <td>0.065152</td>\n",
              "      <td>0.1</td>\n",
              "      <td>1</td>\n",
              "    </tr>\n",
              "    <tr>\n",
              "      <th>4</th>\n",
              "      <td>0.117052</td>\n",
              "      <td>0.1</td>\n",
              "      <td>-1</td>\n",
              "    </tr>\n",
              "  </tbody>\n",
              "</table>\n",
              "</div>\n",
              "      <button class=\"colab-df-convert\" onclick=\"convertToInteractive('df-cd401388-f223-4f44-9d24-3c2713e75439')\"\n",
              "              title=\"Convert this dataframe to an interactive table.\"\n",
              "              style=\"display:none;\">\n",
              "        \n",
              "  <svg xmlns=\"http://www.w3.org/2000/svg\" height=\"24px\"viewBox=\"0 0 24 24\"\n",
              "       width=\"24px\">\n",
              "    <path d=\"M0 0h24v24H0V0z\" fill=\"none\"/>\n",
              "    <path d=\"M18.56 5.44l.94 2.06.94-2.06 2.06-.94-2.06-.94-.94-2.06-.94 2.06-2.06.94zm-11 1L8.5 8.5l.94-2.06 2.06-.94-2.06-.94L8.5 2.5l-.94 2.06-2.06.94zm10 10l.94 2.06.94-2.06 2.06-.94-2.06-.94-.94-2.06-.94 2.06-2.06.94z\"/><path d=\"M17.41 7.96l-1.37-1.37c-.4-.4-.92-.59-1.43-.59-.52 0-1.04.2-1.43.59L10.3 9.45l-7.72 7.72c-.78.78-.78 2.05 0 2.83L4 21.41c.39.39.9.59 1.41.59.51 0 1.02-.2 1.41-.59l7.78-7.78 2.81-2.81c.8-.78.8-2.07 0-2.86zM5.41 20L4 18.59l7.72-7.72 1.47 1.35L5.41 20z\"/>\n",
              "  </svg>\n",
              "      </button>\n",
              "      \n",
              "  <style>\n",
              "    .colab-df-container {\n",
              "      display:flex;\n",
              "      flex-wrap:wrap;\n",
              "      gap: 12px;\n",
              "    }\n",
              "\n",
              "    .colab-df-convert {\n",
              "      background-color: #E8F0FE;\n",
              "      border: none;\n",
              "      border-radius: 50%;\n",
              "      cursor: pointer;\n",
              "      display: none;\n",
              "      fill: #1967D2;\n",
              "      height: 32px;\n",
              "      padding: 0 0 0 0;\n",
              "      width: 32px;\n",
              "    }\n",
              "\n",
              "    .colab-df-convert:hover {\n",
              "      background-color: #E2EBFA;\n",
              "      box-shadow: 0px 1px 2px rgba(60, 64, 67, 0.3), 0px 1px 3px 1px rgba(60, 64, 67, 0.15);\n",
              "      fill: #174EA6;\n",
              "    }\n",
              "\n",
              "    [theme=dark] .colab-df-convert {\n",
              "      background-color: #3B4455;\n",
              "      fill: #D2E3FC;\n",
              "    }\n",
              "\n",
              "    [theme=dark] .colab-df-convert:hover {\n",
              "      background-color: #434B5C;\n",
              "      box-shadow: 0px 1px 3px 1px rgba(0, 0, 0, 0.15);\n",
              "      filter: drop-shadow(0px 1px 2px rgba(0, 0, 0, 0.3));\n",
              "      fill: #FFFFFF;\n",
              "    }\n",
              "  </style>\n",
              "\n",
              "      <script>\n",
              "        const buttonEl =\n",
              "          document.querySelector('#df-cd401388-f223-4f44-9d24-3c2713e75439 button.colab-df-convert');\n",
              "        buttonEl.style.display =\n",
              "          google.colab.kernel.accessAllowed ? 'block' : 'none';\n",
              "\n",
              "        async function convertToInteractive(key) {\n",
              "          const element = document.querySelector('#df-cd401388-f223-4f44-9d24-3c2713e75439');\n",
              "          const dataTable =\n",
              "            await google.colab.kernel.invokeFunction('convertToInteractive',\n",
              "                                                     [key], {});\n",
              "          if (!dataTable) return;\n",
              "\n",
              "          const docLinkHtml = 'Like what you see? Visit the ' +\n",
              "            '<a target=\"_blank\" href=https://colab.research.google.com/notebooks/data_table.ipynb>data table notebook</a>'\n",
              "            + ' to learn more about interactive tables.';\n",
              "          element.innerHTML = '';\n",
              "          dataTable['output_type'] = 'display_data';\n",
              "          await google.colab.output.renderOutput(dataTable, element);\n",
              "          const docLink = document.createElement('div');\n",
              "          docLink.innerHTML = docLinkHtml;\n",
              "          element.appendChild(docLink);\n",
              "        }\n",
              "      </script>\n",
              "    </div>\n",
              "  </div>\n",
              "  "
            ],
            "text/plain": [
              "   Loss_mae  Threshold  Anomaly\n",
              "0  0.065152        0.1        1\n",
              "1  0.065152        0.1        1\n",
              "2  0.065152        0.1        1\n",
              "3  0.065152        0.1        1\n",
              "4  0.117052        0.1       -1"
            ]
          },
          "execution_count": 175,
          "metadata": {},
          "output_type": "execute_result"
        }
      ],
      "source": [
        "scored.head()"
      ]
    },
    {
      "cell_type": "code",
      "execution_count": null,
      "metadata": {
        "colab": {
          "base_uri": "https://localhost:8080/"
        },
        "id": "aDlboSyqhUWW",
        "outputId": "859ca704-ae06-492f-824d-c1b470cd8db0"
      },
      "outputs": [
        {
          "data": {
            "text/plain": [
              "(102000, 3)"
            ]
          },
          "execution_count": 169,
          "metadata": {},
          "output_type": "execute_result"
        }
      ],
      "source": [
        "scored.shape"
      ]
    },
    {
      "cell_type": "code",
      "execution_count": null,
      "metadata": {
        "id": "guelryFrhUYr"
      },
      "outputs": [],
      "source": []
    },
    {
      "cell_type": "code",
      "execution_count": null,
      "metadata": {
        "id": "wtF88ZS-CWdg"
      },
      "outputs": [],
      "source": [
        "clf = IsolationForest(n_estimators=200, contamination = 0.02)"
      ]
    },
    {
      "cell_type": "code",
      "execution_count": null,
      "metadata": {
        "colab": {
          "base_uri": "https://localhost:8080/",
          "height": 383
        },
        "id": "Z3vkyl5connB",
        "outputId": "826176e5-3590-49e0-9017-4b08be3966b2"
      },
      "outputs": [
        {
          "ename": "ModuleNotFoundError",
          "evalue": "ignored",
          "output_type": "error",
          "traceback": [
            "\u001b[0;31m---------------------------------------------------------------------------\u001b[0m",
            "\u001b[0;31mModuleNotFoundError\u001b[0m                       Traceback (most recent call last)",
            "\u001b[0;32m<ipython-input-5-b5e1b090659a>\u001b[0m in \u001b[0;36m<cell line: 1>\u001b[0;34m()\u001b[0m\n\u001b[0;32m----> 1\u001b[0;31m \u001b[0;32mfrom\u001b[0m \u001b[0mpyod\u001b[0m\u001b[0;34m.\u001b[0m\u001b[0mmodels\u001b[0m\u001b[0;34m.\u001b[0m\u001b[0mcopod\u001b[0m \u001b[0;32mimport\u001b[0m \u001b[0mCOPOD\u001b[0m\u001b[0;34m\u001b[0m\u001b[0;34m\u001b[0m\u001b[0m\n\u001b[0m\u001b[1;32m      2\u001b[0m \u001b[0;32mif\u001b[0m \u001b[0m__name__\u001b[0m \u001b[0;34m==\u001b[0m \u001b[0;34m\"__main__\"\u001b[0m\u001b[0;34m:\u001b[0m\u001b[0;34m\u001b[0m\u001b[0;34m\u001b[0m\u001b[0m\n\u001b[1;32m      3\u001b[0m \u001b[0;34m\u001b[0m\u001b[0m\n\u001b[1;32m      4\u001b[0m     \u001b[0;31m# train COPOD detector\u001b[0m\u001b[0;34m\u001b[0m\u001b[0;34m\u001b[0m\u001b[0m\n\u001b[1;32m      5\u001b[0m     \u001b[0mclf_name\u001b[0m \u001b[0;34m=\u001b[0m \u001b[0;34m'COPOD'\u001b[0m\u001b[0;34m\u001b[0m\u001b[0;34m\u001b[0m\u001b[0m\n",
            "\u001b[0;31mModuleNotFoundError\u001b[0m: No module named 'pyod'",
            "",
            "\u001b[0;31m---------------------------------------------------------------------------\u001b[0;32m\nNOTE: If your import is failing due to a missing package, you can\nmanually install dependencies using either !pip or !apt.\n\nTo view examples of installing some common dependencies, click the\n\"Open Examples\" button below.\n\u001b[0;31m---------------------------------------------------------------------------\u001b[0m\n"
          ]
        }
      ],
      "source": [
        "from pyod.models.copod import COPOD\n",
        "if __name__ == \"__main__\":\n",
        "\n",
        "    # train COPOD detector\n",
        "    clf_name = 'COPOD'\n",
        "    clf = COPOD(contamination=0.01)\n",
        "\n",
        "    # you could try parallel version as well.\n",
        "    # clf = COPOD(n_jobs=2)\n",
        "    clf.fit(train)\n",
        "    pred_test = clf.predict(x_out)\n",
        "\n",
        "if (pred_test == 1).any():\n",
        "    pred_test[pred_test == 1] = -1\n",
        "\n",
        "if (pred_test == 0).any():\n",
        "    pred_test[pred_test == 0] = 1\n",
        "\n",
        "Counter(pred_test)\n",
        "\n",
        "from sklearn.metrics import classification_report\n",
        "print(classification_report(true_labels, pred_test))"
      ]
    },
    {
      "cell_type": "code",
      "execution_count": null,
      "metadata": {
        "colab": {
          "base_uri": "https://localhost:8080/"
        },
        "id": "A1Y_Zfhm4TpG",
        "outputId": "422a6fe1-ddb4-46d3-d129-34ffe2392402"
      },
      "outputs": [
        {
          "name": "stdout",
          "output_type": "stream",
          "text": [
            "              precision    recall  f1-score   support\n",
            "\n",
            "          -1       0.71      1.00      0.83      3737\n",
            "           1       1.00      0.98      0.99     98263\n",
            "\n",
            "    accuracy                           0.99    102000\n",
            "   macro avg       0.86      0.99      0.91    102000\n",
            "weighted avg       0.99      0.99      0.99    102000\n",
            "\n"
          ]
        }
      ],
      "source": [
        "from pyod.models.ecod import ECOD\n",
        "if __name__ == \"__main__\":\n",
        "\n",
        "    # train COPOD detector\n",
        "    clf_name = 'ECOD'\n",
        "    clf = ECOD(contamination=0.015)\n",
        "\n",
        "    # you could try parallel version as well.\n",
        "    # clf = COPOD(n_jobs=2)\n",
        "    clf.fit(train)\n",
        "    pred_test = clf.predict(x_out)\n",
        "\n",
        "if (pred_test == 1).any():\n",
        "    pred_test[pred_test == 1] = -1\n",
        "\n",
        "if (pred_test == 0).any():\n",
        "    pred_test[pred_test == 0] = 1\n",
        "\n",
        "Counter(pred_test)\n",
        "\n",
        "from sklearn.metrics import classification_report\n",
        "print(classification_report(true_labels, pred_test))"
      ]
    },
    {
      "cell_type": "code",
      "execution_count": null,
      "metadata": {
        "colab": {
          "base_uri": "https://localhost:8080/"
        },
        "id": "Hp5LxTvSrXQ5",
        "outputId": "b936840a-1981-4422-a9aa-375bce5bb570"
      },
      "outputs": [
        {
          "data": {
            "text/plain": [
              "Counter({1: 96770, -1: 5230})"
            ]
          },
          "execution_count": 31,
          "metadata": {},
          "output_type": "execute_result"
        }
      ],
      "source": [
        "Counter(pred_test)"
      ]
    },
    {
      "cell_type": "code",
      "execution_count": null,
      "metadata": {
        "id": "51G6E0lkCeIY"
      },
      "outputs": [],
      "source": [
        "clf_if_cv = clf.fit(train)"
      ]
    },
    {
      "cell_type": "code",
      "execution_count": null,
      "metadata": {
        "colab": {
          "base_uri": "https://localhost:8080/"
        },
        "id": "ThAGHbnCCu3O",
        "outputId": "b7c2f9f3-59e2-487a-ae06-e38cd7c8e85d"
      },
      "outputs": [
        {
          "data": {
            "text/plain": [
              "['/content/drive/MyDrive/thesis/models/iforest/clf_if_cv_pca.joblib']"
            ]
          },
          "execution_count": 218,
          "metadata": {},
          "output_type": "execute_result"
        }
      ],
      "source": [
        "from joblib import dump, load\n",
        "\n",
        "# save the model\n",
        "dump(clf_if_cv,'/content/drive/MyDrive/thesis/models/iforest/clf_if_cv_pca.joblib')"
      ]
    },
    {
      "cell_type": "code",
      "execution_count": null,
      "metadata": {
        "id": "n8vnPcnoCyV4"
      },
      "outputs": [],
      "source": [
        "from joblib import dump, load\n",
        "clf_if_cv = load('/content/drive/MyDrive/thesis/models/iforest/clf_if_cv_pca.joblib')"
      ]
    },
    {
      "cell_type": "code",
      "execution_count": null,
      "metadata": {
        "id": "CXy6axpLC1CA"
      },
      "outputs": [],
      "source": [
        "pred_test = clf_if_cv.predict(x_out)"
      ]
    },
    {
      "cell_type": "code",
      "execution_count": null,
      "metadata": {
        "colab": {
          "base_uri": "https://localhost:8080/"
        },
        "id": "ieUWhD8TDAKg",
        "outputId": "fa34f447-aa8c-404c-f470-50e7a90f1b72"
      },
      "outputs": [
        {
          "data": {
            "text/plain": [
              "Counter({1: 97685, -1: 4315})"
            ]
          },
          "execution_count": 221,
          "metadata": {},
          "output_type": "execute_result"
        }
      ],
      "source": [
        "Counter(pred_test)"
      ]
    },
    {
      "cell_type": "code",
      "execution_count": null,
      "metadata": {
        "id": "_hpIk2bPDD04"
      },
      "outputs": [],
      "source": [
        "true_labels = df_outlier.label"
      ]
    },
    {
      "cell_type": "code",
      "execution_count": null,
      "metadata": {
        "id": "-1_9L_wkDIwg"
      },
      "outputs": [],
      "source": [
        "df_validate['label'] = pred_test"
      ]
    },
    {
      "cell_type": "code",
      "execution_count": null,
      "metadata": {
        "id": "bNB6VtNdDK83"
      },
      "outputs": [],
      "source": [
        "df_validate[df_validate['label'] == -1].to_csv('/content/drive/MyDrive/thesis/models/iforest/cv_pca_results_val.csv', index=False)"
      ]
    },
    {
      "cell_type": "code",
      "execution_count": null,
      "metadata": {
        "colab": {
          "base_uri": "https://localhost:8080/"
        },
        "id": "bEapn7mlDQZs",
        "outputId": "872e3bf8-6613-438f-d31f-b8f80c7393de"
      },
      "outputs": [
        {
          "name": "stdout",
          "output_type": "stream",
          "text": [
            "              precision    recall  f1-score   support\n",
            "\n",
            "          -1       0.83      0.96      0.89      3737\n",
            "           1       1.00      0.99      1.00     98263\n",
            "\n",
            "    accuracy                           0.99    102000\n",
            "   macro avg       0.92      0.98      0.95    102000\n",
            "weighted avg       0.99      0.99      0.99    102000\n",
            "\n"
          ]
        }
      ],
      "source": [
        "from sklearn.metrics import classification_report\n",
        "print(classification_report(true_labels, pred_test))"
      ]
    },
    {
      "cell_type": "code",
      "execution_count": null,
      "metadata": {
        "colab": {
          "base_uri": "https://localhost:8080/"
        },
        "id": "4fgLY5P6DSan",
        "outputId": "17115030-6926-4a79-e35f-183ae6d99b4d"
      },
      "outputs": [
        {
          "name": "stdout",
          "output_type": "stream",
          "text": [
            "Accuracy: 0.9916666666666667\n",
            "Precision: 0.9986077698725495\n",
            "Recall: 0.9927337858603951\n",
            "F1 Score: 0.9956621144385245\n"
          ]
        }
      ],
      "source": [
        "from sklearn.metrics import accuracy_score, precision_score, recall_score, f1_score\n",
        "\n",
        "# Assuming you have the true labels for the dataset in 'true_labels' and the LOF predictions in 'lof_predictions'\n",
        "\n",
        "# Convert LOF scores to binary labels based on a threshold (e.g., outliers with scores above the threshold are considered anomalies)\n",
        "\n",
        "# Calculate accuracy\n",
        "accuracy = accuracy_score(true_labels, pred_test)\n",
        "print(\"Accuracy:\", accuracy)\n",
        "\n",
        "# Calculate precision\n",
        "precision = precision_score(true_labels, pred_test)\n",
        "print(\"Precision:\", precision)\n",
        "\n",
        "# Calculate recall\n",
        "recall = recall_score(true_labels, pred_test)\n",
        "print(\"Recall:\", recall)\n",
        "\n",
        "# Calculate F1 score\n",
        "f1 = f1_score(true_labels, pred_test)\n",
        "print(\"F1 Score:\", f1)"
      ]
    },
    {
      "cell_type": "code",
      "execution_count": null,
      "metadata": {
        "id": "XW6NLenJDrFE"
      },
      "outputs": [],
      "source": []
    },
    {
      "cell_type": "code",
      "execution_count": null,
      "metadata": {
        "id": "KPcPktnXDrsX"
      },
      "outputs": [],
      "source": []
    },
    {
      "cell_type": "markdown",
      "metadata": {
        "id": "Z0Cne8b0DsLo"
      },
      "source": [
        "CV+**AE rerun"
      ]
    },
    {
      "cell_type": "code",
      "execution_count": null,
      "metadata": {
        "id": "D4E0XMqFDthh"
      },
      "outputs": [],
      "source": [
        "df = pd.read_csv('/content/drive/MyDrive/thesis/train/reduce_ae_cv.csv', sep=',')\n",
        "x_out = pd.read_csv('/content/drive/MyDrive/thesis/val/val-reduce_ae_cv.csv', sep=',')"
      ]
    },
    {
      "cell_type": "code",
      "execution_count": null,
      "metadata": {
        "colab": {
          "base_uri": "https://localhost:8080/",
          "height": 236
        },
        "id": "I9_Vn8FsLLlM",
        "outputId": "07c14732-eaca-497f-d99c-b947784782cf"
      },
      "outputs": [
        {
          "data": {
            "text/html": [
              "\n",
              "  <div id=\"df-0a241724-44b7-4e77-97a0-d5fd0fd86d93\">\n",
              "    <div class=\"colab-df-container\">\n",
              "      <div>\n",
              "<style scoped>\n",
              "    .dataframe tbody tr th:only-of-type {\n",
              "        vertical-align: middle;\n",
              "    }\n",
              "\n",
              "    .dataframe tbody tr th {\n",
              "        vertical-align: top;\n",
              "    }\n",
              "\n",
              "    .dataframe thead th {\n",
              "        text-align: right;\n",
              "    }\n",
              "</style>\n",
              "<table border=\"1\" class=\"dataframe\">\n",
              "  <thead>\n",
              "    <tr style=\"text-align: right;\">\n",
              "      <th></th>\n",
              "      <th>0</th>\n",
              "      <th>1</th>\n",
              "      <th>2</th>\n",
              "      <th>3</th>\n",
              "      <th>4</th>\n",
              "      <th>5</th>\n",
              "      <th>6</th>\n",
              "      <th>7</th>\n",
              "      <th>8</th>\n",
              "      <th>9</th>\n",
              "      <th>...</th>\n",
              "      <th>22</th>\n",
              "      <th>23</th>\n",
              "      <th>24</th>\n",
              "      <th>25</th>\n",
              "      <th>26</th>\n",
              "      <th>27</th>\n",
              "      <th>28</th>\n",
              "      <th>29</th>\n",
              "      <th>30</th>\n",
              "      <th>31</th>\n",
              "    </tr>\n",
              "  </thead>\n",
              "  <tbody>\n",
              "    <tr>\n",
              "      <th>0</th>\n",
              "      <td>0.0</td>\n",
              "      <td>0.0</td>\n",
              "      <td>0.0</td>\n",
              "      <td>1.145165</td>\n",
              "      <td>0.868509</td>\n",
              "      <td>1.334151</td>\n",
              "      <td>0.0</td>\n",
              "      <td>1.515522</td>\n",
              "      <td>2.182882</td>\n",
              "      <td>1.765377</td>\n",
              "      <td>...</td>\n",
              "      <td>1.548166</td>\n",
              "      <td>2.091231</td>\n",
              "      <td>0.599721</td>\n",
              "      <td>0.0</td>\n",
              "      <td>0.000000</td>\n",
              "      <td>0.000000</td>\n",
              "      <td>0.0</td>\n",
              "      <td>0.0</td>\n",
              "      <td>0.579391</td>\n",
              "      <td>1.322915</td>\n",
              "    </tr>\n",
              "    <tr>\n",
              "      <th>1</th>\n",
              "      <td>0.0</td>\n",
              "      <td>0.0</td>\n",
              "      <td>0.0</td>\n",
              "      <td>1.145165</td>\n",
              "      <td>0.868509</td>\n",
              "      <td>1.334151</td>\n",
              "      <td>0.0</td>\n",
              "      <td>1.515522</td>\n",
              "      <td>2.182882</td>\n",
              "      <td>1.765377</td>\n",
              "      <td>...</td>\n",
              "      <td>1.548166</td>\n",
              "      <td>2.091231</td>\n",
              "      <td>0.599721</td>\n",
              "      <td>0.0</td>\n",
              "      <td>0.000000</td>\n",
              "      <td>0.000000</td>\n",
              "      <td>0.0</td>\n",
              "      <td>0.0</td>\n",
              "      <td>0.579391</td>\n",
              "      <td>1.322915</td>\n",
              "    </tr>\n",
              "    <tr>\n",
              "      <th>2</th>\n",
              "      <td>0.0</td>\n",
              "      <td>0.0</td>\n",
              "      <td>0.0</td>\n",
              "      <td>1.145165</td>\n",
              "      <td>0.868509</td>\n",
              "      <td>1.334151</td>\n",
              "      <td>0.0</td>\n",
              "      <td>1.515522</td>\n",
              "      <td>2.182882</td>\n",
              "      <td>1.765377</td>\n",
              "      <td>...</td>\n",
              "      <td>1.548166</td>\n",
              "      <td>2.091231</td>\n",
              "      <td>0.599721</td>\n",
              "      <td>0.0</td>\n",
              "      <td>0.000000</td>\n",
              "      <td>0.000000</td>\n",
              "      <td>0.0</td>\n",
              "      <td>0.0</td>\n",
              "      <td>0.579391</td>\n",
              "      <td>1.322915</td>\n",
              "    </tr>\n",
              "    <tr>\n",
              "      <th>3</th>\n",
              "      <td>0.0</td>\n",
              "      <td>0.0</td>\n",
              "      <td>0.0</td>\n",
              "      <td>1.145165</td>\n",
              "      <td>0.868509</td>\n",
              "      <td>1.334151</td>\n",
              "      <td>0.0</td>\n",
              "      <td>1.515522</td>\n",
              "      <td>2.182882</td>\n",
              "      <td>1.765377</td>\n",
              "      <td>...</td>\n",
              "      <td>1.548166</td>\n",
              "      <td>2.091231</td>\n",
              "      <td>0.599721</td>\n",
              "      <td>0.0</td>\n",
              "      <td>0.000000</td>\n",
              "      <td>0.000000</td>\n",
              "      <td>0.0</td>\n",
              "      <td>0.0</td>\n",
              "      <td>0.579391</td>\n",
              "      <td>1.322915</td>\n",
              "    </tr>\n",
              "    <tr>\n",
              "      <th>4</th>\n",
              "      <td>0.0</td>\n",
              "      <td>0.0</td>\n",
              "      <td>0.0</td>\n",
              "      <td>1.817867</td>\n",
              "      <td>1.464603</td>\n",
              "      <td>0.798102</td>\n",
              "      <td>0.0</td>\n",
              "      <td>1.986785</td>\n",
              "      <td>0.928911</td>\n",
              "      <td>2.528975</td>\n",
              "      <td>...</td>\n",
              "      <td>1.542877</td>\n",
              "      <td>0.926646</td>\n",
              "      <td>1.524741</td>\n",
              "      <td>0.0</td>\n",
              "      <td>0.197812</td>\n",
              "      <td>2.034939</td>\n",
              "      <td>0.0</td>\n",
              "      <td>0.0</td>\n",
              "      <td>0.297903</td>\n",
              "      <td>0.148584</td>\n",
              "    </tr>\n",
              "  </tbody>\n",
              "</table>\n",
              "<p>5 rows × 32 columns</p>\n",
              "</div>\n",
              "      <button class=\"colab-df-convert\" onclick=\"convertToInteractive('df-0a241724-44b7-4e77-97a0-d5fd0fd86d93')\"\n",
              "              title=\"Convert this dataframe to an interactive table.\"\n",
              "              style=\"display:none;\">\n",
              "        \n",
              "  <svg xmlns=\"http://www.w3.org/2000/svg\" height=\"24px\"viewBox=\"0 0 24 24\"\n",
              "       width=\"24px\">\n",
              "    <path d=\"M0 0h24v24H0V0z\" fill=\"none\"/>\n",
              "    <path d=\"M18.56 5.44l.94 2.06.94-2.06 2.06-.94-2.06-.94-.94-2.06-.94 2.06-2.06.94zm-11 1L8.5 8.5l.94-2.06 2.06-.94-2.06-.94L8.5 2.5l-.94 2.06-2.06.94zm10 10l.94 2.06.94-2.06 2.06-.94-2.06-.94-.94-2.06-.94 2.06-2.06.94z\"/><path d=\"M17.41 7.96l-1.37-1.37c-.4-.4-.92-.59-1.43-.59-.52 0-1.04.2-1.43.59L10.3 9.45l-7.72 7.72c-.78.78-.78 2.05 0 2.83L4 21.41c.39.39.9.59 1.41.59.51 0 1.02-.2 1.41-.59l7.78-7.78 2.81-2.81c.8-.78.8-2.07 0-2.86zM5.41 20L4 18.59l7.72-7.72 1.47 1.35L5.41 20z\"/>\n",
              "  </svg>\n",
              "      </button>\n",
              "      \n",
              "  <style>\n",
              "    .colab-df-container {\n",
              "      display:flex;\n",
              "      flex-wrap:wrap;\n",
              "      gap: 12px;\n",
              "    }\n",
              "\n",
              "    .colab-df-convert {\n",
              "      background-color: #E8F0FE;\n",
              "      border: none;\n",
              "      border-radius: 50%;\n",
              "      cursor: pointer;\n",
              "      display: none;\n",
              "      fill: #1967D2;\n",
              "      height: 32px;\n",
              "      padding: 0 0 0 0;\n",
              "      width: 32px;\n",
              "    }\n",
              "\n",
              "    .colab-df-convert:hover {\n",
              "      background-color: #E2EBFA;\n",
              "      box-shadow: 0px 1px 2px rgba(60, 64, 67, 0.3), 0px 1px 3px 1px rgba(60, 64, 67, 0.15);\n",
              "      fill: #174EA6;\n",
              "    }\n",
              "\n",
              "    [theme=dark] .colab-df-convert {\n",
              "      background-color: #3B4455;\n",
              "      fill: #D2E3FC;\n",
              "    }\n",
              "\n",
              "    [theme=dark] .colab-df-convert:hover {\n",
              "      background-color: #434B5C;\n",
              "      box-shadow: 0px 1px 3px 1px rgba(0, 0, 0, 0.15);\n",
              "      filter: drop-shadow(0px 1px 2px rgba(0, 0, 0, 0.3));\n",
              "      fill: #FFFFFF;\n",
              "    }\n",
              "  </style>\n",
              "\n",
              "      <script>\n",
              "        const buttonEl =\n",
              "          document.querySelector('#df-0a241724-44b7-4e77-97a0-d5fd0fd86d93 button.colab-df-convert');\n",
              "        buttonEl.style.display =\n",
              "          google.colab.kernel.accessAllowed ? 'block' : 'none';\n",
              "\n",
              "        async function convertToInteractive(key) {\n",
              "          const element = document.querySelector('#df-0a241724-44b7-4e77-97a0-d5fd0fd86d93');\n",
              "          const dataTable =\n",
              "            await google.colab.kernel.invokeFunction('convertToInteractive',\n",
              "                                                     [key], {});\n",
              "          if (!dataTable) return;\n",
              "\n",
              "          const docLinkHtml = 'Like what you see? Visit the ' +\n",
              "            '<a target=\"_blank\" href=https://colab.research.google.com/notebooks/data_table.ipynb>data table notebook</a>'\n",
              "            + ' to learn more about interactive tables.';\n",
              "          element.innerHTML = '';\n",
              "          dataTable['output_type'] = 'display_data';\n",
              "          await google.colab.output.renderOutput(dataTable, element);\n",
              "          const docLink = document.createElement('div');\n",
              "          docLink.innerHTML = docLinkHtml;\n",
              "          element.appendChild(docLink);\n",
              "        }\n",
              "      </script>\n",
              "    </div>\n",
              "  </div>\n",
              "  "
            ],
            "text/plain": [
              "     0    1    2         3         4         5    6         7         8  \\\n",
              "0  0.0  0.0  0.0  1.145165  0.868509  1.334151  0.0  1.515522  2.182882   \n",
              "1  0.0  0.0  0.0  1.145165  0.868509  1.334151  0.0  1.515522  2.182882   \n",
              "2  0.0  0.0  0.0  1.145165  0.868509  1.334151  0.0  1.515522  2.182882   \n",
              "3  0.0  0.0  0.0  1.145165  0.868509  1.334151  0.0  1.515522  2.182882   \n",
              "4  0.0  0.0  0.0  1.817867  1.464603  0.798102  0.0  1.986785  0.928911   \n",
              "\n",
              "          9  ...        22        23        24   25        26        27   28  \\\n",
              "0  1.765377  ...  1.548166  2.091231  0.599721  0.0  0.000000  0.000000  0.0   \n",
              "1  1.765377  ...  1.548166  2.091231  0.599721  0.0  0.000000  0.000000  0.0   \n",
              "2  1.765377  ...  1.548166  2.091231  0.599721  0.0  0.000000  0.000000  0.0   \n",
              "3  1.765377  ...  1.548166  2.091231  0.599721  0.0  0.000000  0.000000  0.0   \n",
              "4  2.528975  ...  1.542877  0.926646  1.524741  0.0  0.197812  2.034939  0.0   \n",
              "\n",
              "    29        30        31  \n",
              "0  0.0  0.579391  1.322915  \n",
              "1  0.0  0.579391  1.322915  \n",
              "2  0.0  0.579391  1.322915  \n",
              "3  0.0  0.579391  1.322915  \n",
              "4  0.0  0.297903  0.148584  \n",
              "\n",
              "[5 rows x 32 columns]"
            ]
          },
          "execution_count": 7,
          "metadata": {},
          "output_type": "execute_result"
        }
      ],
      "source": [
        "df.head(5)"
      ]
    },
    {
      "cell_type": "code",
      "execution_count": null,
      "metadata": {
        "colab": {
          "base_uri": "https://localhost:8080/",
          "height": 236
        },
        "id": "uJs76E2EssIX",
        "outputId": "efe49d00-316d-44c8-c1ed-75421e6353f1"
      },
      "outputs": [
        {
          "data": {
            "text/html": [
              "\n",
              "  <div id=\"df-d1d10d1e-882c-472d-a679-233cf57f0dda\">\n",
              "    <div class=\"colab-df-container\">\n",
              "      <div>\n",
              "<style scoped>\n",
              "    .dataframe tbody tr th:only-of-type {\n",
              "        vertical-align: middle;\n",
              "    }\n",
              "\n",
              "    .dataframe tbody tr th {\n",
              "        vertical-align: top;\n",
              "    }\n",
              "\n",
              "    .dataframe thead th {\n",
              "        text-align: right;\n",
              "    }\n",
              "</style>\n",
              "<table border=\"1\" class=\"dataframe\">\n",
              "  <thead>\n",
              "    <tr style=\"text-align: right;\">\n",
              "      <th></th>\n",
              "      <th>0</th>\n",
              "      <th>1</th>\n",
              "      <th>2</th>\n",
              "      <th>3</th>\n",
              "      <th>4</th>\n",
              "      <th>5</th>\n",
              "      <th>6</th>\n",
              "      <th>7</th>\n",
              "      <th>8</th>\n",
              "      <th>9</th>\n",
              "      <th>...</th>\n",
              "      <th>22</th>\n",
              "      <th>23</th>\n",
              "      <th>24</th>\n",
              "      <th>25</th>\n",
              "      <th>26</th>\n",
              "      <th>27</th>\n",
              "      <th>28</th>\n",
              "      <th>29</th>\n",
              "      <th>30</th>\n",
              "      <th>31</th>\n",
              "    </tr>\n",
              "  </thead>\n",
              "  <tbody>\n",
              "    <tr>\n",
              "      <th>0</th>\n",
              "      <td>0.0</td>\n",
              "      <td>0.0</td>\n",
              "      <td>0.0</td>\n",
              "      <td>1.145165</td>\n",
              "      <td>0.868509</td>\n",
              "      <td>1.334151</td>\n",
              "      <td>0.0</td>\n",
              "      <td>1.515522</td>\n",
              "      <td>2.182882</td>\n",
              "      <td>1.765377</td>\n",
              "      <td>...</td>\n",
              "      <td>1.548166</td>\n",
              "      <td>2.091231</td>\n",
              "      <td>0.599721</td>\n",
              "      <td>0.0</td>\n",
              "      <td>0.000000</td>\n",
              "      <td>0.000000</td>\n",
              "      <td>0.0</td>\n",
              "      <td>0.0</td>\n",
              "      <td>0.579391</td>\n",
              "      <td>1.322915</td>\n",
              "    </tr>\n",
              "    <tr>\n",
              "      <th>1</th>\n",
              "      <td>0.0</td>\n",
              "      <td>0.0</td>\n",
              "      <td>0.0</td>\n",
              "      <td>1.145165</td>\n",
              "      <td>0.868509</td>\n",
              "      <td>1.334151</td>\n",
              "      <td>0.0</td>\n",
              "      <td>1.515522</td>\n",
              "      <td>2.182882</td>\n",
              "      <td>1.765377</td>\n",
              "      <td>...</td>\n",
              "      <td>1.548166</td>\n",
              "      <td>2.091231</td>\n",
              "      <td>0.599721</td>\n",
              "      <td>0.0</td>\n",
              "      <td>0.000000</td>\n",
              "      <td>0.000000</td>\n",
              "      <td>0.0</td>\n",
              "      <td>0.0</td>\n",
              "      <td>0.579391</td>\n",
              "      <td>1.322915</td>\n",
              "    </tr>\n",
              "    <tr>\n",
              "      <th>2</th>\n",
              "      <td>0.0</td>\n",
              "      <td>0.0</td>\n",
              "      <td>0.0</td>\n",
              "      <td>1.145165</td>\n",
              "      <td>0.868509</td>\n",
              "      <td>1.334151</td>\n",
              "      <td>0.0</td>\n",
              "      <td>1.515522</td>\n",
              "      <td>2.182882</td>\n",
              "      <td>1.765377</td>\n",
              "      <td>...</td>\n",
              "      <td>1.548166</td>\n",
              "      <td>2.091231</td>\n",
              "      <td>0.599721</td>\n",
              "      <td>0.0</td>\n",
              "      <td>0.000000</td>\n",
              "      <td>0.000000</td>\n",
              "      <td>0.0</td>\n",
              "      <td>0.0</td>\n",
              "      <td>0.579391</td>\n",
              "      <td>1.322915</td>\n",
              "    </tr>\n",
              "    <tr>\n",
              "      <th>3</th>\n",
              "      <td>0.0</td>\n",
              "      <td>0.0</td>\n",
              "      <td>0.0</td>\n",
              "      <td>1.145165</td>\n",
              "      <td>0.868509</td>\n",
              "      <td>1.334151</td>\n",
              "      <td>0.0</td>\n",
              "      <td>1.515522</td>\n",
              "      <td>2.182882</td>\n",
              "      <td>1.765377</td>\n",
              "      <td>...</td>\n",
              "      <td>1.548166</td>\n",
              "      <td>2.091231</td>\n",
              "      <td>0.599721</td>\n",
              "      <td>0.0</td>\n",
              "      <td>0.000000</td>\n",
              "      <td>0.000000</td>\n",
              "      <td>0.0</td>\n",
              "      <td>0.0</td>\n",
              "      <td>0.579391</td>\n",
              "      <td>1.322915</td>\n",
              "    </tr>\n",
              "    <tr>\n",
              "      <th>4</th>\n",
              "      <td>0.0</td>\n",
              "      <td>0.0</td>\n",
              "      <td>0.0</td>\n",
              "      <td>1.817867</td>\n",
              "      <td>1.464603</td>\n",
              "      <td>0.798102</td>\n",
              "      <td>0.0</td>\n",
              "      <td>1.986785</td>\n",
              "      <td>0.928911</td>\n",
              "      <td>2.528975</td>\n",
              "      <td>...</td>\n",
              "      <td>1.542877</td>\n",
              "      <td>0.926646</td>\n",
              "      <td>1.524741</td>\n",
              "      <td>0.0</td>\n",
              "      <td>0.197812</td>\n",
              "      <td>2.034939</td>\n",
              "      <td>0.0</td>\n",
              "      <td>0.0</td>\n",
              "      <td>0.297903</td>\n",
              "      <td>0.148584</td>\n",
              "    </tr>\n",
              "  </tbody>\n",
              "</table>\n",
              "<p>5 rows × 32 columns</p>\n",
              "</div>\n",
              "      <button class=\"colab-df-convert\" onclick=\"convertToInteractive('df-d1d10d1e-882c-472d-a679-233cf57f0dda')\"\n",
              "              title=\"Convert this dataframe to an interactive table.\"\n",
              "              style=\"display:none;\">\n",
              "        \n",
              "  <svg xmlns=\"http://www.w3.org/2000/svg\" height=\"24px\"viewBox=\"0 0 24 24\"\n",
              "       width=\"24px\">\n",
              "    <path d=\"M0 0h24v24H0V0z\" fill=\"none\"/>\n",
              "    <path d=\"M18.56 5.44l.94 2.06.94-2.06 2.06-.94-2.06-.94-.94-2.06-.94 2.06-2.06.94zm-11 1L8.5 8.5l.94-2.06 2.06-.94-2.06-.94L8.5 2.5l-.94 2.06-2.06.94zm10 10l.94 2.06.94-2.06 2.06-.94-2.06-.94-.94-2.06-.94 2.06-2.06.94z\"/><path d=\"M17.41 7.96l-1.37-1.37c-.4-.4-.92-.59-1.43-.59-.52 0-1.04.2-1.43.59L10.3 9.45l-7.72 7.72c-.78.78-.78 2.05 0 2.83L4 21.41c.39.39.9.59 1.41.59.51 0 1.02-.2 1.41-.59l7.78-7.78 2.81-2.81c.8-.78.8-2.07 0-2.86zM5.41 20L4 18.59l7.72-7.72 1.47 1.35L5.41 20z\"/>\n",
              "  </svg>\n",
              "      </button>\n",
              "      \n",
              "  <style>\n",
              "    .colab-df-container {\n",
              "      display:flex;\n",
              "      flex-wrap:wrap;\n",
              "      gap: 12px;\n",
              "    }\n",
              "\n",
              "    .colab-df-convert {\n",
              "      background-color: #E8F0FE;\n",
              "      border: none;\n",
              "      border-radius: 50%;\n",
              "      cursor: pointer;\n",
              "      display: none;\n",
              "      fill: #1967D2;\n",
              "      height: 32px;\n",
              "      padding: 0 0 0 0;\n",
              "      width: 32px;\n",
              "    }\n",
              "\n",
              "    .colab-df-convert:hover {\n",
              "      background-color: #E2EBFA;\n",
              "      box-shadow: 0px 1px 2px rgba(60, 64, 67, 0.3), 0px 1px 3px 1px rgba(60, 64, 67, 0.15);\n",
              "      fill: #174EA6;\n",
              "    }\n",
              "\n",
              "    [theme=dark] .colab-df-convert {\n",
              "      background-color: #3B4455;\n",
              "      fill: #D2E3FC;\n",
              "    }\n",
              "\n",
              "    [theme=dark] .colab-df-convert:hover {\n",
              "      background-color: #434B5C;\n",
              "      box-shadow: 0px 1px 3px 1px rgba(0, 0, 0, 0.15);\n",
              "      filter: drop-shadow(0px 1px 2px rgba(0, 0, 0, 0.3));\n",
              "      fill: #FFFFFF;\n",
              "    }\n",
              "  </style>\n",
              "\n",
              "      <script>\n",
              "        const buttonEl =\n",
              "          document.querySelector('#df-d1d10d1e-882c-472d-a679-233cf57f0dda button.colab-df-convert');\n",
              "        buttonEl.style.display =\n",
              "          google.colab.kernel.accessAllowed ? 'block' : 'none';\n",
              "\n",
              "        async function convertToInteractive(key) {\n",
              "          const element = document.querySelector('#df-d1d10d1e-882c-472d-a679-233cf57f0dda');\n",
              "          const dataTable =\n",
              "            await google.colab.kernel.invokeFunction('convertToInteractive',\n",
              "                                                     [key], {});\n",
              "          if (!dataTable) return;\n",
              "\n",
              "          const docLinkHtml = 'Like what you see? Visit the ' +\n",
              "            '<a target=\"_blank\" href=https://colab.research.google.com/notebooks/data_table.ipynb>data table notebook</a>'\n",
              "            + ' to learn more about interactive tables.';\n",
              "          element.innerHTML = '';\n",
              "          dataTable['output_type'] = 'display_data';\n",
              "          await google.colab.output.renderOutput(dataTable, element);\n",
              "          const docLink = document.createElement('div');\n",
              "          docLink.innerHTML = docLinkHtml;\n",
              "          element.appendChild(docLink);\n",
              "        }\n",
              "      </script>\n",
              "    </div>\n",
              "  </div>\n",
              "  "
            ],
            "text/plain": [
              "     0    1    2         3         4         5    6         7         8  \\\n",
              "0  0.0  0.0  0.0  1.145165  0.868509  1.334151  0.0  1.515522  2.182882   \n",
              "1  0.0  0.0  0.0  1.145165  0.868509  1.334151  0.0  1.515522  2.182882   \n",
              "2  0.0  0.0  0.0  1.145165  0.868509  1.334151  0.0  1.515522  2.182882   \n",
              "3  0.0  0.0  0.0  1.145165  0.868509  1.334151  0.0  1.515522  2.182882   \n",
              "4  0.0  0.0  0.0  1.817867  1.464603  0.798102  0.0  1.986785  0.928911   \n",
              "\n",
              "          9  ...        22        23        24   25        26        27   28  \\\n",
              "0  1.765377  ...  1.548166  2.091231  0.599721  0.0  0.000000  0.000000  0.0   \n",
              "1  1.765377  ...  1.548166  2.091231  0.599721  0.0  0.000000  0.000000  0.0   \n",
              "2  1.765377  ...  1.548166  2.091231  0.599721  0.0  0.000000  0.000000  0.0   \n",
              "3  1.765377  ...  1.548166  2.091231  0.599721  0.0  0.000000  0.000000  0.0   \n",
              "4  2.528975  ...  1.542877  0.926646  1.524741  0.0  0.197812  2.034939  0.0   \n",
              "\n",
              "    29        30        31  \n",
              "0  0.0  0.579391  1.322915  \n",
              "1  0.0  0.579391  1.322915  \n",
              "2  0.0  0.579391  1.322915  \n",
              "3  0.0  0.579391  1.322915  \n",
              "4  0.0  0.297903  0.148584  \n",
              "\n",
              "[5 rows x 32 columns]"
            ]
          },
          "execution_count": 8,
          "metadata": {},
          "output_type": "execute_result"
        }
      ],
      "source": [
        "x_out.head(5)"
      ]
    },
    {
      "cell_type": "code",
      "execution_count": null,
      "metadata": {
        "id": "2LXDhHl8Dy4E"
      },
      "outputs": [],
      "source": [
        "from sklearn.preprocessing import MinMaxScaler\n",
        "\n",
        "mm_scaler = MinMaxScaler()\n",
        "x_scaled = mm_scaler.fit_transform(df)"
      ]
    },
    {
      "cell_type": "code",
      "execution_count": null,
      "metadata": {
        "id": "n3fWLKXsD2X9"
      },
      "outputs": [],
      "source": [
        "x_val= mm_scaler.transform(x_out)"
      ]
    },
    {
      "cell_type": "code",
      "execution_count": null,
      "metadata": {
        "colab": {
          "base_uri": "https://localhost:8080/"
        },
        "id": "HY4rI73yswFA",
        "outputId": "a4e8377b-56e0-4970-e86f-e2a6c73fbc08"
      },
      "outputs": [
        {
          "data": {
            "text/plain": [
              "(102000, 32)"
            ]
          },
          "execution_count": 11,
          "metadata": {},
          "output_type": "execute_result"
        }
      ],
      "source": [
        "x_val_scaled.shape"
      ]
    },
    {
      "cell_type": "code",
      "execution_count": null,
      "metadata": {
        "colab": {
          "base_uri": "https://localhost:8080/"
        },
        "id": "Y5Lfze3hD4Qz",
        "outputId": "848ddf63-62ed-47be-d379-0d0074e65060"
      },
      "outputs": [
        {
          "data": {
            "text/plain": [
              "306302.7"
            ]
          },
          "execution_count": 12,
          "metadata": {},
          "output_type": "execute_result"
        }
      ],
      "source": [
        "split_len = 0.3 * len(x_scaled)\n",
        "split_len"
      ]
    },
    {
      "cell_type": "code",
      "execution_count": null,
      "metadata": {
        "id": "24yfqfRdD6ds"
      },
      "outputs": [],
      "source": [
        "test = x_scaled[:int(split_len)]\n",
        "train = x_scaled[int(split_len):]"
      ]
    },
    {
      "cell_type": "code",
      "execution_count": null,
      "metadata": {
        "id": "5v5uhhdul4ZZ"
      },
      "outputs": [],
      "source": [
        "x_t = pd.DataFrame(train)"
      ]
    },
    {
      "cell_type": "code",
      "execution_count": null,
      "metadata": {
        "colab": {
          "base_uri": "https://localhost:8080/"
        },
        "id": "zmnCoCghl4hq",
        "outputId": "e2d66f09-ab6a-4c6a-d75c-240b3843fa36"
      },
      "outputs": [
        {
          "data": {
            "text/plain": [
              "(714707, 32)"
            ]
          },
          "execution_count": 22,
          "metadata": {},
          "output_type": "execute_result"
        }
      ],
      "source": [
        "x_t.shape"
      ]
    },
    {
      "cell_type": "code",
      "execution_count": null,
      "metadata": {
        "colab": {
          "base_uri": "https://localhost:8080/"
        },
        "id": "IN3PBWQnl40P",
        "outputId": "5f26b7c9-b49d-4200-dd42-ef0f308b3b08"
      },
      "outputs": [
        {
          "name": "stderr",
          "output_type": "stream",
          "text": [
            "WARNING:tensorflow:Layer lstm will not use cuDNN kernels since it doesn't meet the criteria. It will use a generic GPU kernel as fallback when running on GPU.\n",
            "WARNING:tensorflow:Layer lstm_1 will not use cuDNN kernels since it doesn't meet the criteria. It will use a generic GPU kernel as fallback when running on GPU.\n",
            "WARNING:tensorflow:Layer lstm_2 will not use cuDNN kernels since it doesn't meet the criteria. It will use a generic GPU kernel as fallback when running on GPU.\n",
            "WARNING:tensorflow:Layer lstm_3 will not use cuDNN kernels since it doesn't meet the criteria. It will use a generic GPU kernel as fallback when running on GPU.\n"
          ]
        },
        {
          "name": "stdout",
          "output_type": "stream",
          "text": [
            "Model: \"model\"\n",
            "_________________________________________________________________\n",
            " Layer (type)                Output Shape              Param #   \n",
            "=================================================================\n",
            " input_1 (InputLayer)        [(None, 1, 32)]           0         \n",
            "                                                                 \n",
            " lstm (LSTM)                 (None, 1, 128)            82432     \n",
            "                                                                 \n",
            " lstm_1 (LSTM)               (None, 64)                49408     \n",
            "                                                                 \n",
            " repeat_vector (RepeatVector  (None, 1, 64)            0         \n",
            " )                                                               \n",
            "                                                                 \n",
            " lstm_2 (LSTM)               (None, 1, 64)             33024     \n",
            "                                                                 \n",
            " lstm_3 (LSTM)               (None, 1, 128)            98816     \n",
            "                                                                 \n",
            " time_distributed (TimeDistr  (None, 1, 32)            4128      \n",
            " ibuted)                                                         \n",
            "                                                                 \n",
            "=================================================================\n",
            "Total params: 267,808\n",
            "Trainable params: 267,808\n",
            "Non-trainable params: 0\n",
            "_________________________________________________________________\n",
            "Epoch 1/10\n",
            "608/608 [==============================] - 18s 16ms/step - loss: 0.0055 - mae: 0.0249 - acc: 0.7163 - recall: 0.0542 - precision: 0.9911 - val_loss: 1.6898e-04 - val_mae: 0.0017 - val_acc: 0.9509 - val_recall: 0.0815 - val_precision: 1.0000\n",
            "Epoch 2/10\n",
            "608/608 [==============================] - 9s 15ms/step - loss: 4.1171e-05 - mae: 9.1365e-04 - acc: 0.9668 - recall: 0.0726 - precision: 1.0000 - val_loss: 1.1018e-04 - val_mae: 0.0013 - val_acc: 0.9526 - val_recall: 0.0814 - val_precision: 1.0000\n",
            "Epoch 3/10\n",
            "608/608 [==============================] - 9s 15ms/step - loss: 1.8438e-05 - mae: 6.9477e-04 - acc: 0.9687 - recall: 0.0737 - precision: 1.0000 - val_loss: 6.9665e-05 - val_mae: 0.0013 - val_acc: 0.9765 - val_recall: 0.0814 - val_precision: 1.0000\n",
            "Epoch 4/10\n",
            "608/608 [==============================] - 9s 15ms/step - loss: 1.2539e-05 - mae: 6.5279e-04 - acc: 0.9683 - recall: 0.0736 - precision: 1.0000 - val_loss: 5.6105e-05 - val_mae: 9.8799e-04 - val_acc: 0.9532 - val_recall: 0.0712 - val_precision: 1.0000\n",
            "Epoch 5/10\n",
            "608/608 [==============================] - 9s 14ms/step - loss: 1.0000e-05 - mae: 6.9078e-04 - acc: 0.9672 - recall: 0.0735 - precision: 1.0000 - val_loss: 4.1603e-05 - val_mae: 0.0011 - val_acc: 0.9539 - val_recall: 0.0815 - val_precision: 1.0000\n",
            "Epoch 6/10\n",
            "608/608 [==============================] - 9s 14ms/step - loss: 7.5402e-06 - mae: 6.3358e-04 - acc: 0.9676 - recall: 0.0735 - precision: 1.0000 - val_loss: 3.4113e-05 - val_mae: 9.4340e-04 - val_acc: 0.9466 - val_recall: 0.0815 - val_precision: 1.0000\n",
            "Epoch 7/10\n",
            "608/608 [==============================] - 9s 14ms/step - loss: 6.1178e-06 - mae: 6.3408e-04 - acc: 0.9662 - recall: 0.0734 - precision: 1.0000 - val_loss: 3.0655e-05 - val_mae: 8.4495e-04 - val_acc: 0.9703 - val_recall: 0.0814 - val_precision: 1.0000\n",
            "Epoch 8/10\n",
            "608/608 [==============================] - 9s 14ms/step - loss: 5.8605e-06 - mae: 6.3394e-04 - acc: 0.9650 - recall: 0.0735 - precision: 1.0000 - val_loss: 2.8807e-05 - val_mae: 9.6701e-04 - val_acc: 0.9469 - val_recall: 0.0814 - val_precision: 1.0000\n",
            "Epoch 9/10\n",
            "608/608 [==============================] - 9s 14ms/step - loss: 3.6961e-06 - mae: 5.2582e-04 - acc: 0.9626 - recall: 0.0738 - precision: 1.0000 - val_loss: 2.9091e-05 - val_mae: 0.0010 - val_acc: 0.9471 - val_recall: 0.0814 - val_precision: 1.0000\n",
            "Epoch 10/10\n",
            "608/608 [==============================] - 9s 14ms/step - loss: 3.0006e-06 - mae: 5.0184e-04 - acc: 0.9632 - recall: 0.0738 - precision: 1.0000 - val_loss: 2.6003e-05 - val_mae: 6.2844e-04 - val_acc: 0.9474 - val_recall: 0.0815 - val_precision: 1.0000\n"
          ]
        }
      ],
      "source": [
        "x_train = train.reshape(train.shape[0], 1, train.shape[1])\n",
        "x_test = test.reshape(test.shape[0], 1,train.shape[1])\n",
        "\n",
        "x_out_val = x_val.reshape(x_val.shape[0], 1,x_val.shape[1])\n",
        "\n",
        "#define the model\n",
        "\n",
        "def autoencoder_model(X):\n",
        "\n",
        "  inputs = Input(shape=(X.shape[1], X.shape[2]))\n",
        "  L1 = Bidirectional(LSTM(128, activation='relu', return_sequences=True,\n",
        "              kernel_regularizer=regularizers.l2(0.00)))(inputs)\n",
        "  L2 = Bidirectional(LSTM(64, activation='relu', return_sequences=False))(L1)\n",
        "  L3 = RepeatVector(X.shape[1])(L2)\n",
        "  L4 = Bidirectional(LSTM(64, activation='relu', return_sequences=True))(L3)\n",
        "  L5 = Bidirectional(LSTM(128, activation='relu', return_sequences=True))(L4)\n",
        "  output = TimeDistributed(Dense(X.shape[2]))(L5)\n",
        "  model = Model(inputs=inputs, outputs=output)\n",
        "  return model\n",
        "# create the autoencoder model\n",
        "model = autoencoder_model(x_train)\n",
        "model.compile(optimizer='adam', loss=['mse'],\n",
        "              metrics=['mae', 'acc', tf.keras.metrics.Recall(), tf.keras.metrics.Precision()])\n",
        "model.summary()\n",
        "\n",
        "nb_epochs = 10\n",
        "batch_size = 1000\n",
        "history = model.fit(x_train, x_train, epochs=nb_epochs, batch_size=batch_size,\n",
        "                    validation_split=0.15).history"
      ]
    },
    {
      "cell_type": "code",
      "execution_count": null,
      "metadata": {
        "colab": {
          "base_uri": "https://localhost:8080/",
          "height": 873
        },
        "id": "a2iPObnzl6FO",
        "outputId": "1ff4578f-b4a6-4d0e-dde6-ccf40e67ebfd"
      },
      "outputs": [
        {
          "name": "stdout",
          "output_type": "stream",
          "text": [
            "22335/22335 [==============================] - 53s 2ms/step\n"
          ]
        },
        {
          "name": "stderr",
          "output_type": "stream",
          "text": [
            "<ipython-input-24-7446607c554b>:12: UserWarning: \n",
            "\n",
            "`distplot` is a deprecated function and will be removed in seaborn v0.14.0.\n",
            "\n",
            "Please adapt your code to use either `displot` (a figure-level function with\n",
            "similar flexibility) or `histplot` (an axes-level function for histograms).\n",
            "\n",
            "For a guide to updating your code to use the new functions, please see\n",
            "https://gist.github.com/mwaskom/de44147ed2974457ad6372750bbe5751\n",
            "\n",
            "  sns.distplot(scored['Loss_mse'], bins = 20, kde= True, color = 'blue');\n"
          ]
        },
        {
          "data": {
            "text/plain": [
              "(0.0, 0.5)"
            ]
          },
          "execution_count": 24,
          "metadata": {},
          "output_type": "execute_result"
        },
        {
          "data": {
            "image/png": "[encoded data removed]",
            "text/plain": [
              "<Figure size 1280x720 with 1 Axes>"
            ]
          },
          "metadata": {},
          "output_type": "display_data"
        }
      ],
      "source": [
        "# plot the loss distribution of the training set\n",
        "X_pred = model.predict(x_train)\n",
        "X_pred = X_pred.reshape(X_pred.shape[0], X_pred.shape[2])\n",
        "X_pred = pd.DataFrame(X_pred, columns=x_t.columns)\n",
        "X_pred.index = x_t.index\n",
        "\n",
        "scored = pd.DataFrame(index=x_t.index)\n",
        "Xtrain = x_train.reshape(x_train.shape[0], x_train.shape[2])\n",
        "scored['Loss_mse'] = np.mean(np.abs(X_pred-Xtrain), axis = 1)\n",
        "plt.figure(figsize=(16,9), dpi=80)\n",
        "plt.title('Loss Distribution', fontsize=16)\n",
        "sns.distplot(scored['Loss_mse'], bins = 20, kde= True, color = 'blue');\n",
        "plt.xlim([0.0,.5])"
      ]
    },
    {
      "cell_type": "code",
      "execution_count": null,
      "metadata": {
        "colab": {
          "base_uri": "https://localhost:8080/"
        },
        "id": "-O4JcOlpmBHd",
        "outputId": "4df9f7c2-4649-46db-9694-6a94a5ae5981"
      },
      "outputs": [
        {
          "name": "stdout",
          "output_type": "stream",
          "text": [
            "3188/3188 [==============================] - 7s 2ms/step\n",
            "              precision    recall  f1-score   support\n",
            "\n",
            "          -1       0.61      0.62      0.62      3737\n",
            "           1       0.99      0.99      0.99     98263\n",
            "\n",
            "    accuracy                           0.97    102000\n",
            "   macro avg       0.80      0.80      0.80    102000\n",
            "weighted avg       0.97      0.97      0.97    102000\n",
            "\n"
          ]
        }
      ],
      "source": [
        "# calculate the loss on the test set\n",
        "X_pred = model.predict(x_out_val)\n",
        "X_pred = X_pred.reshape(X_pred.shape[0], X_pred.shape[2])\n",
        "X_pred = pd.DataFrame(X_pred, columns=x_out.columns)\n",
        "X_pred.index = x_out.index\n",
        "\n",
        "scored = pd.DataFrame(index=x_out.index)\n",
        "Xtest = x_val.reshape(x_val.shape[0], x_val.shape[1])\n",
        "scored['Loss_mae'] = np.mean(np.abs(X_pred-Xtest), axis = 1)\n",
        "scored['Threshold'] = 0.003\n",
        "scored['Anomaly'] = np.where(scored['Loss_mae'] > scored['Threshold'], -1, 1)\n",
        "scored.head()\n",
        "test_pred = scored.Anomaly\n",
        "from sklearn.metrics import classification_report\n",
        "print(classification_report(true_labels, test_pred))"
      ]
    },
    {
      "cell_type": "code",
      "execution_count": null,
      "metadata": {
        "colab": {
          "base_uri": "https://localhost:8080/",
          "height": 206
        },
        "id": "FT4kAbhxroS2",
        "outputId": "b1abba8e-2dee-4e80-d75f-ca12da33a683"
      },
      "outputs": [
        {
          "data": {
            "text/html": [
              "\n",
              "  <div id=\"df-5c3c9ded-aabf-417f-9896-d9bb6f68bae2\">\n",
              "    <div class=\"colab-df-container\">\n",
              "      <div>\n",
              "<style scoped>\n",
              "    .dataframe tbody tr th:only-of-type {\n",
              "        vertical-align: middle;\n",
              "    }\n",
              "\n",
              "    .dataframe tbody tr th {\n",
              "        vertical-align: top;\n",
              "    }\n",
              "\n",
              "    .dataframe thead th {\n",
              "        text-align: right;\n",
              "    }\n",
              "</style>\n",
              "<table border=\"1\" class=\"dataframe\">\n",
              "  <thead>\n",
              "    <tr style=\"text-align: right;\">\n",
              "      <th></th>\n",
              "      <th>Loss_mae</th>\n",
              "      <th>Threshold</th>\n",
              "      <th>Anomaly</th>\n",
              "    </tr>\n",
              "  </thead>\n",
              "  <tbody>\n",
              "    <tr>\n",
              "      <th>0</th>\n",
              "      <td>0.000095</td>\n",
              "      <td>0.003</td>\n",
              "      <td>1</td>\n",
              "    </tr>\n",
              "    <tr>\n",
              "      <th>1</th>\n",
              "      <td>0.000095</td>\n",
              "      <td>0.003</td>\n",
              "      <td>1</td>\n",
              "    </tr>\n",
              "    <tr>\n",
              "      <th>2</th>\n",
              "      <td>0.000095</td>\n",
              "      <td>0.003</td>\n",
              "      <td>1</td>\n",
              "    </tr>\n",
              "    <tr>\n",
              "      <th>3</th>\n",
              "      <td>0.000095</td>\n",
              "      <td>0.003</td>\n",
              "      <td>1</td>\n",
              "    </tr>\n",
              "    <tr>\n",
              "      <th>4</th>\n",
              "      <td>0.000491</td>\n",
              "      <td>0.003</td>\n",
              "      <td>1</td>\n",
              "    </tr>\n",
              "  </tbody>\n",
              "</table>\n",
              "</div>\n",
              "      <button class=\"colab-df-convert\" onclick=\"convertToInteractive('df-5c3c9ded-aabf-417f-9896-d9bb6f68bae2')\"\n",
              "              title=\"Convert this dataframe to an interactive table.\"\n",
              "              style=\"display:none;\">\n",
              "        \n",
              "  <svg xmlns=\"http://www.w3.org/2000/svg\" height=\"24px\"viewBox=\"0 0 24 24\"\n",
              "       width=\"24px\">\n",
              "    <path d=\"M0 0h24v24H0V0z\" fill=\"none\"/>\n",
              "    <path d=\"M18.56 5.44l.94 2.06.94-2.06 2.06-.94-2.06-.94-.94-2.06-.94 2.06-2.06.94zm-11 1L8.5 8.5l.94-2.06 2.06-.94-2.06-.94L8.5 2.5l-.94 2.06-2.06.94zm10 10l.94 2.06.94-2.06 2.06-.94-2.06-.94-.94-2.06-.94 2.06-2.06.94z\"/><path d=\"M17.41 7.96l-1.37-1.37c-.4-.4-.92-.59-1.43-.59-.52 0-1.04.2-1.43.59L10.3 9.45l-7.72 7.72c-.78.78-.78 2.05 0 2.83L4 21.41c.39.39.9.59 1.41.59.51 0 1.02-.2 1.41-.59l7.78-7.78 2.81-2.81c.8-.78.8-2.07 0-2.86zM5.41 20L4 18.59l7.72-7.72 1.47 1.35L5.41 20z\"/>\n",
              "  </svg>\n",
              "      </button>\n",
              "      \n",
              "  <style>\n",
              "    .colab-df-container {\n",
              "      display:flex;\n",
              "      flex-wrap:wrap;\n",
              "      gap: 12px;\n",
              "    }\n",
              "\n",
              "    .colab-df-convert {\n",
              "      background-color: #E8F0FE;\n",
              "      border: none;\n",
              "      border-radius: 50%;\n",
              "      cursor: pointer;\n",
              "      display: none;\n",
              "      fill: #1967D2;\n",
              "      height: 32px;\n",
              "      padding: 0 0 0 0;\n",
              "      width: 32px;\n",
              "    }\n",
              "\n",
              "    .colab-df-convert:hover {\n",
              "      background-color: #E2EBFA;\n",
              "      box-shadow: 0px 1px 2px rgba(60, 64, 67, 0.3), 0px 1px 3px 1px rgba(60, 64, 67, 0.15);\n",
              "      fill: #174EA6;\n",
              "    }\n",
              "\n",
              "    [theme=dark] .colab-df-convert {\n",
              "      background-color: #3B4455;\n",
              "      fill: #D2E3FC;\n",
              "    }\n",
              "\n",
              "    [theme=dark] .colab-df-convert:hover {\n",
              "      background-color: #434B5C;\n",
              "      box-shadow: 0px 1px 3px 1px rgba(0, 0, 0, 0.15);\n",
              "      filter: drop-shadow(0px 1px 2px rgba(0, 0, 0, 0.3));\n",
              "      fill: #FFFFFF;\n",
              "    }\n",
              "  </style>\n",
              "\n",
              "      <script>\n",
              "        const buttonEl =\n",
              "          document.querySelector('#df-5c3c9ded-aabf-417f-9896-d9bb6f68bae2 button.colab-df-convert');\n",
              "        buttonEl.style.display =\n",
              "          google.colab.kernel.accessAllowed ? 'block' : 'none';\n",
              "\n",
              "        async function convertToInteractive(key) {\n",
              "          const element = document.querySelector('#df-5c3c9ded-aabf-417f-9896-d9bb6f68bae2');\n",
              "          const dataTable =\n",
              "            await google.colab.kernel.invokeFunction('convertToInteractive',\n",
              "                                                     [key], {});\n",
              "          if (!dataTable) return;\n",
              "\n",
              "          const docLinkHtml = 'Like what you see? Visit the ' +\n",
              "            '<a target=\"_blank\" href=https://colab.research.google.com/notebooks/data_table.ipynb>data table notebook</a>'\n",
              "            + ' to learn more about interactive tables.';\n",
              "          element.innerHTML = '';\n",
              "          dataTable['output_type'] = 'display_data';\n",
              "          await google.colab.output.renderOutput(dataTable, element);\n",
              "          const docLink = document.createElement('div');\n",
              "          docLink.innerHTML = docLinkHtml;\n",
              "          element.appendChild(docLink);\n",
              "        }\n",
              "      </script>\n",
              "    </div>\n",
              "  </div>\n",
              "  "
            ],
            "text/plain": [
              "   Loss_mae  Threshold  Anomaly\n",
              "0  0.000095      0.003        1\n",
              "1  0.000095      0.003        1\n",
              "2  0.000095      0.003        1\n",
              "3  0.000095      0.003        1\n",
              "4  0.000491      0.003        1"
            ]
          },
          "execution_count": 50,
          "metadata": {},
          "output_type": "execute_result"
        }
      ],
      "source": [
        "scored.head()"
      ]
    },
    {
      "cell_type": "code",
      "execution_count": null,
      "metadata": {
        "colab": {
          "base_uri": "https://localhost:8080/"
        },
        "id": "WZSc2r9CmFpB",
        "outputId": "bc7e46b5-ebac-4343-b774-9c7ae9fb814a"
      },
      "outputs": [
        {
          "data": {
            "text/plain": [
              "Counter({1: 98255, -1: 3745})"
            ]
          },
          "execution_count": 51,
          "metadata": {},
          "output_type": "execute_result"
        }
      ],
      "source": [
        "Counter(test_pred)"
      ]
    },
    {
      "cell_type": "code",
      "execution_count": null,
      "metadata": {
        "colab": {
          "base_uri": "https://localhost:8080/"
        },
        "id": "miFQWm3VmJh_",
        "outputId": "a4fea745-b0ec-4c86-dd69-35af27e0bf40"
      },
      "outputs": [
        {
          "name": "stdout",
          "output_type": "stream",
          "text": [
            "              precision    recall  f1-score   support\n",
            "\n",
            "          -1       0.61      0.62      0.62      3737\n",
            "           1       0.99      0.99      0.99     98263\n",
            "\n",
            "    accuracy                           0.97    102000\n",
            "   macro avg       0.80      0.80      0.80    102000\n",
            "weighted avg       0.97      0.97      0.97    102000\n",
            "\n"
          ]
        }
      ],
      "source": [
        "\n",
        "from sklearn.metrics import classification_report\n",
        "print(classification_report(true_labels, test_pred))"
      ]
    },
    {
      "cell_type": "code",
      "execution_count": null,
      "metadata": {
        "colab": {
          "base_uri": "https://localhost:8080/"
        },
        "id": "Gf7aAWAy78Yy",
        "outputId": "5b2fd8fa-53c1-4364-b4b9-b5c80cf3857b"
      },
      "outputs": [
        {
          "name": "stdout",
          "output_type": "stream",
          "text": [
            "              precision    recall  f1-score   support\n",
            "\n",
            "          -1       0.41      0.99      0.58      3737\n",
            "           1       1.00      0.95      0.97     98263\n",
            "\n",
            "    accuracy                           0.95    102000\n",
            "   macro avg       0.70      0.97      0.78    102000\n",
            "weighted avg       0.98      0.95      0.96    102000\n",
            "\n"
          ]
        }
      ],
      "source": [
        "from pyod.models.ecod import ECOD\n",
        "if __name__ == \"__main__\":\n",
        "\n",
        "    # train COPOD detector\n",
        "    clf_name = 'ECOD'\n",
        "    clf = ECOD(contamination=0.065)\n",
        "\n",
        "    # you could try parallel version as well.\n",
        "    # clf = COPOD(n_jobs=2)\n",
        "    clf.fit(train)\n",
        "    pred_test = clf.predict(x_val_scaled)\n",
        "\n",
        "if (pred_test == 1).any():\n",
        "    pred_test[pred_test == 1] = -1\n",
        "\n",
        "if (pred_test == 0).any():\n",
        "    pred_test[pred_test == 0] = 1\n",
        "\n",
        "Counter(pred_test)\n",
        "\n",
        "from sklearn.metrics import classification_report\n",
        "print(classification_report(true_labels, pred_test))"
      ]
    },
    {
      "cell_type": "code",
      "execution_count": null,
      "metadata": {
        "colab": {
          "base_uri": "https://localhost:8080/"
        },
        "id": "p1-VEXmx8RVs",
        "outputId": "3d653ec2-62c2-4e94-e5bd-628de2d762ff"
      },
      "outputs": [
        {
          "data": {
            "text/plain": [
              "Counter({1: 97321, -1: 4679})"
            ]
          },
          "execution_count": 50,
          "metadata": {},
          "output_type": "execute_result"
        }
      ],
      "source": [
        "\n",
        "Counter(pred_test)"
      ]
    },
    {
      "cell_type": "code",
      "execution_count": null,
      "metadata": {
        "colab": {
          "base_uri": "https://localhost:8080/"
        },
        "id": "lojO8TNvo_6d",
        "outputId": "35aa722c-735c-4abb-e188-9a8181d4b145"
      },
      "outputs": [
        {
          "name": "stdout",
          "output_type": "stream",
          "text": [
            "              precision    recall  f1-score   support\n",
            "\n",
            "          -1       0.11      0.17      0.13      3737\n",
            "           1       0.97      0.95      0.96     98263\n",
            "\n",
            "    accuracy                           0.92    102000\n",
            "   macro avg       0.54      0.56      0.55    102000\n",
            "weighted avg       0.94      0.92      0.93    102000\n",
            "\n"
          ]
        }
      ],
      "source": [
        "from pyod.models.copod import COPOD\n",
        "if __name__ == \"__main__\":\n",
        "\n",
        "    # train COPOD detector\n",
        "    clf_name = 'COPOD'\n",
        "    clf = COPOD(contamination=0.08)\n",
        "\n",
        "    # you could try parallel version as well.\n",
        "    # clf = COPOD(n_jobs=2)\n",
        "    clf.fit(train)\n",
        "    pred_test = clf.predict(x_val_scaled)\n",
        "\n",
        "if (pred_test == 1).any():\n",
        "    pred_test[pred_test == 1] = -1\n",
        "\n",
        "if (pred_test == 0).any():\n",
        "    pred_test[pred_test == 0] = 1\n",
        "\n",
        "Counter(pred_test)\n",
        "\n",
        "from sklearn.metrics import classification_report\n",
        "print(classification_report(true_labels, pred_test))"
      ]
    },
    {
      "cell_type": "code",
      "execution_count": null,
      "metadata": {
        "colab": {
          "base_uri": "https://localhost:8080/"
        },
        "id": "8Tp5eSnCsmTe",
        "outputId": "71d5347c-c543-41af-ea15-250664f09e3d"
      },
      "outputs": [
        {
          "data": {
            "text/plain": [
              "Counter({1: 96006, -1: 5994})"
            ]
          },
          "execution_count": 65,
          "metadata": {},
          "output_type": "execute_result"
        }
      ],
      "source": [
        "Counter(pred_test)"
      ]
    },
    {
      "cell_type": "code",
      "execution_count": null,
      "metadata": {
        "id": "7effTQIsD9Ig"
      },
      "outputs": [],
      "source": [
        "clf = IsolationForest(n_estimators=100, contamination = 0.01)"
      ]
    },
    {
      "cell_type": "code",
      "execution_count": null,
      "metadata": {
        "id": "6e2R2e9KEBYI"
      },
      "outputs": [],
      "source": [
        "clf_if_cv = clf.fit(train)"
      ]
    },
    {
      "cell_type": "code",
      "execution_count": null,
      "metadata": {
        "colab": {
          "base_uri": "https://localhost:8080/"
        },
        "id": "vsTt7rkoEFIe",
        "outputId": "2fef71dd-becc-42cd-ff90-c379d3e7c17f"
      },
      "outputs": [
        {
          "data": {
            "text/plain": [
              "['/content/drive/MyDrive/thesis/models/iforest/clf_if_cv_pca.joblib']"
            ]
          },
          "execution_count": 282,
          "metadata": {},
          "output_type": "execute_result"
        }
      ],
      "source": [
        "from joblib import dump, load\n",
        "\n",
        "# save the model\n",
        "dump(clf_if_cv,'/content/drive/MyDrive/thesis/models/iforest/clf_if_cv_ae.joblib')"
      ]
    },
    {
      "cell_type": "code",
      "execution_count": null,
      "metadata": {
        "id": "iLz_yv4EEHWK"
      },
      "outputs": [],
      "source": [
        "from joblib import dump, load\n",
        "clf_if_cv = load('/content/drive/MyDrive/thesis/models/iforest/clf_if_cv_ae.joblib')"
      ]
    },
    {
      "cell_type": "code",
      "execution_count": null,
      "metadata": {
        "id": "OpnfHsD1EJVx"
      },
      "outputs": [],
      "source": [
        "pred_test = clf_if_cv.predict(x_out_cv_scale)"
      ]
    },
    {
      "cell_type": "code",
      "execution_count": null,
      "metadata": {
        "colab": {
          "base_uri": "https://localhost:8080/"
        },
        "id": "41oEnGvxELku",
        "outputId": "e92a8ced-3d40-417b-e919-dcf4815a1ca3"
      },
      "outputs": [
        {
          "data": {
            "text/plain": [
              "Counter({1: 93967, -1: 8033})"
            ]
          },
          "execution_count": 285,
          "metadata": {},
          "output_type": "execute_result"
        }
      ],
      "source": [
        "Counter(pred_test)"
      ]
    },
    {
      "cell_type": "code",
      "execution_count": null,
      "metadata": {
        "id": "Ckz-uSFtENlp"
      },
      "outputs": [],
      "source": [
        "true_labels = df_outlier.label"
      ]
    },
    {
      "cell_type": "code",
      "execution_count": null,
      "metadata": {
        "id": "zKu62jCdERa_"
      },
      "outputs": [],
      "source": [
        "df_validate['label'] = pred_test"
      ]
    },
    {
      "cell_type": "code",
      "execution_count": null,
      "metadata": {
        "id": "9FGpxVpQETxg"
      },
      "outputs": [],
      "source": [
        "df_validate[df_validate['label'] == -1].to_csv('/content/drive/MyDrive/thesis/models/iforest/cv_ae_results_val.csv', index=False)"
      ]
    },
    {
      "cell_type": "code",
      "execution_count": null,
      "metadata": {
        "colab": {
          "base_uri": "https://localhost:8080/"
        },
        "id": "dBAabuqhEY08",
        "outputId": "8036f226-11d3-4a66-f54b-bcea646e3495"
      },
      "outputs": [
        {
          "name": "stdout",
          "output_type": "stream",
          "text": [
            "              precision    recall  f1-score   support\n",
            "\n",
            "          -1       0.38      0.82      0.52      3737\n",
            "           1       0.99      0.95      0.97     98263\n",
            "\n",
            "    accuracy                           0.94    102000\n",
            "   macro avg       0.69      0.88      0.75    102000\n",
            "weighted avg       0.97      0.94      0.95    102000\n",
            "\n"
          ]
        }
      ],
      "source": [
        "from sklearn.metrics import classification_report\n",
        "print(classification_report(true_labels, pred_test))"
      ]
    },
    {
      "cell_type": "code",
      "execution_count": null,
      "metadata": {
        "colab": {
          "base_uri": "https://localhost:8080/"
        },
        "id": "WQ5L4vdjEbZC",
        "outputId": "2d56f3d1-5c9c-4dab-9186-02217eb2219c"
      },
      "outputs": [
        {
          "name": "stdout",
          "output_type": "stream",
          "text": [
            "Accuracy: 0.9445686274509804\n",
            "Precision: 0.9927740589781519\n",
            "Recall: 0.9493705667443494\n",
            "F1 Score: 0.9705873172761795\n"
          ]
        }
      ],
      "source": [
        "from sklearn.metrics import accuracy_score, precision_score, recall_score, f1_score\n",
        "\n",
        "# Assuming you have the true labels for the dataset in 'true_labels' and the LOF predictions in 'lof_predictions'\n",
        "\n",
        "# Convert LOF scores to binary labels based on a threshold (e.g., outliers with scores above the threshold are considered anomalies)\n",
        "\n",
        "# Calculate accuracy\n",
        "accuracy = accuracy_score(true_labels, pred_test)\n",
        "print(\"Accuracy:\", accuracy)\n",
        "\n",
        "# Calculate precision\n",
        "precision = precision_score(true_labels, pred_test)\n",
        "print(\"Precision:\", precision)\n",
        "\n",
        "# Calculate recall\n",
        "recall = recall_score(true_labels, pred_test)\n",
        "print(\"Recall:\", recall)\n",
        "\n",
        "# Calculate F1 score\n",
        "f1 = f1_score(true_labels, pred_test)\n",
        "print(\"F1 Score:\", f1)"
      ]
    },
    {
      "cell_type": "code",
      "execution_count": null,
      "metadata": {
        "id": "HKY0euruJ5Fr"
      },
      "outputs": [],
      "source": []
    },
    {
      "cell_type": "code",
      "execution_count": null,
      "metadata": {
        "colab": {
          "base_uri": "https://localhost:8080/"
        },
        "id": "FYosOQYiygmZ",
        "outputId": "f2a32073-eb1c-4dd3-cbd6-3714958cd4e1"
      },
      "outputs": [
        {
          "name": "stdout",
          "output_type": "stream",
          "text": [
            "Consensus Predictions: [0, 0, 1, 1]\n"
          ]
        }
      ],
      "source": [
        "import numpy as np\n",
        "\n",
        "# Assuming you have a list of models and their predictions\n",
        "models = ['Model 1', 'Model 2', 'Model 3', 'Model 4']\n",
        "predictions = np.array([[1, 0, 1, 1],  # Predictions of Model 1\n",
        "                        [0, 1, 0, 1],  # Predictions of Model 2\n",
        "                        [1, 0, 1, 0],  # Predictions of Model 3\n",
        "                        [0, 1, 1, 1]]) # Predictions of Model 4\n",
        "\n",
        "# Consensus Voting\n",
        "consensus_predictions = []\n",
        "num_instances = predictions.shape[1]\n",
        "\n",
        "for i in range(num_instances):\n",
        "    instance_predictions = predictions[:, i]\n",
        "    unique_predictions, counts = np.unique(instance_predictions, return_counts=True)\n",
        "\n",
        "    if len(unique_predictions) == 1:\n",
        "        # All models agree on the prediction\n",
        "        consensus_prediction = unique_predictions[0]\n",
        "    else:\n",
        "        # Models have different predictions, break the tie using a rule\n",
        "        # For example, select the majority class\n",
        "        majority_prediction = unique_predictions[np.argmax(counts)]\n",
        "        consensus_prediction = majority_prediction\n",
        "\n",
        "    consensus_predictions.append(consensus_prediction)\n",
        "\n",
        "# Print the consensus predictions\n",
        "print(\"Consensus Predictions:\", consensus_predictions)\n"
      ]
    },
    {
      "cell_type": "code",
      "execution_count": null,
      "metadata": {
        "id": "WaHJkUkuyhIQ"
      },
      "outputs": [],
      "source": []
    }
  ],
  "metadata": {
    "accelerator": "GPU",
    "colab": {
      "machine_shape": "hm",
      "provenance": []
    },
    "kernelspec": {
      "display_name": "Python 3",
      "name": "python3"
    },
    "language_info": {
      "name": "python"
    }
  },
  "nbformat": 4,
  "nbformat_minor": 0
}