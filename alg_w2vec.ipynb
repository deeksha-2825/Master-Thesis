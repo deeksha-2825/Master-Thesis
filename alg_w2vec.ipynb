{
  "cells": [
    {
      "cell_type": "code",
      "execution_count": null,
      "metadata": {
        "id": "pDp-neWWgQ4P"
      },
      "outputs": [],
      "source": [
        "import re\n",
        "import pandas as pd\n",
        "import csv\n",
        "import numpy as np\n",
        "from collections import Counter\n",
        "import nltk\n",
        "import random\n",
        "from nltk import word_tokenize\n",
        "from sklearn.feature_extraction.text import CountVectorizer\n",
        "from sklearn.preprocessing import OneHotEncoder, LabelEncoder\n",
        "from sklearn.ensemble import IsolationForest\n",
        "from nltk.tokenize import sent_tokenize, word_tokenize\n",
        "import warnings\n",
        "\n",
        "warnings.filterwarnings(action = 'ignore')\n",
        "import gensim\n",
        "from gensim.models import Word2Vec"
      ]
    },
    {
      "cell_type": "code",
      "execution_count": null,
      "metadata": {
        "id": "IltkPg4DnZrB"
      },
      "outputs": [],
      "source": [
        "import tensorflow as tf\n",
        "import math\n",
        "import os\n",
        "import time\n",
        "import numpy as np\n",
        "import pandas as pd\n",
        "import random\n",
        "import statistics\n",
        "import seaborn as sns\n",
        "from collections import Counter\n",
        "import matplotlib.pyplot as plt\n",
        "from tensorflow.keras import Model\n",
        "from tensorflow.keras import Sequential, regularizers\n",
        "from sklearn.preprocessing import MinMaxScaler\n",
        "from tensorflow.keras.layers import Dense, Input, LSTM, Dropout, TimeDistributed, RepeatVector, Bidirectional\n",
        "from tensorflow.keras.losses import CategoricalCrossentropy, MeanSquaredLogarithmicError\n",
        "from tensorflow.keras.callbacks import EarlyStopping\n",
        "from tensorflow.keras.metrics import Accuracy, Precision, AUC, Recall\n",
        "from sklearn.metrics import silhouette_score"
      ]
    },
    {
      "cell_type": "code",
      "execution_count": null,
      "metadata": {
        "colab": {
          "base_uri": "https://localhost:8080/"
        },
        "id": "edyd8sE4gW6x",
        "outputId": "d976ae21-1bff-4d60-99a3-7c0ce365d9b5"
      },
      "outputs": [
        {
          "output_type": "stream",
          "name": "stdout",
          "text": [
            "Mounted at /content/drive\n"
          ]
        }
      ],
      "source": [
        "from google.colab import drive\n",
        "drive.mount('/content/drive')"
      ]
    },
    {
      "cell_type": "code",
      "execution_count": null,
      "metadata": {
        "id": "sbHmUm7OgrEF"
      },
      "outputs": [],
      "source": [
        "df_outlier = pd.read_csv('/content/drive/MyDrive/thesis/val/raw_val_all.csv', sep=',')"
      ]
    },
    {
      "cell_type": "code",
      "execution_count": null,
      "metadata": {
        "id": "QsqhdfUZgtqQ"
      },
      "outputs": [],
      "source": [
        "df_validate = pd.read_csv('/content/drive/MyDrive/thesis/val/raw_val.csv', sep=',')"
      ]
    },
    {
      "cell_type": "code",
      "execution_count": null,
      "metadata": {
        "id": "F96kt9rDgvJ4"
      },
      "outputs": [],
      "source": [
        "df_oh = pd.read_csv('/content/drive/MyDrive/thesis/train/w2vec.csv', sep=',')\n",
        "x_out_oh = pd.read_csv('/content/drive/MyDrive/thesis/val/val-w2vec.csv', sep=',')"
      ]
    },
    {
      "cell_type": "code",
      "execution_count": null,
      "metadata": {
        "colab": {
          "base_uri": "https://localhost:8080/"
        },
        "id": "TMVr9QOzhJvu",
        "outputId": "cc36a1c6-f494-4a45-a4b5-bac14de7c832"
      },
      "outputs": [
        {
          "output_type": "execute_result",
          "data": {
            "text/plain": [
              "          0         1         2         3        4         5         6  \\\n",
              "0  0.101784  0.849301  1.000000  0.000000  1.00000  0.000000  0.936119   \n",
              "1  0.101784  0.849301  1.000000  0.000000  1.00000  0.000000  0.936119   \n",
              "2  0.101784  0.849301  1.000000  0.000000  1.00000  0.000000  0.936119   \n",
              "3  0.101784  0.849301  1.000000  0.000000  1.00000  0.000000  0.936119   \n",
              "4  0.222365  0.620606  0.935762  0.172489  0.63881  0.025653  0.991941   \n",
              "\n",
              "          7         8         9  ...       290       291       292       293  \\\n",
              "0  0.715389  0.808444  0.000000  ...  0.173194  0.572735  0.562702  0.897191   \n",
              "1  0.715389  0.808444  0.000000  ...  0.173194  0.572735  0.562702  0.897191   \n",
              "2  0.715389  0.808444  0.000000  ...  0.173194  0.572735  0.562702  0.897191   \n",
              "3  0.715389  0.808444  0.000000  ...  0.173194  0.572735  0.562702  0.897191   \n",
              "4  0.708340  0.700041  0.277449  ...  0.665805  0.522102  0.399594  0.653415   \n",
              "\n",
              "        294       295       296       297       298       299  \n",
              "0  0.335552  0.795203  0.547535  0.732336  1.000000  0.241742  \n",
              "1  0.335552  0.795203  0.547535  0.732336  1.000000  0.241742  \n",
              "2  0.335552  0.795203  0.547535  0.732336  1.000000  0.241742  \n",
              "3  0.335552  0.795203  0.547535  0.732336  1.000000  0.241742  \n",
              "4  0.159163  1.000000  0.000000  0.949909  0.892642  0.000000  \n",
              "\n",
              "[5 rows x 300 columns]"
            ],
            "text/html": [
              "\n",
              "  <div id=\"df-8f6507df-3338-4abe-bb5d-a4ab225a46d0\">\n",
              "    <div class=\"colab-df-container\">\n",
              "      <div>\n",
              "<style scoped>\n",
              "    .dataframe tbody tr th:only-of-type {\n",
              "        vertical-align: middle;\n",
              "    }\n",
              "\n",
              "    .dataframe tbody tr th {\n",
              "        vertical-align: top;\n",
              "    }\n",
              "\n",
              "    .dataframe thead th {\n",
              "        text-align: right;\n",
              "    }\n",
              "</style>\n",
              "<table border=\"1\" class=\"dataframe\">\n",
              "  <thead>\n",
              "    <tr style=\"text-align: right;\">\n",
              "      <th></th>\n",
              "      <th>0</th>\n",
              "      <th>1</th>\n",
              "      <th>2</th>\n",
              "      <th>3</th>\n",
              "      <th>4</th>\n",
              "      <th>5</th>\n",
              "      <th>6</th>\n",
              "      <th>7</th>\n",
              "      <th>8</th>\n",
              "      <th>9</th>\n",
              "      <th>...</th>\n",
              "      <th>290</th>\n",
              "      <th>291</th>\n",
              "      <th>292</th>\n",
              "      <th>293</th>\n",
              "      <th>294</th>\n",
              "      <th>295</th>\n",
              "      <th>296</th>\n",
              "      <th>297</th>\n",
              "      <th>298</th>\n",
              "      <th>299</th>\n",
              "    </tr>\n",
              "  </thead>\n",
              "  <tbody>\n",
              "    <tr>\n",
              "      <th>0</th>\n",
              "      <td>0.101784</td>\n",
              "      <td>0.849301</td>\n",
              "      <td>1.000000</td>\n",
              "      <td>0.000000</td>\n",
              "      <td>1.00000</td>\n",
              "      <td>0.000000</td>\n",
              "      <td>0.936119</td>\n",
              "      <td>0.715389</td>\n",
              "      <td>0.808444</td>\n",
              "      <td>0.000000</td>\n",
              "      <td>...</td>\n",
              "      <td>0.173194</td>\n",
              "      <td>0.572735</td>\n",
              "      <td>0.562702</td>\n",
              "      <td>0.897191</td>\n",
              "      <td>0.335552</td>\n",
              "      <td>0.795203</td>\n",
              "      <td>0.547535</td>\n",
              "      <td>0.732336</td>\n",
              "      <td>1.000000</td>\n",
              "      <td>0.241742</td>\n",
              "    </tr>\n",
              "    <tr>\n",
              "      <th>1</th>\n",
              "      <td>0.101784</td>\n",
              "      <td>0.849301</td>\n",
              "      <td>1.000000</td>\n",
              "      <td>0.000000</td>\n",
              "      <td>1.00000</td>\n",
              "      <td>0.000000</td>\n",
              "      <td>0.936119</td>\n",
              "      <td>0.715389</td>\n",
              "      <td>0.808444</td>\n",
              "      <td>0.000000</td>\n",
              "      <td>...</td>\n",
              "      <td>0.173194</td>\n",
              "      <td>0.572735</td>\n",
              "      <td>0.562702</td>\n",
              "      <td>0.897191</td>\n",
              "      <td>0.335552</td>\n",
              "      <td>0.795203</td>\n",
              "      <td>0.547535</td>\n",
              "      <td>0.732336</td>\n",
              "      <td>1.000000</td>\n",
              "      <td>0.241742</td>\n",
              "    </tr>\n",
              "    <tr>\n",
              "      <th>2</th>\n",
              "      <td>0.101784</td>\n",
              "      <td>0.849301</td>\n",
              "      <td>1.000000</td>\n",
              "      <td>0.000000</td>\n",
              "      <td>1.00000</td>\n",
              "      <td>0.000000</td>\n",
              "      <td>0.936119</td>\n",
              "      <td>0.715389</td>\n",
              "      <td>0.808444</td>\n",
              "      <td>0.000000</td>\n",
              "      <td>...</td>\n",
              "      <td>0.173194</td>\n",
              "      <td>0.572735</td>\n",
              "      <td>0.562702</td>\n",
              "      <td>0.897191</td>\n",
              "      <td>0.335552</td>\n",
              "      <td>0.795203</td>\n",
              "      <td>0.547535</td>\n",
              "      <td>0.732336</td>\n",
              "      <td>1.000000</td>\n",
              "      <td>0.241742</td>\n",
              "    </tr>\n",
              "    <tr>\n",
              "      <th>3</th>\n",
              "      <td>0.101784</td>\n",
              "      <td>0.849301</td>\n",
              "      <td>1.000000</td>\n",
              "      <td>0.000000</td>\n",
              "      <td>1.00000</td>\n",
              "      <td>0.000000</td>\n",
              "      <td>0.936119</td>\n",
              "      <td>0.715389</td>\n",
              "      <td>0.808444</td>\n",
              "      <td>0.000000</td>\n",
              "      <td>...</td>\n",
              "      <td>0.173194</td>\n",
              "      <td>0.572735</td>\n",
              "      <td>0.562702</td>\n",
              "      <td>0.897191</td>\n",
              "      <td>0.335552</td>\n",
              "      <td>0.795203</td>\n",
              "      <td>0.547535</td>\n",
              "      <td>0.732336</td>\n",
              "      <td>1.000000</td>\n",
              "      <td>0.241742</td>\n",
              "    </tr>\n",
              "    <tr>\n",
              "      <th>4</th>\n",
              "      <td>0.222365</td>\n",
              "      <td>0.620606</td>\n",
              "      <td>0.935762</td>\n",
              "      <td>0.172489</td>\n",
              "      <td>0.63881</td>\n",
              "      <td>0.025653</td>\n",
              "      <td>0.991941</td>\n",
              "      <td>0.708340</td>\n",
              "      <td>0.700041</td>\n",
              "      <td>0.277449</td>\n",
              "      <td>...</td>\n",
              "      <td>0.665805</td>\n",
              "      <td>0.522102</td>\n",
              "      <td>0.399594</td>\n",
              "      <td>0.653415</td>\n",
              "      <td>0.159163</td>\n",
              "      <td>1.000000</td>\n",
              "      <td>0.000000</td>\n",
              "      <td>0.949909</td>\n",
              "      <td>0.892642</td>\n",
              "      <td>0.000000</td>\n",
              "    </tr>\n",
              "  </tbody>\n",
              "</table>\n",
              "<p>5 rows × 300 columns</p>\n",
              "</div>\n",
              "      <button class=\"colab-df-convert\" onclick=\"convertToInteractive('df-8f6507df-3338-4abe-bb5d-a4ab225a46d0')\"\n",
              "              title=\"Convert this dataframe to an interactive table.\"\n",
              "              style=\"display:none;\">\n",
              "        \n",
              "  <svg xmlns=\"http://www.w3.org/2000/svg\" height=\"24px\"viewBox=\"0 0 24 24\"\n",
              "       width=\"24px\">\n",
              "    <path d=\"M0 0h24v24H0V0z\" fill=\"none\"/>\n",
              "    <path d=\"M18.56 5.44l.94 2.06.94-2.06 2.06-.94-2.06-.94-.94-2.06-.94 2.06-2.06.94zm-11 1L8.5 8.5l.94-2.06 2.06-.94-2.06-.94L8.5 2.5l-.94 2.06-2.06.94zm10 10l.94 2.06.94-2.06 2.06-.94-2.06-.94-.94-2.06-.94 2.06-2.06.94z\"/><path d=\"M17.41 7.96l-1.37-1.37c-.4-.4-.92-.59-1.43-.59-.52 0-1.04.2-1.43.59L10.3 9.45l-7.72 7.72c-.78.78-.78 2.05 0 2.83L4 21.41c.39.39.9.59 1.41.59.51 0 1.02-.2 1.41-.59l7.78-7.78 2.81-2.81c.8-.78.8-2.07 0-2.86zM5.41 20L4 18.59l7.72-7.72 1.47 1.35L5.41 20z\"/>\n",
              "  </svg>\n",
              "      </button>\n",
              "      \n",
              "  <style>\n",
              "    .colab-df-container {\n",
              "      display:flex;\n",
              "      flex-wrap:wrap;\n",
              "      gap: 12px;\n",
              "    }\n",
              "\n",
              "    .colab-df-convert {\n",
              "      background-color: #E8F0FE;\n",
              "      border: none;\n",
              "      border-radius: 50%;\n",
              "      cursor: pointer;\n",
              "      display: none;\n",
              "      fill: #1967D2;\n",
              "      height: 32px;\n",
              "      padding: 0 0 0 0;\n",
              "      width: 32px;\n",
              "    }\n",
              "\n",
              "    .colab-df-convert:hover {\n",
              "      background-color: #E2EBFA;\n",
              "      box-shadow: 0px 1px 2px rgba(60, 64, 67, 0.3), 0px 1px 3px 1px rgba(60, 64, 67, 0.15);\n",
              "      fill: #174EA6;\n",
              "    }\n",
              "\n",
              "    [theme=dark] .colab-df-convert {\n",
              "      background-color: #3B4455;\n",
              "      fill: #D2E3FC;\n",
              "    }\n",
              "\n",
              "    [theme=dark] .colab-df-convert:hover {\n",
              "      background-color: #434B5C;\n",
              "      box-shadow: 0px 1px 3px 1px rgba(0, 0, 0, 0.15);\n",
              "      filter: drop-shadow(0px 1px 2px rgba(0, 0, 0, 0.3));\n",
              "      fill: #FFFFFF;\n",
              "    }\n",
              "  </style>\n",
              "\n",
              "      <script>\n",
              "        const buttonEl =\n",
              "          document.querySelector('#df-8f6507df-3338-4abe-bb5d-a4ab225a46d0 button.colab-df-convert');\n",
              "        buttonEl.style.display =\n",
              "          google.colab.kernel.accessAllowed ? 'block' : 'none';\n",
              "\n",
              "        async function convertToInteractive(key) {\n",
              "          const element = document.querySelector('#df-8f6507df-3338-4abe-bb5d-a4ab225a46d0');\n",
              "          const dataTable =\n",
              "            await google.colab.kernel.invokeFunction('convertToInteractive',\n",
              "                                                     [key], {});\n",
              "          if (!dataTable) return;\n",
              "\n",
              "          const docLinkHtml = 'Like what you see? Visit the ' +\n",
              "            '<a target=\"_blank\" href=https://colab.research.google.com/notebooks/data_table.ipynb>data table notebook</a>'\n",
              "            + ' to learn more about interactive tables.';\n",
              "          element.innerHTML = '';\n",
              "          dataTable['output_type'] = 'display_data';\n",
              "          await google.colab.output.renderOutput(dataTable, element);\n",
              "          const docLink = document.createElement('div');\n",
              "          docLink.innerHTML = docLinkHtml;\n",
              "          element.appendChild(docLink);\n",
              "        }\n",
              "      </script>\n",
              "    </div>\n",
              "  </div>\n",
              "  "
            ]
          },
          "metadata": {},
          "execution_count": 8
        }
      ],
      "source": [
        "df_oh.head(5)"
      ]
    },
    {
      "cell_type": "code",
      "execution_count": null,
      "metadata": {
        "id": "cwV8BcomiVHZ"
      },
      "outputs": [],
      "source": [
        "test = df_oh[:int(split_len)]\n",
        "train = df_oh[int(split_len):]"
      ]
    },
    {
      "cell_type": "code",
      "execution_count": null,
      "metadata": {
        "id": "hewj2C4Znjw4"
      },
      "outputs": [],
      "source": [
        "true_labels = df_outlier.label"
      ]
    },
    {
      "cell_type": "code",
      "execution_count": null,
      "metadata": {
        "colab": {
          "base_uri": "https://localhost:8080/"
        },
        "id": "LAHnyP8knPWj",
        "outputId": "4237793d-33e6-4d35-99ec-9b1c10be0c73"
      },
      "outputs": [
        {
          "name": "stderr",
          "output_type": "stream",
          "text": [
            "WARNING:tensorflow:Layer lstm will not use cuDNN kernels since it doesn't meet the criteria. It will use a generic GPU kernel as fallback when running on GPU.\n",
            "WARNING:tensorflow:Layer lstm_1 will not use cuDNN kernels since it doesn't meet the criteria. It will use a generic GPU kernel as fallback when running on GPU.\n",
            "WARNING:tensorflow:Layer lstm_2 will not use cuDNN kernels since it doesn't meet the criteria. It will use a generic GPU kernel as fallback when running on GPU.\n",
            "WARNING:tensorflow:Layer lstm_3 will not use cuDNN kernels since it doesn't meet the criteria. It will use a generic GPU kernel as fallback when running on GPU.\n"
          ]
        },
        {
          "name": "stdout",
          "output_type": "stream",
          "text": [
            "Model: \"model\"\n",
            "_________________________________________________________________\n",
            " Layer (type)                Output Shape              Param #   \n",
            "=================================================================\n",
            " input_1 (InputLayer)        [(None, 1, 300)]          0         \n",
            "                                                                 \n",
            " lstm (LSTM)                 (None, 1, 128)            219648    \n",
            "                                                                 \n",
            " lstm_1 (LSTM)               (None, 64)                49408     \n",
            "                                                                 \n",
            " repeat_vector (RepeatVector  (None, 1, 64)            0         \n",
            " )                                                               \n",
            "                                                                 \n",
            " lstm_2 (LSTM)               (None, 1, 64)             33024     \n",
            "                                                                 \n",
            " lstm_3 (LSTM)               (None, 1, 128)            98816     \n",
            "                                                                 \n",
            " time_distributed (TimeDistr  (None, 1, 300)           38700     \n",
            " ibuted)                                                         \n",
            "                                                                 \n",
            "=================================================================\n",
            "Total params: 439,596\n",
            "Trainable params: 439,596\n",
            "Non-trainable params: 0\n",
            "_________________________________________________________________\n",
            "Epoch 1/10\n",
            "608/608 [==============================] - 23s 20ms/step - loss: 0.0211 - mae: 0.0508 - acc: 0.0793 - recall: 0.4915 - precision: 0.9987 - val_loss: 3.3091e-04 - val_mae: 0.0031 - val_acc: 1.4924e-04 - val_recall: 0.5229 - val_precision: 0.9999\n",
            "Epoch 2/10\n",
            "608/608 [==============================] - 10s 17ms/step - loss: 6.1791e-05 - mae: 0.0019 - acc: 0.0906 - recall: 0.5236 - precision: 1.0000 - val_loss: 2.0037e-04 - val_mae: 0.0049 - val_acc: 8.2084e-04 - val_recall: 0.5248 - val_precision: 1.0000\n",
            "Epoch 3/10\n",
            "608/608 [==============================] - 10s 17ms/step - loss: 2.8273e-05 - mae: 0.0016 - acc: 0.0924 - recall: 0.5237 - precision: 1.0000 - val_loss: 1.8192e-04 - val_mae: 0.0018 - val_acc: 9.6076e-04 - val_recall: 0.5233 - val_precision: 1.0000\n",
            "Epoch 4/10\n",
            "608/608 [==============================] - 10s 16ms/step - loss: 2.8139e-05 - mae: 0.0017 - acc: 0.0871 - recall: 0.5236 - precision: 1.0000 - val_loss: 1.7747e-04 - val_mae: 0.0024 - val_acc: 0.0011 - val_recall: 0.5229 - val_precision: 1.0000\n",
            "Epoch 5/10\n",
            "608/608 [==============================] - 10s 17ms/step - loss: 3.2508e-05 - mae: 0.0022 - acc: 0.0859 - recall: 0.5234 - precision: 1.0000 - val_loss: 1.7886e-04 - val_mae: 0.0018 - val_acc: 8.1151e-04 - val_recall: 0.5230 - val_precision: 1.0000\n",
            "Epoch 6/10\n",
            "608/608 [==============================] - 10s 17ms/step - loss: 3.2405e-05 - mae: 0.0022 - acc: 0.1129 - recall: 0.5233 - precision: 1.0000 - val_loss: 1.8118e-04 - val_mae: 0.0027 - val_acc: 0.1920 - val_recall: 0.5235 - val_precision: 1.0000\n",
            "Epoch 7/10\n",
            "608/608 [==============================] - 10s 17ms/step - loss: 2.7544e-05 - mae: 0.0020 - acc: 0.1031 - recall: 0.5234 - precision: 1.0000 - val_loss: 1.7811e-04 - val_mae: 0.0022 - val_acc: 0.1920 - val_recall: 0.5234 - val_precision: 1.0000\n",
            "Epoch 8/10\n",
            "608/608 [==============================] - 10s 16ms/step - loss: 2.6486e-05 - mae: 0.0020 - acc: 0.1003 - recall: 0.5235 - precision: 1.0000 - val_loss: 1.8077e-04 - val_mae: 0.0041 - val_acc: 0.0077 - val_recall: 0.5223 - val_precision: 1.0000\n",
            "Epoch 9/10\n",
            "608/608 [==============================] - 10s 16ms/step - loss: 2.2917e-05 - mae: 0.0020 - acc: 0.1051 - recall: 0.5235 - precision: 1.0000 - val_loss: 1.6887e-04 - val_mae: 0.0018 - val_acc: 0.0064 - val_recall: 0.5237 - val_precision: 1.0000\n",
            "Epoch 10/10\n",
            "608/608 [==============================] - 10s 16ms/step - loss: 2.0278e-05 - mae: 0.0018 - acc: 0.1136 - recall: 0.5235 - precision: 1.0000 - val_loss: 1.6922e-04 - val_mae: 0.0017 - val_acc: 0.0020 - val_recall: 0.5232 - val_precision: 1.0000\n"
          ]
        }
      ],
      "source": [
        "x_train = train.values.reshape(train.shape[0], 1, train.shape[1])\n",
        "x_test = test.values.reshape(test.shape[0], 1,train.shape[1])\n",
        "\n",
        "x_out = x_out_oh.values.reshape(x_out_oh.shape[0], 1,x_out_oh.shape[1])\n",
        "\n",
        "#define the model\n",
        "\n",
        "def autoencoder_model(X):\n",
        "\n",
        "  inputs = Input(shape=(X.shape[1], X.shape[2]))\n",
        "  L1 = LSTM(128, activation='relu', return_sequences=True,\n",
        "              kernel_regularizer=regularizers.l2(0.00))(inputs)\n",
        "  L2 = LSTM(64, activation='relu', return_sequences=False)(L1)\n",
        "  L3 = RepeatVector(X.shape[1])(L2)\n",
        "  L4 = LSTM(64, activation='relu', return_sequences=True)(L3)\n",
        "  L5 = LSTM(128, activation='relu', return_sequences=True)(L4)\n",
        "  output = TimeDistributed(Dense(X.shape[2]))(L5)\n",
        "  model = Model(inputs=inputs, outputs=output)\n",
        "  return model\n",
        "\n",
        "# create the autoencoder model\n",
        "model = autoencoder_model(x_train)\n",
        "model.compile(optimizer='adam', loss=['mse'],\n",
        "              metrics=['mae', 'acc', tf.keras.metrics.Recall(), tf.keras.metrics.Precision()])\n",
        "model.summary()\n",
        "\n",
        "nb_epochs = 10\n",
        "batch_size = 1000\n",
        "history = model.fit(x_train, x_train, epochs=nb_epochs, batch_size=batch_size,\n",
        "                    validation_split=0.15).history\n",
        "\n",
        "\n",
        "\n"
      ]
    },
    {
      "cell_type": "code",
      "execution_count": null,
      "metadata": {
        "colab": {
          "background_save": true
        },
        "id": "8lEXQkzgnWLy",
        "outputId": "aedafbc2-34bf-4447-ac6b-36b609eac73e"
      },
      "outputs": [
        {
          "name": "stdout",
          "output_type": "stream",
          "text": [
            "3188/3188 [==============================] - 8s 2ms/step\n",
            "              precision    recall  f1-score   support\n",
            "\n",
            "          -1       0.99      0.44      0.61      3737\n",
            "           1       0.98      1.00      0.99     98263\n",
            "\n",
            "    accuracy                           0.98    102000\n",
            "   macro avg       0.98      0.72      0.80    102000\n",
            "weighted avg       0.98      0.98      0.98    102000\n",
            "\n"
          ]
        }
      ],
      "source": [
        "# calculate the loss on the test set\n",
        "X_pred = model.predict(x_out)\n",
        "X_pred = X_pred.reshape(X_pred.shape[0], X_pred.shape[2])\n",
        "X_pred = pd.DataFrame(X_pred, columns=x_out_oh.columns)\n",
        "X_pred.index = x_out_oh.index\n",
        "\n",
        "scored = pd.DataFrame(index=x_out_oh.index)\n",
        "Xtest = x_out_oh.values.reshape(x_out_oh.shape[0], x_out_oh.shape[1])\n",
        "scored['Loss_mae'] = np.mean(np.abs(X_pred-Xtest), axis = 1)\n",
        "scored['Threshold'] = 0.1\n",
        "scored['Anomaly'] = np.where(scored['Loss_mae'] > scored['Threshold'], -1, 1)\n",
        "scored.head()\n",
        "test_pred = scored.Anomaly\n",
        "\n",
        "from sklearn.metrics import classification_report\n",
        "print(classification_report(true_labels, test_pred))"
      ]
    },
    {
      "cell_type": "code",
      "execution_count": null,
      "metadata": {
        "colab": {
          "base_uri": "https://localhost:8080/"
        },
        "id": "-Nbo2TrfcOb3",
        "outputId": "4e32094c-ebbc-42b6-b0e8-02371e5fc833"
      },
      "outputs": [
        {
          "name": "stdout",
          "output_type": "stream",
          "text": [
            "Looking in indexes: https://pypi.org/simple, https://us-python.pkg.dev/colab-wheels/public/simple/\n",
            "Collecting pyod\n",
            "  Downloading pyod-1.0.9.tar.gz (149 kB)\n",
            "\u001b[2K     \u001b[90m━━━━━━━━━━━━━━━━━━━━━━━━━━━━━━━━━━━━━━━\u001b[0m \u001b[32m150.0/150.0 kB\u001b[0m \u001b[31m9.7 MB/s\u001b[0m eta \u001b[36m0:00:00\u001b[0m\n",
            "\u001b[?25h  Preparing metadata (setup.py) ... \u001b[?25l\u001b[?25hdone\n",
            "Requirement already satisfied: joblib in /usr/local/lib/python3.10/dist-packages (from pyod) (1.2.0)\n",
            "Requirement already satisfied: matplotlib in /usr/local/lib/python3.10/dist-packages (from pyod) (3.7.1)\n",
            "Requirement already satisfied: numpy>=1.19 in /usr/local/lib/python3.10/dist-packages (from pyod) (1.22.4)\n",
            "Requirement already satisfied: numba>=0.51 in /usr/local/lib/python3.10/dist-packages (from pyod) (0.56.4)\n",
            "Requirement already satisfied: scipy>=1.5.1 in /usr/local/lib/python3.10/dist-packages (from pyod) (1.10.1)\n",
            "Requirement already satisfied: scikit_learn>=0.20.0 in /usr/local/lib/python3.10/dist-packages (from pyod) (1.2.2)\n",
            "Requirement already satisfied: six in /usr/local/lib/python3.10/dist-packages (from pyod) (1.16.0)\n",
            "Requirement already satisfied: llvmlite<0.40,>=0.39.0dev0 in /usr/local/lib/python3.10/dist-packages (from numba>=0.51->pyod) (0.39.1)\n",
            "Requirement already satisfied: setuptools in /usr/local/lib/python3.10/dist-packages (from numba>=0.51->pyod) (67.7.2)\n",
            "Requirement already satisfied: threadpoolctl>=2.0.0 in /usr/local/lib/python3.10/dist-packages (from scikit_learn>=0.20.0->pyod) (3.1.0)\n",
            "Requirement already satisfied: contourpy>=1.0.1 in /usr/local/lib/python3.10/dist-packages (from matplotlib->pyod) (1.0.7)\n",
            "Requirement already satisfied: cycler>=0.10 in /usr/local/lib/python3.10/dist-packages (from matplotlib->pyod) (0.11.0)\n",
            "Requirement already satisfied: fonttools>=4.22.0 in /usr/local/lib/python3.10/dist-packages (from matplotlib->pyod) (4.39.3)\n",
            "Requirement already satisfied: kiwisolver>=1.0.1 in /usr/local/lib/python3.10/dist-packages (from matplotlib->pyod) (1.4.4)\n",
            "Requirement already satisfied: packaging>=20.0 in /usr/local/lib/python3.10/dist-packages (from matplotlib->pyod) (23.1)\n",
            "Requirement already satisfied: pillow>=6.2.0 in /usr/local/lib/python3.10/dist-packages (from matplotlib->pyod) (8.4.0)\n",
            "Requirement already satisfied: pyparsing>=2.3.1 in /usr/local/lib/python3.10/dist-packages (from matplotlib->pyod) (3.0.9)\n",
            "Requirement already satisfied: python-dateutil>=2.7 in /usr/local/lib/python3.10/dist-packages (from matplotlib->pyod) (2.8.2)\n",
            "Building wheels for collected packages: pyod\n",
            "  Building wheel for pyod (setup.py) ... \u001b[?25l\u001b[?25hdone\n",
            "  Created wheel for pyod: filename=pyod-1.0.9-py3-none-any.whl size=184097 sha256=97bc3e078d40f1e1f3f8ee250a275cc9fb9ee867a47cbb6de082c71e3d35dbd2\n",
            "  Stored in directory: /root/.cache/pip/wheels/83/55/6b/552e083cf5509c0afe808b76cf434f1be284d01a112623bd37\n",
            "Successfully built pyod\n",
            "Installing collected packages: pyod\n",
            "Successfully installed pyod-1.0.9\n"
          ]
        }
      ],
      "source": [
        "pip install pyod"
      ]
    },
    {
      "cell_type": "code",
      "execution_count": null,
      "metadata": {
        "id": "ml6QKTmGcRtR"
      },
      "outputs": [],
      "source": [
        "true_labels = df_outlier.label"
      ]
    },
    {
      "cell_type": "code",
      "execution_count": null,
      "metadata": {
        "colab": {
          "base_uri": "https://localhost:8080/"
        },
        "id": "3A9OK2CwcEEH",
        "outputId": "04145838-b52c-4dc0-c480-7cd98968130a"
      },
      "outputs": [
        {
          "name": "stdout",
          "output_type": "stream",
          "text": [
            "              precision    recall  f1-score   support\n",
            "\n",
            "          -1       0.30      0.62      0.40      3737\n",
            "           1       0.98      0.95      0.96     98263\n",
            "\n",
            "    accuracy                           0.93    102000\n",
            "   macro avg       0.64      0.78      0.68    102000\n",
            "weighted avg       0.96      0.93      0.94    102000\n",
            "\n"
          ]
        }
      ],
      "source": [
        "from pyod.models.copod import COPOD\n",
        "if __name__ == \"__main__\":\n",
        "\n",
        "    # train COPOD detector\n",
        "    clf_name = 'COPOD'\n",
        "    clf = COPOD(contamination=0.05)\n",
        "\n",
        "    # you could try parallel version as well.\n",
        "    # clf = COPOD(n_jobs=2)\n",
        "    clf.fit(train)\n",
        "    pred_test = clf.predict(x_out_oh)\n",
        "\n",
        "if (pred_test == 1).any():\n",
        "    pred_test[pred_test == 1] = -1\n",
        "\n",
        "if (pred_test == 0).any():\n",
        "    pred_test[pred_test == 0] = 1\n",
        "\n",
        "Counter(pred_test)\n",
        "\n",
        "from sklearn.metrics import classification_report\n",
        "print(classification_report(true_labels, pred_test))"
      ]
    },
    {
      "cell_type": "code",
      "execution_count": null,
      "metadata": {
        "colab": {
          "base_uri": "https://localhost:8080/"
        },
        "id": "HnJ3QXsLcY7Q",
        "outputId": "826aaf55-5915-4f6c-e8a5-48dcf9a2ac56"
      },
      "outputs": [
        {
          "name": "stdout",
          "output_type": "stream",
          "text": [
            "              precision    recall  f1-score   support\n",
            "\n",
            "          -1       0.47      0.62      0.53      3737\n",
            "           1       0.99      0.97      0.98     98263\n",
            "\n",
            "    accuracy                           0.96    102000\n",
            "   macro avg       0.73      0.79      0.76    102000\n",
            "weighted avg       0.97      0.96      0.96    102000\n",
            "\n"
          ]
        }
      ],
      "source": [
        "from pyod.models.ecod import ECOD\n",
        "if __name__ == \"__main__\":\n",
        "\n",
        "    # train COPOD detector\n",
        "    clf_name = 'ECOD'\n",
        "    clf = ECOD(contamination=0.035)\n",
        "\n",
        "    # you could try parallel version as well.\n",
        "    # clf = COPOD(n_jobs=2)\n",
        "    clf.fit(train)\n",
        "    pred_test = clf.predict(x_out_oh)\n",
        "\n",
        "if (pred_test == 1).any():\n",
        "    pred_test[pred_test == 1] = -1\n",
        "\n",
        "if (pred_test == 0).any():\n",
        "    pred_test[pred_test == 0] = 1\n",
        "\n",
        "Counter(pred_test)\n",
        "\n",
        "from sklearn.metrics import classification_report\n",
        "print(classification_report(true_labels, pred_test))"
      ]
    },
    {
      "cell_type": "code",
      "execution_count": null,
      "metadata": {
        "id": "O9L6XrzkcMrY"
      },
      "outputs": [],
      "source": []
    },
    {
      "cell_type": "code",
      "execution_count": null,
      "metadata": {
        "id": "pE3kcMqxiXAu"
      },
      "outputs": [],
      "source": [
        "clf = IsolationForest(n_estimators=200, contamination = 0.025)"
      ]
    },
    {
      "cell_type": "code",
      "execution_count": null,
      "metadata": {
        "id": "AEg1cecD0xbZ"
      },
      "outputs": [],
      "source": [
        "from sklearn.neighbors import LocalOutlierFactor\n",
        "clf_lof = LocalOutlierFactor(novelty=True, n_neighbors=15, contamination=0.065)"
      ]
    },
    {
      "cell_type": "code",
      "execution_count": null,
      "metadata": {
        "id": "AM6FgcTCib4L"
      },
      "outputs": [],
      "source": [
        "clf_if_tf = clf_lof.fit(train)"
      ]
    },
    {
      "cell_type": "code",
      "execution_count": null,
      "metadata": {
        "colab": {
          "base_uri": "https://localhost:8080/"
        },
        "id": "qp0oppSiie8y",
        "outputId": "1a62698e-96af-4ca3-cdd0-b7d908a19231"
      },
      "outputs": [
        {
          "data": {
            "text/plain": [
              "['/content/drive/MyDrive/thesis/models/lof/clf_lof_w2v.joblib']"
            ]
          },
          "execution_count": 11,
          "metadata": {},
          "output_type": "execute_result"
        }
      ],
      "source": [
        "from joblib import dump, load\n",
        "\n",
        "# save the model\n",
        "dump(clf_if_tf,'/content/drive/MyDrive/thesis/models/lof/clf_lof_w2v.joblib')\n"
      ]
    },
    {
      "cell_type": "code",
      "execution_count": null,
      "metadata": {
        "id": "P8eRoApAiiWx"
      },
      "outputs": [],
      "source": [
        "clf_if_tf = load('/content/drive/MyDrive/thesis/models/lof/clf_lof_w2v.joblib')"
      ]
    },
    {
      "cell_type": "code",
      "execution_count": null,
      "metadata": {
        "id": "hm8-8aFPiljd"
      },
      "outputs": [],
      "source": [
        "pred_test = clf_if_tf.predict(x_out_oh)"
      ]
    },
    {
      "cell_type": "code",
      "execution_count": null,
      "metadata": {
        "colab": {
          "base_uri": "https://localhost:8080/"
        },
        "id": "GEOunjsvinTK",
        "outputId": "08a8b1e9-1438-46f3-dd85-c1b1ad0ab157"
      },
      "outputs": [
        {
          "data": {
            "text/plain": [
              "Counter({1: 101854, -1: 146})"
            ]
          },
          "execution_count": 13,
          "metadata": {},
          "output_type": "execute_result"
        }
      ],
      "source": [
        "Counter(pred_test)"
      ]
    },
    {
      "cell_type": "code",
      "execution_count": null,
      "metadata": {
        "id": "mtiMywKvipJZ"
      },
      "outputs": [],
      "source": [
        "true_labels = df_outlier.label"
      ]
    },
    {
      "cell_type": "code",
      "execution_count": null,
      "metadata": {
        "id": "si7rQwuRiq30"
      },
      "outputs": [],
      "source": [
        "df_validate['label'] = pred_test"
      ]
    },
    {
      "cell_type": "code",
      "execution_count": null,
      "metadata": {
        "id": "jKLqK4iciscV"
      },
      "outputs": [],
      "source": [
        "df_validate[df_validate['label'] == -1].to_csv('/content/drive/MyDrive/thesis/models/iforest/w2v_results_val.csv', index=False)"
      ]
    },
    {
      "cell_type": "code",
      "execution_count": null,
      "metadata": {
        "colab": {
          "base_uri": "https://localhost:8080/"
        },
        "id": "LD4a7HlCivfI",
        "outputId": "247195ba-135d-465d-88b4-a79b1e3cb84e"
      },
      "outputs": [
        {
          "name": "stdout",
          "output_type": "stream",
          "text": [
            "              precision    recall  f1-score   support\n",
            "\n",
            "          -1       0.98      0.04      0.07      3737\n",
            "           1       0.96      1.00      0.98     98263\n",
            "\n",
            "    accuracy                           0.96    102000\n",
            "   macro avg       0.97      0.52      0.53    102000\n",
            "weighted avg       0.97      0.96      0.95    102000\n",
            "\n"
          ]
        }
      ],
      "source": [
        "from sklearn.metrics import classification_report\n",
        "print(classification_report(true_labels, pred_test))"
      ]
    },
    {
      "cell_type": "code",
      "execution_count": null,
      "metadata": {
        "colab": {
          "base_uri": "https://localhost:8080/"
        },
        "id": "DwqidDtYixSP",
        "outputId": "999314a8-2b06-47d4-9dd5-167aecf252fa"
      },
      "outputs": [
        {
          "name": "stdout",
          "output_type": "stream",
          "text": [
            "Accuracy: 0.9690196078431372\n",
            "Precision: 0.9774199054226363\n",
            "Recall: 0.9907289620711763\n",
            "F1 Score: 0.9840294343589537\n"
          ]
        }
      ],
      "source": [
        "from sklearn.metrics import accuracy_score, precision_score, recall_score, f1_score\n",
        "\n",
        "# Assuming you have the true labels for the dataset in 'true_labels' and the LOF predictions in 'lof_predictions'\n",
        "\n",
        "# Convert LOF scores to binary labels based on a threshold (e.g., outliers with scores above the threshold are considered anomalies)\n",
        "\n",
        "# Calculate accuracy\n",
        "accuracy = accuracy_score(true_labels, pred_test)\n",
        "print(\"Accuracy:\", accuracy)\n",
        "\n",
        "# Calculate precision\n",
        "precision = precision_score(true_labels, pred_test)\n",
        "print(\"Precision:\", precision)\n",
        "\n",
        "# Calculate recall\n",
        "recall = recall_score(true_labels, pred_test)\n",
        "print(\"Recall:\", recall)\n",
        "\n",
        "# Calculate F1 score\n",
        "f1 = f1_score(true_labels, pred_test)\n",
        "print(\"F1 Score:\", f1)"
      ]
    },
    {
      "cell_type": "code",
      "execution_count": null,
      "metadata": {
        "id": "qSX39oiji5AT"
      },
      "outputs": [],
      "source": []
    },
    {
      "cell_type": "code",
      "execution_count": null,
      "metadata": {
        "id": "9I5RvsuAlQyA"
      },
      "outputs": [],
      "source": []
    },
    {
      "cell_type": "markdown",
      "metadata": {
        "id": "S2uU4bnRlRII"
      },
      "source": [
        "W2V+PCA"
      ]
    },
    {
      "cell_type": "code",
      "execution_count": null,
      "metadata": {
        "id": "Ka7Dh9FflVLO"
      },
      "outputs": [],
      "source": [
        "df_oh = pd.read_csv('/content/drive/MyDrive/thesis/train/w2vec.csv', sep=',')\n",
        "x_out_oh = pd.read_csv('/content/drive/MyDrive/thesis/val/val-w2vec.csv', sep=',')"
      ]
    },
    {
      "cell_type": "code",
      "execution_count": null,
      "metadata": {
        "colab": {
          "base_uri": "https://localhost:8080/"
        },
        "id": "QN_UcOcCohDD",
        "outputId": "db51dd70-75c5-4c21-f799-1a4760aa9625"
      },
      "outputs": [
        {
          "output_type": "execute_result",
          "data": {
            "text/plain": [
              "306302.7"
            ]
          },
          "metadata": {},
          "execution_count": 34
        }
      ],
      "source": [
        "split_len = 0.3 * len(df_oh)\n",
        "split_len"
      ]
    },
    {
      "cell_type": "code",
      "execution_count": null,
      "metadata": {
        "id": "fz8pC9eZolHn"
      },
      "outputs": [],
      "source": [
        "test = df_oh[:int(split_len)]\n",
        "train = df_oh[int(split_len):]"
      ]
    },
    {
      "cell_type": "code",
      "execution_count": null,
      "metadata": {
        "id": "fwELwFYtoWmC",
        "colab": {
          "base_uri": "https://localhost:8080/"
        },
        "outputId": "b09b9acc-a240-4c30-84a0-1c4d2af6a465"
      },
      "outputs": [
        {
          "output_type": "stream",
          "name": "stderr",
          "text": [
            "WARNING:tensorflow:Layer lstm_8 will not use cuDNN kernels since it doesn't meet the criteria. It will use a generic GPU kernel as fallback when running on GPU.\n",
            "WARNING:tensorflow:Layer lstm_8 will not use cuDNN kernels since it doesn't meet the criteria. It will use a generic GPU kernel as fallback when running on GPU.\n",
            "WARNING:tensorflow:Layer lstm_8 will not use cuDNN kernels since it doesn't meet the criteria. It will use a generic GPU kernel as fallback when running on GPU.\n",
            "WARNING:tensorflow:Layer lstm_9 will not use cuDNN kernels since it doesn't meet the criteria. It will use a generic GPU kernel as fallback when running on GPU.\n",
            "WARNING:tensorflow:Layer lstm_9 will not use cuDNN kernels since it doesn't meet the criteria. It will use a generic GPU kernel as fallback when running on GPU.\n",
            "WARNING:tensorflow:Layer lstm_9 will not use cuDNN kernels since it doesn't meet the criteria. It will use a generic GPU kernel as fallback when running on GPU.\n",
            "WARNING:tensorflow:Layer lstm_10 will not use cuDNN kernels since it doesn't meet the criteria. It will use a generic GPU kernel as fallback when running on GPU.\n",
            "WARNING:tensorflow:Layer lstm_10 will not use cuDNN kernels since it doesn't meet the criteria. It will use a generic GPU kernel as fallback when running on GPU.\n",
            "WARNING:tensorflow:Layer lstm_10 will not use cuDNN kernels since it doesn't meet the criteria. It will use a generic GPU kernel as fallback when running on GPU.\n",
            "WARNING:tensorflow:Layer lstm_11 will not use cuDNN kernels since it doesn't meet the criteria. It will use a generic GPU kernel as fallback when running on GPU.\n",
            "WARNING:tensorflow:Layer lstm_11 will not use cuDNN kernels since it doesn't meet the criteria. It will use a generic GPU kernel as fallback when running on GPU.\n",
            "WARNING:tensorflow:Layer lstm_11 will not use cuDNN kernels since it doesn't meet the criteria. It will use a generic GPU kernel as fallback when running on GPU.\n"
          ]
        },
        {
          "output_type": "stream",
          "name": "stdout",
          "text": [
            "Model: \"model_2\"\n",
            "_________________________________________________________________\n",
            " Layer (type)                Output Shape              Param #   \n",
            "=================================================================\n",
            " input_3 (InputLayer)        [(None, 1, 300)]          0         \n",
            "                                                                 \n",
            " bidirectional (Bidirectiona  (None, 1, 256)           439296    \n",
            " l)                                                              \n",
            "                                                                 \n",
            " bidirectional_1 (Bidirectio  (None, 128)              164352    \n",
            " nal)                                                            \n",
            "                                                                 \n",
            " repeat_vector_2 (RepeatVect  (None, 1, 128)           0         \n",
            " or)                                                             \n",
            "                                                                 \n",
            " bidirectional_2 (Bidirectio  (None, 1, 128)           98816     \n",
            " nal)                                                            \n",
            "                                                                 \n",
            " bidirectional_3 (Bidirectio  (None, 1, 256)           263168    \n",
            " nal)                                                            \n",
            "                                                                 \n",
            " time_distributed_2 (TimeDis  (None, 1, 300)           77100     \n",
            " tributed)                                                       \n",
            "                                                                 \n",
            "=================================================================\n",
            "Total params: 1,042,732\n",
            "Trainable params: 1,042,732\n",
            "Non-trainable params: 0\n",
            "_________________________________________________________________\n",
            "Epoch 1/10\n",
            "608/608 [==============================] - 29s 29ms/step - loss: 0.0157 - mae: 0.0397 - acc: 0.0784 - recall_2: 0.4996 - precision_2: 0.9990 - val_loss: 3.4956e-04 - val_mae: 0.0048 - val_acc: 0.2012 - val_recall_2: 0.5232 - val_precision_2: 0.9999\n",
            "Epoch 2/10\n",
            "608/608 [==============================] - 16s 26ms/step - loss: 8.1253e-05 - mae: 0.0021 - acc: 0.1463 - recall_2: 0.5235 - precision_2: 1.0000 - val_loss: 2.2801e-04 - val_mae: 0.0055 - val_acc: 0.0342 - val_recall_2: 0.5229 - val_precision_2: 0.9999\n",
            "Epoch 3/10\n",
            "608/608 [==============================] - 16s 26ms/step - loss: 2.6500e-05 - mae: 0.0014 - acc: 0.1247 - recall_2: 0.5236 - precision_2: 1.0000 - val_loss: 1.7189e-04 - val_mae: 0.0025 - val_acc: 0.0011 - val_recall_2: 0.5229 - val_precision_2: 1.0000\n",
            "Epoch 4/10\n",
            "608/608 [==============================] - 17s 27ms/step - loss: 2.7671e-05 - mae: 0.0020 - acc: 0.1143 - recall_2: 0.5235 - precision_2: 1.0000 - val_loss: 1.6285e-04 - val_mae: 0.0019 - val_acc: 9.2345e-04 - val_recall_2: 0.5236 - val_precision_2: 1.0000\n",
            "Epoch 5/10\n",
            "608/608 [==============================] - 16s 26ms/step - loss: 2.7638e-05 - mae: 0.0025 - acc: 0.1069 - recall_2: 0.5235 - precision_2: 1.0000 - val_loss: 1.8990e-04 - val_mae: 0.0057 - val_acc: 0.0015 - val_recall_2: 0.5191 - val_precision_2: 1.0000\n",
            "Epoch 6/10\n",
            "608/608 [==============================] - 16s 26ms/step - loss: 2.8128e-05 - mae: 0.0019 - acc: 0.1048 - recall_2: 0.5235 - precision_2: 1.0000 - val_loss: 1.6896e-04 - val_mae: 0.0017 - val_acc: 0.0015 - val_recall_2: 0.5232 - val_precision_2: 1.0000\n",
            "Epoch 7/10\n",
            "608/608 [==============================] - 16s 26ms/step - loss: 2.0865e-05 - mae: 0.0017 - acc: 0.1048 - recall_2: 0.5235 - precision_2: 1.0000 - val_loss: 1.7543e-04 - val_mae: 0.0018 - val_acc: 0.0016 - val_recall_2: 0.5232 - val_precision_2: 0.9999\n",
            "Epoch 8/10\n",
            "608/608 [==============================] - 16s 26ms/step - loss: 2.1033e-05 - mae: 0.0020 - acc: 0.1286 - recall_2: 0.5235 - precision_2: 1.0000 - val_loss: 2.5030e-04 - val_mae: 0.0086 - val_acc: 0.0298 - val_recall_2: 0.5176 - val_precision_2: 1.0000\n",
            "Epoch 9/10\n",
            "608/608 [==============================] - 16s 26ms/step - loss: 1.9331e-05 - mae: 0.0019 - acc: 0.1273 - recall_2: 0.5235 - precision_2: 1.0000 - val_loss: 1.6369e-04 - val_mae: 0.0020 - val_acc: 0.7113 - val_recall_2: 0.5234 - val_precision_2: 1.0000\n",
            "Epoch 10/10\n",
            "608/608 [==============================] - 15s 25ms/step - loss: 1.1488e-05 - mae: 0.0015 - acc: 0.0881 - recall_2: 0.5236 - precision_2: 1.0000 - val_loss: 1.7189e-04 - val_mae: 0.0036 - val_acc: 0.0090 - val_recall_2: 0.5235 - val_precision_2: 1.0000\n"
          ]
        }
      ],
      "source": [
        "x_train = train.values.reshape(train.shape[0], 1, train.shape[1])\n",
        "x_test = test.values.reshape(test.shape[0], 1,train.shape[1])\n",
        "\n",
        "x_out = x_out_oh.values.reshape(x_out_oh.shape[0], 1,x_out_oh.shape[1])\n",
        "\n",
        "#define the model\n",
        "\n",
        "def autoencoder_model(X):\n",
        "\n",
        "  inputs = Input(shape=(X.shape[1], X.shape[2]))\n",
        "  L1 = Bidirectional(LSTM(128, activation='relu', return_sequences=True,\n",
        "              kernel_regularizer=regularizers.l2(0.00)))(inputs)\n",
        "  L2 = Bidirectional(LSTM(64, activation='relu', return_sequences=False))(L1)\n",
        "  L3 = RepeatVector(X.shape[1])(L2)\n",
        "  L4 = Bidirectional(LSTM(64, activation='relu', return_sequences=True))(L3)\n",
        "  L5 = Bidirectional(LSTM(128, activation='relu', return_sequences=True))(L4)\n",
        "  output = TimeDistributed(Dense(X.shape[2]))(L5)\n",
        "  model = Model(inputs=inputs, outputs=output)\n",
        "  return model\n",
        "\n",
        "# create the autoencoder model\n",
        "model = autoencoder_model(x_train)\n",
        "model.compile(optimizer='adam', loss=['mse'],\n",
        "              metrics=['mae', 'acc', tf.keras.metrics.Recall(), tf.keras.metrics.Precision()])\n",
        "model.summary()\n",
        "\n",
        "nb_epochs = 10\n",
        "batch_size = 1000\n",
        "history = model.fit(x_train, x_train, epochs=nb_epochs, batch_size=batch_size,\n",
        "                    validation_split=0.15).history\n",
        "\n",
        "\n",
        "\n"
      ]
    },
    {
      "cell_type": "code",
      "source": [
        "# calculate the loss on the test set\n",
        "X_pred = model.predict(x_out)\n",
        "X_pred = X_pred.reshape(X_pred.shape[0], X_pred.shape[2])\n",
        "X_pred = pd.DataFrame(X_pred, columns=x_out_oh.columns)\n",
        "X_pred.index = x_out_oh.index\n",
        "\n",
        "scored = pd.DataFrame(index=x_out_oh.index)\n",
        "Xtest = x_out_oh.values.reshape(x_out_oh.shape[0], x_out_oh.shape[1])\n",
        "scored['Loss_mae'] = np.mean(np.abs(X_pred-Xtest), axis = 1)\n",
        "scored['Threshold'] = 0.004\n",
        "scored['Anomaly'] = np.where(scored['Loss_mae'] > scored['Threshold'], -1, 1)\n",
        "scored.head()\n",
        "test_pred = scored.Anomaly\n",
        "\n",
        "from sklearn.metrics import classification_report\n",
        "print(classification_report(true_labels, test_pred))"
      ],
      "metadata": {
        "colab": {
          "base_uri": "https://localhost:8080/"
        },
        "id": "eDtkjnsKiYLF",
        "outputId": "aaa5fb44-9ed0-4176-b857-1e25074ddc06"
      },
      "execution_count": null,
      "outputs": [
        {
          "output_type": "stream",
          "name": "stdout",
          "text": [
            "3188/3188 [==============================] - 11s 3ms/step\n",
            "              precision    recall  f1-score   support\n",
            "\n",
            "          -1       0.74      0.62      0.67      3737\n",
            "           1       0.99      0.99      0.99     98263\n",
            "\n",
            "    accuracy                           0.98    102000\n",
            "   macro avg       0.86      0.80      0.83    102000\n",
            "weighted avg       0.98      0.98      0.98    102000\n",
            "\n"
          ]
        }
      ]
    },
    {
      "cell_type": "code",
      "execution_count": null,
      "metadata": {
        "colab": {
          "base_uri": "https://localhost:8080/"
        },
        "id": "0XI0HrCZccZo",
        "outputId": "68d81509-7721-472b-ac7f-423e6ef97bfe"
      },
      "outputs": [
        {
          "name": "stdout",
          "output_type": "stream",
          "text": [
            "              precision    recall  f1-score   support\n",
            "\n",
            "          -1       0.47      0.62      0.53      3737\n",
            "           1       0.99      0.97      0.98     98263\n",
            "\n",
            "    accuracy                           0.96    102000\n",
            "   macro avg       0.73      0.79      0.76    102000\n",
            "weighted avg       0.97      0.96      0.96    102000\n",
            "\n"
          ]
        }
      ],
      "source": [
        "from pyod.models.copod import COPOD\n",
        "if __name__ == \"__main__\":\n",
        "\n",
        "    # train COPOD detector\n",
        "    clf_name = 'COPOD'\n",
        "    clf = COPOD(contamination=0.04)\n",
        "\n",
        "    # you could try parallel version as well.\n",
        "    # clf = COPOD(n_jobs=2)\n",
        "    clf.fit(train)\n",
        "    pred_test = clf.predict(x_out_oh)\n",
        "\n",
        "if (pred_test == 1).any():\n",
        "    pred_test[pred_test == 1] = -1\n",
        "\n",
        "if (pred_test == 0).any():\n",
        "    pred_test[pred_test == 0] = 1\n",
        "\n",
        "Counter(pred_test)\n",
        "\n",
        "from sklearn.metrics import classification_report\n",
        "print(classification_report(true_labels, pred_test))"
      ]
    },
    {
      "cell_type": "code",
      "execution_count": null,
      "metadata": {
        "colab": {
          "base_uri": "https://localhost:8080/"
        },
        "id": "KHRdv9JicbrU",
        "outputId": "92f7ad64-7544-4d0f-b74b-e2b7634aafb3"
      },
      "outputs": [
        {
          "name": "stdout",
          "output_type": "stream",
          "text": [
            "              precision    recall  f1-score   support\n",
            "\n",
            "          -1       0.85      0.62      0.71      3737\n",
            "           1       0.99      1.00      0.99     98263\n",
            "\n",
            "    accuracy                           0.98    102000\n",
            "   macro avg       0.92      0.81      0.85    102000\n",
            "weighted avg       0.98      0.98      0.98    102000\n",
            "\n"
          ]
        }
      ],
      "source": [
        "from pyod.models.ecod import ECOD\n",
        "if __name__ == \"__main__\":\n",
        "\n",
        "    # train COPOD detector\n",
        "    clf_name = 'ECOD'\n",
        "    clf = ECOD(contamination=0.020)\n",
        "\n",
        "    # you could try parallel version as well.\n",
        "    # clf = COPOD(n_jobs=2)\n",
        "    clf.fit(train)\n",
        "    pred_test = clf.predict(x_out_oh)\n",
        "\n",
        "if (pred_test == 1).any():\n",
        "    pred_test[pred_test == 1] = -1\n",
        "\n",
        "if (pred_test == 0).any():\n",
        "    pred_test[pred_test == 0] = 1\n",
        "\n",
        "Counter(pred_test)\n",
        "\n",
        "from sklearn.metrics import classification_report\n",
        "print(classification_report(true_labels, pred_test))"
      ]
    },
    {
      "cell_type": "code",
      "execution_count": null,
      "metadata": {
        "id": "RhXnI8Pmo6Ot"
      },
      "outputs": [],
      "source": [
        "clf = IsolationForest(n_estimators=200, contamination = 0.025)"
      ]
    },
    {
      "cell_type": "code",
      "execution_count": null,
      "metadata": {
        "id": "F3f1isoNKtmI"
      },
      "outputs": [],
      "source": [
        "from sklearn.neighbors import LocalOutlierFactor\n",
        "clf_lof = LocalOutlierFactor(novelty=True, n_neighbors=15, contamination=0.065)"
      ]
    },
    {
      "cell_type": "code",
      "execution_count": null,
      "metadata": {
        "id": "RIcGZUcco8Tj"
      },
      "outputs": [],
      "source": [
        "clf_if_tf = clf_lof.fit(train)"
      ]
    },
    {
      "cell_type": "code",
      "execution_count": null,
      "metadata": {
        "colab": {
          "base_uri": "https://localhost:8080/"
        },
        "id": "TG6yBYH7o-fo",
        "outputId": "0b9239c6-811e-44db-82ad-ee00bcbd01bc"
      },
      "outputs": [
        {
          "data": {
            "text/plain": [
              "['/content/drive/MyDrive/thesis/models/lof/clf_lof_w2v_pca.joblib']"
            ]
          },
          "execution_count": 23,
          "metadata": {},
          "output_type": "execute_result"
        }
      ],
      "source": [
        "from joblib import dump, load\n",
        "\n",
        "# save the model\n",
        "dump(clf_if_tf,'/content/drive/MyDrive/thesis/models/lof/clf_lof_w2v_pca.joblib')"
      ]
    },
    {
      "cell_type": "code",
      "execution_count": null,
      "metadata": {
        "id": "aOiFMHJUpCpf"
      },
      "outputs": [],
      "source": [
        "clf_if_tf = load('/content/drive/MyDrive/thesis/models/lof/clf_lof_w2v_pca.joblib')"
      ]
    },
    {
      "cell_type": "code",
      "execution_count": null,
      "metadata": {
        "id": "rpLFO5KxpFzT"
      },
      "outputs": [],
      "source": [
        "pred_test = clf_if_tf.predict(x_out_oh)"
      ]
    },
    {
      "cell_type": "code",
      "execution_count": null,
      "metadata": {
        "colab": {
          "base_uri": "https://localhost:8080/"
        },
        "id": "fmlVX54DpI6y",
        "outputId": "cdd625fb-41aa-41e0-9bce-c72d218ac913"
      },
      "outputs": [
        {
          "data": {
            "text/plain": [
              "Counter({1: 101854, -1: 146})"
            ]
          },
          "execution_count": 26,
          "metadata": {},
          "output_type": "execute_result"
        }
      ],
      "source": [
        "Counter(pred_test)"
      ]
    },
    {
      "cell_type": "code",
      "execution_count": null,
      "metadata": {
        "colab": {
          "base_uri": "https://localhost:8080/"
        },
        "id": "qKrLXkvrK6jz",
        "outputId": "a59642c7-3807-4e4a-eb18-8580e2dec4d7"
      },
      "outputs": [
        {
          "name": "stdout",
          "output_type": "stream",
          "text": [
            "              precision    recall  f1-score   support\n",
            "\n",
            "          -1       0.98      0.04      0.07      3737\n",
            "           1       0.96      1.00      0.98     98263\n",
            "\n",
            "    accuracy                           0.96    102000\n",
            "   macro avg       0.97      0.52      0.53    102000\n",
            "weighted avg       0.97      0.96      0.95    102000\n",
            "\n"
          ]
        }
      ],
      "source": [
        "from sklearn.metrics import classification_report\n",
        "print(classification_report(true_labels, pred_test))"
      ]
    },
    {
      "cell_type": "code",
      "execution_count": null,
      "metadata": {
        "id": "nyyxdlXapM2o"
      },
      "outputs": [],
      "source": [
        "true_labels = df_outlier.label"
      ]
    },
    {
      "cell_type": "code",
      "execution_count": null,
      "metadata": {
        "id": "mmtXAujPpPDy"
      },
      "outputs": [],
      "source": [
        "df_validate['label'] = pred_test"
      ]
    },
    {
      "cell_type": "code",
      "execution_count": null,
      "metadata": {
        "id": "d4xoEbP_pRCk"
      },
      "outputs": [],
      "source": [
        "df_validate[df_validate['label'] == -1].to_csv('/content/drive/MyDrive/thesis/models/iforest/w2v_results_val_pca.csv', index=False)"
      ]
    },
    {
      "cell_type": "code",
      "execution_count": null,
      "metadata": {
        "colab": {
          "base_uri": "https://localhost:8080/"
        },
        "id": "h0eXyH9vpYX5",
        "outputId": "5e940eaf-85db-4a2c-c3be-1bc56a55d1fc"
      },
      "outputs": [
        {
          "name": "stdout",
          "output_type": "stream",
          "text": [
            "              precision    recall  f1-score   support\n",
            "\n",
            "          -1       0.81      0.80      0.80      3737\n",
            "           1       0.99      0.99      0.99     98263\n",
            "\n",
            "    accuracy                           0.99    102000\n",
            "   macro avg       0.90      0.89      0.90    102000\n",
            "weighted avg       0.99      0.99      0.99    102000\n",
            "\n"
          ]
        }
      ],
      "source": [
        "from sklearn.metrics import classification_report\n",
        "print(classification_report(true_labels, pred_test))"
      ]
    },
    {
      "cell_type": "code",
      "execution_count": null,
      "metadata": {
        "colab": {
          "base_uri": "https://localhost:8080/"
        },
        "id": "JtMPTYdVpY8m",
        "outputId": "4971c7e3-ff48-492c-8a70-971ea82ff7b7"
      },
      "outputs": [
        {
          "name": "stdout",
          "output_type": "stream",
          "text": [
            "Accuracy: 0.9854607843137255\n",
            "Precision: 0.9922385205379123\n",
            "Recall: 0.9926727252373732\n",
            "F1 Score: 0.992455575395917\n"
          ]
        }
      ],
      "source": [
        "from sklearn.metrics import accuracy_score, precision_score, recall_score, f1_score\n",
        "\n",
        "# Assuming you have the true labels for the dataset in 'true_labels' and the LOF predictions in 'lof_predictions'\n",
        "\n",
        "# Convert LOF scores to binary labels based on a threshold (e.g., outliers with scores above the threshold are considered anomalies)\n",
        "\n",
        "# Calculate accuracy\n",
        "accuracy = accuracy_score(true_labels, pred_test)\n",
        "print(\"Accuracy:\", accuracy)\n",
        "\n",
        "# Calculate precision\n",
        "precision = precision_score(true_labels, pred_test)\n",
        "print(\"Precision:\", precision)\n",
        "\n",
        "# Calculate recall\n",
        "recall = recall_score(true_labels, pred_test)\n",
        "print(\"Recall:\", recall)\n",
        "\n",
        "# Calculate F1 score\n",
        "f1 = f1_score(true_labels, pred_test)\n",
        "print(\"F1 Score:\", f1)"
      ]
    },
    {
      "cell_type": "code",
      "execution_count": null,
      "metadata": {
        "id": "zO-8gSKEpckE"
      },
      "outputs": [],
      "source": []
    },
    {
      "cell_type": "code",
      "execution_count": null,
      "metadata": {
        "id": "00ds8AsYpcm6"
      },
      "outputs": [],
      "source": []
    },
    {
      "cell_type": "markdown",
      "metadata": {
        "id": "lD8wuE4qp5bt"
      },
      "source": [
        "W2v+AE"
      ]
    },
    {
      "cell_type": "code",
      "execution_count": null,
      "metadata": {
        "id": "TDOoYgiQp7Ah"
      },
      "outputs": [],
      "source": [
        "df_oh = pd.read_csv('/content/drive/MyDrive/thesis/train/w2vec-reduce.csv', sep=',')\n",
        "x_out_oh = pd.read_csv('/content/drive/MyDrive/thesis/val/val-w2vec-reduce.csv', sep=',')"
      ]
    },
    {
      "cell_type": "code",
      "execution_count": null,
      "metadata": {
        "colab": {
          "base_uri": "https://localhost:8080/",
          "height": 236
        },
        "id": "jIIqUbvQsKQY",
        "outputId": "cd0e03de-1798-4158-a351-05604a511e64"
      },
      "outputs": [
        {
          "output_type": "execute_result",
          "data": {
            "text/plain": [
              "     0    1    2    3    4    5    6    7    8    9  ...   22        23  \\\n",
              "0  0.0  0.0  0.0  0.0  0.0  0.0  0.0  0.0  0.0  0.0  ...  0.0  5.141374   \n",
              "1  0.0  0.0  0.0  0.0  0.0  0.0  0.0  0.0  0.0  0.0  ...  0.0  5.141374   \n",
              "2  0.0  0.0  0.0  0.0  0.0  0.0  0.0  0.0  0.0  0.0  ...  0.0  5.141374   \n",
              "3  0.0  0.0  0.0  0.0  0.0  0.0  0.0  0.0  0.0  0.0  ...  0.0  5.141374   \n",
              "4  0.0  0.0  0.0  0.0  0.0  0.0  0.0  0.0  0.0  0.0  ...  0.0  3.067468   \n",
              "\n",
              "         24   25   26   27        28   29   30        31  \n",
              "0  0.515627  0.0  0.0  0.0  0.000000  0.0  0.0  0.000000  \n",
              "1  0.515627  0.0  0.0  0.0  0.000000  0.0  0.0  0.000000  \n",
              "2  0.515627  0.0  0.0  0.0  0.000000  0.0  0.0  0.000000  \n",
              "3  0.515627  0.0  0.0  0.0  0.000000  0.0  0.0  0.000000  \n",
              "4  0.605815  0.0  0.0  0.0  0.741926  0.0  0.0  1.610108  \n",
              "\n",
              "[5 rows x 32 columns]"
            ],
            "text/html": [
              "\n",
              "  <div id=\"df-8a3ed754-4680-4e67-9663-2af2672d9dfd\">\n",
              "    <div class=\"colab-df-container\">\n",
              "      <div>\n",
              "<style scoped>\n",
              "    .dataframe tbody tr th:only-of-type {\n",
              "        vertical-align: middle;\n",
              "    }\n",
              "\n",
              "    .dataframe tbody tr th {\n",
              "        vertical-align: top;\n",
              "    }\n",
              "\n",
              "    .dataframe thead th {\n",
              "        text-align: right;\n",
              "    }\n",
              "</style>\n",
              "<table border=\"1\" class=\"dataframe\">\n",
              "  <thead>\n",
              "    <tr style=\"text-align: right;\">\n",
              "      <th></th>\n",
              "      <th>0</th>\n",
              "      <th>1</th>\n",
              "      <th>2</th>\n",
              "      <th>3</th>\n",
              "      <th>4</th>\n",
              "      <th>5</th>\n",
              "      <th>6</th>\n",
              "      <th>7</th>\n",
              "      <th>8</th>\n",
              "      <th>9</th>\n",
              "      <th>...</th>\n",
              "      <th>22</th>\n",
              "      <th>23</th>\n",
              "      <th>24</th>\n",
              "      <th>25</th>\n",
              "      <th>26</th>\n",
              "      <th>27</th>\n",
              "      <th>28</th>\n",
              "      <th>29</th>\n",
              "      <th>30</th>\n",
              "      <th>31</th>\n",
              "    </tr>\n",
              "  </thead>\n",
              "  <tbody>\n",
              "    <tr>\n",
              "      <th>0</th>\n",
              "      <td>0.0</td>\n",
              "      <td>0.0</td>\n",
              "      <td>0.0</td>\n",
              "      <td>0.0</td>\n",
              "      <td>0.0</td>\n",
              "      <td>0.0</td>\n",
              "      <td>0.0</td>\n",
              "      <td>0.0</td>\n",
              "      <td>0.0</td>\n",
              "      <td>0.0</td>\n",
              "      <td>...</td>\n",
              "      <td>0.0</td>\n",
              "      <td>5.141374</td>\n",
              "      <td>0.515627</td>\n",
              "      <td>0.0</td>\n",
              "      <td>0.0</td>\n",
              "      <td>0.0</td>\n",
              "      <td>0.000000</td>\n",
              "      <td>0.0</td>\n",
              "      <td>0.0</td>\n",
              "      <td>0.000000</td>\n",
              "    </tr>\n",
              "    <tr>\n",
              "      <th>1</th>\n",
              "      <td>0.0</td>\n",
              "      <td>0.0</td>\n",
              "      <td>0.0</td>\n",
              "      <td>0.0</td>\n",
              "      <td>0.0</td>\n",
              "      <td>0.0</td>\n",
              "      <td>0.0</td>\n",
              "      <td>0.0</td>\n",
              "      <td>0.0</td>\n",
              "      <td>0.0</td>\n",
              "      <td>...</td>\n",
              "      <td>0.0</td>\n",
              "      <td>5.141374</td>\n",
              "      <td>0.515627</td>\n",
              "      <td>0.0</td>\n",
              "      <td>0.0</td>\n",
              "      <td>0.0</td>\n",
              "      <td>0.000000</td>\n",
              "      <td>0.0</td>\n",
              "      <td>0.0</td>\n",
              "      <td>0.000000</td>\n",
              "    </tr>\n",
              "    <tr>\n",
              "      <th>2</th>\n",
              "      <td>0.0</td>\n",
              "      <td>0.0</td>\n",
              "      <td>0.0</td>\n",
              "      <td>0.0</td>\n",
              "      <td>0.0</td>\n",
              "      <td>0.0</td>\n",
              "      <td>0.0</td>\n",
              "      <td>0.0</td>\n",
              "      <td>0.0</td>\n",
              "      <td>0.0</td>\n",
              "      <td>...</td>\n",
              "      <td>0.0</td>\n",
              "      <td>5.141374</td>\n",
              "      <td>0.515627</td>\n",
              "      <td>0.0</td>\n",
              "      <td>0.0</td>\n",
              "      <td>0.0</td>\n",
              "      <td>0.000000</td>\n",
              "      <td>0.0</td>\n",
              "      <td>0.0</td>\n",
              "      <td>0.000000</td>\n",
              "    </tr>\n",
              "    <tr>\n",
              "      <th>3</th>\n",
              "      <td>0.0</td>\n",
              "      <td>0.0</td>\n",
              "      <td>0.0</td>\n",
              "      <td>0.0</td>\n",
              "      <td>0.0</td>\n",
              "      <td>0.0</td>\n",
              "      <td>0.0</td>\n",
              "      <td>0.0</td>\n",
              "      <td>0.0</td>\n",
              "      <td>0.0</td>\n",
              "      <td>...</td>\n",
              "      <td>0.0</td>\n",
              "      <td>5.141374</td>\n",
              "      <td>0.515627</td>\n",
              "      <td>0.0</td>\n",
              "      <td>0.0</td>\n",
              "      <td>0.0</td>\n",
              "      <td>0.000000</td>\n",
              "      <td>0.0</td>\n",
              "      <td>0.0</td>\n",
              "      <td>0.000000</td>\n",
              "    </tr>\n",
              "    <tr>\n",
              "      <th>4</th>\n",
              "      <td>0.0</td>\n",
              "      <td>0.0</td>\n",
              "      <td>0.0</td>\n",
              "      <td>0.0</td>\n",
              "      <td>0.0</td>\n",
              "      <td>0.0</td>\n",
              "      <td>0.0</td>\n",
              "      <td>0.0</td>\n",
              "      <td>0.0</td>\n",
              "      <td>0.0</td>\n",
              "      <td>...</td>\n",
              "      <td>0.0</td>\n",
              "      <td>3.067468</td>\n",
              "      <td>0.605815</td>\n",
              "      <td>0.0</td>\n",
              "      <td>0.0</td>\n",
              "      <td>0.0</td>\n",
              "      <td>0.741926</td>\n",
              "      <td>0.0</td>\n",
              "      <td>0.0</td>\n",
              "      <td>1.610108</td>\n",
              "    </tr>\n",
              "  </tbody>\n",
              "</table>\n",
              "<p>5 rows × 32 columns</p>\n",
              "</div>\n",
              "      <button class=\"colab-df-convert\" onclick=\"convertToInteractive('df-8a3ed754-4680-4e67-9663-2af2672d9dfd')\"\n",
              "              title=\"Convert this dataframe to an interactive table.\"\n",
              "              style=\"display:none;\">\n",
              "        \n",
              "  <svg xmlns=\"http://www.w3.org/2000/svg\" height=\"24px\"viewBox=\"0 0 24 24\"\n",
              "       width=\"24px\">\n",
              "    <path d=\"M0 0h24v24H0V0z\" fill=\"none\"/>\n",
              "    <path d=\"M18.56 5.44l.94 2.06.94-2.06 2.06-.94-2.06-.94-.94-2.06-.94 2.06-2.06.94zm-11 1L8.5 8.5l.94-2.06 2.06-.94-2.06-.94L8.5 2.5l-.94 2.06-2.06.94zm10 10l.94 2.06.94-2.06 2.06-.94-2.06-.94-.94-2.06-.94 2.06-2.06.94z\"/><path d=\"M17.41 7.96l-1.37-1.37c-.4-.4-.92-.59-1.43-.59-.52 0-1.04.2-1.43.59L10.3 9.45l-7.72 7.72c-.78.78-.78 2.05 0 2.83L4 21.41c.39.39.9.59 1.41.59.51 0 1.02-.2 1.41-.59l7.78-7.78 2.81-2.81c.8-.78.8-2.07 0-2.86zM5.41 20L4 18.59l7.72-7.72 1.47 1.35L5.41 20z\"/>\n",
              "  </svg>\n",
              "      </button>\n",
              "      \n",
              "  <style>\n",
              "    .colab-df-container {\n",
              "      display:flex;\n",
              "      flex-wrap:wrap;\n",
              "      gap: 12px;\n",
              "    }\n",
              "\n",
              "    .colab-df-convert {\n",
              "      background-color: #E8F0FE;\n",
              "      border: none;\n",
              "      border-radius: 50%;\n",
              "      cursor: pointer;\n",
              "      display: none;\n",
              "      fill: #1967D2;\n",
              "      height: 32px;\n",
              "      padding: 0 0 0 0;\n",
              "      width: 32px;\n",
              "    }\n",
              "\n",
              "    .colab-df-convert:hover {\n",
              "      background-color: #E2EBFA;\n",
              "      box-shadow: 0px 1px 2px rgba(60, 64, 67, 0.3), 0px 1px 3px 1px rgba(60, 64, 67, 0.15);\n",
              "      fill: #174EA6;\n",
              "    }\n",
              "\n",
              "    [theme=dark] .colab-df-convert {\n",
              "      background-color: #3B4455;\n",
              "      fill: #D2E3FC;\n",
              "    }\n",
              "\n",
              "    [theme=dark] .colab-df-convert:hover {\n",
              "      background-color: #434B5C;\n",
              "      box-shadow: 0px 1px 3px 1px rgba(0, 0, 0, 0.15);\n",
              "      filter: drop-shadow(0px 1px 2px rgba(0, 0, 0, 0.3));\n",
              "      fill: #FFFFFF;\n",
              "    }\n",
              "  </style>\n",
              "\n",
              "      <script>\n",
              "        const buttonEl =\n",
              "          document.querySelector('#df-8a3ed754-4680-4e67-9663-2af2672d9dfd button.colab-df-convert');\n",
              "        buttonEl.style.display =\n",
              "          google.colab.kernel.accessAllowed ? 'block' : 'none';\n",
              "\n",
              "        async function convertToInteractive(key) {\n",
              "          const element = document.querySelector('#df-8a3ed754-4680-4e67-9663-2af2672d9dfd');\n",
              "          const dataTable =\n",
              "            await google.colab.kernel.invokeFunction('convertToInteractive',\n",
              "                                                     [key], {});\n",
              "          if (!dataTable) return;\n",
              "\n",
              "          const docLinkHtml = 'Like what you see? Visit the ' +\n",
              "            '<a target=\"_blank\" href=https://colab.research.google.com/notebooks/data_table.ipynb>data table notebook</a>'\n",
              "            + ' to learn more about interactive tables.';\n",
              "          element.innerHTML = '';\n",
              "          dataTable['output_type'] = 'display_data';\n",
              "          await google.colab.output.renderOutput(dataTable, element);\n",
              "          const docLink = document.createElement('div');\n",
              "          docLink.innerHTML = docLinkHtml;\n",
              "          element.appendChild(docLink);\n",
              "        }\n",
              "      </script>\n",
              "    </div>\n",
              "  </div>\n",
              "  "
            ]
          },
          "metadata": {},
          "execution_count": 21
        }
      ],
      "source": [
        "df_oh.head(5)"
      ]
    },
    {
      "cell_type": "code",
      "execution_count": null,
      "metadata": {
        "id": "luSLTwbmsMjB"
      },
      "outputs": [],
      "source": [
        "from sklearn.preprocessing import MinMaxScaler\n",
        "\n",
        "mm_scaler = MinMaxScaler()\n",
        "x_scaled = mm_scaler.fit_transform(df_oh)"
      ]
    },
    {
      "cell_type": "code",
      "execution_count": null,
      "metadata": {
        "id": "dwyKbEFAsWK3"
      },
      "outputs": [],
      "source": [
        "x = mm_scaler.transform(x_out_oh)"
      ]
    },
    {
      "cell_type": "code",
      "execution_count": null,
      "metadata": {
        "id": "XdZNT0JwsfgC"
      },
      "outputs": [],
      "source": [
        "df_oh = pd.DataFrame(x_scaled)\n",
        "x_out_oh =  pd.DataFrame(x)"
      ]
    },
    {
      "cell_type": "code",
      "execution_count": null,
      "metadata": {
        "id": "pHFh3G6usn72"
      },
      "outputs": [],
      "source": [
        "test = df_oh[:int(split_len)]\n",
        "train = df_oh[int(split_len):]"
      ]
    },
    {
      "cell_type": "code",
      "source": [
        "x_train = train.values.reshape(train.shape[0], 1, train.shape[1])\n",
        "x_test = test.values.reshape(test.shape[0], 1,train.shape[1])\n",
        "\n",
        "x_out = x_out_oh.values.reshape(x_out_oh.shape[0], 1,x_out_oh.shape[1])\n",
        "\n",
        "#define the model\n",
        "\n",
        "def autoencoder_model(X):\n",
        "\n",
        "  inputs = Input(shape=(X.shape[1], X.shape[2]))\n",
        "  L1 = Bidirectional(LSTM(128, activation='relu', return_sequences=True,\n",
        "              kernel_regularizer=regularizers.l2(0.00)))(inputs)\n",
        "  L2 = Bidirectional(LSTM(64, activation='relu', return_sequences=False))(L1)\n",
        "  L3 = RepeatVector(X.shape[1])(L2)\n",
        "  L4 = Bidirectional(LSTM(64, activation='relu', return_sequences=True))(L3)\n",
        "  L5 = Bidirectional(LSTM(128, activation='relu', return_sequences=True))(L4)\n",
        "  output = TimeDistributed(Dense(X.shape[2]))(L5)\n",
        "  model = Model(inputs=inputs, outputs=output)\n",
        "  return model\n",
        "\n",
        "\n",
        "# create the autoencoder model\n",
        "model = autoencoder_model(x_train)\n",
        "model.compile(optimizer='adam', loss=['mse'],\n",
        "              metrics=['mae', 'acc', tf.keras.metrics.Recall(), tf.keras.metrics.Precision()])\n",
        "model.summary()\n",
        "\n",
        "nb_epochs = 10\n",
        "batch_size = 1000\n",
        "history = model.fit(x_train, x_train, epochs=nb_epochs, batch_size=batch_size,\n",
        "                    validation_split=0.15).history\n",
        "\n",
        "\n",
        "\n"
      ],
      "metadata": {
        "colab": {
          "base_uri": "https://localhost:8080/"
        },
        "id": "OZmwx_SDnR2c",
        "outputId": "fbfa67b3-6a0f-4b57-cc0e-a56be53b92d1"
      },
      "execution_count": null,
      "outputs": [
        {
          "output_type": "stream",
          "name": "stderr",
          "text": [
            "WARNING:tensorflow:Layer lstm_12 will not use cuDNN kernels since it doesn't meet the criteria. It will use a generic GPU kernel as fallback when running on GPU.\n",
            "WARNING:tensorflow:Layer lstm_12 will not use cuDNN kernels since it doesn't meet the criteria. It will use a generic GPU kernel as fallback when running on GPU.\n",
            "WARNING:tensorflow:Layer lstm_12 will not use cuDNN kernels since it doesn't meet the criteria. It will use a generic GPU kernel as fallback when running on GPU.\n",
            "WARNING:tensorflow:Layer lstm_13 will not use cuDNN kernels since it doesn't meet the criteria. It will use a generic GPU kernel as fallback when running on GPU.\n",
            "WARNING:tensorflow:Layer lstm_13 will not use cuDNN kernels since it doesn't meet the criteria. It will use a generic GPU kernel as fallback when running on GPU.\n",
            "WARNING:tensorflow:Layer lstm_13 will not use cuDNN kernels since it doesn't meet the criteria. It will use a generic GPU kernel as fallback when running on GPU.\n",
            "WARNING:tensorflow:Layer lstm_14 will not use cuDNN kernels since it doesn't meet the criteria. It will use a generic GPU kernel as fallback when running on GPU.\n",
            "WARNING:tensorflow:Layer lstm_14 will not use cuDNN kernels since it doesn't meet the criteria. It will use a generic GPU kernel as fallback when running on GPU.\n",
            "WARNING:tensorflow:Layer lstm_14 will not use cuDNN kernels since it doesn't meet the criteria. It will use a generic GPU kernel as fallback when running on GPU.\n",
            "WARNING:tensorflow:Layer lstm_15 will not use cuDNN kernels since it doesn't meet the criteria. It will use a generic GPU kernel as fallback when running on GPU.\n",
            "WARNING:tensorflow:Layer lstm_15 will not use cuDNN kernels since it doesn't meet the criteria. It will use a generic GPU kernel as fallback when running on GPU.\n",
            "WARNING:tensorflow:Layer lstm_15 will not use cuDNN kernels since it doesn't meet the criteria. It will use a generic GPU kernel as fallback when running on GPU.\n"
          ]
        },
        {
          "output_type": "stream",
          "name": "stdout",
          "text": [
            "Model: \"model_3\"\n",
            "_________________________________________________________________\n",
            " Layer (type)                Output Shape              Param #   \n",
            "=================================================================\n",
            " input_4 (InputLayer)        [(None, 1, 32)]           0         \n",
            "                                                                 \n",
            " bidirectional_4 (Bidirectio  (None, 1, 256)           164864    \n",
            " nal)                                                            \n",
            "                                                                 \n",
            " bidirectional_5 (Bidirectio  (None, 128)              164352    \n",
            " nal)                                                            \n",
            "                                                                 \n",
            " repeat_vector_3 (RepeatVect  (None, 1, 128)           0         \n",
            " or)                                                             \n",
            "                                                                 \n",
            " bidirectional_6 (Bidirectio  (None, 1, 128)           98816     \n",
            " nal)                                                            \n",
            "                                                                 \n",
            " bidirectional_7 (Bidirectio  (None, 1, 256)           263168    \n",
            " nal)                                                            \n",
            "                                                                 \n",
            " time_distributed_3 (TimeDis  (None, 1, 32)            8224      \n",
            " tributed)                                                       \n",
            "                                                                 \n",
            "=================================================================\n",
            "Total params: 699,424\n",
            "Trainable params: 699,424\n",
            "Non-trainable params: 0\n",
            "_________________________________________________________________\n",
            "Epoch 1/10\n",
            "608/608 [==============================] - 28s 28ms/step - loss: 0.0101 - mae: 0.0207 - acc: 0.3708 - recall_3: 0.6011 - precision_3: 0.9979 - val_loss: 4.2957e-04 - val_mae: 0.0024 - val_acc: 0.2764 - val_recall_3: 0.6614 - val_precision_3: 1.0000\n",
            "Epoch 2/10\n",
            "608/608 [==============================] - 16s 26ms/step - loss: 9.9452e-05 - mae: 0.0013 - acc: 0.3464 - recall_3: 0.6757 - precision_3: 1.0000 - val_loss: 1.2254e-04 - val_mae: 0.0018 - val_acc: 0.2889 - val_recall_3: 0.6622 - val_precision_3: 1.0000\n",
            "Epoch 3/10\n",
            "608/608 [==============================] - 15s 25ms/step - loss: 3.1028e-05 - mae: 0.0011 - acc: 0.3112 - recall_3: 0.6762 - precision_3: 1.0000 - val_loss: 7.7873e-05 - val_mae: 0.0020 - val_acc: 0.2541 - val_recall_3: 0.6624 - val_precision_3: 1.0000\n",
            "Epoch 4/10\n",
            "608/608 [==============================] - 15s 25ms/step - loss: 1.6851e-05 - mae: 9.2440e-04 - acc: 0.3510 - recall_3: 0.6763 - precision_3: 1.0000 - val_loss: 5.6133e-05 - val_mae: 9.4111e-04 - val_acc: 0.2909 - val_recall_3: 0.6625 - val_precision_3: 1.0000\n",
            "Epoch 5/10\n",
            "608/608 [==============================] - 15s 25ms/step - loss: 1.0321e-05 - mae: 8.5897e-04 - acc: 0.3377 - recall_3: 0.6763 - precision_3: 1.0000 - val_loss: 5.9520e-05 - val_mae: 0.0017 - val_acc: 0.2434 - val_recall_3: 0.6628 - val_precision_3: 1.0000\n",
            "Epoch 6/10\n",
            "608/608 [==============================] - 15s 25ms/step - loss: 7.8424e-06 - mae: 8.7706e-04 - acc: 0.3173 - recall_3: 0.6764 - precision_3: 1.0000 - val_loss: 5.4957e-05 - val_mae: 0.0013 - val_acc: 0.2475 - val_recall_3: 0.6629 - val_precision_3: 0.9999\n",
            "Epoch 7/10\n",
            "608/608 [==============================] - 16s 26ms/step - loss: 6.8303e-06 - mae: 0.0010 - acc: 0.2975 - recall_3: 0.6765 - precision_3: 1.0000 - val_loss: 5.1803e-05 - val_mae: 7.5297e-04 - val_acc: 0.9380 - val_recall_3: 0.6631 - val_precision_3: 0.9999\n",
            "Epoch 8/10\n",
            "608/608 [==============================] - 15s 25ms/step - loss: 5.9441e-06 - mae: 8.5354e-04 - acc: 0.3116 - recall_3: 0.6765 - precision_3: 1.0000 - val_loss: 5.5985e-05 - val_mae: 0.0018 - val_acc: 0.3019 - val_recall_3: 0.6631 - val_precision_3: 0.9999\n",
            "Epoch 9/10\n",
            "608/608 [==============================] - 15s 25ms/step - loss: 3.7127e-06 - mae: 7.1088e-04 - acc: 0.3186 - recall_3: 0.6765 - precision_3: 1.0000 - val_loss: 5.9177e-05 - val_mae: 0.0016 - val_acc: 0.2365 - val_recall_3: 0.6632 - val_precision_3: 0.9999\n",
            "Epoch 10/10\n",
            "608/608 [==============================] - 15s 25ms/step - loss: 3.3683e-06 - mae: 7.0693e-04 - acc: 0.3268 - recall_3: 0.6766 - precision_3: 1.0000 - val_loss: 5.0723e-05 - val_mae: 0.0011 - val_acc: 0.2496 - val_recall_3: 0.6632 - val_precision_3: 0.9999\n"
          ]
        }
      ]
    },
    {
      "cell_type": "code",
      "source": [
        "# calculate the loss on the test set\n",
        "X_pred = model.predict(x_out)\n",
        "X_pred = X_pred.reshape(X_pred.shape[0], X_pred.shape[2])\n",
        "X_pred = pd.DataFrame(X_pred, columns=x_out_oh.columns)\n",
        "X_pred.index = x_out_oh.index\n",
        "\n",
        "scored = pd.DataFrame(index=x_out_oh.index)\n",
        "Xtest = x_out_oh.values.reshape(x_out_oh.shape[0], x_out_oh.shape[1])\n",
        "scored['Loss_mae'] = np.mean(np.abs(X_pred-Xtest), axis = 1)\n",
        "scored['Threshold'] = 0.008\n",
        "scored['Anomaly'] = np.where(scored['Loss_mae'] > scored['Threshold'], -1, 1)\n",
        "scored.head()\n",
        "test_pred = scored.Anomaly\n",
        "\n",
        "from sklearn.metrics import classification_report\n",
        "print(classification_report(true_labels, test_pred))"
      ],
      "metadata": {
        "colab": {
          "base_uri": "https://localhost:8080/"
        },
        "id": "vXwvqDNFnbmb",
        "outputId": "a9140e10-82d4-4752-ec4c-d279159970f5"
      },
      "execution_count": null,
      "outputs": [
        {
          "output_type": "stream",
          "name": "stdout",
          "text": [
            "3188/3188 [==============================] - 10s 3ms/step\n",
            "              precision    recall  f1-score   support\n",
            "\n",
            "          -1       0.93      0.54      0.69      3737\n",
            "           1       0.98      1.00      0.99     98263\n",
            "\n",
            "    accuracy                           0.98    102000\n",
            "   macro avg       0.95      0.77      0.84    102000\n",
            "weighted avg       0.98      0.98      0.98    102000\n",
            "\n"
          ]
        }
      ]
    },
    {
      "cell_type": "code",
      "execution_count": null,
      "metadata": {
        "colab": {
          "base_uri": "https://localhost:8080/"
        },
        "id": "porWhs4Echg-",
        "outputId": "ef66298b-69f5-4d29-dccf-da790dd6660b"
      },
      "outputs": [
        {
          "name": "stdout",
          "output_type": "stream",
          "text": [
            "              precision    recall  f1-score   support\n",
            "\n",
            "          -1       0.48      0.62      0.54      3737\n",
            "           1       0.99      0.97      0.98     98263\n",
            "\n",
            "    accuracy                           0.96    102000\n",
            "   macro avg       0.73      0.80      0.76    102000\n",
            "weighted avg       0.97      0.96      0.96    102000\n",
            "\n"
          ]
        }
      ],
      "source": [
        "from pyod.models.copod import COPOD\n",
        "if __name__ == \"__main__\":\n",
        "\n",
        "    # train COPOD detector\n",
        "    clf_name = 'COPOD'\n",
        "    clf = COPOD(contamination=0.04)\n",
        "\n",
        "    # you could try parallel version as well.\n",
        "    # clf = COPOD(n_jobs=2)\n",
        "    clf.fit(train)\n",
        "    pred_test = clf.predict(x_out_oh)\n",
        "\n",
        "if (pred_test == 1).any():\n",
        "    pred_test[pred_test == 1] = -1\n",
        "\n",
        "if (pred_test == 0).any():\n",
        "    pred_test[pred_test == 0] = 1\n",
        "\n",
        "Counter(pred_test)\n",
        "\n",
        "from sklearn.metrics import classification_report\n",
        "print(classification_report(true_labels, pred_test))"
      ]
    },
    {
      "cell_type": "code",
      "execution_count": null,
      "metadata": {
        "colab": {
          "base_uri": "https://localhost:8080/"
        },
        "id": "IusWT0PEciQI",
        "outputId": "227554f1-aa65-4ff3-bb68-fc1c0f18fc15"
      },
      "outputs": [
        {
          "name": "stdout",
          "output_type": "stream",
          "text": [
            "              precision    recall  f1-score   support\n",
            "\n",
            "          -1       0.58      0.54      0.56      3737\n",
            "           1       0.98      0.99      0.98     98263\n",
            "\n",
            "    accuracy                           0.97    102000\n",
            "   macro avg       0.78      0.76      0.77    102000\n",
            "weighted avg       0.97      0.97      0.97    102000\n",
            "\n"
          ]
        }
      ],
      "source": [
        "from pyod.models.ecod import ECOD\n",
        "if __name__ == \"__main__\":\n",
        "\n",
        "    # train COPOD detector\n",
        "    clf_name = 'ECOD'\n",
        "    clf = ECOD(contamination=0.020)\n",
        "\n",
        "    # you could try parallel version as well.\n",
        "    # clf = COPOD(n_jobs=2)\n",
        "    clf.fit(train)\n",
        "    pred_test = clf.predict(x_out_oh)\n",
        "\n",
        "if (pred_test == 1).any():\n",
        "    pred_test[pred_test == 1] = -1\n",
        "\n",
        "if (pred_test == 0).any():\n",
        "    pred_test[pred_test == 0] = 1\n",
        "\n",
        "Counter(pred_test)\n",
        "\n",
        "from sklearn.metrics import classification_report\n",
        "print(classification_report(true_labels, pred_test))"
      ]
    },
    {
      "cell_type": "code",
      "execution_count": null,
      "metadata": {
        "id": "EzC8v1UiloLm"
      },
      "outputs": [],
      "source": [
        "from sklearn.neighbors import LocalOutlierFactor\n",
        "clf_lof = LocalOutlierFactor(novelty=True, n_neighbors=15, contamination=0.045)"
      ]
    },
    {
      "cell_type": "code",
      "execution_count": null,
      "metadata": {
        "id": "vOEt-q4ast42"
      },
      "outputs": [],
      "source": [
        "clf = IsolationForest(n_estimators=200, contamination = 0.045)"
      ]
    },
    {
      "cell_type": "code",
      "execution_count": null,
      "metadata": {
        "id": "nkzsENg1swxZ"
      },
      "outputs": [],
      "source": [
        "clf_if_tf = clf_lof.fit(train)"
      ]
    },
    {
      "cell_type": "code",
      "execution_count": null,
      "metadata": {
        "colab": {
          "base_uri": "https://localhost:8080/"
        },
        "id": "OEWd0GSoszkB",
        "outputId": "fce4a1dd-7715-44da-8b42-bc14322de4b6"
      },
      "outputs": [
        {
          "data": {
            "text/plain": [
              "['/content/drive/MyDrive/thesis/models/lof/clf_lof_w2v_ae.joblib']"
            ]
          },
          "execution_count": 82,
          "metadata": {},
          "output_type": "execute_result"
        }
      ],
      "source": [
        "from joblib import dump, load\n",
        "\n",
        "# save the model\n",
        "dump(clf_if_tf,'/content/drive/MyDrive/thesis/models/lof/clf_lof_w2v_ae.joblib')"
      ]
    },
    {
      "cell_type": "code",
      "execution_count": null,
      "metadata": {
        "id": "-DX_jKr-s3Bv"
      },
      "outputs": [],
      "source": [
        "clf_if_tf = load('/content/drive/MyDrive/thesis/models/lof/clf_lof_w2v_ae.joblib')"
      ]
    },
    {
      "cell_type": "code",
      "execution_count": null,
      "metadata": {
        "id": "_eK4EI2ps65U"
      },
      "outputs": [],
      "source": [
        "pred_test = clf_if_tf.predict(x_out_oh)"
      ]
    },
    {
      "cell_type": "code",
      "execution_count": null,
      "metadata": {
        "colab": {
          "base_uri": "https://localhost:8080/"
        },
        "id": "79-22RzGs9K8",
        "outputId": "a27833c5-9ed6-48dc-93fc-28f5eb44dfe5"
      },
      "outputs": [
        {
          "data": {
            "text/plain": [
              "Counter({1: 101870, -1: 130})"
            ]
          },
          "execution_count": 19,
          "metadata": {},
          "output_type": "execute_result"
        }
      ],
      "source": [
        "Counter(pred_test)"
      ]
    },
    {
      "cell_type": "code",
      "execution_count": null,
      "metadata": {
        "colab": {
          "base_uri": "https://localhost:8080/"
        },
        "id": "4nVoHUsBlxkY",
        "outputId": "805e1402-b5af-4828-a432-001ec7bbe733"
      },
      "outputs": [
        {
          "name": "stdout",
          "output_type": "stream",
          "text": [
            "              precision    recall  f1-score   support\n",
            "\n",
            "          -1       0.98      0.03      0.07      3737\n",
            "           1       0.96      1.00      0.98     98263\n",
            "\n",
            "    accuracy                           0.96    102000\n",
            "   macro avg       0.97      0.52      0.52    102000\n",
            "weighted avg       0.97      0.96      0.95    102000\n",
            "\n"
          ]
        }
      ],
      "source": [
        "from sklearn.metrics import classification_report\n",
        "print(classification_report(true_labels, pred_test))"
      ]
    },
    {
      "cell_type": "code",
      "execution_count": null,
      "metadata": {
        "id": "SktofV1Xs_nc"
      },
      "outputs": [],
      "source": [
        "true_labels = df_outlier.label"
      ]
    },
    {
      "cell_type": "code",
      "execution_count": null,
      "metadata": {
        "id": "sJ_bBc34tCFE"
      },
      "outputs": [],
      "source": [
        "df_validate['label'] = pred_test"
      ]
    },
    {
      "cell_type": "code",
      "execution_count": null,
      "metadata": {
        "id": "itf3nBxvtEb6"
      },
      "outputs": [],
      "source": [
        "df_validate[df_validate['label'] == -1].to_csv('/content/drive/MyDrive/thesis/models/iforest/w2v_results_val_ae.csv', index=False)"
      ]
    },
    {
      "cell_type": "code",
      "execution_count": null,
      "metadata": {
        "colab": {
          "base_uri": "https://localhost:8080/"
        },
        "id": "J-nR7dvMtJVz",
        "outputId": "a7a3b1a9-485c-4566-fbfd-1f88884e38c2"
      },
      "outputs": [
        {
          "name": "stdout",
          "output_type": "stream",
          "text": [
            "              precision    recall  f1-score   support\n",
            "\n",
            "          -1       0.59      0.91      0.71      3737\n",
            "           1       1.00      0.98      0.99     98263\n",
            "\n",
            "    accuracy                           0.97    102000\n",
            "   macro avg       0.79      0.94      0.85    102000\n",
            "weighted avg       0.98      0.97      0.98    102000\n",
            "\n"
          ]
        }
      ],
      "source": [
        "from sklearn.metrics import classification_report\n",
        "print(classification_report(true_labels, pred_test))"
      ]
    },
    {
      "cell_type": "code",
      "execution_count": null,
      "metadata": {
        "colab": {
          "base_uri": "https://localhost:8080/"
        },
        "id": "xug3f1cQtL4V",
        "outputId": "ebafb5e1-9f14-425b-924a-f711ed25215c"
      },
      "outputs": [
        {
          "name": "stdout",
          "output_type": "stream",
          "text": [
            "Accuracy: 0.9734607843137255\n",
            "Precision: 0.9963329247262679\n",
            "Recall: 0.9760438822344117\n",
            "F1 Score: 0.9860840508932013\n"
          ]
        }
      ],
      "source": [
        "from sklearn.metrics import accuracy_score, precision_score, recall_score, f1_score\n",
        "\n",
        "# Assuming you have the true labels for the dataset in 'true_labels' and the LOF predictions in 'lof_predictions'\n",
        "\n",
        "# Convert LOF scores to binary labels based on a threshold (e.g., outliers with scores above the threshold are considered anomalies)\n",
        "\n",
        "# Calculate accuracy\n",
        "accuracy = accuracy_score(true_labels, pred_test)\n",
        "print(\"Accuracy:\", accuracy)\n",
        "\n",
        "# Calculate precision\n",
        "precision = precision_score(true_labels, pred_test)\n",
        "print(\"Precision:\", precision)\n",
        "\n",
        "# Calculate recall\n",
        "recall = recall_score(true_labels, pred_test)\n",
        "print(\"Recall:\", recall)\n",
        "\n",
        "# Calculate F1 score\n",
        "f1 = f1_score(true_labels, pred_test)\n",
        "print(\"F1 Score:\", f1)"
      ]
    },
    {
      "cell_type": "code",
      "execution_count": null,
      "metadata": {
        "id": "30BKQmDmtQ4y"
      },
      "outputs": [],
      "source": []
    }
  ],
  "metadata": {
    "accelerator": "GPU",
    "colab": {
      "machine_shape": "hm",
      "provenance": []
    },
    "kernelspec": {
      "display_name": "Python 3",
      "name": "python3"
    },
    "language_info": {
      "name": "python"
    }
  },
  "nbformat": 4,
  "nbformat_minor": 0
}