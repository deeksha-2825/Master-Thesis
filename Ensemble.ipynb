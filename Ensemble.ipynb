{
  "nbformat": 4,
  "nbformat_minor": 0,
  "metadata": {
    "colab": {
      "provenance": [],
      "machine_shape": "hm",
      "gpuType": "V100"
    },
    "kernelspec": {
      "name": "python3",
      "display_name": "Python 3"
    },
    "language_info": {
      "name": "python"
    },
    "accelerator": "GPU"
  },
  "cells": [
    {
      "cell_type": "code",
      "execution_count": null,
      "metadata": {
        "id": "wW3Q8BUr8SvW"
      },
      "outputs": [],
      "source": [
        "import re\n",
        "import pandas as pd\n",
        "import csv\n",
        "import numpy as np\n",
        "from collections import Counter\n",
        "import nltk\n",
        "import random\n",
        "from nltk import word_tokenize\n",
        "from sklearn.feature_extraction.text import CountVectorizer\n",
        "from sklearn.preprocessing import OneHotEncoder, LabelEncoder\n",
        "from sklearn.ensemble import IsolationForest\n",
        "from nltk.tokenize import sent_tokenize, word_tokenize\n",
        "import warnings\n",
        "\n",
        "warnings.filterwarnings(action = 'ignore')\n",
        "import gensim\n",
        "from gensim.models import Word2Vec"
      ]
    },
    {
      "cell_type": "code",
      "source": [
        "import tensorflow as tf\n",
        "import math\n",
        "import os\n",
        "import time\n",
        "import numpy as np\n",
        "import pandas as pd\n",
        "import random\n",
        "import statistics\n",
        "import seaborn as sns\n",
        "from collections import Counter\n",
        "import matplotlib.pyplot as plt\n",
        "from tensorflow.keras import Model\n",
        "from tensorflow.keras import Sequential, regularizers\n",
        "from sklearn.preprocessing import MinMaxScaler\n",
        "from tensorflow.keras.layers import Dense, Input, LSTM, Dropout, TimeDistributed, RepeatVector, Bidirectional\n",
        "from tensorflow.keras.losses import CategoricalCrossentropy, MeanSquaredLogarithmicError\n",
        "from tensorflow.keras.callbacks import EarlyStopping\n",
        "from tensorflow.keras.metrics import Accuracy, Precision, AUC, Recall\n",
        "from sklearn.metrics import silhouette_score"
      ],
      "metadata": {
        "id": "jQzPpClr8ZK2"
      },
      "execution_count": null,
      "outputs": []
    },
    {
      "cell_type": "code",
      "source": [
        "from google.colab import drive\n",
        "drive.mount('/content/drive')"
      ],
      "metadata": {
        "colab": {
          "base_uri": "https://localhost:8080/"
        },
        "id": "ymcWO9iR8fWa",
        "outputId": "855e210d-d0ae-4756-cc56-3205e82444a7"
      },
      "execution_count": null,
      "outputs": [
        {
          "output_type": "stream",
          "name": "stdout",
          "text": [
            "Mounted at /content/drive\n"
          ]
        }
      ]
    },
    {
      "cell_type": "code",
      "source": [
        "df_outlier = pd.read_csv('/content/drive/MyDrive/thesis/val/raw_val_all.csv', sep=',')"
      ],
      "metadata": {
        "id": "p4yky_gw8hpo"
      },
      "execution_count": null,
      "outputs": []
    },
    {
      "cell_type": "code",
      "source": [
        "true_labels = df_outlier.label"
      ],
      "metadata": {
        "id": "3LJDSSKs93KI"
      },
      "execution_count": null,
      "outputs": []
    },
    {
      "cell_type": "code",
      "source": [
        "df = pd.read_csv('/content/drive/MyDrive/thesis/train/reduce_pca_cv.csv', sep = ',')\n",
        "x_out = pd.read_csv('/content/drive/MyDrive/thesis/val/val-reduce_cv_pca.csv', sep = ',')"
      ],
      "metadata": {
        "id": "enhQUASN8o-W"
      },
      "execution_count": null,
      "outputs": []
    },
    {
      "cell_type": "code",
      "source": [
        "test = df[:int(split_len)]\n",
        "train = df[int(split_len):]"
      ],
      "metadata": {
        "id": "ZIsX5MBL-IhD"
      },
      "execution_count": null,
      "outputs": []
    },
    {
      "cell_type": "code",
      "source": [
        "pip install pyod"
      ],
      "metadata": {
        "colab": {
          "base_uri": "https://localhost:8080/"
        },
        "id": "HkIgMoq8-xxt",
        "outputId": "27ab8408-33d0-468b-c876-22783d2a80d7"
      },
      "execution_count": null,
      "outputs": [
        {
          "output_type": "stream",
          "name": "stdout",
          "text": [
            "Looking in indexes: https://pypi.org/simple, https://us-python.pkg.dev/colab-wheels/public/simple/\n",
            "Collecting pyod\n",
            "  Downloading pyod-1.0.9.tar.gz (149 kB)\n",
            "\u001b[2K     \u001b[90m━━━━━━━━━━━━━━━━━━━━━━━━━━━━━━━━━━━━━━━\u001b[0m \u001b[32m150.0/150.0 kB\u001b[0m \u001b[31m8.3 MB/s\u001b[0m eta \u001b[36m0:00:00\u001b[0m\n",
            "\u001b[?25h  Preparing metadata (setup.py) ... \u001b[?25l\u001b[?25hdone\n",
            "Requirement already satisfied: joblib in /usr/local/lib/python3.10/dist-packages (from pyod) (1.2.0)\n",
            "Requirement already satisfied: matplotlib in /usr/local/lib/python3.10/dist-packages (from pyod) (3.7.1)\n",
            "Requirement already satisfied: numpy>=1.19 in /usr/local/lib/python3.10/dist-packages (from pyod) (1.22.4)\n",
            "Requirement already satisfied: numba>=0.51 in /usr/local/lib/python3.10/dist-packages (from pyod) (0.56.4)\n",
            "Requirement already satisfied: scipy>=1.5.1 in /usr/local/lib/python3.10/dist-packages (from pyod) (1.10.1)\n",
            "Requirement already satisfied: scikit_learn>=0.20.0 in /usr/local/lib/python3.10/dist-packages (from pyod) (1.2.2)\n",
            "Requirement already satisfied: six in /usr/local/lib/python3.10/dist-packages (from pyod) (1.16.0)\n",
            "Requirement already satisfied: llvmlite<0.40,>=0.39.0dev0 in /usr/local/lib/python3.10/dist-packages (from numba>=0.51->pyod) (0.39.1)\n",
            "Requirement already satisfied: setuptools in /usr/local/lib/python3.10/dist-packages (from numba>=0.51->pyod) (67.7.2)\n",
            "Requirement already satisfied: threadpoolctl>=2.0.0 in /usr/local/lib/python3.10/dist-packages (from scikit_learn>=0.20.0->pyod) (3.1.0)\n",
            "Requirement already satisfied: contourpy>=1.0.1 in /usr/local/lib/python3.10/dist-packages (from matplotlib->pyod) (1.0.7)\n",
            "Requirement already satisfied: cycler>=0.10 in /usr/local/lib/python3.10/dist-packages (from matplotlib->pyod) (0.11.0)\n",
            "Requirement already satisfied: fonttools>=4.22.0 in /usr/local/lib/python3.10/dist-packages (from matplotlib->pyod) (4.39.3)\n",
            "Requirement already satisfied: kiwisolver>=1.0.1 in /usr/local/lib/python3.10/dist-packages (from matplotlib->pyod) (1.4.4)\n",
            "Requirement already satisfied: packaging>=20.0 in /usr/local/lib/python3.10/dist-packages (from matplotlib->pyod) (23.1)\n",
            "Requirement already satisfied: pillow>=6.2.0 in /usr/local/lib/python3.10/dist-packages (from matplotlib->pyod) (8.4.0)\n",
            "Requirement already satisfied: pyparsing>=2.3.1 in /usr/local/lib/python3.10/dist-packages (from matplotlib->pyod) (3.0.9)\n",
            "Requirement already satisfied: python-dateutil>=2.7 in /usr/local/lib/python3.10/dist-packages (from matplotlib->pyod) (2.8.2)\n",
            "Building wheels for collected packages: pyod\n",
            "  Building wheel for pyod (setup.py) ... \u001b[?25l\u001b[?25hdone\n",
            "  Created wheel for pyod: filename=pyod-1.0.9-py3-none-any.whl size=184097 sha256=12b61153fd546778542bfd7558a87827e8a77a1afcb0404f3ccd6bba475d734c\n",
            "  Stored in directory: /root/.cache/pip/wheels/83/55/6b/552e083cf5509c0afe808b76cf434f1be284d01a112623bd37\n",
            "Successfully built pyod\n",
            "Installing collected packages: pyod\n",
            "Successfully installed pyod-1.0.9\n"
          ]
        }
      ]
    },
    {
      "cell_type": "code",
      "source": [
        "x_train = train.values.reshape(train.shape[0], 1, train.shape[1])\n",
        "x_test = test.values.reshape(test.shape[0], 1,train.shape[1])\n",
        "\n",
        "x_out_val = x_out.values.reshape(x_out.shape[0], 1,x_out.shape[1])\n",
        "\n",
        "#define the model\n",
        "\n",
        "def autoencoder_model(X):\n",
        "\n",
        "  inputs = Input(shape=(X.shape[1], X.shape[2]))\n",
        "  L1 = Bidirectional(LSTM(128, activation='relu', return_sequences=True,\n",
        "              kernel_regularizer=regularizers.l2(0.00)))(inputs)\n",
        "  L2 = Bidirectional(LSTM(64, activation='relu', return_sequences=False))(L1)\n",
        "  L3 = RepeatVector(X.shape[1])(L2)\n",
        "  L4 = Bidirectional(LSTM(64, activation='relu', return_sequences=True))(L3)\n",
        "  L5 = Bidirectional(LSTM(128, activation='relu', return_sequences=True))(L4)\n",
        "  output = TimeDistributed(Dense(X.shape[2]))(L5)\n",
        "  model = Model(inputs=inputs, outputs=output)\n",
        "  return model\n",
        "\n",
        "\n",
        "# create the autoencoder model\n",
        "model = autoencoder_model(x_train)\n",
        "model.compile(optimizer='adam', loss=['mse'],\n",
        "              metrics=['mae', 'acc', tf.keras.metrics.Recall(), tf.keras.metrics.Precision()])\n",
        "model.summary()\n",
        "\n",
        "nb_epochs = 10\n",
        "batch_size = 1000\n",
        "history = model.fit(x_train, x_train, epochs=nb_epochs, batch_size=batch_size,\n",
        "                    validation_split=0.15).history"
      ],
      "metadata": {
        "colab": {
          "base_uri": "https://localhost:8080/"
        },
        "id": "TKEejrU2AU_g",
        "outputId": "24cac067-fa51-4599-e003-6999014fe7d4"
      },
      "execution_count": null,
      "outputs": [
        {
          "output_type": "stream",
          "name": "stderr",
          "text": [
            "WARNING:tensorflow:Layer lstm will not use cuDNN kernels since it doesn't meet the criteria. It will use a generic GPU kernel as fallback when running on GPU.\n",
            "WARNING:tensorflow:Layer lstm will not use cuDNN kernels since it doesn't meet the criteria. It will use a generic GPU kernel as fallback when running on GPU.\n",
            "WARNING:tensorflow:Layer lstm will not use cuDNN kernels since it doesn't meet the criteria. It will use a generic GPU kernel as fallback when running on GPU.\n",
            "WARNING:tensorflow:Layer lstm_1 will not use cuDNN kernels since it doesn't meet the criteria. It will use a generic GPU kernel as fallback when running on GPU.\n",
            "WARNING:tensorflow:Layer lstm_1 will not use cuDNN kernels since it doesn't meet the criteria. It will use a generic GPU kernel as fallback when running on GPU.\n",
            "WARNING:tensorflow:Layer lstm_1 will not use cuDNN kernels since it doesn't meet the criteria. It will use a generic GPU kernel as fallback when running on GPU.\n",
            "WARNING:tensorflow:Layer lstm_2 will not use cuDNN kernels since it doesn't meet the criteria. It will use a generic GPU kernel as fallback when running on GPU.\n",
            "WARNING:tensorflow:Layer lstm_2 will not use cuDNN kernels since it doesn't meet the criteria. It will use a generic GPU kernel as fallback when running on GPU.\n",
            "WARNING:tensorflow:Layer lstm_2 will not use cuDNN kernels since it doesn't meet the criteria. It will use a generic GPU kernel as fallback when running on GPU.\n",
            "WARNING:tensorflow:Layer lstm_3 will not use cuDNN kernels since it doesn't meet the criteria. It will use a generic GPU kernel as fallback when running on GPU.\n",
            "WARNING:tensorflow:Layer lstm_3 will not use cuDNN kernels since it doesn't meet the criteria. It will use a generic GPU kernel as fallback when running on GPU.\n",
            "WARNING:tensorflow:Layer lstm_3 will not use cuDNN kernels since it doesn't meet the criteria. It will use a generic GPU kernel as fallback when running on GPU.\n"
          ]
        },
        {
          "output_type": "stream",
          "name": "stdout",
          "text": [
            "Model: \"model\"\n",
            "_________________________________________________________________\n",
            " Layer (type)                Output Shape              Param #   \n",
            "=================================================================\n",
            " input_1 (InputLayer)        [(None, 1, 25)]           0         \n",
            "                                                                 \n",
            " bidirectional (Bidirectiona  (None, 1, 256)           157696    \n",
            " l)                                                              \n",
            "                                                                 \n",
            " bidirectional_1 (Bidirectio  (None, 128)              164352    \n",
            " nal)                                                            \n",
            "                                                                 \n",
            " repeat_vector (RepeatVector  (None, 1, 128)           0         \n",
            " )                                                               \n",
            "                                                                 \n",
            " bidirectional_2 (Bidirectio  (None, 1, 128)           98816     \n",
            " nal)                                                            \n",
            "                                                                 \n",
            " bidirectional_3 (Bidirectio  (None, 1, 256)           263168    \n",
            " nal)                                                            \n",
            "                                                                 \n",
            " time_distributed (TimeDistr  (None, 1, 25)            6425      \n",
            " ibuted)                                                         \n",
            "                                                                 \n",
            "=================================================================\n",
            "Total params: 690,457\n",
            "Trainable params: 690,457\n",
            "Non-trainable params: 0\n",
            "_________________________________________________________________\n",
            "Epoch 1/10\n",
            "608/608 [==============================] - 33s 26ms/step - loss: 0.0064 - mae: 0.0242 - acc: 0.8733 - recall: 0.0101 - precision: 1.0000 - val_loss: 5.2302e-04 - val_mae: 0.0031 - val_acc: 0.9738 - val_recall: 0.0149 - val_precision: 1.0000\n",
            "Epoch 2/10\n",
            "608/608 [==============================] - 15s 25ms/step - loss: 9.2323e-05 - mae: 0.0015 - acc: 0.9898 - recall: 0.0143 - precision: 1.0000 - val_loss: 3.4432e-04 - val_mae: 0.0019 - val_acc: 0.9779 - val_recall: 0.0153 - val_precision: 1.0000\n",
            "Epoch 3/10\n",
            "608/608 [==============================] - 15s 24ms/step - loss: 5.5165e-05 - mae: 0.0012 - acc: 0.9909 - recall: 0.0144 - precision: 1.0000 - val_loss: 3.4401e-04 - val_mae: 0.0023 - val_acc: 0.9782 - val_recall: 0.0155 - val_precision: 1.0000\n",
            "Epoch 4/10\n",
            "608/608 [==============================] - 15s 24ms/step - loss: 3.7347e-05 - mae: 0.0012 - acc: 0.9927 - recall: 0.0144 - precision: 1.0000 - val_loss: 3.5055e-04 - val_mae: 0.0019 - val_acc: 0.9792 - val_recall: 0.0155 - val_precision: 0.9817\n",
            "Epoch 5/10\n",
            "608/608 [==============================] - 15s 24ms/step - loss: 2.4742e-05 - mae: 0.0012 - acc: 0.9926 - recall: 0.0145 - precision: 1.0000 - val_loss: 3.2795e-04 - val_mae: 0.0016 - val_acc: 0.9896 - val_recall: 0.0156 - val_precision: 0.9818\n",
            "Epoch 6/10\n",
            "608/608 [==============================] - 15s 25ms/step - loss: 1.4433e-05 - mae: 0.0011 - acc: 0.9931 - recall: 0.0145 - precision: 1.0000 - val_loss: 3.1425e-04 - val_mae: 0.0018 - val_acc: 0.9804 - val_recall: 0.0156 - val_precision: 1.0000\n",
            "Epoch 7/10\n",
            "608/608 [==============================] - 15s 25ms/step - loss: 1.1368e-05 - mae: 9.4253e-04 - acc: 0.9933 - recall: 0.0145 - precision: 1.0000 - val_loss: 3.0873e-04 - val_mae: 0.0017 - val_acc: 0.9852 - val_recall: 0.0155 - val_precision: 1.0000\n",
            "Epoch 8/10\n",
            "608/608 [==============================] - 15s 24ms/step - loss: 7.7929e-06 - mae: 8.9769e-04 - acc: 0.9935 - recall: 0.0145 - precision: 1.0000 - val_loss: 3.0393e-04 - val_mae: 0.0016 - val_acc: 0.9911 - val_recall: 0.0156 - val_precision: 1.0000\n",
            "Epoch 9/10\n",
            "608/608 [==============================] - 15s 24ms/step - loss: 4.1622e-06 - mae: 8.3966e-04 - acc: 0.9941 - recall: 0.0145 - precision: 1.0000 - val_loss: 3.0197e-04 - val_mae: 0.0015 - val_acc: 0.9811 - val_recall: 0.0155 - val_precision: 1.0000\n",
            "Epoch 10/10\n",
            "608/608 [==============================] - 15s 25ms/step - loss: 3.8835e-06 - mae: 8.4143e-04 - acc: 0.9939 - recall: 0.0145 - precision: 1.0000 - val_loss: 3.0345e-04 - val_mae: 0.0016 - val_acc: 0.9811 - val_recall: 0.0156 - val_precision: 1.0000\n"
          ]
        }
      ]
    },
    {
      "cell_type": "code",
      "source": [
        "# calculate the loss on the test set\n",
        "X_pred = model.predict(x_out_val)\n",
        "X_pred = X_pred.reshape(X_pred.shape[0], X_pred.shape[2])\n",
        "X_pred = pd.DataFrame(X_pred, columns=x_out.columns)\n",
        "X_pred.index = x_out.index\n",
        "\n",
        "scored = pd.DataFrame(index=x_out.index)\n",
        "Xtest = x_out.values.reshape(x_out.shape[0], x_out.shape[1])\n",
        "scored['Loss_mae'] = np.mean(np.abs(X_pred-Xtest), axis = 1)\n",
        "scored['Threshold'] = 0.1\n",
        "scored['Anomaly'] = np.where(scored['Loss_mae'] > scored['Threshold'], -1, 1)\n",
        "scored.head()\n",
        "test_pred = scored.Anomaly\n",
        "from sklearn.metrics import classification_report\n",
        "print(classification_report(true_labels, test_pred))"
      ],
      "metadata": {
        "colab": {
          "base_uri": "https://localhost:8080/"
        },
        "id": "uzwvsfb5AYXX",
        "outputId": "ab56b4eb-2f99-49ab-8f29-b92dc25af092"
      },
      "execution_count": null,
      "outputs": [
        {
          "output_type": "stream",
          "name": "stdout",
          "text": [
            "3188/3188 [==============================] - 10s 3ms/step\n",
            "              precision    recall  f1-score   support\n",
            "\n",
            "          -1       0.80      0.93      0.86      3737\n",
            "           1       1.00      0.99      0.99     98263\n",
            "\n",
            "    accuracy                           0.99    102000\n",
            "   macro avg       0.90      0.96      0.93    102000\n",
            "weighted avg       0.99      0.99      0.99    102000\n",
            "\n"
          ]
        }
      ]
    },
    {
      "cell_type": "code",
      "source": [],
      "metadata": {
        "id": "yvj0tiNbCj_I"
      },
      "execution_count": null,
      "outputs": []
    },
    {
      "cell_type": "code",
      "source": [
        "from pyod.models.copod import COPOD\n",
        "from pyod.models.ecod import ECOD\n",
        "models = [COPOD(contamination=0.01), ECOD(contamination=0.005), IsolationForest(n_estimators=200, contamination = 0.005)]"
      ],
      "metadata": {
        "id": "CYMPc5yV-MEJ"
      },
      "execution_count": null,
      "outputs": []
    },
    {
      "cell_type": "code",
      "source": [
        "# Train the individual models\n",
        "for model in models:\n",
        "    model.fit(train)\n",
        "\n",
        "# Make predictions using each individual model\n",
        "predictions = []\n",
        "for model in models:\n",
        "    model_predictions = model.predict(x_out)\n",
        "    if (model_predictions == 1).any():\n",
        "\n",
        "      model_predictions[model_predictions == 1] = -1\n",
        "\n",
        "    if (model_predictions == 0).any():\n",
        "      model_predictions[model_predictions == 0] = 1\n",
        "    predictions.append(model_predictions)\n",
        "\n",
        "predictions.append(test_pred)\n",
        "\n",
        "# Perform majority voting to obtain the final ensemble prediction\n",
        "final_predictions = []\n",
        "for i in range(len(x_out)):\n",
        "    votes = [predictions[j][i] for j in range(4)]\n",
        "    majority_vote = max(set(votes), key=votes.count)\n",
        "    final_predictions.append(majority_vote)"
      ],
      "metadata": {
        "id": "SnKrDFaBC_sA"
      },
      "execution_count": null,
      "outputs": []
    },
    {
      "cell_type": "code",
      "source": [
        "Counter(final_predictions)"
      ],
      "metadata": {
        "colab": {
          "base_uri": "https://localhost:8080/"
        },
        "id": "w4GO8wZ6Erib",
        "outputId": "72e70724-83aa-4427-9353-c0c5666faa3f"
      },
      "execution_count": null,
      "outputs": [
        {
          "output_type": "execute_result",
          "data": {
            "text/plain": [
              "Counter({1: 97539, -1: 4461})"
            ]
          },
          "metadata": {},
          "execution_count": 78
        }
      ]
    },
    {
      "cell_type": "code",
      "source": [
        "from sklearn.metrics import classification_report\n",
        "print(classification_report(true_labels, final_predictions))"
      ],
      "metadata": {
        "colab": {
          "base_uri": "https://localhost:8080/"
        },
        "id": "O4ZkRs4kESJ8",
        "outputId": "4f9eaab8-2af5-449f-9fac-ad541ca0bdb5"
      },
      "execution_count": null,
      "outputs": [
        {
          "output_type": "stream",
          "name": "stdout",
          "text": [
            "              precision    recall  f1-score   support\n",
            "\n",
            "          -1       0.82      0.98      0.89      3737\n",
            "           1       1.00      0.99      1.00     98263\n",
            "\n",
            "    accuracy                           0.99    102000\n",
            "   macro avg       0.91      0.99      0.94    102000\n",
            "weighted avg       0.99      0.99      0.99    102000\n",
            "\n"
          ]
        }
      ]
    },
    {
      "cell_type": "code",
      "source": [],
      "metadata": {
        "id": "JRiE3ANHEbP_"
      },
      "execution_count": null,
      "outputs": []
    },
    {
      "cell_type": "code",
      "source": [],
      "metadata": {
        "id": "5ltj1WjEEbTn"
      },
      "execution_count": null,
      "outputs": []
    },
    {
      "cell_type": "markdown",
      "source": [
        "TF+`pca"
      ],
      "metadata": {
        "id": "iDlgzvcvGAoB"
      }
    },
    {
      "cell_type": "code",
      "source": [
        "df = pd.read_csv('/content/drive/MyDrive/thesis/train/reduce_pca_tf.csv', sep=',')\n",
        "x_out = pd.read_csv('/content/drive/MyDrive/thesis/val/val-reduce_pca_tf.csv', sep=',')"
      ],
      "metadata": {
        "id": "03NW0nnHEbWe"
      },
      "execution_count": null,
      "outputs": []
    },
    {
      "cell_type": "code",
      "source": [
        "test = df[:int(split_len)]\n",
        "train = df[int(split_len):]"
      ],
      "metadata": {
        "id": "yAM55s14F_8R"
      },
      "execution_count": null,
      "outputs": []
    },
    {
      "cell_type": "code",
      "source": [
        "from pyod.models.copod import COPOD\n",
        "from pyod.models.ecod import ECOD\n",
        "models = [COPOD(contamination=0.02), ECOD(contamination=0.009), IsolationForest(n_estimators=200, contamination=0.015)]\n",
        "#COPOD(contamination=0.01)"
      ],
      "metadata": {
        "id": "MV0B-3RkGd8g"
      },
      "execution_count": null,
      "outputs": []
    },
    {
      "cell_type": "markdown",
      "source": [],
      "metadata": {
        "id": "5KygNmyaWrJh"
      }
    },
    {
      "cell_type": "code",
      "source": [
        "pip install pyod"
      ],
      "metadata": {
        "colab": {
          "base_uri": "https://localhost:8080/"
        },
        "id": "-gbrR7xcWrkl",
        "outputId": "e02fb5e2-5d84-4b3d-8e2f-fb832a2e0223"
      },
      "execution_count": null,
      "outputs": [
        {
          "output_type": "stream",
          "name": "stdout",
          "text": [
            "Looking in indexes: https://pypi.org/simple, https://us-python.pkg.dev/colab-wheels/public/simple/\n",
            "Collecting pyod\n",
            "  Downloading pyod-1.0.9.tar.gz (149 kB)\n",
            "\u001b[2K     \u001b[90m━━━━━━━━━━━━━━━━━━━━━━━━━━━━━━━━━━━━━━━\u001b[0m \u001b[32m150.0/150.0 kB\u001b[0m \u001b[31m9.0 MB/s\u001b[0m eta \u001b[36m0:00:00\u001b[0m\n",
            "\u001b[?25h  Preparing metadata (setup.py) ... \u001b[?25l\u001b[?25hdone\n",
            "Requirement already satisfied: joblib in /usr/local/lib/python3.10/dist-packages (from pyod) (1.2.0)\n",
            "Requirement already satisfied: matplotlib in /usr/local/lib/python3.10/dist-packages (from pyod) (3.7.1)\n",
            "Requirement already satisfied: numpy>=1.19 in /usr/local/lib/python3.10/dist-packages (from pyod) (1.22.4)\n",
            "Requirement already satisfied: numba>=0.51 in /usr/local/lib/python3.10/dist-packages (from pyod) (0.56.4)\n",
            "Requirement already satisfied: scipy>=1.5.1 in /usr/local/lib/python3.10/dist-packages (from pyod) (1.10.1)\n",
            "Requirement already satisfied: scikit_learn>=0.20.0 in /usr/local/lib/python3.10/dist-packages (from pyod) (1.2.2)\n",
            "Requirement already satisfied: six in /usr/local/lib/python3.10/dist-packages (from pyod) (1.16.0)\n",
            "Requirement already satisfied: llvmlite<0.40,>=0.39.0dev0 in /usr/local/lib/python3.10/dist-packages (from numba>=0.51->pyod) (0.39.1)\n",
            "Requirement already satisfied: setuptools in /usr/local/lib/python3.10/dist-packages (from numba>=0.51->pyod) (67.7.2)\n",
            "Requirement already satisfied: threadpoolctl>=2.0.0 in /usr/local/lib/python3.10/dist-packages (from scikit_learn>=0.20.0->pyod) (3.1.0)\n",
            "Requirement already satisfied: contourpy>=1.0.1 in /usr/local/lib/python3.10/dist-packages (from matplotlib->pyod) (1.0.7)\n",
            "Requirement already satisfied: cycler>=0.10 in /usr/local/lib/python3.10/dist-packages (from matplotlib->pyod) (0.11.0)\n",
            "Requirement already satisfied: fonttools>=4.22.0 in /usr/local/lib/python3.10/dist-packages (from matplotlib->pyod) (4.39.3)\n",
            "Requirement already satisfied: kiwisolver>=1.0.1 in /usr/local/lib/python3.10/dist-packages (from matplotlib->pyod) (1.4.4)\n",
            "Requirement already satisfied: packaging>=20.0 in /usr/local/lib/python3.10/dist-packages (from matplotlib->pyod) (23.1)\n",
            "Requirement already satisfied: pillow>=6.2.0 in /usr/local/lib/python3.10/dist-packages (from matplotlib->pyod) (8.4.0)\n",
            "Requirement already satisfied: pyparsing>=2.3.1 in /usr/local/lib/python3.10/dist-packages (from matplotlib->pyod) (3.0.9)\n",
            "Requirement already satisfied: python-dateutil>=2.7 in /usr/local/lib/python3.10/dist-packages (from matplotlib->pyod) (2.8.2)\n",
            "Building wheels for collected packages: pyod\n",
            "  Building wheel for pyod (setup.py) ... \u001b[?25l\u001b[?25hdone\n",
            "  Created wheel for pyod: filename=pyod-1.0.9-py3-none-any.whl size=184097 sha256=64bd9ba488446db4ef8ea33d183d2b8b3b971b208ecdc1fca3a3de043e84892a\n",
            "  Stored in directory: /root/.cache/pip/wheels/83/55/6b/552e083cf5509c0afe808b76cf434f1be284d01a112623bd37\n",
            "Successfully built pyod\n",
            "Installing collected packages: pyod\n",
            "Successfully installed pyod-1.0.9\n"
          ]
        }
      ]
    },
    {
      "cell_type": "code",
      "source": [
        "# Train the individual models\n",
        "for model in models:\n",
        "    model.fit(train)\n",
        "\n",
        "# Make predictions using each individual model\n",
        "predictions = []\n",
        "for model in models:\n",
        "    model_predictions = model.predict(x_out)\n",
        "    if (model_predictions == 1).any():\n",
        "\n",
        "      model_predictions[model_predictions == 1] = -1\n",
        "\n",
        "    if (model_predictions == 0).any():\n",
        "      model_predictions[model_predictions == 0] = 1\n",
        "    predictions.append(model_predictions)\n",
        "\n"
      ],
      "metadata": {
        "id": "hHbCHkafG4LA"
      },
      "execution_count": null,
      "outputs": []
    },
    {
      "cell_type": "code",
      "source": [
        "# Perform majority voting to obtain the final ensemble prediction\n",
        "final_predictions = []\n",
        "for i in range(len(x_out)):\n",
        "    votes = [predictions[j][i] for j in range(3)]\n",
        "    majority_vote = max(set(votes), key=votes.count)\n",
        "    final_predictions.append(majority_vote)"
      ],
      "metadata": {
        "id": "tzTmuqlXSC6Q"
      },
      "execution_count": null,
      "outputs": []
    },
    {
      "cell_type": "code",
      "source": [
        "from sklearn.metrics import classification_report\n",
        "print(classification_report(true_labels, final_predictions))"
      ],
      "metadata": {
        "colab": {
          "base_uri": "https://localhost:8080/"
        },
        "id": "5OQq_vAlVB7o",
        "outputId": "83aff71c-7b63-49b7-b0b5-9e71795781fa"
      },
      "execution_count": null,
      "outputs": [
        {
          "output_type": "stream",
          "name": "stdout",
          "text": [
            "              precision    recall  f1-score   support\n",
            "\n",
            "          -1       0.82      1.00      0.90      3737\n",
            "           1       1.00      0.99      1.00     98263\n",
            "\n",
            "    accuracy                           0.99    102000\n",
            "   macro avg       0.91      1.00      0.95    102000\n",
            "weighted avg       0.99      0.99      0.99    102000\n",
            "\n"
          ]
        }
      ]
    },
    {
      "cell_type": "code",
      "source": [
        "\n",
        "# Perform model averaging to obtain the final prediction\n",
        "final_prediction = sum(predictions) / len(predictions)  # Average the predictions\n",
        "\n",
        "# Convert probabilities to class labels if necessary\n",
        "if isinstance(final_prediction[0], float):\n",
        "    final_prediction = [1 if p > 0.276899 else -1 for p in final_prediction]"
      ],
      "metadata": {
        "id": "fghOwSnnR_zC"
      },
      "execution_count": null,
      "outputs": []
    },
    {
      "cell_type": "code",
      "source": [
        "threshold = 0.9999999 # Adjust the threshold as per your needs\n",
        "\n",
        "# Convert probabilities to anomaly labels based on the adjusted threshold\n",
        "final_prediction = [-1 if p >= threshold else 1 for p in final_prediction]"
      ],
      "metadata": {
        "id": "kvJ08Va7RpPT"
      },
      "execution_count": null,
      "outputs": []
    },
    {
      "cell_type": "code",
      "source": [],
      "metadata": {
        "id": "RNm29q68HqLC"
      },
      "execution_count": null,
      "outputs": []
    }
  ]
}