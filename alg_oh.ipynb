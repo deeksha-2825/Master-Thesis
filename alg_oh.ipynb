{
  "nbformat": 4,
  "nbformat_minor": 0,
  "metadata": {
    "colab": {
      "provenance": [],
      "machine_shape": "hm",
      "gpuType": "V100"
    },
    "kernelspec": {
      "name": "python3",
      "display_name": "Python 3"
    },
    "language_info": {
      "name": "python"
    },
    "accelerator": "GPU"
  },
  "cells": [
    {
      "cell_type": "code",
      "execution_count": null,
      "metadata": {
        "id": "LAhIHPYtM3VF"
      },
      "outputs": [],
      "source": [
        "import re\n",
        "import pandas as pd\n",
        "import csv\n",
        "import numpy as np\n",
        "from collections import Counter\n",
        "import nltk\n",
        "import random\n",
        "from nltk import word_tokenize\n",
        "from sklearn.feature_extraction.text import CountVectorizer\n",
        "from sklearn.preprocessing import OneHotEncoder, LabelEncoder\n",
        "from sklearn.ensemble import IsolationForest\n",
        "from nltk.tokenize import sent_tokenize, word_tokenize\n",
        "import warnings\n",
        "\n",
        "warnings.filterwarnings(action = 'ignore')\n",
        "import gensim\n",
        "from gensim.models import Word2Vec"
      ]
    },
    {
      "cell_type": "code",
      "source": [
        "import tensorflow as tf\n",
        "import math\n",
        "import os\n",
        "import time\n",
        "import numpy as np\n",
        "import pandas as pd\n",
        "import random\n",
        "import statistics\n",
        "import seaborn as sns\n",
        "from collections import Counter\n",
        "import matplotlib.pyplot as plt\n",
        "from tensorflow.keras import Model\n",
        "from tensorflow.keras import Sequential, regularizers\n",
        "from sklearn.preprocessing import MinMaxScaler\n",
        "from tensorflow.keras.layers import Dense, Input, LSTM, Dropout, TimeDistributed, RepeatVector, Bidirectional\n",
        "from tensorflow.keras.losses import CategoricalCrossentropy, MeanSquaredLogarithmicError\n",
        "from tensorflow.keras.callbacks import EarlyStopping\n",
        "from tensorflow.keras.metrics import Accuracy, Precision, AUC, Recall\n",
        "from sklearn.metrics import silhouette_score"
      ],
      "metadata": {
        "id": "MS62wVzGuP0g"
      },
      "execution_count": null,
      "outputs": []
    },
    {
      "cell_type": "code",
      "source": [
        "pip install pyod"
      ],
      "metadata": {
        "colab": {
          "base_uri": "https://localhost:8080/"
        },
        "id": "dYKN8sd59BnR",
        "outputId": "99c55b9f-48aa-4582-ff0f-ecb2e96fb644"
      },
      "execution_count": null,
      "outputs": [
        {
          "output_type": "stream",
          "name": "stdout",
          "text": [
            "Looking in indexes: https://pypi.org/simple, https://us-python.pkg.dev/colab-wheels/public/simple/\n",
            "Collecting pyod\n",
            "  Downloading pyod-1.0.9.tar.gz (149 kB)\n",
            "\u001b[2K     \u001b[90m━━━━━━━━━━━━━━━━━━━━━━━━━━━━━━━━━━━━━━━\u001b[0m \u001b[32m150.0/150.0 kB\u001b[0m \u001b[31m4.9 MB/s\u001b[0m eta \u001b[36m0:00:00\u001b[0m\n",
            "\u001b[?25h  Preparing metadata (setup.py) ... \u001b[?25l\u001b[?25hdone\n",
            "Requirement already satisfied: joblib in /usr/local/lib/python3.10/dist-packages (from pyod) (1.2.0)\n",
            "Requirement already satisfied: matplotlib in /usr/local/lib/python3.10/dist-packages (from pyod) (3.7.1)\n",
            "Requirement already satisfied: numpy>=1.19 in /usr/local/lib/python3.10/dist-packages (from pyod) (1.22.4)\n",
            "Requirement already satisfied: numba>=0.51 in /usr/local/lib/python3.10/dist-packages (from pyod) (0.56.4)\n",
            "Requirement already satisfied: scipy>=1.5.1 in /usr/local/lib/python3.10/dist-packages (from pyod) (1.10.1)\n",
            "Requirement already satisfied: scikit_learn>=0.20.0 in /usr/local/lib/python3.10/dist-packages (from pyod) (1.2.2)\n",
            "Requirement already satisfied: six in /usr/local/lib/python3.10/dist-packages (from pyod) (1.16.0)\n",
            "Requirement already satisfied: llvmlite<0.40,>=0.39.0dev0 in /usr/local/lib/python3.10/dist-packages (from numba>=0.51->pyod) (0.39.1)\n",
            "Requirement already satisfied: setuptools in /usr/local/lib/python3.10/dist-packages (from numba>=0.51->pyod) (67.7.2)\n",
            "Requirement already satisfied: threadpoolctl>=2.0.0 in /usr/local/lib/python3.10/dist-packages (from scikit_learn>=0.20.0->pyod) (3.1.0)\n",
            "Requirement already satisfied: contourpy>=1.0.1 in /usr/local/lib/python3.10/dist-packages (from matplotlib->pyod) (1.0.7)\n",
            "Requirement already satisfied: cycler>=0.10 in /usr/local/lib/python3.10/dist-packages (from matplotlib->pyod) (0.11.0)\n",
            "Requirement already satisfied: fonttools>=4.22.0 in /usr/local/lib/python3.10/dist-packages (from matplotlib->pyod) (4.39.3)\n",
            "Requirement already satisfied: kiwisolver>=1.0.1 in /usr/local/lib/python3.10/dist-packages (from matplotlib->pyod) (1.4.4)\n",
            "Requirement already satisfied: packaging>=20.0 in /usr/local/lib/python3.10/dist-packages (from matplotlib->pyod) (23.1)\n",
            "Requirement already satisfied: pillow>=6.2.0 in /usr/local/lib/python3.10/dist-packages (from matplotlib->pyod) (8.4.0)\n",
            "Requirement already satisfied: pyparsing>=2.3.1 in /usr/local/lib/python3.10/dist-packages (from matplotlib->pyod) (3.0.9)\n",
            "Requirement already satisfied: python-dateutil>=2.7 in /usr/local/lib/python3.10/dist-packages (from matplotlib->pyod) (2.8.2)\n",
            "Building wheels for collected packages: pyod\n",
            "  Building wheel for pyod (setup.py) ... \u001b[?25l\u001b[?25hdone\n",
            "  Created wheel for pyod: filename=pyod-1.0.9-py3-none-any.whl size=184097 sha256=42b6c3c889d9d436616a558dfd4dfebcec1984d385322384c432b180de61bfa9\n",
            "  Stored in directory: /root/.cache/pip/wheels/83/55/6b/552e083cf5509c0afe808b76cf434f1be284d01a112623bd37\n",
            "Successfully built pyod\n",
            "Installing collected packages: pyod\n",
            "Successfully installed pyod-1.0.9\n"
          ]
        }
      ]
    },
    {
      "cell_type": "code",
      "source": [
        "from google.colab import drive\n",
        "drive.mount('/content/drive')"
      ],
      "metadata": {
        "colab": {
          "base_uri": "https://localhost:8080/"
        },
        "id": "YcxJvliINulg",
        "outputId": "ce75628c-1a60-4252-877b-ef1919a3eb82"
      },
      "execution_count": null,
      "outputs": [
        {
          "output_type": "stream",
          "name": "stdout",
          "text": [
            "Mounted at /content/drive\n"
          ]
        }
      ]
    },
    {
      "cell_type": "code",
      "source": [
        "df_outlier = pd.read_csv('/content/drive/MyDrive/thesis/val/raw_val_all.csv', sep=',')"
      ],
      "metadata": {
        "id": "v9yQObDcNwK0"
      },
      "execution_count": null,
      "outputs": []
    },
    {
      "cell_type": "code",
      "source": [
        "df_validate = pd.read_csv('/content/drive/MyDrive/thesis/val/raw_val.csv', sep=',')"
      ],
      "metadata": {
        "id": "stCNXIhpNyB0"
      },
      "execution_count": null,
      "outputs": []
    },
    {
      "cell_type": "code",
      "source": [
        "true_labels = df_outlier.label\n"
      ],
      "metadata": {
        "id": "X7gUk4NcNzeg"
      },
      "execution_count": null,
      "outputs": []
    },
    {
      "cell_type": "markdown",
      "source": [
        "oh"
      ],
      "metadata": {
        "id": "DQVK2LqcN01e"
      }
    },
    {
      "cell_type": "code",
      "source": [
        "df_oh = pd.read_csv('/content/drive/MyDrive/thesis/train/oh_data.csv', sep=',')\n",
        "x_out_oh = pd.read_csv('/content/drive/MyDrive/thesis/val/val-x_out_oh.csv', sep=',')"
      ],
      "metadata": {
        "id": "faKtdZiVN2Ep"
      },
      "execution_count": null,
      "outputs": []
    },
    {
      "cell_type": "code",
      "source": [
        "from sklearn.preprocessing import MinMaxScaler\n",
        "\n",
        "mm_scaler = MinMaxScaler()\n",
        "x_scaled_cv = mm_scaler.fit_transform(df_oh)"
      ],
      "metadata": {
        "id": "7wtBTThWN-Tv"
      },
      "execution_count": null,
      "outputs": []
    },
    {
      "cell_type": "code",
      "source": [
        "x_out_cv = mm_scaler.transform(x_out_oh)"
      ],
      "metadata": {
        "id": "ZGXn241lOA8O"
      },
      "execution_count": null,
      "outputs": []
    },
    {
      "cell_type": "code",
      "source": [
        "test = df_oh[:int(split_len)]\n",
        "train = df_oh[int(split_len):]"
      ],
      "metadata": {
        "id": "Ws3VO_8sOEJc"
      },
      "execution_count": null,
      "outputs": []
    },
    {
      "cell_type": "code",
      "source": [
        "x_train = train.values.reshape(train.shape[0], 1, train.shape[1])\n",
        "x_test = test.values.reshape(test.shape[0], 1,train.shape[1])\n",
        "\n",
        "x_out = x_out_cv.reshape(x_out_cv.shape[0], 1,x_out_cv.shape[1])\n",
        "\n",
        "#define the model\n",
        "\n",
        "def autoencoder_model(X):\n",
        "\n",
        "  inputs = Input(shape=(X.shape[1], X.shape[2]))\n",
        "  L1 = Bidirectional(LSTM(128, activation='relu', return_sequences=True,\n",
        "              kernel_regularizer=regularizers.l2(0.00)))(inputs)\n",
        "  L2 = Bidirectional(LSTM(64, activation='relu', return_sequences=False))(L1)\n",
        "  L3 = RepeatVector(X.shape[1])(L2)\n",
        "  L4 = Bidirectional(LSTM(64, activation='relu', return_sequences=True))(L3)\n",
        "  L5 = Bidirectional(LSTM(128, activation='relu', return_sequences=True))(L4)\n",
        "  output = TimeDistributed(Dense(X.shape[2]))(L5)\n",
        "  model = Model(inputs=inputs, outputs=output)\n",
        "  return model\n",
        "\n",
        "# create the autoencoder model\n",
        "model = autoencoder_model(x_train)\n",
        "model.compile(optimizer='adam', loss=['mse'],\n",
        "              metrics=['mae', 'acc', tf.keras.metrics.Recall(), tf.keras.metrics.Precision()])\n",
        "model.summary()\n",
        "\n",
        "nb_epochs = 10\n",
        "batch_size = 1000\n",
        "history = model.fit(x_train, x_train, epochs=nb_epochs, batch_size=batch_size,\n",
        "                    validation_split=0.15).history\n",
        "\n",
        "\n",
        "\n"
      ],
      "metadata": {
        "colab": {
          "base_uri": "https://localhost:8080/"
        },
        "id": "H2iQtzBJuW6Z",
        "outputId": "e79f9037-008c-420e-f5ef-4e5b320b672e"
      },
      "execution_count": null,
      "outputs": [
        {
          "output_type": "stream",
          "name": "stderr",
          "text": [
            "WARNING:tensorflow:Layer lstm will not use cuDNN kernels since it doesn't meet the criteria. It will use a generic GPU kernel as fallback when running on GPU.\n",
            "WARNING:tensorflow:Layer lstm will not use cuDNN kernels since it doesn't meet the criteria. It will use a generic GPU kernel as fallback when running on GPU.\n",
            "WARNING:tensorflow:Layer lstm will not use cuDNN kernels since it doesn't meet the criteria. It will use a generic GPU kernel as fallback when running on GPU.\n",
            "WARNING:tensorflow:Layer lstm_1 will not use cuDNN kernels since it doesn't meet the criteria. It will use a generic GPU kernel as fallback when running on GPU.\n",
            "WARNING:tensorflow:Layer lstm_1 will not use cuDNN kernels since it doesn't meet the criteria. It will use a generic GPU kernel as fallback when running on GPU.\n",
            "WARNING:tensorflow:Layer lstm_1 will not use cuDNN kernels since it doesn't meet the criteria. It will use a generic GPU kernel as fallback when running on GPU.\n",
            "WARNING:tensorflow:Layer lstm_2 will not use cuDNN kernels since it doesn't meet the criteria. It will use a generic GPU kernel as fallback when running on GPU.\n",
            "WARNING:tensorflow:Layer lstm_2 will not use cuDNN kernels since it doesn't meet the criteria. It will use a generic GPU kernel as fallback when running on GPU.\n",
            "WARNING:tensorflow:Layer lstm_2 will not use cuDNN kernels since it doesn't meet the criteria. It will use a generic GPU kernel as fallback when running on GPU.\n",
            "WARNING:tensorflow:Layer lstm_3 will not use cuDNN kernels since it doesn't meet the criteria. It will use a generic GPU kernel as fallback when running on GPU.\n",
            "WARNING:tensorflow:Layer lstm_3 will not use cuDNN kernels since it doesn't meet the criteria. It will use a generic GPU kernel as fallback when running on GPU.\n",
            "WARNING:tensorflow:Layer lstm_3 will not use cuDNN kernels since it doesn't meet the criteria. It will use a generic GPU kernel as fallback when running on GPU.\n"
          ]
        },
        {
          "output_type": "stream",
          "name": "stdout",
          "text": [
            "Model: \"model\"\n",
            "_________________________________________________________________\n",
            " Layer (type)                Output Shape              Param #   \n",
            "=================================================================\n",
            " input_1 (InputLayer)        [(None, 1, 518)]          0         \n",
            "                                                                 \n",
            " bidirectional (Bidirectiona  (None, 1, 256)           662528    \n",
            " l)                                                              \n",
            "                                                                 \n",
            " bidirectional_1 (Bidirectio  (None, 128)              164352    \n",
            " nal)                                                            \n",
            "                                                                 \n",
            " repeat_vector (RepeatVector  (None, 1, 128)           0         \n",
            " )                                                               \n",
            "                                                                 \n",
            " bidirectional_2 (Bidirectio  (None, 1, 128)           98816     \n",
            " nal)                                                            \n",
            "                                                                 \n",
            " bidirectional_3 (Bidirectio  (None, 1, 256)           263168    \n",
            " nal)                                                            \n",
            "                                                                 \n",
            " time_distributed (TimeDistr  (None, 1, 518)           133126    \n",
            " ibuted)                                                         \n",
            "                                                                 \n",
            "=================================================================\n",
            "Total params: 1,321,990\n",
            "Trainable params: 1,321,990\n",
            "Non-trainable params: 0\n",
            "_________________________________________________________________\n",
            "Epoch 1/10\n",
            "608/608 [==============================] - 36s 32ms/step - loss: 0.0020 - mae: 0.0040 - acc: 0.0086 - recall: 0.8710 - precision: 0.9808 - val_loss: 7.3432e-04 - val_mae: 0.0015 - val_acc: 0.0000e+00 - val_recall: 0.9576 - val_precision: 0.9926\n",
            "Epoch 2/10\n",
            "608/608 [==============================] - 18s 30ms/step - loss: 1.2802e-04 - mae: 9.8763e-04 - acc: 0.2677 - recall: 0.9927 - precision: 0.9976 - val_loss: 5.3551e-04 - val_mae: 0.0014 - val_acc: 0.0000e+00 - val_recall: 0.9685 - val_precision: 0.9983\n",
            "Epoch 3/10\n",
            "608/608 [==============================] - 18s 30ms/step - loss: 3.5022e-05 - mae: 5.6953e-04 - acc: 0.3542 - recall: 0.9979 - precision: 0.9997 - val_loss: 4.9851e-04 - val_mae: 0.0011 - val_acc: 8.1151e-04 - val_recall: 0.9698 - val_precision: 0.9993\n",
            "Epoch 4/10\n",
            "608/608 [==============================] - 18s 29ms/step - loss: 2.2718e-05 - mae: 5.5140e-04 - acc: 0.3590 - recall: 0.9987 - precision: 0.9998 - val_loss: 4.6707e-04 - val_mae: 0.0011 - val_acc: 0.6904 - val_recall: 0.9738 - val_precision: 0.9959\n",
            "Epoch 5/10\n",
            "608/608 [==============================] - 19s 32ms/step - loss: 1.5849e-05 - mae: 4.7485e-04 - acc: 0.3567 - recall: 0.9992 - precision: 0.9997 - val_loss: 4.7732e-04 - val_mae: 0.0016 - val_acc: 0.0710 - val_recall: 0.9747 - val_precision: 0.9958\n",
            "Epoch 6/10\n",
            "608/608 [==============================] - 18s 30ms/step - loss: 1.3251e-05 - mae: 5.2631e-04 - acc: 0.3930 - recall: 0.9993 - precision: 0.9997 - val_loss: 4.6808e-04 - val_mae: 0.0011 - val_acc: 0.0159 - val_recall: 0.9750 - val_precision: 0.9959\n",
            "Epoch 7/10\n",
            "608/608 [==============================] - 18s 29ms/step - loss: 1.0330e-05 - mae: 5.0162e-04 - acc: 0.3493 - recall: 0.9995 - precision: 0.9998 - val_loss: 4.6229e-04 - val_mae: 9.0247e-04 - val_acc: 0.1855 - val_recall: 0.9752 - val_precision: 0.9959\n",
            "Epoch 8/10\n",
            "608/608 [==============================] - 18s 30ms/step - loss: 8.5048e-06 - mae: 4.4215e-04 - acc: 0.3274 - recall: 0.9995 - precision: 0.9999 - val_loss: 4.6591e-04 - val_mae: 0.0012 - val_acc: 0.0524 - val_recall: 0.9753 - val_precision: 0.9956\n",
            "Epoch 9/10\n",
            "608/608 [==============================] - 18s 29ms/step - loss: 7.1099e-06 - mae: 4.1497e-04 - acc: 0.3195 - recall: 0.9996 - precision: 0.9999 - val_loss: 4.7538e-04 - val_mae: 9.0266e-04 - val_acc: 0.8759 - val_recall: 0.9753 - val_precision: 0.9955\n",
            "Epoch 10/10\n",
            "608/608 [==============================] - 18s 29ms/step - loss: 5.9255e-06 - mae: 4.1798e-04 - acc: 0.3684 - recall: 0.9997 - precision: 0.9999 - val_loss: 4.8987e-04 - val_mae: 9.5516e-04 - val_acc: 0.0246 - val_recall: 0.9729 - val_precision: 0.9978\n"
          ]
        }
      ]
    },
    {
      "cell_type": "code",
      "source": [
        "# calculate the loss on the test set\n",
        "X_pred = model.predict(x_out)\n",
        "X_pred = X_pred.reshape(X_pred.shape[0], X_pred.shape[2])\n",
        "X_pred = pd.DataFrame(X_pred, columns=x_out_oh.columns)\n",
        "X_pred.index = x_out_oh.index\n",
        "\n",
        "scored = pd.DataFrame(index=x_out_oh.index)\n",
        "Xtest = x_out.reshape(x_out_oh.shape[0], x_out.shape[2])\n",
        "scored['Loss_mae'] = np.mean(np.abs(X_pred-Xtest), axis = 1)\n",
        "scored['Threshold'] = 0.0006\n",
        "scored['Anomaly'] = np.where(scored['Loss_mae'] > scored['Threshold'], -1, 1)\n",
        "scored.head()\n",
        "test_pred = scored.Anomaly\n",
        "\n",
        "from sklearn.metrics import classification_report\n",
        "print(classification_report(true_labels, test_pred))"
      ],
      "metadata": {
        "id": "EgNVu16qvEXA"
      },
      "execution_count": null,
      "outputs": []
    },
    {
      "cell_type": "code",
      "source": [
        "from pyod.models.copod import COPOD\n",
        "if __name__ == \"__main__\":\n",
        "\n",
        "    # train COPOD detector\n",
        "    clf_name = 'COPOD'\n",
        "    clf = COPOD(contamination=0.06)\n",
        "\n",
        "    # you could try parallel version as well.\n",
        "    # clf = COPOD(n_jobs=2)\n",
        "    clf.fit(train)\n",
        "    pred_test = clf.predict(x_out_cv_scale)\n",
        "\n",
        "if (pred_test == 1).any():\n",
        "    pred_test[pred_test == 1] = -1\n",
        "\n",
        "if (pred_test == 0).any():\n",
        "    pred_test[pred_test == 0] = 1\n",
        "\n",
        "Counter(pred_test)\n",
        "\n",
        "from sklearn.metrics import classification_report\n",
        "print(classification_report(true_labels, pred_test))"
      ],
      "metadata": {
        "colab": {
          "base_uri": "https://localhost:8080/"
        },
        "id": "A-H96Oh_9Nx9",
        "outputId": "e7232d8f-1d29-49e7-f3f3-78fd7fb07fad"
      },
      "execution_count": null,
      "outputs": [
        {
          "output_type": "stream",
          "name": "stdout",
          "text": [
            "              precision    recall  f1-score   support\n",
            "\n",
            "          -1       0.29      0.56      0.38      3737\n",
            "           1       0.98      0.95      0.96     98263\n",
            "\n",
            "    accuracy                           0.93    102000\n",
            "   macro avg       0.64      0.75      0.67    102000\n",
            "weighted avg       0.96      0.93      0.94    102000\n",
            "\n"
          ]
        }
      ]
    },
    {
      "cell_type": "markdown",
      "source": [
        "RErun with lower contam"
      ],
      "metadata": {
        "id": "Lw-WPf7R_-jg"
      }
    },
    {
      "cell_type": "code",
      "source": [
        "from pyod.models.ecod import ECOD\n",
        "if __name__ == \"__main__\":\n",
        "\n",
        "    # train COPOD detector\n",
        "    clf_name = 'ECOD'\n",
        "    clf = ECOD(contamination=0.015)\n",
        "\n",
        "    # you could try parallel version as well.\n",
        "    # clf = COPOD(n_jobs=2)\n",
        "    clf.fit(train)\n",
        "    pred_test = clf.predict(x_out_cv_scale)\n",
        "\n",
        "if (pred_test == 1).any():\n",
        "    pred_test[pred_test == 1] = -1\n",
        "\n",
        "if (pred_test == 0).any():\n",
        "    pred_test[pred_test == 0] = 1\n",
        "\n",
        "Counter(pred_test)\n",
        "\n",
        "from sklearn.metrics import classification_report\n",
        "print(classification_report(true_labels, pred_test))"
      ],
      "metadata": {
        "colab": {
          "base_uri": "https://localhost:8080/"
        },
        "id": "G3EUNsuk9Tqx",
        "outputId": "8b6a2e58-b765-4976-e882-c670f46df379"
      },
      "execution_count": null,
      "outputs": [
        {
          "output_type": "stream",
          "name": "stdout",
          "text": [
            "              precision    recall  f1-score   support\n",
            "\n",
            "          -1       0.55      0.54      0.54      3737\n",
            "           1       0.98      0.98      0.98     98263\n",
            "\n",
            "    accuracy                           0.97    102000\n",
            "   macro avg       0.76      0.76      0.76    102000\n",
            "weighted avg       0.97      0.97      0.97    102000\n",
            "\n"
          ]
        }
      ]
    },
    {
      "cell_type": "code",
      "source": [
        "Counter(pred_test)"
      ],
      "metadata": {
        "colab": {
          "base_uri": "https://localhost:8080/"
        },
        "id": "nKPuOwts_2-5",
        "outputId": "643f402c-99dc-444a-d482-78668967ec17"
      },
      "execution_count": null,
      "outputs": [
        {
          "output_type": "execute_result",
          "data": {
            "text/plain": [
              "Counter({1: 94819, -1: 7181})"
            ]
          },
          "metadata": {},
          "execution_count": 16
        }
      ]
    },
    {
      "cell_type": "code",
      "source": [
        "clf = IsolationForest(n_estimators=200, contamination = 0.045)"
      ],
      "metadata": {
        "id": "_aDlUQB3OFpS"
      },
      "execution_count": null,
      "outputs": []
    },
    {
      "cell_type": "code",
      "source": [
        "clf_if_cv = clf.fit(train)"
      ],
      "metadata": {
        "id": "qRJ5jAbqOJ6s"
      },
      "execution_count": null,
      "outputs": []
    },
    {
      "cell_type": "code",
      "source": [
        "from joblib import dump, load\n",
        "\n",
        "# save the model\n",
        "dump(clf_if_cv,'/content/drive/MyDrive/thesis/models/iforest/clf_if_oh.joblib')"
      ],
      "metadata": {
        "colab": {
          "base_uri": "https://localhost:8080/"
        },
        "id": "TqB7XL9OOMVX",
        "outputId": "792ca544-4943-4851-c342-3ca8838efaf1"
      },
      "execution_count": null,
      "outputs": [
        {
          "output_type": "execute_result",
          "data": {
            "text/plain": [
              "['/content/drive/MyDrive/thesis/models/iforest/clf_if_oh.joblib']"
            ]
          },
          "metadata": {},
          "execution_count": 54
        }
      ]
    },
    {
      "cell_type": "code",
      "source": [
        "from joblib import dump, load\n",
        "clf_if_cv = load('/content/drive/MyDrive/thesis/models/iforest/clf_if_oh.joblib')"
      ],
      "metadata": {
        "id": "ABSPVJcAOQ_k"
      },
      "execution_count": null,
      "outputs": []
    },
    {
      "cell_type": "code",
      "source": [
        "pred_test = clf_if_cv.predict(x_out_cv_scale)"
      ],
      "metadata": {
        "id": "cRiIdpwdOjmL"
      },
      "execution_count": null,
      "outputs": []
    },
    {
      "cell_type": "code",
      "source": [
        "Counter(pred_test)"
      ],
      "metadata": {
        "colab": {
          "base_uri": "https://localhost:8080/"
        },
        "id": "W1IroPTsOpbF",
        "outputId": "b9b36d81-1c4a-486b-8d88-2dcf466ad0ad"
      },
      "execution_count": null,
      "outputs": [
        {
          "output_type": "execute_result",
          "data": {
            "text/plain": [
              "Counter({1: 96791, -1: 5209})"
            ]
          },
          "metadata": {},
          "execution_count": 57
        }
      ]
    },
    {
      "cell_type": "code",
      "source": [
        "true_labels = df_outlier.label"
      ],
      "metadata": {
        "id": "o4Msq8i1Oq65"
      },
      "execution_count": null,
      "outputs": []
    },
    {
      "cell_type": "code",
      "source": [
        "df_validate['label'] = pred_test"
      ],
      "metadata": {
        "id": "Cqq6ZHIIOsTu"
      },
      "execution_count": null,
      "outputs": []
    },
    {
      "cell_type": "code",
      "source": [
        "df_validate[df_validate['label'] == -1].to_csv('/content/drive/MyDrive/thesis/models/iforest/oh_results_val.csv', index=False)"
      ],
      "metadata": {
        "id": "eUfpYVdlOyCG"
      },
      "execution_count": null,
      "outputs": []
    },
    {
      "cell_type": "code",
      "source": [
        "from sklearn.metrics import classification_report\n",
        "print(classification_report(true_labels, pred_test))"
      ],
      "metadata": {
        "colab": {
          "base_uri": "https://localhost:8080/"
        },
        "id": "p9o5zi0kO1QI",
        "outputId": "11cf84af-af3c-4a80-df46-1e71e89aeed3"
      },
      "execution_count": null,
      "outputs": [
        {
          "output_type": "stream",
          "name": "stdout",
          "text": [
            "              precision    recall  f1-score   support\n",
            "\n",
            "          -1       0.57      0.80      0.67      3737\n",
            "           1       0.99      0.98      0.98     98263\n",
            "\n",
            "    accuracy                           0.97    102000\n",
            "   macro avg       0.78      0.89      0.83    102000\n",
            "weighted avg       0.98      0.97      0.97    102000\n",
            "\n"
          ]
        }
      ]
    },
    {
      "cell_type": "code",
      "source": [
        "from sklearn.metrics import accuracy_score, precision_score, recall_score, f1_score\n",
        "\n",
        "# Assuming you have the true labels for the dataset in 'true_labels' and the LOF predictions in 'lof_predictions'\n",
        "\n",
        "# Convert LOF scores to binary labels based on a threshold (e.g., outliers with scores above the threshold are considered anomalies)\n",
        "\n",
        "# Calculate accuracy\n",
        "accuracy = accuracy_score(true_labels, pred_test)\n",
        "print(\"Accuracy:\", accuracy)\n",
        "\n",
        "# Calculate precision\n",
        "precision = precision_score(true_labels, pred_test)\n",
        "print(\"Precision:\", precision)\n",
        "\n",
        "# Calculate recall\n",
        "recall = recall_score(true_labels, pred_test)\n",
        "print(\"Recall:\", recall)\n",
        "\n",
        "# Calculate F1 score\n",
        "f1 = f1_score(true_labels, pred_test)\n",
        "print(\"F1 Score:\", f1)"
      ],
      "metadata": {
        "colab": {
          "base_uri": "https://localhost:8080/"
        },
        "id": "9k7tQGxwO216",
        "outputId": "6deb9901-c12a-41a4-e5c5-10ff474897da"
      },
      "execution_count": null,
      "outputs": [
        {
          "output_type": "stream",
          "name": "stdout",
          "text": [
            "Accuracy: 0.9709607843137255\n",
            "Precision: 0.9923030033784133\n",
            "Recall: 0.9774380997934116\n",
            "F1 Score: 0.9848144616362648\n"
          ]
        }
      ]
    },
    {
      "cell_type": "code",
      "source": [],
      "metadata": {
        "id": "ki8E94xbPC2J"
      },
      "execution_count": null,
      "outputs": []
    },
    {
      "cell_type": "code",
      "source": [],
      "metadata": {
        "id": "oDmPCdy3TjOm"
      },
      "execution_count": null,
      "outputs": []
    },
    {
      "cell_type": "markdown",
      "source": [
        "OH+PCA"
      ],
      "metadata": {
        "id": "GK8tMZsdTjW6"
      }
    },
    {
      "cell_type": "code",
      "source": [
        "df_oh = pd.read_csv('/content/drive/MyDrive/thesis/train/reduce_pca_oh.csv', sep=',')\n",
        "x_out_oh = pd.read_csv('/content/drive/MyDrive/thesis/val/val-reduce_pca_oh.csv', sep=',')"
      ],
      "metadata": {
        "id": "PyM6q-MiTk3f"
      },
      "execution_count": null,
      "outputs": []
    },
    {
      "cell_type": "code",
      "source": [
        "df_oh.head(5)"
      ],
      "metadata": {
        "colab": {
          "base_uri": "https://localhost:8080/",
          "height": 300
        },
        "id": "8WFjWPSUU1CK",
        "outputId": "cb7eac07-cac3-446f-ac64-d05cec90f1b8"
      },
      "execution_count": null,
      "outputs": [
        {
          "output_type": "execute_result",
          "data": {
            "text/plain": [
              "              0         1         2         3         4         5         6  \\\n",
              "0  3.509693e-14  0.238324  0.545315  0.216244  0.469836  0.300938  0.046486   \n",
              "1  0.000000e+00  0.238324  0.545315  0.216244  0.469836  0.300938  0.046486   \n",
              "2  0.000000e+00  0.238324  0.545315  0.216244  0.469836  0.300938  0.046486   \n",
              "3  0.000000e+00  0.238324  0.545315  0.216244  0.469836  0.300938  0.046486   \n",
              "4  3.114342e-02  0.460248  0.000670  0.228479  0.464283  0.300577  0.045348   \n",
              "\n",
              "          7         8         9  ...        15        16        17        18  \\\n",
              "0  0.212128  0.251039  0.391628  ...  0.236483  0.329686  0.367512  0.204161   \n",
              "1  0.212128  0.251039  0.391628  ...  0.236483  0.329686  0.367512  0.204161   \n",
              "2  0.212128  0.251039  0.391628  ...  0.236483  0.329686  0.367512  0.204161   \n",
              "3  0.212128  0.251039  0.391628  ...  0.236483  0.329686  0.367512  0.204161   \n",
              "4  0.212277  0.250890  0.392299  ...  0.236517  0.328604  0.367529  0.204128   \n",
              "\n",
              "         19        20        21        22        23        24  \n",
              "0  0.162650  0.234812  0.206663  0.184946  0.436846  0.393811  \n",
              "1  0.162650  0.234812  0.206663  0.184946  0.436846  0.393811  \n",
              "2  0.162650  0.234812  0.206663  0.184946  0.436846  0.393811  \n",
              "3  0.162650  0.234812  0.206663  0.184946  0.436846  0.393811  \n",
              "4  0.162696  0.234831  0.206919  0.184032  0.436838  0.393797  \n",
              "\n",
              "[5 rows x 25 columns]"
            ],
            "text/html": [
              "\n",
              "  <div id=\"df-209d0925-9092-4029-bdc1-db83ed1bde43\">\n",
              "    <div class=\"colab-df-container\">\n",
              "      <div>\n",
              "<style scoped>\n",
              "    .dataframe tbody tr th:only-of-type {\n",
              "        vertical-align: middle;\n",
              "    }\n",
              "\n",
              "    .dataframe tbody tr th {\n",
              "        vertical-align: top;\n",
              "    }\n",
              "\n",
              "    .dataframe thead th {\n",
              "        text-align: right;\n",
              "    }\n",
              "</style>\n",
              "<table border=\"1\" class=\"dataframe\">\n",
              "  <thead>\n",
              "    <tr style=\"text-align: right;\">\n",
              "      <th></th>\n",
              "      <th>0</th>\n",
              "      <th>1</th>\n",
              "      <th>2</th>\n",
              "      <th>3</th>\n",
              "      <th>4</th>\n",
              "      <th>5</th>\n",
              "      <th>6</th>\n",
              "      <th>7</th>\n",
              "      <th>8</th>\n",
              "      <th>9</th>\n",
              "      <th>...</th>\n",
              "      <th>15</th>\n",
              "      <th>16</th>\n",
              "      <th>17</th>\n",
              "      <th>18</th>\n",
              "      <th>19</th>\n",
              "      <th>20</th>\n",
              "      <th>21</th>\n",
              "      <th>22</th>\n",
              "      <th>23</th>\n",
              "      <th>24</th>\n",
              "    </tr>\n",
              "  </thead>\n",
              "  <tbody>\n",
              "    <tr>\n",
              "      <th>0</th>\n",
              "      <td>3.509693e-14</td>\n",
              "      <td>0.238324</td>\n",
              "      <td>0.545315</td>\n",
              "      <td>0.216244</td>\n",
              "      <td>0.469836</td>\n",
              "      <td>0.300938</td>\n",
              "      <td>0.046486</td>\n",
              "      <td>0.212128</td>\n",
              "      <td>0.251039</td>\n",
              "      <td>0.391628</td>\n",
              "      <td>...</td>\n",
              "      <td>0.236483</td>\n",
              "      <td>0.329686</td>\n",
              "      <td>0.367512</td>\n",
              "      <td>0.204161</td>\n",
              "      <td>0.162650</td>\n",
              "      <td>0.234812</td>\n",
              "      <td>0.206663</td>\n",
              "      <td>0.184946</td>\n",
              "      <td>0.436846</td>\n",
              "      <td>0.393811</td>\n",
              "    </tr>\n",
              "    <tr>\n",
              "      <th>1</th>\n",
              "      <td>0.000000e+00</td>\n",
              "      <td>0.238324</td>\n",
              "      <td>0.545315</td>\n",
              "      <td>0.216244</td>\n",
              "      <td>0.469836</td>\n",
              "      <td>0.300938</td>\n",
              "      <td>0.046486</td>\n",
              "      <td>0.212128</td>\n",
              "      <td>0.251039</td>\n",
              "      <td>0.391628</td>\n",
              "      <td>...</td>\n",
              "      <td>0.236483</td>\n",
              "      <td>0.329686</td>\n",
              "      <td>0.367512</td>\n",
              "      <td>0.204161</td>\n",
              "      <td>0.162650</td>\n",
              "      <td>0.234812</td>\n",
              "      <td>0.206663</td>\n",
              "      <td>0.184946</td>\n",
              "      <td>0.436846</td>\n",
              "      <td>0.393811</td>\n",
              "    </tr>\n",
              "    <tr>\n",
              "      <th>2</th>\n",
              "      <td>0.000000e+00</td>\n",
              "      <td>0.238324</td>\n",
              "      <td>0.545315</td>\n",
              "      <td>0.216244</td>\n",
              "      <td>0.469836</td>\n",
              "      <td>0.300938</td>\n",
              "      <td>0.046486</td>\n",
              "      <td>0.212128</td>\n",
              "      <td>0.251039</td>\n",
              "      <td>0.391628</td>\n",
              "      <td>...</td>\n",
              "      <td>0.236483</td>\n",
              "      <td>0.329686</td>\n",
              "      <td>0.367512</td>\n",
              "      <td>0.204161</td>\n",
              "      <td>0.162650</td>\n",
              "      <td>0.234812</td>\n",
              "      <td>0.206663</td>\n",
              "      <td>0.184946</td>\n",
              "      <td>0.436846</td>\n",
              "      <td>0.393811</td>\n",
              "    </tr>\n",
              "    <tr>\n",
              "      <th>3</th>\n",
              "      <td>0.000000e+00</td>\n",
              "      <td>0.238324</td>\n",
              "      <td>0.545315</td>\n",
              "      <td>0.216244</td>\n",
              "      <td>0.469836</td>\n",
              "      <td>0.300938</td>\n",
              "      <td>0.046486</td>\n",
              "      <td>0.212128</td>\n",
              "      <td>0.251039</td>\n",
              "      <td>0.391628</td>\n",
              "      <td>...</td>\n",
              "      <td>0.236483</td>\n",
              "      <td>0.329686</td>\n",
              "      <td>0.367512</td>\n",
              "      <td>0.204161</td>\n",
              "      <td>0.162650</td>\n",
              "      <td>0.234812</td>\n",
              "      <td>0.206663</td>\n",
              "      <td>0.184946</td>\n",
              "      <td>0.436846</td>\n",
              "      <td>0.393811</td>\n",
              "    </tr>\n",
              "    <tr>\n",
              "      <th>4</th>\n",
              "      <td>3.114342e-02</td>\n",
              "      <td>0.460248</td>\n",
              "      <td>0.000670</td>\n",
              "      <td>0.228479</td>\n",
              "      <td>0.464283</td>\n",
              "      <td>0.300577</td>\n",
              "      <td>0.045348</td>\n",
              "      <td>0.212277</td>\n",
              "      <td>0.250890</td>\n",
              "      <td>0.392299</td>\n",
              "      <td>...</td>\n",
              "      <td>0.236517</td>\n",
              "      <td>0.328604</td>\n",
              "      <td>0.367529</td>\n",
              "      <td>0.204128</td>\n",
              "      <td>0.162696</td>\n",
              "      <td>0.234831</td>\n",
              "      <td>0.206919</td>\n",
              "      <td>0.184032</td>\n",
              "      <td>0.436838</td>\n",
              "      <td>0.393797</td>\n",
              "    </tr>\n",
              "  </tbody>\n",
              "</table>\n",
              "<p>5 rows × 25 columns</p>\n",
              "</div>\n",
              "      <button class=\"colab-df-convert\" onclick=\"convertToInteractive('df-209d0925-9092-4029-bdc1-db83ed1bde43')\"\n",
              "              title=\"Convert this dataframe to an interactive table.\"\n",
              "              style=\"display:none;\">\n",
              "        \n",
              "  <svg xmlns=\"http://www.w3.org/2000/svg\" height=\"24px\"viewBox=\"0 0 24 24\"\n",
              "       width=\"24px\">\n",
              "    <path d=\"M0 0h24v24H0V0z\" fill=\"none\"/>\n",
              "    <path d=\"M18.56 5.44l.94 2.06.94-2.06 2.06-.94-2.06-.94-.94-2.06-.94 2.06-2.06.94zm-11 1L8.5 8.5l.94-2.06 2.06-.94-2.06-.94L8.5 2.5l-.94 2.06-2.06.94zm10 10l.94 2.06.94-2.06 2.06-.94-2.06-.94-.94-2.06-.94 2.06-2.06.94z\"/><path d=\"M17.41 7.96l-1.37-1.37c-.4-.4-.92-.59-1.43-.59-.52 0-1.04.2-1.43.59L10.3 9.45l-7.72 7.72c-.78.78-.78 2.05 0 2.83L4 21.41c.39.39.9.59 1.41.59.51 0 1.02-.2 1.41-.59l7.78-7.78 2.81-2.81c.8-.78.8-2.07 0-2.86zM5.41 20L4 18.59l7.72-7.72 1.47 1.35L5.41 20z\"/>\n",
              "  </svg>\n",
              "      </button>\n",
              "      \n",
              "  <style>\n",
              "    .colab-df-container {\n",
              "      display:flex;\n",
              "      flex-wrap:wrap;\n",
              "      gap: 12px;\n",
              "    }\n",
              "\n",
              "    .colab-df-convert {\n",
              "      background-color: #E8F0FE;\n",
              "      border: none;\n",
              "      border-radius: 50%;\n",
              "      cursor: pointer;\n",
              "      display: none;\n",
              "      fill: #1967D2;\n",
              "      height: 32px;\n",
              "      padding: 0 0 0 0;\n",
              "      width: 32px;\n",
              "    }\n",
              "\n",
              "    .colab-df-convert:hover {\n",
              "      background-color: #E2EBFA;\n",
              "      box-shadow: 0px 1px 2px rgba(60, 64, 67, 0.3), 0px 1px 3px 1px rgba(60, 64, 67, 0.15);\n",
              "      fill: #174EA6;\n",
              "    }\n",
              "\n",
              "    [theme=dark] .colab-df-convert {\n",
              "      background-color: #3B4455;\n",
              "      fill: #D2E3FC;\n",
              "    }\n",
              "\n",
              "    [theme=dark] .colab-df-convert:hover {\n",
              "      background-color: #434B5C;\n",
              "      box-shadow: 0px 1px 3px 1px rgba(0, 0, 0, 0.15);\n",
              "      filter: drop-shadow(0px 1px 2px rgba(0, 0, 0, 0.3));\n",
              "      fill: #FFFFFF;\n",
              "    }\n",
              "  </style>\n",
              "\n",
              "      <script>\n",
              "        const buttonEl =\n",
              "          document.querySelector('#df-209d0925-9092-4029-bdc1-db83ed1bde43 button.colab-df-convert');\n",
              "        buttonEl.style.display =\n",
              "          google.colab.kernel.accessAllowed ? 'block' : 'none';\n",
              "\n",
              "        async function convertToInteractive(key) {\n",
              "          const element = document.querySelector('#df-209d0925-9092-4029-bdc1-db83ed1bde43');\n",
              "          const dataTable =\n",
              "            await google.colab.kernel.invokeFunction('convertToInteractive',\n",
              "                                                     [key], {});\n",
              "          if (!dataTable) return;\n",
              "\n",
              "          const docLinkHtml = 'Like what you see? Visit the ' +\n",
              "            '<a target=\"_blank\" href=https://colab.research.google.com/notebooks/data_table.ipynb>data table notebook</a>'\n",
              "            + ' to learn more about interactive tables.';\n",
              "          element.innerHTML = '';\n",
              "          dataTable['output_type'] = 'display_data';\n",
              "          await google.colab.output.renderOutput(dataTable, element);\n",
              "          const docLink = document.createElement('div');\n",
              "          docLink.innerHTML = docLinkHtml;\n",
              "          element.appendChild(docLink);\n",
              "        }\n",
              "      </script>\n",
              "    </div>\n",
              "  </div>\n",
              "  "
            ]
          },
          "metadata": {},
          "execution_count": 24
        }
      ]
    },
    {
      "cell_type": "code",
      "source": [
        "test = df_oh[:int(split_len)]\n",
        "train = df_oh[int(split_len):]"
      ],
      "metadata": {
        "id": "2GcqVlZ5Tnrf"
      },
      "execution_count": null,
      "outputs": []
    },
    {
      "cell_type": "code",
      "source": [
        "x_train = train.values.reshape(train.shape[0], 1, train.shape[1])\n",
        "x_test = test.values.reshape(test.shape[0], 1,train.shape[1])\n",
        "\n",
        "x_out = x_out_oh.values.reshape(x_out_oh.shape[0], 1,x_out_oh.shape[1])\n",
        "\n",
        "#define the model\n",
        "\n",
        "def autoencoder_model(X):\n",
        "\n",
        "  inputs = Input(shape=(X.shape[1], X.shape[2]))\n",
        "  L1 = Bidirectional(LSTM(128, activation='relu', return_sequences=True,\n",
        "              kernel_regularizer=regularizers.l2(0.00)))(inputs)\n",
        "  L2 = Bidirectional(LSTM(64, activation='relu', return_sequences=False))(L1)\n",
        "  L3 = RepeatVector(X.shape[1])(L2)\n",
        "  L4 = Bidirectional(LSTM(64, activation='relu', return_sequences=True))(L3)\n",
        "  L5 = Bidirectional(LSTM(128, activation='relu', return_sequences=True))(L4)\n",
        "  output = TimeDistributed(Dense(X.shape[2]))(L5)\n",
        "  model = Model(inputs=inputs, outputs=output)\n",
        "  return model\n",
        "\n",
        "\n",
        "# create the autoencoder model\n",
        "model = autoencoder_model(x_train)\n",
        "model.compile(optimizer='adam', loss=['mse'],\n",
        "              metrics=['mae', 'acc', tf.keras.metrics.Recall(), tf.keras.metrics.Precision()])\n",
        "model.summary()\n",
        "\n",
        "nb_epochs = 10\n",
        "batch_size = 1000\n",
        "history = model.fit(x_train, x_train, epochs=nb_epochs, batch_size=batch_size,\n",
        "                    validation_split=0.15).history\n",
        "\n",
        "\n",
        "\n"
      ],
      "metadata": {
        "colab": {
          "base_uri": "https://localhost:8080/"
        },
        "id": "Nhjh-JoPy0CN",
        "outputId": "a7b69c92-9815-4d90-ffde-5d84481a91f1"
      },
      "execution_count": null,
      "outputs": [
        {
          "output_type": "stream",
          "name": "stderr",
          "text": [
            "WARNING:tensorflow:Layer lstm will not use cuDNN kernels since it doesn't meet the criteria. It will use a generic GPU kernel as fallback when running on GPU.\n",
            "WARNING:tensorflow:Layer lstm will not use cuDNN kernels since it doesn't meet the criteria. It will use a generic GPU kernel as fallback when running on GPU.\n",
            "WARNING:tensorflow:Layer lstm will not use cuDNN kernels since it doesn't meet the criteria. It will use a generic GPU kernel as fallback when running on GPU.\n",
            "WARNING:tensorflow:Layer lstm_1 will not use cuDNN kernels since it doesn't meet the criteria. It will use a generic GPU kernel as fallback when running on GPU.\n",
            "WARNING:tensorflow:Layer lstm_1 will not use cuDNN kernels since it doesn't meet the criteria. It will use a generic GPU kernel as fallback when running on GPU.\n",
            "WARNING:tensorflow:Layer lstm_1 will not use cuDNN kernels since it doesn't meet the criteria. It will use a generic GPU kernel as fallback when running on GPU.\n",
            "WARNING:tensorflow:Layer lstm_2 will not use cuDNN kernels since it doesn't meet the criteria. It will use a generic GPU kernel as fallback when running on GPU.\n",
            "WARNING:tensorflow:Layer lstm_2 will not use cuDNN kernels since it doesn't meet the criteria. It will use a generic GPU kernel as fallback when running on GPU.\n",
            "WARNING:tensorflow:Layer lstm_2 will not use cuDNN kernels since it doesn't meet the criteria. It will use a generic GPU kernel as fallback when running on GPU.\n",
            "WARNING:tensorflow:Layer lstm_3 will not use cuDNN kernels since it doesn't meet the criteria. It will use a generic GPU kernel as fallback when running on GPU.\n",
            "WARNING:tensorflow:Layer lstm_3 will not use cuDNN kernels since it doesn't meet the criteria. It will use a generic GPU kernel as fallback when running on GPU.\n",
            "WARNING:tensorflow:Layer lstm_3 will not use cuDNN kernels since it doesn't meet the criteria. It will use a generic GPU kernel as fallback when running on GPU.\n"
          ]
        },
        {
          "output_type": "stream",
          "name": "stdout",
          "text": [
            "Model: \"model\"\n",
            "_________________________________________________________________\n",
            " Layer (type)                Output Shape              Param #   \n",
            "=================================================================\n",
            " input_1 (InputLayer)        [(None, 1, 25)]           0         \n",
            "                                                                 \n",
            " bidirectional (Bidirectiona  (None, 1, 256)           157696    \n",
            " l)                                                              \n",
            "                                                                 \n",
            " bidirectional_1 (Bidirectio  (None, 128)              164352    \n",
            " nal)                                                            \n",
            "                                                                 \n",
            " repeat_vector (RepeatVector  (None, 1, 128)           0         \n",
            " )                                                               \n",
            "                                                                 \n",
            " bidirectional_2 (Bidirectio  (None, 1, 128)           98816     \n",
            " nal)                                                            \n",
            "                                                                 \n",
            " bidirectional_3 (Bidirectio  (None, 1, 256)           263168    \n",
            " nal)                                                            \n",
            "                                                                 \n",
            " time_distributed (TimeDistr  (None, 1, 25)            6425      \n",
            " ibuted)                                                         \n",
            "                                                                 \n",
            "=================================================================\n",
            "Total params: 690,457\n",
            "Trainable params: 690,457\n",
            "Non-trainable params: 0\n",
            "_________________________________________________________________\n",
            "Epoch 1/10\n",
            "608/608 [==============================] - 35s 30ms/step - loss: 0.0077 - mae: 0.0296 - acc: 0.5061 - recall: 0.0237 - precision: 1.0000 - val_loss: 7.5064e-04 - val_mae: 0.0046 - val_acc: 0.9715 - val_recall: 0.0380 - val_precision: 0.9998\n",
            "Epoch 2/10\n",
            "608/608 [==============================] - 17s 27ms/step - loss: 1.2719e-04 - mae: 0.0021 - acc: 0.9788 - recall: 0.0389 - precision: 1.0000 - val_loss: 4.9001e-04 - val_mae: 0.0039 - val_acc: 0.9809 - val_recall: 0.0382 - val_precision: 1.0000\n",
            "Epoch 3/10\n",
            "608/608 [==============================] - 18s 30ms/step - loss: 5.9385e-05 - mae: 0.0019 - acc: 0.9766 - recall: 0.0400 - precision: 1.0000 - val_loss: 4.8757e-04 - val_mae: 0.0035 - val_acc: 0.9425 - val_recall: 0.0386 - val_precision: 0.9999\n",
            "Epoch 4/10\n",
            "608/608 [==============================] - 16s 27ms/step - loss: 2.8654e-05 - mae: 0.0015 - acc: 0.9769 - recall: 0.0394 - precision: 1.0000 - val_loss: 4.7615e-04 - val_mae: 0.0034 - val_acc: 0.9897 - val_recall: 0.0390 - val_precision: 0.9999\n",
            "Epoch 5/10\n",
            "608/608 [==============================] - 16s 27ms/step - loss: 1.9486e-05 - mae: 0.0010 - acc: 0.9788 - recall: 0.0384 - precision: 1.0000 - val_loss: 4.8222e-04 - val_mae: 0.0024 - val_acc: 0.9900 - val_recall: 0.0384 - val_precision: 1.0000\n",
            "Epoch 6/10\n",
            "608/608 [==============================] - 16s 27ms/step - loss: 1.7002e-05 - mae: 0.0011 - acc: 0.9790 - recall: 0.0391 - precision: 1.0000 - val_loss: 4.9404e-04 - val_mae: 0.0024 - val_acc: 0.9429 - val_recall: 0.0394 - val_precision: 1.0000\n",
            "Epoch 7/10\n",
            "608/608 [==============================] - 17s 28ms/step - loss: 1.3127e-05 - mae: 0.0011 - acc: 0.9780 - recall: 0.0390 - precision: 1.0000 - val_loss: 5.4660e-04 - val_mae: 0.0031 - val_acc: 0.9380 - val_recall: 0.0399 - val_precision: 1.0000\n",
            "Epoch 8/10\n",
            "608/608 [==============================] - 16s 27ms/step - loss: 9.0287e-06 - mae: 0.0011 - acc: 0.9785 - recall: 0.0387 - precision: 1.0000 - val_loss: 5.6533e-04 - val_mae: 0.0020 - val_acc: 0.9904 - val_recall: 0.0390 - val_precision: 1.0000\n",
            "Epoch 9/10\n",
            "608/608 [==============================] - 16s 27ms/step - loss: 5.4896e-06 - mae: 0.0011 - acc: 0.9787 - recall: 0.0392 - precision: 1.0000 - val_loss: 5.7161e-04 - val_mae: 0.0021 - val_acc: 0.9433 - val_recall: 0.0387 - val_precision: 1.0000\n",
            "Epoch 10/10\n",
            "608/608 [==============================] - 16s 27ms/step - loss: 3.9490e-06 - mae: 9.3994e-04 - acc: 0.9785 - recall: 0.0388 - precision: 1.0000 - val_loss: 5.9146e-04 - val_mae: 0.0023 - val_acc: 0.9434 - val_recall: 0.0385 - val_precision: 1.0000\n"
          ]
        }
      ]
    },
    {
      "cell_type": "code",
      "source": [
        "# plot the loss distribution of the training set\n",
        "X_pred = model.predict(x_train)\n",
        "X_pred = X_pred.reshape(X_pred.shape[0], X_pred.shape[2])\n",
        "X_pred = pd.DataFrame(X_pred, columns=train.columns)\n",
        "X_pred.index = train.index\n",
        "\n",
        "scored = pd.DataFrame(index=train.index)\n",
        "Xtrain = x_train.reshape(x_train.shape[0], x_train.shape[2])\n",
        "scored['Loss_mse'] = np.mean(np.abs(X_pred-Xtrain), axis = 1)\n",
        "plt.figure(figsize=(16,9), dpi=80)\n",
        "plt.title('Loss Distribution', fontsize=16)\n",
        "sns.distplot(scored['Loss_mse'], bins = 20, kde= True, color = 'blue');\n",
        "plt.xlim([0.0,.5])"
      ],
      "metadata": {
        "colab": {
          "base_uri": "https://localhost:8080/"
        },
        "id": "dALP6UYCy03S",
        "outputId": "7e694b9a-8d3c-48a7-f937-15bd392994a4"
      },
      "execution_count": null,
      "outputs": [
        {
          "output_type": "stream",
          "name": "stdout",
          "text": [
            "22335/22335 [==============================] - 75s 3ms/step\n"
          ]
        },
        {
          "output_type": "stream",
          "name": "stderr",
          "text": [
            "<ipython-input-9-75a6f4c073f7>:12: UserWarning: \n",
            "\n",
            "`distplot` is a deprecated function and will be removed in seaborn v0.14.0.\n",
            "\n",
            "Please adapt your code to use either `displot` (a figure-level function with\n",
            "similar flexibility) or `histplot` (an axes-level function for histograms).\n",
            "\n",
            "For a guide to updating your code to use the new functions, please see\n",
            "https://gist.github.com/mwaskom/de44147ed2974457ad6372750bbe5751\n",
            "\n",
            "  sns.distplot(scored['Loss_mse'], bins = 20, kde= True, color = 'blue');\n"
          ]
        },
        {
          "output_type": "execute_result",
          "data": {
            "text/plain": [
              "(0.0, 0.5)"
            ]
          },
          "metadata": {},
          "execution_count": 9
        },
        {
          "output_type": "display_data",
          "data": {
            "text/plain": [
              "<Figure size 1280x720 with 1 Axes>"
            ],
            "image/png": "[encoded data removed]"
          },
          "metadata": {}
        }
      ]
    },
    {
      "cell_type": "code",
      "source": [
        "# calculate the loss on the test set\n",
        "X_pred = model.predict(x_out)\n",
        "X_pred = X_pred.reshape(X_pred.shape[0], X_pred.shape[2])\n",
        "X_pred = pd.DataFrame(X_pred, columns=x_out_oh.columns)\n",
        "X_pred.index = x_out_oh.index\n",
        "\n",
        "scored = pd.DataFrame(index=x_out_oh.index)\n",
        "Xtest = x_out.reshape(x_out_oh.shape[0], x_out.shape[2])\n",
        "scored['Loss_mae'] = np.mean(np.abs(X_pred-Xtest), axis = 1)\n",
        "scored['Threshold'] = 0.07\n",
        "scored['Anomaly'] = np.where(scored['Loss_mae'] > scored['Threshold'], -1, 1)\n",
        "scored.head()\n",
        "test_pred = scored.Anomaly\n",
        "\n",
        "from sklearn.metrics import classification_report\n",
        "print(classification_report(true_labels, test_pred))"
      ],
      "metadata": {
        "colab": {
          "base_uri": "https://localhost:8080/"
        },
        "id": "HR1DIwZ6zDyg",
        "outputId": "eb3b3355-abc4-4615-f972-eb9867e43070"
      },
      "execution_count": null,
      "outputs": [
        {
          "output_type": "stream",
          "name": "stdout",
          "text": [
            "3188/3188 [==============================] - 11s 3ms/step\n",
            "              precision    recall  f1-score   support\n",
            "\n",
            "          -1       1.00      0.54      0.70      3737\n",
            "           1       0.98      1.00      0.99     98263\n",
            "\n",
            "    accuracy                           0.98    102000\n",
            "   macro avg       0.99      0.77      0.84    102000\n",
            "weighted avg       0.98      0.98      0.98    102000\n",
            "\n"
          ]
        }
      ]
    },
    {
      "cell_type": "code",
      "source": [
        "from pyod.models.copod import COPOD\n",
        "if __name__ == \"__main__\":\n",
        "\n",
        "    # train COPOD detector\n",
        "    clf_name = 'COPOD'\n",
        "    clf = COPOD(contamination=0.04)\n",
        "\n",
        "    # you could try parallel version as well.\n",
        "    # clf = COPOD(n_jobs=2)\n",
        "    clf.fit(train)\n",
        "    pred_test = clf.predict(x_out_oh)\n",
        "\n",
        "if (pred_test == 1).any():\n",
        "    pred_test[pred_test == 1] = -1\n",
        "\n",
        "if (pred_test == 0).any():\n",
        "    pred_test[pred_test == 0] = 1\n",
        "\n",
        "Counter(pred_test)\n",
        "\n",
        "from sklearn.metrics import classification_report\n",
        "print(classification_report(true_labels, pred_test))"
      ],
      "metadata": {
        "colab": {
          "base_uri": "https://localhost:8080/"
        },
        "id": "MM2lBdr29eco",
        "outputId": "ebfcce02-4200-4978-b648-0d93c430c1ea"
      },
      "execution_count": null,
      "outputs": [
        {
          "output_type": "stream",
          "name": "stdout",
          "text": [
            "              precision    recall  f1-score   support\n",
            "\n",
            "          -1       0.41      1.00      0.58      3737\n",
            "           1       1.00      0.95      0.97     98263\n",
            "\n",
            "    accuracy                           0.95    102000\n",
            "   macro avg       0.70      0.97      0.78    102000\n",
            "weighted avg       0.98      0.95      0.96    102000\n",
            "\n"
          ]
        }
      ]
    },
    {
      "cell_type": "code",
      "source": [
        "Counter(pred_test)"
      ],
      "metadata": {
        "colab": {
          "base_uri": "https://localhost:8080/"
        },
        "id": "2pV5-A0PAN6X",
        "outputId": "237a152c-99aa-45b5-c18e-aa4c23d313c8"
      },
      "execution_count": null,
      "outputs": [
        {
          "output_type": "execute_result",
          "data": {
            "text/plain": [
              "Counter({1: 97031, -1: 4969})"
            ]
          },
          "metadata": {},
          "execution_count": 29
        }
      ]
    },
    {
      "cell_type": "code",
      "source": [
        "from pyod.models.ecod import ECOD\n",
        "if __name__ == \"__main__\":\n",
        "\n",
        "    # train COPOD detector\n",
        "    clf_name = 'ECOD'\n",
        "    clf = ECOD(contamination=0.020)\n",
        "\n",
        "    # you could try parallel version as well.\n",
        "    # clf = COPOD(n_jobs=2)\n",
        "    clf.fit(train)\n",
        "    pred_test = clf.predict(x_out_oh)\n",
        "\n",
        "if (pred_test == 1).any():\n",
        "    pred_test[pred_test == 1] = -1\n",
        "\n",
        "if (pred_test == 0).any():\n",
        "    pred_test[pred_test == 0] = 1\n",
        "\n",
        "Counter(pred_test)\n",
        "\n",
        "from sklearn.metrics import classification_report\n",
        "print(classification_report(true_labels, pred_test))"
      ],
      "metadata": {
        "colab": {
          "base_uri": "https://localhost:8080/"
        },
        "id": "zHNPAGv69fB1",
        "outputId": "d7ba0e25-3c18-49c1-d7c7-c7d17c9eb8f9"
      },
      "execution_count": null,
      "outputs": [
        {
          "output_type": "stream",
          "name": "stdout",
          "text": [
            "              precision    recall  f1-score   support\n",
            "\n",
            "          -1       0.58      1.00      0.74      3737\n",
            "           1       1.00      0.97      0.99     98263\n",
            "\n",
            "    accuracy                           0.97    102000\n",
            "   macro avg       0.79      0.99      0.86    102000\n",
            "weighted avg       0.98      0.97      0.98    102000\n",
            "\n"
          ]
        }
      ]
    },
    {
      "cell_type": "code",
      "source": [
        "Counter(pred_test)"
      ],
      "metadata": {
        "colab": {
          "base_uri": "https://localhost:8080/"
        },
        "id": "7V3WfYK-AUx7",
        "outputId": "2e5adb5f-fae1-45c1-bc78-d73f836d14d1"
      },
      "execution_count": null,
      "outputs": [
        {
          "output_type": "execute_result",
          "data": {
            "text/plain": [
              "Counter({1: 95597, -1: 6403})"
            ]
          },
          "metadata": {},
          "execution_count": 34
        }
      ]
    },
    {
      "cell_type": "code",
      "source": [
        "clf = IsolationForest(n_estimators=200, contamination = 0.045)"
      ],
      "metadata": {
        "id": "sVXayPvwTpcg"
      },
      "execution_count": null,
      "outputs": []
    },
    {
      "cell_type": "code",
      "source": [
        "clf_if_cv = clf.fit(train)"
      ],
      "metadata": {
        "id": "zBSwzleQTuNt"
      },
      "execution_count": null,
      "outputs": []
    },
    {
      "cell_type": "code",
      "source": [
        "from joblib import dump, load\n",
        "\n",
        "# save the model\n",
        "dump(clf_if_cv,'/content/drive/MyDrive/thesis/models/iforest/clf_if_oh_pca.joblib')"
      ],
      "metadata": {
        "colab": {
          "base_uri": "https://localhost:8080/"
        },
        "id": "5TaM4LCwTxBp",
        "outputId": "3ebba1cc-7d28-4ed7-c5c2-63a7702b4ae9"
      },
      "execution_count": null,
      "outputs": [
        {
          "output_type": "execute_result",
          "data": {
            "text/plain": [
              "['/content/drive/MyDrive/thesis/models/iforest/clf_if_oh_pca.joblib']"
            ]
          },
          "metadata": {},
          "execution_count": 119
        }
      ]
    },
    {
      "cell_type": "code",
      "source": [
        "from joblib import dump, load\n",
        "clf_if_cv = load('/content/drive/MyDrive/thesis/models/iforest/clf_if_oh_pca.joblib')"
      ],
      "metadata": {
        "id": "KrHiZFRtTz5x"
      },
      "execution_count": null,
      "outputs": []
    },
    {
      "cell_type": "code",
      "source": [
        "pred_test = clf_if_cv.predict(x_out_oh)"
      ],
      "metadata": {
        "id": "EHS1n2ZCT5S0"
      },
      "execution_count": null,
      "outputs": []
    },
    {
      "cell_type": "code",
      "source": [
        "Counter(pred_test)"
      ],
      "metadata": {
        "colab": {
          "base_uri": "https://localhost:8080/"
        },
        "id": "jYozD8QkT7_f",
        "outputId": "15d154d1-58ea-47d5-b512-c165205ca70e"
      },
      "execution_count": null,
      "outputs": [
        {
          "output_type": "execute_result",
          "data": {
            "text/plain": [
              "Counter({1: 95642, -1: 6358})"
            ]
          },
          "metadata": {},
          "execution_count": 122
        }
      ]
    },
    {
      "cell_type": "code",
      "source": [
        "true_labels = df_outlier.label"
      ],
      "metadata": {
        "id": "tjt3JiLQT-e4"
      },
      "execution_count": null,
      "outputs": []
    },
    {
      "cell_type": "code",
      "source": [
        "df_validate['label'] = pred_test"
      ],
      "metadata": {
        "id": "OiVC-WjZUAnp"
      },
      "execution_count": null,
      "outputs": []
    },
    {
      "cell_type": "code",
      "source": [
        "df_validate[df_validate['label'] == -1].to_csv('/content/drive/MyDrive/thesis/models/iforest/oh_results_pca_val.csv', index=False)"
      ],
      "metadata": {
        "id": "TpfTbuSDUCw6"
      },
      "execution_count": null,
      "outputs": []
    },
    {
      "cell_type": "code",
      "source": [
        "from sklearn.metrics import classification_report\n",
        "print(classification_report(true_labels, pred_test))"
      ],
      "metadata": {
        "colab": {
          "base_uri": "https://localhost:8080/"
        },
        "id": "TuRJ2ZEkUJDR",
        "outputId": "6a1b1667-7456-4585-c02b-0b83e93a538d"
      },
      "execution_count": null,
      "outputs": [
        {
          "output_type": "stream",
          "name": "stdout",
          "text": [
            "              precision    recall  f1-score   support\n",
            "\n",
            "          -1       0.59      1.00      0.74      3737\n",
            "           1       1.00      0.97      0.99     98263\n",
            "\n",
            "    accuracy                           0.97    102000\n",
            "   macro avg       0.79      0.99      0.86    102000\n",
            "weighted avg       0.98      0.97      0.98    102000\n",
            "\n"
          ]
        }
      ]
    },
    {
      "cell_type": "code",
      "source": [
        "from sklearn.metrics import accuracy_score, precision_score, recall_score, f1_score\n",
        "\n",
        "# Assuming you have the true labels for the dataset in 'true_labels' and the LOF predictions in 'lof_predictions'\n",
        "\n",
        "# Convert LOF scores to binary labels based on a threshold (e.g., outliers with scores above the threshold are considered anomalies)\n",
        "\n",
        "# Calculate accuracy\n",
        "accuracy = accuracy_score(true_labels, pred_test)\n",
        "print(\"Accuracy:\", accuracy)\n",
        "\n",
        "# Calculate precision\n",
        "precision = precision_score(true_labels, pred_test)\n",
        "print(\"Precision:\", precision)\n",
        "\n",
        "# Calculate recall\n",
        "recall = recall_score(true_labels, pred_test)\n",
        "print(\"Recall:\", recall)\n",
        "\n",
        "# Calculate F1 score\n",
        "f1 = f1_score(true_labels, pred_test)\n",
        "print(\"F1 Score:\", f1)"
      ],
      "metadata": {
        "colab": {
          "base_uri": "https://localhost:8080/"
        },
        "id": "B9F21qHTUJnA",
        "outputId": "c2178b60-dc5c-4a93-f6e1-ee96c832a0dc"
      },
      "execution_count": null,
      "outputs": [
        {
          "output_type": "stream",
          "name": "stdout",
          "text": [
            "Accuracy: 0.9743039215686274\n",
            "Precision: 1.0\n",
            "Recall: 0.9733266845099376\n",
            "F1 Score: 0.9864830716072303\n"
          ]
        }
      ]
    },
    {
      "cell_type": "code",
      "source": [],
      "metadata": {
        "id": "Lj8cnvksUpER"
      },
      "execution_count": null,
      "outputs": []
    },
    {
      "cell_type": "code",
      "source": [],
      "metadata": {
        "id": "9MDwXzViVaGS"
      },
      "execution_count": null,
      "outputs": []
    },
    {
      "cell_type": "markdown",
      "source": [
        "oh+ae"
      ],
      "metadata": {
        "id": "bO-Rr9tnVaVp"
      }
    },
    {
      "cell_type": "code",
      "source": [
        "df_oh = pd.read_csv('/content/drive/MyDrive/thesis/train/reduce_ae_oh_data.csv', sep=',')\n",
        "x_out_oh = pd.read_csv('/content/drive/MyDrive/thesis/val/val-reduce_ae_oh_data.csv', sep=',')"
      ],
      "metadata": {
        "id": "x_nL2p2cVbn8"
      },
      "execution_count": null,
      "outputs": []
    },
    {
      "cell_type": "code",
      "source": [
        "df_oh.head(5)"
      ],
      "metadata": {
        "colab": {
          "base_uri": "https://localhost:8080/",
          "height": 236
        },
        "id": "mxYc_p6nWpYQ",
        "outputId": "fe876dcb-2584-4d7a-aadf-b24a8d7a956a"
      },
      "execution_count": null,
      "outputs": [
        {
          "output_type": "execute_result",
          "data": {
            "text/plain": [
              "     0    1         2         3         4         5    6         7        8  \\\n",
              "0  0.0  0.0  0.793297  0.870673  0.000000  0.269481  1.0  0.000000  0.00000   \n",
              "1  0.0  0.0  0.793297  0.870673  0.000000  0.269481  1.0  0.000000  0.00000   \n",
              "2  0.0  0.0  0.793297  0.870673  0.000000  0.269481  1.0  0.000000  0.00000   \n",
              "3  0.0  0.0  0.793297  0.870673  0.000000  0.269481  1.0  0.000000  0.00000   \n",
              "4  0.0  0.0  0.966923  0.971163  0.603218  0.000000  0.0  0.344905  0.41562   \n",
              "\n",
              "          9  ...   22        23        24   25        26   27       28  \\\n",
              "0  0.288325  ...  0.0  0.341931  0.785103  0.0  0.000000  0.0  0.00000   \n",
              "1  0.288325  ...  0.0  0.341931  0.785103  0.0  0.000000  0.0  0.00000   \n",
              "2  0.288325  ...  0.0  0.341931  0.785103  0.0  0.000000  0.0  0.00000   \n",
              "3  0.288325  ...  0.0  0.341931  0.785103  0.0  0.000000  0.0  0.00000   \n",
              "4  0.197291  ...  0.0  0.976638  0.972849  0.0  0.712611  0.0  0.22213   \n",
              "\n",
              "         29        30        31  \n",
              "0  0.845033  0.446104  0.000000  \n",
              "1  0.845033  0.446104  0.000000  \n",
              "2  0.845033  0.446104  0.000000  \n",
              "3  0.845033  0.446104  0.000000  \n",
              "4  0.965408  0.984466  0.649624  \n",
              "\n",
              "[5 rows x 32 columns]"
            ],
            "text/html": [
              "\n",
              "  <div id=\"df-d1c30dec-d388-48a6-97c9-f30528f08067\">\n",
              "    <div class=\"colab-df-container\">\n",
              "      <div>\n",
              "<style scoped>\n",
              "    .dataframe tbody tr th:only-of-type {\n",
              "        vertical-align: middle;\n",
              "    }\n",
              "\n",
              "    .dataframe tbody tr th {\n",
              "        vertical-align: top;\n",
              "    }\n",
              "\n",
              "    .dataframe thead th {\n",
              "        text-align: right;\n",
              "    }\n",
              "</style>\n",
              "<table border=\"1\" class=\"dataframe\">\n",
              "  <thead>\n",
              "    <tr style=\"text-align: right;\">\n",
              "      <th></th>\n",
              "      <th>0</th>\n",
              "      <th>1</th>\n",
              "      <th>2</th>\n",
              "      <th>3</th>\n",
              "      <th>4</th>\n",
              "      <th>5</th>\n",
              "      <th>6</th>\n",
              "      <th>7</th>\n",
              "      <th>8</th>\n",
              "      <th>9</th>\n",
              "      <th>...</th>\n",
              "      <th>22</th>\n",
              "      <th>23</th>\n",
              "      <th>24</th>\n",
              "      <th>25</th>\n",
              "      <th>26</th>\n",
              "      <th>27</th>\n",
              "      <th>28</th>\n",
              "      <th>29</th>\n",
              "      <th>30</th>\n",
              "      <th>31</th>\n",
              "    </tr>\n",
              "  </thead>\n",
              "  <tbody>\n",
              "    <tr>\n",
              "      <th>0</th>\n",
              "      <td>0.0</td>\n",
              "      <td>0.0</td>\n",
              "      <td>0.793297</td>\n",
              "      <td>0.870673</td>\n",
              "      <td>0.000000</td>\n",
              "      <td>0.269481</td>\n",
              "      <td>1.0</td>\n",
              "      <td>0.000000</td>\n",
              "      <td>0.00000</td>\n",
              "      <td>0.288325</td>\n",
              "      <td>...</td>\n",
              "      <td>0.0</td>\n",
              "      <td>0.341931</td>\n",
              "      <td>0.785103</td>\n",
              "      <td>0.0</td>\n",
              "      <td>0.000000</td>\n",
              "      <td>0.0</td>\n",
              "      <td>0.00000</td>\n",
              "      <td>0.845033</td>\n",
              "      <td>0.446104</td>\n",
              "      <td>0.000000</td>\n",
              "    </tr>\n",
              "    <tr>\n",
              "      <th>1</th>\n",
              "      <td>0.0</td>\n",
              "      <td>0.0</td>\n",
              "      <td>0.793297</td>\n",
              "      <td>0.870673</td>\n",
              "      <td>0.000000</td>\n",
              "      <td>0.269481</td>\n",
              "      <td>1.0</td>\n",
              "      <td>0.000000</td>\n",
              "      <td>0.00000</td>\n",
              "      <td>0.288325</td>\n",
              "      <td>...</td>\n",
              "      <td>0.0</td>\n",
              "      <td>0.341931</td>\n",
              "      <td>0.785103</td>\n",
              "      <td>0.0</td>\n",
              "      <td>0.000000</td>\n",
              "      <td>0.0</td>\n",
              "      <td>0.00000</td>\n",
              "      <td>0.845033</td>\n",
              "      <td>0.446104</td>\n",
              "      <td>0.000000</td>\n",
              "    </tr>\n",
              "    <tr>\n",
              "      <th>2</th>\n",
              "      <td>0.0</td>\n",
              "      <td>0.0</td>\n",
              "      <td>0.793297</td>\n",
              "      <td>0.870673</td>\n",
              "      <td>0.000000</td>\n",
              "      <td>0.269481</td>\n",
              "      <td>1.0</td>\n",
              "      <td>0.000000</td>\n",
              "      <td>0.00000</td>\n",
              "      <td>0.288325</td>\n",
              "      <td>...</td>\n",
              "      <td>0.0</td>\n",
              "      <td>0.341931</td>\n",
              "      <td>0.785103</td>\n",
              "      <td>0.0</td>\n",
              "      <td>0.000000</td>\n",
              "      <td>0.0</td>\n",
              "      <td>0.00000</td>\n",
              "      <td>0.845033</td>\n",
              "      <td>0.446104</td>\n",
              "      <td>0.000000</td>\n",
              "    </tr>\n",
              "    <tr>\n",
              "      <th>3</th>\n",
              "      <td>0.0</td>\n",
              "      <td>0.0</td>\n",
              "      <td>0.793297</td>\n",
              "      <td>0.870673</td>\n",
              "      <td>0.000000</td>\n",
              "      <td>0.269481</td>\n",
              "      <td>1.0</td>\n",
              "      <td>0.000000</td>\n",
              "      <td>0.00000</td>\n",
              "      <td>0.288325</td>\n",
              "      <td>...</td>\n",
              "      <td>0.0</td>\n",
              "      <td>0.341931</td>\n",
              "      <td>0.785103</td>\n",
              "      <td>0.0</td>\n",
              "      <td>0.000000</td>\n",
              "      <td>0.0</td>\n",
              "      <td>0.00000</td>\n",
              "      <td>0.845033</td>\n",
              "      <td>0.446104</td>\n",
              "      <td>0.000000</td>\n",
              "    </tr>\n",
              "    <tr>\n",
              "      <th>4</th>\n",
              "      <td>0.0</td>\n",
              "      <td>0.0</td>\n",
              "      <td>0.966923</td>\n",
              "      <td>0.971163</td>\n",
              "      <td>0.603218</td>\n",
              "      <td>0.000000</td>\n",
              "      <td>0.0</td>\n",
              "      <td>0.344905</td>\n",
              "      <td>0.41562</td>\n",
              "      <td>0.197291</td>\n",
              "      <td>...</td>\n",
              "      <td>0.0</td>\n",
              "      <td>0.976638</td>\n",
              "      <td>0.972849</td>\n",
              "      <td>0.0</td>\n",
              "      <td>0.712611</td>\n",
              "      <td>0.0</td>\n",
              "      <td>0.22213</td>\n",
              "      <td>0.965408</td>\n",
              "      <td>0.984466</td>\n",
              "      <td>0.649624</td>\n",
              "    </tr>\n",
              "  </tbody>\n",
              "</table>\n",
              "<p>5 rows × 32 columns</p>\n",
              "</div>\n",
              "      <button class=\"colab-df-convert\" onclick=\"convertToInteractive('df-d1c30dec-d388-48a6-97c9-f30528f08067')\"\n",
              "              title=\"Convert this dataframe to an interactive table.\"\n",
              "              style=\"display:none;\">\n",
              "        \n",
              "  <svg xmlns=\"http://www.w3.org/2000/svg\" height=\"24px\"viewBox=\"0 0 24 24\"\n",
              "       width=\"24px\">\n",
              "    <path d=\"M0 0h24v24H0V0z\" fill=\"none\"/>\n",
              "    <path d=\"M18.56 5.44l.94 2.06.94-2.06 2.06-.94-2.06-.94-.94-2.06-.94 2.06-2.06.94zm-11 1L8.5 8.5l.94-2.06 2.06-.94-2.06-.94L8.5 2.5l-.94 2.06-2.06.94zm10 10l.94 2.06.94-2.06 2.06-.94-2.06-.94-.94-2.06-.94 2.06-2.06.94z\"/><path d=\"M17.41 7.96l-1.37-1.37c-.4-.4-.92-.59-1.43-.59-.52 0-1.04.2-1.43.59L10.3 9.45l-7.72 7.72c-.78.78-.78 2.05 0 2.83L4 21.41c.39.39.9.59 1.41.59.51 0 1.02-.2 1.41-.59l7.78-7.78 2.81-2.81c.8-.78.8-2.07 0-2.86zM5.41 20L4 18.59l7.72-7.72 1.47 1.35L5.41 20z\"/>\n",
              "  </svg>\n",
              "      </button>\n",
              "      \n",
              "  <style>\n",
              "    .colab-df-container {\n",
              "      display:flex;\n",
              "      flex-wrap:wrap;\n",
              "      gap: 12px;\n",
              "    }\n",
              "\n",
              "    .colab-df-convert {\n",
              "      background-color: #E8F0FE;\n",
              "      border: none;\n",
              "      border-radius: 50%;\n",
              "      cursor: pointer;\n",
              "      display: none;\n",
              "      fill: #1967D2;\n",
              "      height: 32px;\n",
              "      padding: 0 0 0 0;\n",
              "      width: 32px;\n",
              "    }\n",
              "\n",
              "    .colab-df-convert:hover {\n",
              "      background-color: #E2EBFA;\n",
              "      box-shadow: 0px 1px 2px rgba(60, 64, 67, 0.3), 0px 1px 3px 1px rgba(60, 64, 67, 0.15);\n",
              "      fill: #174EA6;\n",
              "    }\n",
              "\n",
              "    [theme=dark] .colab-df-convert {\n",
              "      background-color: #3B4455;\n",
              "      fill: #D2E3FC;\n",
              "    }\n",
              "\n",
              "    [theme=dark] .colab-df-convert:hover {\n",
              "      background-color: #434B5C;\n",
              "      box-shadow: 0px 1px 3px 1px rgba(0, 0, 0, 0.15);\n",
              "      filter: drop-shadow(0px 1px 2px rgba(0, 0, 0, 0.3));\n",
              "      fill: #FFFFFF;\n",
              "    }\n",
              "  </style>\n",
              "\n",
              "      <script>\n",
              "        const buttonEl =\n",
              "          document.querySelector('#df-d1c30dec-d388-48a6-97c9-f30528f08067 button.colab-df-convert');\n",
              "        buttonEl.style.display =\n",
              "          google.colab.kernel.accessAllowed ? 'block' : 'none';\n",
              "\n",
              "        async function convertToInteractive(key) {\n",
              "          const element = document.querySelector('#df-d1c30dec-d388-48a6-97c9-f30528f08067');\n",
              "          const dataTable =\n",
              "            await google.colab.kernel.invokeFunction('convertToInteractive',\n",
              "                                                     [key], {});\n",
              "          if (!dataTable) return;\n",
              "\n",
              "          const docLinkHtml = 'Like what you see? Visit the ' +\n",
              "            '<a target=\"_blank\" href=https://colab.research.google.com/notebooks/data_table.ipynb>data table notebook</a>'\n",
              "            + ' to learn more about interactive tables.';\n",
              "          element.innerHTML = '';\n",
              "          dataTable['output_type'] = 'display_data';\n",
              "          await google.colab.output.renderOutput(dataTable, element);\n",
              "          const docLink = document.createElement('div');\n",
              "          docLink.innerHTML = docLinkHtml;\n",
              "          element.appendChild(docLink);\n",
              "        }\n",
              "      </script>\n",
              "    </div>\n",
              "  </div>\n",
              "  "
            ]
          },
          "metadata": {},
          "execution_count": 53
        }
      ]
    },
    {
      "cell_type": "code",
      "source": [
        "df_oh.columns"
      ],
      "metadata": {
        "colab": {
          "base_uri": "https://localhost:8080/"
        },
        "id": "lJy9afKBW7Z4",
        "outputId": "b8fe68bc-368b-48e6-8306-c8d3a49992e0"
      },
      "execution_count": null,
      "outputs": [
        {
          "output_type": "execute_result",
          "data": {
            "text/plain": [
              "Index(['0', '1', '2', '3', '4', '5', '6', '7', '8', '9', '10', '11', '12',\n",
              "       '13', '14', '15', '16', '17', '18', '19', '20', '21', '22', '23', '24',\n",
              "       '25', '26', '27', '28', '29', '30', '31'],\n",
              "      dtype='object')"
            ]
          },
          "metadata": {},
          "execution_count": 54
        }
      ]
    },
    {
      "cell_type": "code",
      "source": [
        "column_name = ['0', '1', '2', '3', '4', '5', '6', '7', '8', '9', '10', '11', '12',\n",
        "       '13', '14', '15', '16', '17', '18', '19', '20', '21', '22', '23', '24',\n",
        "       '25', '26', '27', '28', '29', '30', '31']"
      ],
      "metadata": {
        "id": "j-x4uq-oW_mH"
      },
      "execution_count": null,
      "outputs": []
    },
    {
      "cell_type": "code",
      "source": [
        "x_out_oh.columns"
      ],
      "metadata": {
        "colab": {
          "base_uri": "https://localhost:8080/"
        },
        "id": "wleCqtf7cA7E",
        "outputId": "a8b59c50-2bb3-4437-cb67-60333a97f5bd"
      },
      "execution_count": null,
      "outputs": [
        {
          "output_type": "execute_result",
          "data": {
            "text/plain": [
              "Index(['0', '1', '2', '3', '4', '5', '6', '7', '8', '9', '10', '11', '12',\n",
              "       '13', '14', '15', '16', '17', '18', '19', '20', '21', '22', '23', '24',\n",
              "       '25', '26', '27', '28', '29', '30', '31'],\n",
              "      dtype='object')"
            ]
          },
          "metadata": {},
          "execution_count": 56
        }
      ]
    },
    {
      "cell_type": "code",
      "source": [
        "x_out_oh.columns = column_name"
      ],
      "metadata": {
        "id": "TLrkAwbjXBx8"
      },
      "execution_count": null,
      "outputs": []
    },
    {
      "cell_type": "code",
      "source": [
        "x_out_oh.head(5)"
      ],
      "metadata": {
        "colab": {
          "base_uri": "https://localhost:8080/",
          "height": 236
        },
        "id": "5JNMRim7WsXJ",
        "outputId": "cc81ff85-0080-40ff-b898-b8088e4f99e6"
      },
      "execution_count": null,
      "outputs": [
        {
          "output_type": "execute_result",
          "data": {
            "text/plain": [
              "     0    1         2         3         4         5    6         7        8  \\\n",
              "0  0.0  0.0  0.793297  0.870673  0.000000  0.269481  1.0  0.000000  0.00000   \n",
              "1  0.0  0.0  0.793297  0.870673  0.000000  0.269481  1.0  0.000000  0.00000   \n",
              "2  0.0  0.0  0.793297  0.870673  0.000000  0.269481  1.0  0.000000  0.00000   \n",
              "3  0.0  0.0  0.793297  0.870673  0.000000  0.269481  1.0  0.000000  0.00000   \n",
              "4  0.0  0.0  0.966923  0.971163  0.603218  0.000000  0.0  0.344905  0.41562   \n",
              "\n",
              "          9  ...   22        23        24   25        26   27       28  \\\n",
              "0  0.288325  ...  0.0  0.341931  0.785103  0.0  0.000000  0.0  0.00000   \n",
              "1  0.288325  ...  0.0  0.341931  0.785103  0.0  0.000000  0.0  0.00000   \n",
              "2  0.288325  ...  0.0  0.341931  0.785103  0.0  0.000000  0.0  0.00000   \n",
              "3  0.288325  ...  0.0  0.341931  0.785103  0.0  0.000000  0.0  0.00000   \n",
              "4  0.197291  ...  0.0  0.976638  0.972849  0.0  0.712611  0.0  0.22213   \n",
              "\n",
              "         29        30        31  \n",
              "0  0.845033  0.446104  0.000000  \n",
              "1  0.845033  0.446104  0.000000  \n",
              "2  0.845033  0.446104  0.000000  \n",
              "3  0.845033  0.446104  0.000000  \n",
              "4  0.965408  0.984466  0.649624  \n",
              "\n",
              "[5 rows x 32 columns]"
            ],
            "text/html": [
              "\n",
              "  <div id=\"df-f4444f7f-51be-42fa-80e3-30970bdaebfc\">\n",
              "    <div class=\"colab-df-container\">\n",
              "      <div>\n",
              "<style scoped>\n",
              "    .dataframe tbody tr th:only-of-type {\n",
              "        vertical-align: middle;\n",
              "    }\n",
              "\n",
              "    .dataframe tbody tr th {\n",
              "        vertical-align: top;\n",
              "    }\n",
              "\n",
              "    .dataframe thead th {\n",
              "        text-align: right;\n",
              "    }\n",
              "</style>\n",
              "<table border=\"1\" class=\"dataframe\">\n",
              "  <thead>\n",
              "    <tr style=\"text-align: right;\">\n",
              "      <th></th>\n",
              "      <th>0</th>\n",
              "      <th>1</th>\n",
              "      <th>2</th>\n",
              "      <th>3</th>\n",
              "      <th>4</th>\n",
              "      <th>5</th>\n",
              "      <th>6</th>\n",
              "      <th>7</th>\n",
              "      <th>8</th>\n",
              "      <th>9</th>\n",
              "      <th>...</th>\n",
              "      <th>22</th>\n",
              "      <th>23</th>\n",
              "      <th>24</th>\n",
              "      <th>25</th>\n",
              "      <th>26</th>\n",
              "      <th>27</th>\n",
              "      <th>28</th>\n",
              "      <th>29</th>\n",
              "      <th>30</th>\n",
              "      <th>31</th>\n",
              "    </tr>\n",
              "  </thead>\n",
              "  <tbody>\n",
              "    <tr>\n",
              "      <th>0</th>\n",
              "      <td>0.0</td>\n",
              "      <td>0.0</td>\n",
              "      <td>0.793297</td>\n",
              "      <td>0.870673</td>\n",
              "      <td>0.000000</td>\n",
              "      <td>0.269481</td>\n",
              "      <td>1.0</td>\n",
              "      <td>0.000000</td>\n",
              "      <td>0.00000</td>\n",
              "      <td>0.288325</td>\n",
              "      <td>...</td>\n",
              "      <td>0.0</td>\n",
              "      <td>0.341931</td>\n",
              "      <td>0.785103</td>\n",
              "      <td>0.0</td>\n",
              "      <td>0.000000</td>\n",
              "      <td>0.0</td>\n",
              "      <td>0.00000</td>\n",
              "      <td>0.845033</td>\n",
              "      <td>0.446104</td>\n",
              "      <td>0.000000</td>\n",
              "    </tr>\n",
              "    <tr>\n",
              "      <th>1</th>\n",
              "      <td>0.0</td>\n",
              "      <td>0.0</td>\n",
              "      <td>0.793297</td>\n",
              "      <td>0.870673</td>\n",
              "      <td>0.000000</td>\n",
              "      <td>0.269481</td>\n",
              "      <td>1.0</td>\n",
              "      <td>0.000000</td>\n",
              "      <td>0.00000</td>\n",
              "      <td>0.288325</td>\n",
              "      <td>...</td>\n",
              "      <td>0.0</td>\n",
              "      <td>0.341931</td>\n",
              "      <td>0.785103</td>\n",
              "      <td>0.0</td>\n",
              "      <td>0.000000</td>\n",
              "      <td>0.0</td>\n",
              "      <td>0.00000</td>\n",
              "      <td>0.845033</td>\n",
              "      <td>0.446104</td>\n",
              "      <td>0.000000</td>\n",
              "    </tr>\n",
              "    <tr>\n",
              "      <th>2</th>\n",
              "      <td>0.0</td>\n",
              "      <td>0.0</td>\n",
              "      <td>0.793297</td>\n",
              "      <td>0.870673</td>\n",
              "      <td>0.000000</td>\n",
              "      <td>0.269481</td>\n",
              "      <td>1.0</td>\n",
              "      <td>0.000000</td>\n",
              "      <td>0.00000</td>\n",
              "      <td>0.288325</td>\n",
              "      <td>...</td>\n",
              "      <td>0.0</td>\n",
              "      <td>0.341931</td>\n",
              "      <td>0.785103</td>\n",
              "      <td>0.0</td>\n",
              "      <td>0.000000</td>\n",
              "      <td>0.0</td>\n",
              "      <td>0.00000</td>\n",
              "      <td>0.845033</td>\n",
              "      <td>0.446104</td>\n",
              "      <td>0.000000</td>\n",
              "    </tr>\n",
              "    <tr>\n",
              "      <th>3</th>\n",
              "      <td>0.0</td>\n",
              "      <td>0.0</td>\n",
              "      <td>0.793297</td>\n",
              "      <td>0.870673</td>\n",
              "      <td>0.000000</td>\n",
              "      <td>0.269481</td>\n",
              "      <td>1.0</td>\n",
              "      <td>0.000000</td>\n",
              "      <td>0.00000</td>\n",
              "      <td>0.288325</td>\n",
              "      <td>...</td>\n",
              "      <td>0.0</td>\n",
              "      <td>0.341931</td>\n",
              "      <td>0.785103</td>\n",
              "      <td>0.0</td>\n",
              "      <td>0.000000</td>\n",
              "      <td>0.0</td>\n",
              "      <td>0.00000</td>\n",
              "      <td>0.845033</td>\n",
              "      <td>0.446104</td>\n",
              "      <td>0.000000</td>\n",
              "    </tr>\n",
              "    <tr>\n",
              "      <th>4</th>\n",
              "      <td>0.0</td>\n",
              "      <td>0.0</td>\n",
              "      <td>0.966923</td>\n",
              "      <td>0.971163</td>\n",
              "      <td>0.603218</td>\n",
              "      <td>0.000000</td>\n",
              "      <td>0.0</td>\n",
              "      <td>0.344905</td>\n",
              "      <td>0.41562</td>\n",
              "      <td>0.197291</td>\n",
              "      <td>...</td>\n",
              "      <td>0.0</td>\n",
              "      <td>0.976638</td>\n",
              "      <td>0.972849</td>\n",
              "      <td>0.0</td>\n",
              "      <td>0.712611</td>\n",
              "      <td>0.0</td>\n",
              "      <td>0.22213</td>\n",
              "      <td>0.965408</td>\n",
              "      <td>0.984466</td>\n",
              "      <td>0.649624</td>\n",
              "    </tr>\n",
              "  </tbody>\n",
              "</table>\n",
              "<p>5 rows × 32 columns</p>\n",
              "</div>\n",
              "      <button class=\"colab-df-convert\" onclick=\"convertToInteractive('df-f4444f7f-51be-42fa-80e3-30970bdaebfc')\"\n",
              "              title=\"Convert this dataframe to an interactive table.\"\n",
              "              style=\"display:none;\">\n",
              "        \n",
              "  <svg xmlns=\"http://www.w3.org/2000/svg\" height=\"24px\"viewBox=\"0 0 24 24\"\n",
              "       width=\"24px\">\n",
              "    <path d=\"M0 0h24v24H0V0z\" fill=\"none\"/>\n",
              "    <path d=\"M18.56 5.44l.94 2.06.94-2.06 2.06-.94-2.06-.94-.94-2.06-.94 2.06-2.06.94zm-11 1L8.5 8.5l.94-2.06 2.06-.94-2.06-.94L8.5 2.5l-.94 2.06-2.06.94zm10 10l.94 2.06.94-2.06 2.06-.94-2.06-.94-.94-2.06-.94 2.06-2.06.94z\"/><path d=\"M17.41 7.96l-1.37-1.37c-.4-.4-.92-.59-1.43-.59-.52 0-1.04.2-1.43.59L10.3 9.45l-7.72 7.72c-.78.78-.78 2.05 0 2.83L4 21.41c.39.39.9.59 1.41.59.51 0 1.02-.2 1.41-.59l7.78-7.78 2.81-2.81c.8-.78.8-2.07 0-2.86zM5.41 20L4 18.59l7.72-7.72 1.47 1.35L5.41 20z\"/>\n",
              "  </svg>\n",
              "      </button>\n",
              "      \n",
              "  <style>\n",
              "    .colab-df-container {\n",
              "      display:flex;\n",
              "      flex-wrap:wrap;\n",
              "      gap: 12px;\n",
              "    }\n",
              "\n",
              "    .colab-df-convert {\n",
              "      background-color: #E8F0FE;\n",
              "      border: none;\n",
              "      border-radius: 50%;\n",
              "      cursor: pointer;\n",
              "      display: none;\n",
              "      fill: #1967D2;\n",
              "      height: 32px;\n",
              "      padding: 0 0 0 0;\n",
              "      width: 32px;\n",
              "    }\n",
              "\n",
              "    .colab-df-convert:hover {\n",
              "      background-color: #E2EBFA;\n",
              "      box-shadow: 0px 1px 2px rgba(60, 64, 67, 0.3), 0px 1px 3px 1px rgba(60, 64, 67, 0.15);\n",
              "      fill: #174EA6;\n",
              "    }\n",
              "\n",
              "    [theme=dark] .colab-df-convert {\n",
              "      background-color: #3B4455;\n",
              "      fill: #D2E3FC;\n",
              "    }\n",
              "\n",
              "    [theme=dark] .colab-df-convert:hover {\n",
              "      background-color: #434B5C;\n",
              "      box-shadow: 0px 1px 3px 1px rgba(0, 0, 0, 0.15);\n",
              "      filter: drop-shadow(0px 1px 2px rgba(0, 0, 0, 0.3));\n",
              "      fill: #FFFFFF;\n",
              "    }\n",
              "  </style>\n",
              "\n",
              "      <script>\n",
              "        const buttonEl =\n",
              "          document.querySelector('#df-f4444f7f-51be-42fa-80e3-30970bdaebfc button.colab-df-convert');\n",
              "        buttonEl.style.display =\n",
              "          google.colab.kernel.accessAllowed ? 'block' : 'none';\n",
              "\n",
              "        async function convertToInteractive(key) {\n",
              "          const element = document.querySelector('#df-f4444f7f-51be-42fa-80e3-30970bdaebfc');\n",
              "          const dataTable =\n",
              "            await google.colab.kernel.invokeFunction('convertToInteractive',\n",
              "                                                     [key], {});\n",
              "          if (!dataTable) return;\n",
              "\n",
              "          const docLinkHtml = 'Like what you see? Visit the ' +\n",
              "            '<a target=\"_blank\" href=https://colab.research.google.com/notebooks/data_table.ipynb>data table notebook</a>'\n",
              "            + ' to learn more about interactive tables.';\n",
              "          element.innerHTML = '';\n",
              "          dataTable['output_type'] = 'display_data';\n",
              "          await google.colab.output.renderOutput(dataTable, element);\n",
              "          const docLink = document.createElement('div');\n",
              "          docLink.innerHTML = docLinkHtml;\n",
              "          element.appendChild(docLink);\n",
              "        }\n",
              "      </script>\n",
              "    </div>\n",
              "  </div>\n",
              "  "
            ]
          },
          "metadata": {},
          "execution_count": 58
        }
      ]
    },
    {
      "cell_type": "code",
      "source": [
        "split_len = 0.3 * len(df_oh)\n",
        "split_len"
      ],
      "metadata": {
        "colab": {
          "base_uri": "https://localhost:8080/"
        },
        "id": "iSQV3H16VoLn",
        "outputId": "bf18515f-5a45-4c3f-fab5-e6c2c409eac1"
      },
      "execution_count": null,
      "outputs": [
        {
          "output_type": "execute_result",
          "data": {
            "text/plain": [
              "306302.7"
            ]
          },
          "metadata": {},
          "execution_count": 59
        }
      ]
    },
    {
      "cell_type": "code",
      "source": [
        "test = df_oh[:int(split_len)]\n",
        "train = df_oh[int(split_len):]"
      ],
      "metadata": {
        "id": "iH-GNsitVp1E"
      },
      "execution_count": null,
      "outputs": []
    },
    {
      "cell_type": "code",
      "source": [
        "x_train = train.values.reshape(train.shape[0], 1, train.shape[1])\n",
        "x_test = test.values.reshape(test.shape[0], 1,train.shape[1])\n",
        "\n",
        "x_out = x_out_oh.values.reshape(x_out_oh.shape[0], 1,x_out_oh.shape[1])\n",
        "\n",
        "#define the model\n",
        "def autoencoder_model(X):\n",
        "\n",
        "  inputs = Input(shape=(X.shape[1], X.shape[2]))\n",
        "  L1 = Bidirectional(LSTM(128, activation='relu', return_sequences=True,\n",
        "              kernel_regularizer=regularizers.l2(0.00)))(inputs)\n",
        "  L2 = Bidirectional(LSTM(64, activation='relu', return_sequences=False))(L1)\n",
        "  L3 = RepeatVector(X.shape[1])(L2)\n",
        "  L4 = Bidirectional(LSTM(64, activation='relu', return_sequences=True))(L3)\n",
        "  L5 = Bidirectional(LSTM(128, activation='relu', return_sequences=True))(L4)\n",
        "  output = TimeDistributed(Dense(X.shape[2]))(L5)\n",
        "  model = Model(inputs=inputs, outputs=output)\n",
        "  return model\n",
        "\n",
        "\n",
        "# create the autoencoder model\n",
        "model = autoencoder_model(x_train)\n",
        "model.compile(optimizer='adam', loss=['mse'],\n",
        "              metrics=['mae', 'acc', tf.keras.metrics.Recall(), tf.keras.metrics.Precision()])\n",
        "model.summary()\n",
        "\n",
        "nb_epochs = 10\n",
        "batch_size = 1000\n",
        "history = model.fit(x_train, x_train, epochs=nb_epochs, batch_size=batch_size,\n",
        "                    validation_split=0.15).history"
      ],
      "metadata": {
        "colab": {
          "base_uri": "https://localhost:8080/"
        },
        "id": "5F1tBllozoF-",
        "outputId": "c3e65d00-902b-4988-e47e-893d785b42d5"
      },
      "execution_count": null,
      "outputs": [
        {
          "output_type": "stream",
          "name": "stderr",
          "text": [
            "WARNING:tensorflow:Layer lstm_12 will not use cuDNN kernels since it doesn't meet the criteria. It will use a generic GPU kernel as fallback when running on GPU.\n",
            "WARNING:tensorflow:Layer lstm_13 will not use cuDNN kernels since it doesn't meet the criteria. It will use a generic GPU kernel as fallback when running on GPU.\n",
            "WARNING:tensorflow:Layer lstm_14 will not use cuDNN kernels since it doesn't meet the criteria. It will use a generic GPU kernel as fallback when running on GPU.\n",
            "WARNING:tensorflow:Layer lstm_15 will not use cuDNN kernels since it doesn't meet the criteria. It will use a generic GPU kernel as fallback when running on GPU.\n"
          ]
        },
        {
          "output_type": "stream",
          "name": "stdout",
          "text": [
            "Model: \"model_3\"\n",
            "_________________________________________________________________\n",
            " Layer (type)                Output Shape              Param #   \n",
            "=================================================================\n",
            " input_4 (InputLayer)        [(None, 1, 32)]           0         \n",
            "                                                                 \n",
            " lstm_12 (LSTM)              (None, 1, 128)            82432     \n",
            "                                                                 \n",
            " lstm_13 (LSTM)              (None, 64)                49408     \n",
            "                                                                 \n",
            " repeat_vector_3 (RepeatVect  (None, 1, 64)            0         \n",
            " or)                                                             \n",
            "                                                                 \n",
            " lstm_14 (LSTM)              (None, 1, 64)             33024     \n",
            "                                                                 \n",
            " lstm_15 (LSTM)              (None, 1, 128)            98816     \n",
            "                                                                 \n",
            " time_distributed_3 (TimeDis  (None, 1, 32)            4128      \n",
            " tributed)                                                       \n",
            "                                                                 \n",
            "=================================================================\n",
            "Total params: 267,808\n",
            "Trainable params: 267,808\n",
            "Non-trainable params: 0\n",
            "_________________________________________________________________\n",
            "Epoch 1/10\n",
            "608/608 [==============================] - 16s 15ms/step - loss: 0.0247 - mae: 0.0540 - acc: 0.5384 - recall_3: 0.5144 - precision_3: 0.9932 - val_loss: 3.4197e-04 - val_mae: 0.0031 - val_acc: 0.2602 - val_recall_3: 0.5591 - val_precision_3: 0.9996\n",
            "Epoch 2/10\n",
            "608/608 [==============================] - 9s 14ms/step - loss: 5.9506e-05 - mae: 0.0014 - acc: 0.6175 - recall_3: 0.5657 - precision_3: 1.0000 - val_loss: 1.9202e-04 - val_mae: 0.0020 - val_acc: 0.9690 - val_recall_3: 0.5595 - val_precision_3: 0.9998\n",
            "Epoch 3/10\n",
            "608/608 [==============================] - 9s 14ms/step - loss: 2.3851e-05 - mae: 0.0011 - acc: 0.6211 - recall_3: 0.5660 - precision_3: 1.0000 - val_loss: 1.3385e-04 - val_mae: 0.0021 - val_acc: 0.2894 - val_recall_3: 0.5597 - val_precision_3: 1.0000\n",
            "Epoch 4/10\n",
            "608/608 [==============================] - 9s 15ms/step - loss: 1.2833e-05 - mae: 0.0010 - acc: 0.6501 - recall_3: 0.5661 - precision_3: 1.0000 - val_loss: 1.1099e-04 - val_mae: 0.0017 - val_acc: 0.9589 - val_recall_3: 0.5599 - val_precision_3: 1.0000\n",
            "Epoch 5/10\n",
            "608/608 [==============================] - 9s 14ms/step - loss: 9.4019e-06 - mae: 9.8643e-04 - acc: 0.6177 - recall_3: 0.5662 - precision_3: 1.0000 - val_loss: 9.8122e-05 - val_mae: 0.0015 - val_acc: 0.9799 - val_recall_3: 0.5600 - val_precision_3: 1.0000\n",
            "Epoch 6/10\n",
            "608/608 [==============================] - 9s 14ms/step - loss: 8.7267e-06 - mae: 0.0011 - acc: 0.6316 - recall_3: 0.5661 - precision_3: 1.0000 - val_loss: 9.1185e-05 - val_mae: 0.0016 - val_acc: 0.2894 - val_recall_3: 0.5601 - val_precision_3: 1.0000\n",
            "Epoch 7/10\n",
            "608/608 [==============================] - 9s 14ms/step - loss: 8.3319e-06 - mae: 0.0012 - acc: 0.6323 - recall_3: 0.5662 - precision_3: 1.0000 - val_loss: 8.8419e-05 - val_mae: 0.0024 - val_acc: 0.9808 - val_recall_3: 0.5601 - val_precision_3: 1.0000\n",
            "Epoch 8/10\n",
            "608/608 [==============================] - 9s 15ms/step - loss: 6.8274e-06 - mae: 0.0011 - acc: 0.6347 - recall_3: 0.5661 - precision_3: 1.0000 - val_loss: 7.6201e-05 - val_mae: 0.0019 - val_acc: 0.9799 - val_recall_3: 0.5601 - val_precision_3: 1.0000\n",
            "Epoch 9/10\n",
            "608/608 [==============================] - 9s 14ms/step - loss: 6.6399e-06 - mae: 0.0011 - acc: 0.6391 - recall_3: 0.5662 - precision_3: 1.0000 - val_loss: 6.8680e-05 - val_mae: 0.0012 - val_acc: 0.9811 - val_recall_3: 0.5601 - val_precision_3: 1.0000\n",
            "Epoch 10/10\n",
            "608/608 [==============================] - 9s 14ms/step - loss: 5.5267e-06 - mae: 0.0011 - acc: 0.6411 - recall_3: 0.5662 - precision_3: 1.0000 - val_loss: 6.8649e-05 - val_mae: 0.0017 - val_acc: 0.9705 - val_recall_3: 0.5602 - val_precision_3: 1.0000\n"
          ]
        }
      ]
    },
    {
      "cell_type": "code",
      "source": [
        "# plot the loss distribution of the training set\n",
        "X_pred = model.predict(x_train)\n",
        "X_pred = X_pred.reshape(X_pred.shape[0], X_pred.shape[2])\n",
        "X_pred = pd.DataFrame(X_pred, columns=train.columns)\n",
        "X_pred.index = train.index\n",
        "\n",
        "scored = pd.DataFrame(index=train.index)\n",
        "Xtrain = x_train.reshape(x_train.shape[0], x_train.shape[2])\n",
        "scored['Loss_mse'] = np.mean(np.abs(X_pred-Xtrain), axis = 1)\n",
        "plt.figure(figsize=(16,9), dpi=80)\n",
        "plt.title('Loss Distribution', fontsize=16)\n",
        "sns.distplot(scored['Loss_mse'], bins = 20, kde= True, color = 'blue');\n",
        "plt.xlim([0.0,.5])"
      ],
      "metadata": {
        "colab": {
          "base_uri": "https://localhost:8080/",
          "height": 873
        },
        "id": "F4-xPT38zonz",
        "outputId": "54b57d42-e0a3-4f4d-95f2-00afeeb7f8f6"
      },
      "execution_count": null,
      "outputs": [
        {
          "output_type": "stream",
          "name": "stdout",
          "text": [
            "22335/22335 [==============================] - 51s 2ms/step\n"
          ]
        },
        {
          "output_type": "stream",
          "name": "stderr",
          "text": [
            "<ipython-input-63-75a6f4c073f7>:12: UserWarning: \n",
            "\n",
            "`distplot` is a deprecated function and will be removed in seaborn v0.14.0.\n",
            "\n",
            "Please adapt your code to use either `displot` (a figure-level function with\n",
            "similar flexibility) or `histplot` (an axes-level function for histograms).\n",
            "\n",
            "For a guide to updating your code to use the new functions, please see\n",
            "https://gist.github.com/mwaskom/de44147ed2974457ad6372750bbe5751\n",
            "\n",
            "  sns.distplot(scored['Loss_mse'], bins = 20, kde= True, color = 'blue');\n"
          ]
        },
        {
          "output_type": "execute_result",
          "data": {
            "text/plain": [
              "(0.0, 0.5)"
            ]
          },
          "metadata": {},
          "execution_count": 63
        },
        {
          "output_type": "display_data",
          "data": {
            "text/plain": [
              "<Figure size 1280x720 with 1 Axes>"
            ],
            "image/png": "[encoded data removed]"
          },
          "metadata": {}
        }
      ]
    },
    {
      "cell_type": "code",
      "source": [
        "# calculate the loss on the test set\n",
        "X_pred = model.predict(x_out)\n",
        "X_pred = X_pred.reshape(X_pred.shape[0], X_pred.shape[2])\n",
        "X_pred = pd.DataFrame(X_pred, columns=x_out_oh.columns)\n",
        "X_pred.index = x_out_oh.index\n",
        "\n",
        "scored = pd.DataFrame(index=x_out_oh.index)\n",
        "Xtest = x_out.reshape(x_out_oh.shape[0], x_out.shape[2])\n",
        "scored['Loss_mae'] = np.mean(np.abs(X_pred-Xtest), axis = 1)\n",
        "scored['Threshold'] = 0.009\n",
        "scored['Anomaly'] = np.where(scored['Loss_mae'] > scored['Threshold'], -1, 1)\n",
        "scored.head()\n",
        "test_pred = scored.Anomaly\n",
        "\n",
        "\n",
        "from sklearn.metrics import classification_report\n",
        "print(classification_report(true_labels, test_pred))"
      ],
      "metadata": {
        "colab": {
          "base_uri": "https://localhost:8080/"
        },
        "id": "PpsBFz8yzswo",
        "outputId": "ec850b92-71d1-4a30-dae3-2787478ffd37"
      },
      "execution_count": null,
      "outputs": [
        {
          "output_type": "stream",
          "name": "stdout",
          "text": [
            "3188/3188 [==============================] - 7s 2ms/step\n",
            "              precision    recall  f1-score   support\n",
            "\n",
            "          -1       0.90      0.58      0.70      3737\n",
            "           1       0.98      1.00      0.99     98263\n",
            "\n",
            "    accuracy                           0.98    102000\n",
            "   macro avg       0.94      0.79      0.85    102000\n",
            "weighted avg       0.98      0.98      0.98    102000\n",
            "\n"
          ]
        }
      ]
    },
    {
      "cell_type": "code",
      "source": [
        "from pyod.models.copod import COPOD\n",
        "if __name__ == \"__main__\":\n",
        "\n",
        "    # train COPOD detector\n",
        "    clf_name = 'COPOD'\n",
        "    clf = COPOD(contamination=0.045)\n",
        "\n",
        "    # you could try parallel version as well.\n",
        "    # clf = COPOD(n_jobs=2)\n",
        "    clf.fit(train)\n",
        "    pred_test = clf.predict(x_out_oh)\n",
        "\n",
        "if (pred_test == 1).any():\n",
        "    pred_test[pred_test == 1] = -1\n",
        "\n",
        "if (pred_test == 0).any():\n",
        "    pred_test[pred_test == 0] = 1\n",
        "\n",
        "Counter(pred_test)\n",
        "\n",
        "from sklearn.metrics import classification_report\n",
        "print(classification_report(true_labels, pred_test))"
      ],
      "metadata": {
        "colab": {
          "base_uri": "https://localhost:8080/"
        },
        "id": "d2T0vK_b9oYi",
        "outputId": "288b1aef-a9bc-4d31-f908-b2670e1122bf"
      },
      "execution_count": null,
      "outputs": [
        {
          "output_type": "stream",
          "name": "stdout",
          "text": [
            "              precision    recall  f1-score   support\n",
            "\n",
            "          -1       0.04      0.06      0.05      3737\n",
            "           1       0.96      0.95      0.96     98263\n",
            "\n",
            "    accuracy                           0.92    102000\n",
            "   macro avg       0.50      0.50      0.50    102000\n",
            "weighted avg       0.93      0.92      0.93    102000\n",
            "\n"
          ]
        }
      ]
    },
    {
      "cell_type": "code",
      "source": [
        "from pyod.models.ecod import ECOD\n",
        "if __name__ == \"__main__\":\n",
        "\n",
        "    # train COPOD detector\n",
        "    clf_name = 'ECOD'\n",
        "    clf = ECOD(contamination=0.045)\n",
        "\n",
        "    # you could try parallel version as well.\n",
        "    # clf = COPOD(n_jobs=2)\n",
        "    clf.fit(train)\n",
        "    pred_test = clf.predict(x_out_oh)\n",
        "\n",
        "if (pred_test == 1).any():\n",
        "    pred_test[pred_test == 1] = -1\n",
        "\n",
        "if (pred_test == 0).any():\n",
        "    pred_test[pred_test == 0] = 1\n",
        "\n",
        "Counter(pred_test)\n",
        "\n",
        "from sklearn.metrics import classification_report\n",
        "print(classification_report(true_labels, pred_test))"
      ],
      "metadata": {
        "colab": {
          "base_uri": "https://localhost:8080/"
        },
        "id": "Fvj0GfAl9nt1",
        "outputId": "525ea3d8-86e7-4f4a-b84d-5bd886837f56"
      },
      "execution_count": null,
      "outputs": [
        {
          "output_type": "stream",
          "name": "stdout",
          "text": [
            "              precision    recall  f1-score   support\n",
            "\n",
            "          -1       0.05      0.06      0.05      3737\n",
            "           1       0.96      0.95      0.96     98263\n",
            "\n",
            "    accuracy                           0.92    102000\n",
            "   macro avg       0.51      0.51      0.51    102000\n",
            "weighted avg       0.93      0.92      0.93    102000\n",
            "\n"
          ]
        }
      ]
    },
    {
      "cell_type": "code",
      "source": [
        "Counter(pred_test)"
      ],
      "metadata": {
        "colab": {
          "base_uri": "https://localhost:8080/"
        },
        "id": "32m6JkF-BR2B",
        "outputId": "a378a568-8fc4-4b8c-81ac-8795feaf2bd6"
      },
      "execution_count": null,
      "outputs": [
        {
          "output_type": "execute_result",
          "data": {
            "text/plain": [
              "Counter({1: 97200, -1: 4800})"
            ]
          },
          "metadata": {},
          "execution_count": 49
        }
      ]
    },
    {
      "cell_type": "code",
      "source": [
        "clf = IsolationForest(n_estimators=200, contamination = 0.035)"
      ],
      "metadata": {
        "id": "_eyZV-cpVrib"
      },
      "execution_count": null,
      "outputs": []
    },
    {
      "cell_type": "code",
      "source": [
        "clf_if_cv = clf.fit(train)"
      ],
      "metadata": {
        "id": "emz-q64Uc9rS"
      },
      "execution_count": null,
      "outputs": []
    },
    {
      "cell_type": "code",
      "source": [
        "from joblib import dump, load\n",
        "\n",
        "# save the model\n",
        "dump(clf_if_cv,'/content/drive/MyDrive/thesis/models/iforest/clf_if_oh_ae.joblib')"
      ],
      "metadata": {
        "colab": {
          "base_uri": "https://localhost:8080/"
        },
        "id": "iCJDvpT-WIIH",
        "outputId": "79986073-5b92-4dbb-8597-2b2a1df0b58c"
      },
      "execution_count": null,
      "outputs": [
        {
          "output_type": "execute_result",
          "data": {
            "text/plain": [
              "['/content/drive/MyDrive/thesis/models/iforest/clf_if_oh_ae.joblib']"
            ]
          },
          "metadata": {},
          "execution_count": 198
        }
      ]
    },
    {
      "cell_type": "code",
      "source": [
        "from joblib import dump, load\n",
        "clf_if_cv = load('/content/drive/MyDrive/thesis/models/iforest/clf_if_oh_ae.joblib')"
      ],
      "metadata": {
        "id": "E23Pg7ldWLJG"
      },
      "execution_count": null,
      "outputs": []
    },
    {
      "cell_type": "code",
      "source": [
        "pred_test = clf_if_cv.predict(x_out_oh)"
      ],
      "metadata": {
        "id": "sSGtgiGXWOTK"
      },
      "execution_count": null,
      "outputs": []
    },
    {
      "cell_type": "code",
      "source": [
        "Counter(pred_test)"
      ],
      "metadata": {
        "colab": {
          "base_uri": "https://localhost:8080/"
        },
        "id": "TsFLZarnWQvK",
        "outputId": "ccb9be0a-7330-447d-bac9-5478bb6a5984"
      },
      "execution_count": null,
      "outputs": [
        {
          "output_type": "execute_result",
          "data": {
            "text/plain": [
              "Counter({1: 99332, -1: 2668})"
            ]
          },
          "metadata": {},
          "execution_count": 201
        }
      ]
    },
    {
      "cell_type": "code",
      "source": [
        "true_labels = df_outlier.label"
      ],
      "metadata": {
        "id": "8cjEDmQrWS3X"
      },
      "execution_count": null,
      "outputs": []
    },
    {
      "cell_type": "code",
      "source": [
        "df_validate['label'] = pred_test"
      ],
      "metadata": {
        "id": "XclQ38VyWVBX"
      },
      "execution_count": null,
      "outputs": []
    },
    {
      "cell_type": "code",
      "source": [
        "df_validate[df_validate['label'] == -1].to_csv('/content/drive/MyDrive/thesis/models/iforest/oh_results_ae_val.csv', index=False)"
      ],
      "metadata": {
        "id": "On2iC3KlWaEz"
      },
      "execution_count": null,
      "outputs": []
    },
    {
      "cell_type": "code",
      "source": [
        "from sklearn.metrics import classification_report\n",
        "print(classification_report(true_labels, pred_test))"
      ],
      "metadata": {
        "colab": {
          "base_uri": "https://localhost:8080/"
        },
        "id": "3xohLJCfWdeQ",
        "outputId": "0afbda82-1ddf-401b-8683-bbd8424d08e2"
      },
      "execution_count": null,
      "outputs": [
        {
          "output_type": "stream",
          "name": "stdout",
          "text": [
            "              precision    recall  f1-score   support\n",
            "\n",
            "          -1       0.57      0.41      0.48      3737\n",
            "           1       0.98      0.99      0.98     98263\n",
            "\n",
            "    accuracy                           0.97    102000\n",
            "   macro avg       0.77      0.70      0.73    102000\n",
            "weighted avg       0.96      0.97      0.96    102000\n",
            "\n"
          ]
        }
      ]
    },
    {
      "cell_type": "code",
      "source": [
        "from sklearn.metrics import accuracy_score, precision_score, recall_score, f1_score\n",
        "\n",
        "# Assuming you have the true labels for the dataset in 'true_labels' and the LOF predictions in 'lof_predictions'\n",
        "\n",
        "# Convert LOF scores to binary labels based on a threshold (e.g., outliers with scores above the threshold are considered anomalies)\n",
        "\n",
        "# Calculate accuracy\n",
        "accuracy = accuracy_score(true_labels, pred_test)\n",
        "print(\"Accuracy:\", accuracy)\n",
        "\n",
        "# Calculate precision\n",
        "precision = precision_score(true_labels, pred_test)\n",
        "print(\"Precision:\", precision)\n",
        "\n",
        "# Calculate recall\n",
        "recall = recall_score(true_labels, pred_test)\n",
        "print(\"Recall:\", recall)\n",
        "\n",
        "# Calculate F1 score\n",
        "f1 = f1_score(true_labels, pred_test)\n",
        "print(\"F1 Score:\", f1)"
      ],
      "metadata": {
        "colab": {
          "base_uri": "https://localhost:8080/"
        },
        "id": "270Ibr-jWeBg",
        "outputId": "31db45a1-3f13-4dee-a1b5-c2d5052d7c16"
      },
      "execution_count": null,
      "outputs": [
        {
          "output_type": "stream",
          "name": "stdout",
          "text": [
            "Accuracy: 0.9758725490196078\n",
            "Precision: 0.993113032736257\n",
            "Recall: 0.9817632272574621\n",
            "F1 Score: 0.9874055157802082\n"
          ]
        }
      ]
    },
    {
      "cell_type": "code",
      "source": [],
      "metadata": {
        "id": "7GcOzjYddbGi"
      },
      "execution_count": null,
      "outputs": []
    }
  ]
}