{
  "nbformat": 4,
  "nbformat_minor": 0,
  "metadata": {
    "colab": {
      "provenance": [],
      "machine_shape": "hm",
      "gpuType": "A100"
    },
    "kernelspec": {
      "name": "python3",
      "display_name": "Python 3"
    },
    "language_info": {
      "name": "python"
    },
    "accelerator": "GPU",
    "gpuClass": "standard"
  },
  "cells": [
    {
      "cell_type": "code",
      "execution_count": null,
      "metadata": {
        "id": "3nJ1j6IC_4OD"
      },
      "outputs": [],
      "source": [
        "import pandas as pd\n",
        "import tensorflow as tf\n",
        "from tensorflow.keras import Model\n",
        "from tensorflow.keras import Sequential\n",
        "from tensorflow.keras.layers import Dense\n",
        "from tensorflow.keras.losses import CategoricalCrossentropy\n",
        "from tensorflow.keras.metrics import Accuracy"
      ]
    },
    {
      "cell_type": "code",
      "source": [
        "!python --version"
      ],
      "metadata": {
        "colab": {
          "base_uri": "https://localhost:8080/"
        },
        "id": "natDFCxA1apu",
        "outputId": "e05b7e54-f366-424c-d31e-03bbe098ba28"
      },
      "execution_count": null,
      "outputs": [
        {
          "output_type": "stream",
          "name": "stdout",
          "text": [
            "Python 3.10.11\n"
          ]
        }
      ]
    },
    {
      "cell_type": "code",
      "source": [
        "from google.colab import drive\n",
        "drive.mount('/content/drive')"
      ],
      "metadata": {
        "id": "Z8Ld-Y-9A7Um",
        "colab": {
          "base_uri": "https://localhost:8080/"
        },
        "outputId": "e773aecf-570a-4c25-a7e0-ce1e7197e200"
      },
      "execution_count": null,
      "outputs": [
        {
          "output_type": "stream",
          "name": "stdout",
          "text": [
            "Mounted at /content/drive\n"
          ]
        }
      ]
    },
    {
      "cell_type": "code",
      "source": [
        "df = pd.read_csv('/content/drive/MyDrive/thesis/train/cv_scaled.csv', sep=',')\n"
      ],
      "metadata": {
        "id": "WNjJBxfPA-7n"
      },
      "execution_count": null,
      "outputs": []
    },
    {
      "cell_type": "code",
      "source": [
        "df_test = pd.read_csv('/content/drive/MyDrive/thesis/val/val-cv_out.csv', sep=',')"
      ],
      "metadata": {
        "id": "bYu0OyUaZhKL"
      },
      "execution_count": null,
      "outputs": []
    },
    {
      "cell_type": "code",
      "source": [
        "df_test.head(5)"
      ],
      "metadata": {
        "colab": {
          "base_uri": "https://localhost:8080/",
          "height": 300
        },
        "id": "JqbC4srirLsL",
        "outputId": "89df0d26-237f-45c0-8d43-8e368fbfd297"
      },
      "execution_count": null,
      "outputs": [
        {
          "output_type": "execute_result",
          "data": {
            "text/plain": [
              "     0    1    2    3    4    5    6    7    8    9  ...  508  509  510  511  \\\n",
              "0  0.0  0.0  0.0  0.0  0.0  0.0  0.0  0.0  0.0  0.0  ...  0.0  0.0  0.0  0.0   \n",
              "1  0.0  0.0  0.0  0.0  0.0  0.0  0.0  0.0  0.0  0.0  ...  0.0  0.0  0.0  0.0   \n",
              "2  0.0  0.0  0.0  0.0  0.0  0.0  0.0  0.0  0.0  0.0  ...  0.0  0.0  0.0  0.0   \n",
              "3  0.0  0.0  0.0  0.0  0.0  0.0  0.0  0.0  0.0  0.0  ...  0.0  0.0  0.0  0.0   \n",
              "4  0.0  0.0  0.0  0.0  0.0  0.0  0.0  0.0  0.0  0.0  ...  0.0  0.0  0.0  0.0   \n",
              "\n",
              "   512  513  514  515       516  517  \n",
              "0  0.0  0.0  0.0  0.0  0.007299  0.0  \n",
              "1  0.0  0.0  0.0  0.0  0.007299  0.0  \n",
              "2  0.0  0.0  0.0  0.0  0.007299  0.0  \n",
              "3  0.0  0.0  0.0  0.0  0.007299  0.0  \n",
              "4  0.0  0.0  0.0  0.0  0.007299  0.0  \n",
              "\n",
              "[5 rows x 518 columns]"
            ],
            "text/html": [
              "\n",
              "  <div id=\"df-d07c6034-5938-46e8-9c7e-4099952441c7\">\n",
              "    <div class=\"colab-df-container\">\n",
              "      <div>\n",
              "<style scoped>\n",
              "    .dataframe tbody tr th:only-of-type {\n",
              "        vertical-align: middle;\n",
              "    }\n",
              "\n",
              "    .dataframe tbody tr th {\n",
              "        vertical-align: top;\n",
              "    }\n",
              "\n",
              "    .dataframe thead th {\n",
              "        text-align: right;\n",
              "    }\n",
              "</style>\n",
              "<table border=\"1\" class=\"dataframe\">\n",
              "  <thead>\n",
              "    <tr style=\"text-align: right;\">\n",
              "      <th></th>\n",
              "      <th>0</th>\n",
              "      <th>1</th>\n",
              "      <th>2</th>\n",
              "      <th>3</th>\n",
              "      <th>4</th>\n",
              "      <th>5</th>\n",
              "      <th>6</th>\n",
              "      <th>7</th>\n",
              "      <th>8</th>\n",
              "      <th>9</th>\n",
              "      <th>...</th>\n",
              "      <th>508</th>\n",
              "      <th>509</th>\n",
              "      <th>510</th>\n",
              "      <th>511</th>\n",
              "      <th>512</th>\n",
              "      <th>513</th>\n",
              "      <th>514</th>\n",
              "      <th>515</th>\n",
              "      <th>516</th>\n",
              "      <th>517</th>\n",
              "    </tr>\n",
              "  </thead>\n",
              "  <tbody>\n",
              "    <tr>\n",
              "      <th>0</th>\n",
              "      <td>0.0</td>\n",
              "      <td>0.0</td>\n",
              "      <td>0.0</td>\n",
              "      <td>0.0</td>\n",
              "      <td>0.0</td>\n",
              "      <td>0.0</td>\n",
              "      <td>0.0</td>\n",
              "      <td>0.0</td>\n",
              "      <td>0.0</td>\n",
              "      <td>0.0</td>\n",
              "      <td>...</td>\n",
              "      <td>0.0</td>\n",
              "      <td>0.0</td>\n",
              "      <td>0.0</td>\n",
              "      <td>0.0</td>\n",
              "      <td>0.0</td>\n",
              "      <td>0.0</td>\n",
              "      <td>0.0</td>\n",
              "      <td>0.0</td>\n",
              "      <td>0.007299</td>\n",
              "      <td>0.0</td>\n",
              "    </tr>\n",
              "    <tr>\n",
              "      <th>1</th>\n",
              "      <td>0.0</td>\n",
              "      <td>0.0</td>\n",
              "      <td>0.0</td>\n",
              "      <td>0.0</td>\n",
              "      <td>0.0</td>\n",
              "      <td>0.0</td>\n",
              "      <td>0.0</td>\n",
              "      <td>0.0</td>\n",
              "      <td>0.0</td>\n",
              "      <td>0.0</td>\n",
              "      <td>...</td>\n",
              "      <td>0.0</td>\n",
              "      <td>0.0</td>\n",
              "      <td>0.0</td>\n",
              "      <td>0.0</td>\n",
              "      <td>0.0</td>\n",
              "      <td>0.0</td>\n",
              "      <td>0.0</td>\n",
              "      <td>0.0</td>\n",
              "      <td>0.007299</td>\n",
              "      <td>0.0</td>\n",
              "    </tr>\n",
              "    <tr>\n",
              "      <th>2</th>\n",
              "      <td>0.0</td>\n",
              "      <td>0.0</td>\n",
              "      <td>0.0</td>\n",
              "      <td>0.0</td>\n",
              "      <td>0.0</td>\n",
              "      <td>0.0</td>\n",
              "      <td>0.0</td>\n",
              "      <td>0.0</td>\n",
              "      <td>0.0</td>\n",
              "      <td>0.0</td>\n",
              "      <td>...</td>\n",
              "      <td>0.0</td>\n",
              "      <td>0.0</td>\n",
              "      <td>0.0</td>\n",
              "      <td>0.0</td>\n",
              "      <td>0.0</td>\n",
              "      <td>0.0</td>\n",
              "      <td>0.0</td>\n",
              "      <td>0.0</td>\n",
              "      <td>0.007299</td>\n",
              "      <td>0.0</td>\n",
              "    </tr>\n",
              "    <tr>\n",
              "      <th>3</th>\n",
              "      <td>0.0</td>\n",
              "      <td>0.0</td>\n",
              "      <td>0.0</td>\n",
              "      <td>0.0</td>\n",
              "      <td>0.0</td>\n",
              "      <td>0.0</td>\n",
              "      <td>0.0</td>\n",
              "      <td>0.0</td>\n",
              "      <td>0.0</td>\n",
              "      <td>0.0</td>\n",
              "      <td>...</td>\n",
              "      <td>0.0</td>\n",
              "      <td>0.0</td>\n",
              "      <td>0.0</td>\n",
              "      <td>0.0</td>\n",
              "      <td>0.0</td>\n",
              "      <td>0.0</td>\n",
              "      <td>0.0</td>\n",
              "      <td>0.0</td>\n",
              "      <td>0.007299</td>\n",
              "      <td>0.0</td>\n",
              "    </tr>\n",
              "    <tr>\n",
              "      <th>4</th>\n",
              "      <td>0.0</td>\n",
              "      <td>0.0</td>\n",
              "      <td>0.0</td>\n",
              "      <td>0.0</td>\n",
              "      <td>0.0</td>\n",
              "      <td>0.0</td>\n",
              "      <td>0.0</td>\n",
              "      <td>0.0</td>\n",
              "      <td>0.0</td>\n",
              "      <td>0.0</td>\n",
              "      <td>...</td>\n",
              "      <td>0.0</td>\n",
              "      <td>0.0</td>\n",
              "      <td>0.0</td>\n",
              "      <td>0.0</td>\n",
              "      <td>0.0</td>\n",
              "      <td>0.0</td>\n",
              "      <td>0.0</td>\n",
              "      <td>0.0</td>\n",
              "      <td>0.007299</td>\n",
              "      <td>0.0</td>\n",
              "    </tr>\n",
              "  </tbody>\n",
              "</table>\n",
              "<p>5 rows × 518 columns</p>\n",
              "</div>\n",
              "      <button class=\"colab-df-convert\" onclick=\"convertToInteractive('df-d07c6034-5938-46e8-9c7e-4099952441c7')\"\n",
              "              title=\"Convert this dataframe to an interactive table.\"\n",
              "              style=\"display:none;\">\n",
              "        \n",
              "  <svg xmlns=\"http://www.w3.org/2000/svg\" height=\"24px\"viewBox=\"0 0 24 24\"\n",
              "       width=\"24px\">\n",
              "    <path d=\"M0 0h24v24H0V0z\" fill=\"none\"/>\n",
              "    <path d=\"M18.56 5.44l.94 2.06.94-2.06 2.06-.94-2.06-.94-.94-2.06-.94 2.06-2.06.94zm-11 1L8.5 8.5l.94-2.06 2.06-.94-2.06-.94L8.5 2.5l-.94 2.06-2.06.94zm10 10l.94 2.06.94-2.06 2.06-.94-2.06-.94-.94-2.06-.94 2.06-2.06.94z\"/><path d=\"M17.41 7.96l-1.37-1.37c-.4-.4-.92-.59-1.43-.59-.52 0-1.04.2-1.43.59L10.3 9.45l-7.72 7.72c-.78.78-.78 2.05 0 2.83L4 21.41c.39.39.9.59 1.41.59.51 0 1.02-.2 1.41-.59l7.78-7.78 2.81-2.81c.8-.78.8-2.07 0-2.86zM5.41 20L4 18.59l7.72-7.72 1.47 1.35L5.41 20z\"/>\n",
              "  </svg>\n",
              "      </button>\n",
              "      \n",
              "  <style>\n",
              "    .colab-df-container {\n",
              "      display:flex;\n",
              "      flex-wrap:wrap;\n",
              "      gap: 12px;\n",
              "    }\n",
              "\n",
              "    .colab-df-convert {\n",
              "      background-color: #E8F0FE;\n",
              "      border: none;\n",
              "      border-radius: 50%;\n",
              "      cursor: pointer;\n",
              "      display: none;\n",
              "      fill: #1967D2;\n",
              "      height: 32px;\n",
              "      padding: 0 0 0 0;\n",
              "      width: 32px;\n",
              "    }\n",
              "\n",
              "    .colab-df-convert:hover {\n",
              "      background-color: #E2EBFA;\n",
              "      box-shadow: 0px 1px 2px rgba(60, 64, 67, 0.3), 0px 1px 3px 1px rgba(60, 64, 67, 0.15);\n",
              "      fill: #174EA6;\n",
              "    }\n",
              "\n",
              "    [theme=dark] .colab-df-convert {\n",
              "      background-color: #3B4455;\n",
              "      fill: #D2E3FC;\n",
              "    }\n",
              "\n",
              "    [theme=dark] .colab-df-convert:hover {\n",
              "      background-color: #434B5C;\n",
              "      box-shadow: 0px 1px 3px 1px rgba(0, 0, 0, 0.15);\n",
              "      filter: drop-shadow(0px 1px 2px rgba(0, 0, 0, 0.3));\n",
              "      fill: #FFFFFF;\n",
              "    }\n",
              "  </style>\n",
              "\n",
              "      <script>\n",
              "        const buttonEl =\n",
              "          document.querySelector('#df-d07c6034-5938-46e8-9c7e-4099952441c7 button.colab-df-convert');\n",
              "        buttonEl.style.display =\n",
              "          google.colab.kernel.accessAllowed ? 'block' : 'none';\n",
              "\n",
              "        async function convertToInteractive(key) {\n",
              "          const element = document.querySelector('#df-d07c6034-5938-46e8-9c7e-4099952441c7');\n",
              "          const dataTable =\n",
              "            await google.colab.kernel.invokeFunction('convertToInteractive',\n",
              "                                                     [key], {});\n",
              "          if (!dataTable) return;\n",
              "\n",
              "          const docLinkHtml = 'Like what you see? Visit the ' +\n",
              "            '<a target=\"_blank\" href=https://colab.research.google.com/notebooks/data_table.ipynb>data table notebook</a>'\n",
              "            + ' to learn more about interactive tables.';\n",
              "          element.innerHTML = '';\n",
              "          dataTable['output_type'] = 'display_data';\n",
              "          await google.colab.output.renderOutput(dataTable, element);\n",
              "          const docLink = document.createElement('div');\n",
              "          docLink.innerHTML = docLinkHtml;\n",
              "          element.appendChild(docLink);\n",
              "        }\n",
              "      </script>\n",
              "    </div>\n",
              "  </div>\n",
              "  "
            ]
          },
          "metadata": {},
          "execution_count": 18
        }
      ]
    },
    {
      "cell_type": "code",
      "source": [
        "df_test.shape"
      ],
      "metadata": {
        "colab": {
          "base_uri": "https://localhost:8080/"
        },
        "id": "lS3pXN7sY8Lz",
        "outputId": "9cf45209-b290-42b7-f2d6-6c9267bcdef2"
      },
      "execution_count": null,
      "outputs": [
        {
          "output_type": "execute_result",
          "data": {
            "text/plain": [
              "(102000, 518)"
            ]
          },
          "metadata": {},
          "execution_count": 19
        }
      ]
    },
    {
      "cell_type": "code",
      "source": [
        "df.shape[1]"
      ],
      "metadata": {
        "colab": {
          "base_uri": "https://localhost:8080/"
        },
        "id": "BwBxVgFplP6G",
        "outputId": "25ebab3b-d34b-434d-a961-5f45febadf9d"
      },
      "execution_count": null,
      "outputs": [
        {
          "output_type": "execute_result",
          "data": {
            "text/plain": [
              "518"
            ]
          },
          "metadata": {},
          "execution_count": 6
        }
      ]
    },
    {
      "cell_type": "markdown",
      "source": [
        "REDUCTION FOR CV"
      ],
      "metadata": {
        "id": "tlK66gPpl_B_"
      }
    },
    {
      "cell_type": "code",
      "source": [
        "from tensorflow.keras.layers import Input, Dense\n",
        "from tensorflow.keras.models import Model\n",
        "\n",
        "# Prepare your data\n",
        "\n",
        "# Define the dimensions of your input data\n",
        "input_dim = df.shape[1]\n",
        "\n",
        "# Define the architecture of the autoencoder\n",
        "input_layer = Input(shape=(input_dim,))\n",
        "encoded = Dense(128, activation='relu')(input_layer)\n",
        "encoded = Dense(64, activation='relu')(encoded)\n",
        "encoded = Dense(32, activation='relu')(encoded)\n",
        "\n",
        "decoded = Dense(64, activation='relu')(encoded)\n",
        "decoded = Dense(128, activation='relu')(decoded)\n",
        "decoded = Dense(input_dim, activation='sigmoid')(decoded)\n",
        "\n",
        "# Create the autoencoder model\n",
        "autoencoder = Model(input_layer, decoded)\n",
        "\n",
        "# Compile the autoencoder model\n",
        "autoencoder.compile(optimizer='adam', loss='mse', metrics = 'acc')\n",
        "\n",
        "# Train the autoencoder\n",
        "history = autoencoder.fit(df, df, epochs=10, batch_size=64, validation_split=0.15)\n",
        "\n",
        "# Extract the encoder part\n",
        "encoder = Model(input_layer, encoded)\n",
        "\n",
        "# Apply the encoder for dimensionality reduction\n",
        "reduced_data = encoder.predict(df)\n"
      ],
      "metadata": {
        "id": "JvEOW655aU50",
        "colab": {
          "base_uri": "https://localhost:8080/"
        },
        "outputId": "496a9b46-e712-44af-c166-b181cf2a2320"
      },
      "execution_count": null,
      "outputs": [
        {
          "output_type": "stream",
          "name": "stdout",
          "text": [
            "Epoch 1/10\n",
            "13561/13561 [==============================] - 58s 4ms/step - loss: 0.0022 - acc: 0.1631 - val_loss: 0.0021 - val_acc: 0.2000\n",
            "Epoch 2/10\n",
            "13561/13561 [==============================] - 49s 4ms/step - loss: 0.0017 - acc: 0.1884 - val_loss: 0.0021 - val_acc: 0.1851\n",
            "Epoch 3/10\n",
            "13561/13561 [==============================] - 49s 4ms/step - loss: 0.0017 - acc: 0.0278 - val_loss: 0.0021 - val_acc: 0.0016\n",
            "Epoch 4/10\n",
            "13561/13561 [==============================] - 48s 4ms/step - loss: 0.0017 - acc: 0.0039 - val_loss: 0.0021 - val_acc: 7.9659e-04\n",
            "Epoch 5/10\n",
            "13561/13561 [==============================] - 49s 4ms/step - loss: 0.0017 - acc: 0.0011 - val_loss: 0.0021 - val_acc: 7.9659e-04\n",
            "Epoch 6/10\n",
            "13561/13561 [==============================] - 49s 4ms/step - loss: 0.0017 - acc: 0.0011 - val_loss: 0.0021 - val_acc: 7.9659e-04\n",
            "Epoch 7/10\n",
            "13561/13561 [==============================] - 49s 4ms/step - loss: 0.0017 - acc: 0.0089 - val_loss: 0.0021 - val_acc: 7.9659e-04\n",
            "Epoch 8/10\n",
            "13561/13561 [==============================] - 49s 4ms/step - loss: 0.0017 - acc: 0.0011 - val_loss: 0.0021 - val_acc: 7.9659e-04\n",
            "Epoch 9/10\n",
            "13561/13561 [==============================] - 49s 4ms/step - loss: 0.0017 - acc: 0.0012 - val_loss: 0.0021 - val_acc: 7.9659e-04\n",
            "Epoch 10/10\n",
            "13561/13561 [==============================] - 48s 4ms/step - loss: 0.0017 - acc: 0.1037 - val_loss: 0.0021 - val_acc: 0.1849\n",
            "31907/31907 [==============================] - 36s 1ms/step\n"
          ]
        }
      ]
    },
    {
      "cell_type": "code",
      "source": [
        "X = pd.DataFrame(reduced_data)"
      ],
      "metadata": {
        "id": "QilWwy0joh3k"
      },
      "execution_count": null,
      "outputs": []
    },
    {
      "cell_type": "code",
      "source": [
        "outlier_data = encoder.predict(df_test)"
      ],
      "metadata": {
        "colab": {
          "base_uri": "https://localhost:8080/"
        },
        "id": "HnignjqxjiX_",
        "outputId": "36426d3b-86de-4dd7-d9ed-963053a3a708"
      },
      "execution_count": null,
      "outputs": [
        {
          "output_type": "stream",
          "name": "stdout",
          "text": [
            "3188/3188 [==============================] - 4s 1ms/step\n"
          ]
        }
      ]
    },
    {
      "cell_type": "code",
      "source": [
        "autoencoder.summary()"
      ],
      "metadata": {
        "colab": {
          "base_uri": "https://localhost:8080/"
        },
        "id": "eoFEKNzbRhvr",
        "outputId": "016a8c02-3866-4b7b-af55-fd477d2e1fe3"
      },
      "execution_count": null,
      "outputs": [
        {
          "output_type": "stream",
          "name": "stdout",
          "text": [
            "Model: \"model\"\n",
            "_________________________________________________________________\n",
            " Layer (type)                Output Shape              Param #   \n",
            "=================================================================\n",
            " input_1 (InputLayer)        [(None, 518)]             0         \n",
            "                                                                 \n",
            " dense (Dense)               (None, 128)               66432     \n",
            "                                                                 \n",
            " dense_1 (Dense)             (None, 64)                8256      \n",
            "                                                                 \n",
            " dense_2 (Dense)             (None, 32)                2080      \n",
            "                                                                 \n",
            " dense_3 (Dense)             (None, 64)                2112      \n",
            "                                                                 \n",
            " dense_4 (Dense)             (None, 128)               8320      \n",
            "                                                                 \n",
            " dense_5 (Dense)             (None, 518)               66822     \n",
            "                                                                 \n",
            "=================================================================\n",
            "Total params: 154,022\n",
            "Trainable params: 154,022\n",
            "Non-trainable params: 0\n",
            "_________________________________________________________________\n"
          ]
        }
      ]
    },
    {
      "cell_type": "code",
      "source": [
        "import sklearn\n",
        "print(sklearn.__version__)"
      ],
      "metadata": {
        "colab": {
          "base_uri": "https://localhost:8080/"
        },
        "id": "AR8iPxqzrdr0",
        "outputId": "d7c00c5d-6947-4886-8d94-e01d68f587e6"
      },
      "execution_count": null,
      "outputs": [
        {
          "output_type": "stream",
          "name": "stdout",
          "text": [
            "1.2.2\n"
          ]
        }
      ]
    },
    {
      "cell_type": "code",
      "source": [
        "pip install pyod"
      ],
      "metadata": {
        "colab": {
          "base_uri": "https://localhost:8080/"
        },
        "id": "NtUmI7mArlSw",
        "outputId": "dd1a22a2-7a3e-4665-a56b-fc4e2139fa8b"
      },
      "execution_count": null,
      "outputs": [
        {
          "output_type": "stream",
          "name": "stdout",
          "text": [
            "Looking in indexes: https://pypi.org/simple, https://us-python.pkg.dev/colab-wheels/public/simple/\n",
            "Collecting pyod\n",
            "  Downloading pyod-1.0.9.tar.gz (149 kB)\n",
            "\u001b[2K     \u001b[90m━━━━━━━━━━━━━━━━━━━━━━━━━━━━━━━━━━━━━━\u001b[0m \u001b[32m150.0/150.0 kB\u001b[0m \u001b[31m16.6 MB/s\u001b[0m eta \u001b[36m0:00:00\u001b[0m\n",
            "\u001b[?25h  Preparing metadata (setup.py) ... \u001b[?25l\u001b[?25hdone\n",
            "Requirement already satisfied: joblib in /usr/local/lib/python3.10/dist-packages (from pyod) (1.2.0)\n",
            "Requirement already satisfied: matplotlib in /usr/local/lib/python3.10/dist-packages (from pyod) (3.7.1)\n",
            "Requirement already satisfied: numpy>=1.19 in /usr/local/lib/python3.10/dist-packages (from pyod) (1.22.4)\n",
            "Requirement already satisfied: numba>=0.51 in /usr/local/lib/python3.10/dist-packages (from pyod) (0.56.4)\n",
            "Requirement already satisfied: scipy>=1.5.1 in /usr/local/lib/python3.10/dist-packages (from pyod) (1.10.1)\n",
            "Requirement already satisfied: scikit_learn>=0.20.0 in /usr/local/lib/python3.10/dist-packages (from pyod) (1.2.2)\n",
            "Requirement already satisfied: six in /usr/local/lib/python3.10/dist-packages (from pyod) (1.16.0)\n",
            "Requirement already satisfied: llvmlite<0.40,>=0.39.0dev0 in /usr/local/lib/python3.10/dist-packages (from numba>=0.51->pyod) (0.39.1)\n",
            "Requirement already satisfied: setuptools in /usr/local/lib/python3.10/dist-packages (from numba>=0.51->pyod) (67.7.2)\n",
            "Requirement already satisfied: threadpoolctl>=2.0.0 in /usr/local/lib/python3.10/dist-packages (from scikit_learn>=0.20.0->pyod) (3.1.0)\n",
            "Requirement already satisfied: contourpy>=1.0.1 in /usr/local/lib/python3.10/dist-packages (from matplotlib->pyod) (1.0.7)\n",
            "Requirement already satisfied: cycler>=0.10 in /usr/local/lib/python3.10/dist-packages (from matplotlib->pyod) (0.11.0)\n",
            "Requirement already satisfied: fonttools>=4.22.0 in /usr/local/lib/python3.10/dist-packages (from matplotlib->pyod) (4.39.3)\n",
            "Requirement already satisfied: kiwisolver>=1.0.1 in /usr/local/lib/python3.10/dist-packages (from matplotlib->pyod) (1.4.4)\n",
            "Requirement already satisfied: packaging>=20.0 in /usr/local/lib/python3.10/dist-packages (from matplotlib->pyod) (23.1)\n",
            "Requirement already satisfied: pillow>=6.2.0 in /usr/local/lib/python3.10/dist-packages (from matplotlib->pyod) (8.4.0)\n",
            "Requirement already satisfied: pyparsing>=2.3.1 in /usr/local/lib/python3.10/dist-packages (from matplotlib->pyod) (3.0.9)\n",
            "Requirement already satisfied: python-dateutil>=2.7 in /usr/local/lib/python3.10/dist-packages (from matplotlib->pyod) (2.8.2)\n",
            "Building wheels for collected packages: pyod\n",
            "  Building wheel for pyod (setup.py) ... \u001b[?25l\u001b[?25hdone\n",
            "  Created wheel for pyod: filename=pyod-1.0.9-py3-none-any.whl size=184097 sha256=4461a3f1de316ccb980107609bea1e7ee6965a5f2ff5f2be124db68b1f52a2e5\n",
            "  Stored in directory: /root/.cache/pip/wheels/83/55/6b/552e083cf5509c0afe808b76cf434f1be284d01a112623bd37\n",
            "Successfully built pyod\n",
            "Installing collected packages: pyod\n",
            "Successfully installed pyod-1.0.9\n"
          ]
        }
      ]
    },
    {
      "cell_type": "code",
      "source": [
        "import keras"
      ],
      "metadata": {
        "id": "GRuQDp1rr7Qv"
      },
      "execution_count": null,
      "outputs": []
    },
    {
      "cell_type": "code",
      "source": [
        "print(keras.__version__)"
      ],
      "metadata": {
        "colab": {
          "base_uri": "https://localhost:8080/"
        },
        "id": "vPvxeMdmr9Tu",
        "outputId": "4b208f87-b04c-4a2a-fc70-646a34ffd25f"
      },
      "execution_count": null,
      "outputs": [
        {
          "output_type": "stream",
          "name": "stdout",
          "text": [
            "2.12.0\n"
          ]
        }
      ]
    },
    {
      "cell_type": "code",
      "source": [
        "import numpy\n",
        "print(numpy.__version__)"
      ],
      "metadata": {
        "colab": {
          "base_uri": "https://localhost:8080/"
        },
        "id": "g_gDx3WpsUoK",
        "outputId": "98f38fe0-2568-4194-ba36-2bebffd6b5f6"
      },
      "execution_count": null,
      "outputs": [
        {
          "output_type": "stream",
          "name": "stdout",
          "text": [
            "1.22.4\n"
          ]
        }
      ]
    },
    {
      "cell_type": "code",
      "source": [
        "import pandas\n",
        "print(pandas.__version__)"
      ],
      "metadata": {
        "colab": {
          "base_uri": "https://localhost:8080/"
        },
        "id": "48Zk-EANsX9s",
        "outputId": "c967db2e-36fe-419a-a003-0544b6961170"
      },
      "execution_count": null,
      "outputs": [
        {
          "output_type": "stream",
          "name": "stdout",
          "text": [
            "1.5.3\n"
          ]
        }
      ]
    },
    {
      "cell_type": "code",
      "source": [
        "import matplotlib\n",
        "print(matplotlib.__version__)"
      ],
      "metadata": {
        "colab": {
          "base_uri": "https://localhost:8080/"
        },
        "id": "FB9Qz2A2scm1",
        "outputId": "2f650791-c9d5-4b93-8e59-c26bcec80557"
      },
      "execution_count": null,
      "outputs": [
        {
          "output_type": "stream",
          "name": "stdout",
          "text": [
            "3.7.1\n"
          ]
        }
      ]
    },
    {
      "cell_type": "code",
      "source": [
        "import re\n",
        "print(re.__version__)"
      ],
      "metadata": {
        "colab": {
          "base_uri": "https://localhost:8080/"
        },
        "id": "vTGWs3OgshP9",
        "outputId": "61aa2249-c90b-4031-e8a7-09d64bda180b"
      },
      "execution_count": null,
      "outputs": [
        {
          "output_type": "stream",
          "name": "stdout",
          "text": [
            "2.2.1\n"
          ]
        }
      ]
    },
    {
      "cell_type": "code",
      "source": [
        "import tensorflow"
      ],
      "metadata": {
        "id": "sPwN2657sGq7"
      },
      "execution_count": null,
      "outputs": []
    },
    {
      "cell_type": "code",
      "source": [
        "print(tensorflow.__version__)"
      ],
      "metadata": {
        "colab": {
          "base_uri": "https://localhost:8080/"
        },
        "id": "lPMT_NOksJaN",
        "outputId": "00117708-28df-4b87-d128-8ac8df496d51"
      },
      "execution_count": null,
      "outputs": [
        {
          "output_type": "stream",
          "name": "stdout",
          "text": [
            "2.12.0\n"
          ]
        }
      ]
    },
    {
      "cell_type": "code",
      "source": [
        "X_out = pd.DataFrame(outlier_data)"
      ],
      "metadata": {
        "id": "t_pmOpg5k2Um"
      },
      "execution_count": null,
      "outputs": []
    },
    {
      "cell_type": "code",
      "source": [
        "X.to_csv('/content/drive/MyDrive/thesis/train/reduce_ae_cv.csv', index=False)"
      ],
      "metadata": {
        "id": "err4ZkNHlDxD",
        "colab": {
          "base_uri": "https://localhost:8080/",
          "height": 169
        },
        "outputId": "b17278c8-74da-4c6f-9849-7247f972559f"
      },
      "execution_count": null,
      "outputs": [
        {
          "output_type": "error",
          "ename": "NameError",
          "evalue": "ignored",
          "traceback": [
            "\u001b[0;31m---------------------------------------------------------------------------\u001b[0m",
            "\u001b[0;31mNameError\u001b[0m                                 Traceback (most recent call last)",
            "\u001b[0;32m<ipython-input-1-b23b1e9d4605>\u001b[0m in \u001b[0;36m<cell line: 1>\u001b[0;34m()\u001b[0m\n\u001b[0;32m----> 1\u001b[0;31m \u001b[0mX\u001b[0m\u001b[0;34m.\u001b[0m\u001b[0mto_csv\u001b[0m\u001b[0;34m(\u001b[0m\u001b[0;34m'/content/drive/MyDrive/thesis/train/oh_data.csv'\u001b[0m\u001b[0;34m,\u001b[0m \u001b[0mindex\u001b[0m\u001b[0;34m=\u001b[0m\u001b[0;32mFalse\u001b[0m\u001b[0;34m)\u001b[0m\u001b[0;34m\u001b[0m\u001b[0;34m\u001b[0m\u001b[0m\n\u001b[0m",
            "\u001b[0;31mNameError\u001b[0m: name 'X' is not defined"
          ]
        }
      ]
    },
    {
      "cell_type": "code",
      "source": [
        "X_out.to_csv('/content/drive/MyDrive/thesis/val/val-x_out_oh.csv', index=False)"
      ],
      "metadata": {
        "id": "nGzqpZgOkqUY"
      },
      "execution_count": null,
      "outputs": []
    },
    {
      "cell_type": "code",
      "source": [
        "X.shape"
      ],
      "metadata": {
        "colab": {
          "base_uri": "https://localhost:8080/"
        },
        "id": "t1XoSB7VVQzV",
        "outputId": "19ecb4ac-c385-4875-933d-2b721644e3c4"
      },
      "execution_count": null,
      "outputs": [
        {
          "output_type": "execute_result",
          "data": {
            "text/plain": [
              "(1021009, 32)"
            ]
          },
          "metadata": {},
          "execution_count": 14
        }
      ]
    },
    {
      "cell_type": "code",
      "source": [
        "X_out.shape"
      ],
      "metadata": {
        "colab": {
          "base_uri": "https://localhost:8080/"
        },
        "id": "VwZjAiB7VS4p",
        "outputId": "d12845f6-d25d-41e8-f3ec-92ab3d1b6844"
      },
      "execution_count": null,
      "outputs": [
        {
          "output_type": "execute_result",
          "data": {
            "text/plain": [
              "(21006, 32)"
            ]
          },
          "metadata": {},
          "execution_count": 15
        }
      ]
    },
    {
      "cell_type": "markdown",
      "source": [
        "TF-idf reduction"
      ],
      "metadata": {
        "id": "6eRHBkEys0sF"
      }
    },
    {
      "cell_type": "code",
      "source": [
        "df = pd.read_csv('/content/drive/MyDrive/thesis/train/tf-idf_scaled.csv', sep=',')\n"
      ],
      "metadata": {
        "id": "iDl6CdwXsDcz"
      },
      "execution_count": null,
      "outputs": []
    },
    {
      "cell_type": "code",
      "source": [
        "df_out = pd.read_csv('/content/drive/MyDrive/thesis/val/val-tf-idf_scaled.csv', sep = ',')"
      ],
      "metadata": {
        "id": "WuLq4PATnCC0"
      },
      "execution_count": null,
      "outputs": []
    },
    {
      "cell_type": "code",
      "source": [
        "from tensorflow.keras.layers import Input, Dense\n",
        "from tensorflow.keras.models import Model\n",
        "\n",
        "# Prepare your data\n",
        "\n",
        "# Define the dimensions of your input data\n",
        "input_dim = df.shape[1]\n",
        "\n",
        "# Define the architecture of the autoencoder\n",
        "input_layer = Input(shape=(input_dim,))\n",
        "encoded = Dense(128, activation='relu')(input_layer)\n",
        "encoded = Dense(64, activation='relu')(encoded)\n",
        "encoded = Dense(32, activation='relu')(encoded)\n",
        "\n",
        "decoded = Dense(64, activation='relu')(encoded)\n",
        "decoded = Dense(128, activation='relu')(decoded)\n",
        "decoded = Dense(input_dim, activation='sigmoid')(decoded)\n",
        "\n",
        "# Create the autoencoder model\n",
        "autoencoder = Model(input_layer, decoded)\n",
        "\n",
        "# Compile the autoencoder model\n",
        "autoencoder.compile(optimizer='adam', loss='binary_crossentropy', metrics = 'acc')\n",
        "\n",
        "# Train the autoencoder\n",
        "history = autoencoder.fit(df, df, epochs=10, batch_size=1000, validation_split=0.15)\n",
        "\n",
        "# Extract the encoder part\n",
        "encoder = Model(input_layer, encoded)\n",
        "\n",
        "# Apply the encoder for dimensionality reduction\n",
        "reduced_data = encoder.predict(df)"
      ],
      "metadata": {
        "id": "P3z3f-VJree5",
        "colab": {
          "base_uri": "https://localhost:8080/"
        },
        "outputId": "5c21ced2-069b-4323-da82-6bb67bf2363a"
      },
      "execution_count": null,
      "outputs": [
        {
          "output_type": "stream",
          "name": "stdout",
          "text": [
            "Epoch 1/10\n",
            "868/868 [==============================] - 15s 9ms/step - loss: 0.0188 - acc: 0.1444 - val_loss: 0.0055 - val_acc: 0.2080\n",
            "Epoch 2/10\n",
            "868/868 [==============================] - 6s 7ms/step - loss: 0.0017 - acc: 0.5032 - val_loss: 0.0064 - val_acc: 0.2681\n",
            "Epoch 3/10\n",
            "868/868 [==============================] - 6s 7ms/step - loss: 0.0016 - acc: 0.5905 - val_loss: 0.0067 - val_acc: 0.9658\n",
            "Epoch 4/10\n",
            "868/868 [==============================] - 6s 7ms/step - loss: 0.0016 - acc: 0.9770 - val_loss: 0.0068 - val_acc: 0.9664\n",
            "Epoch 5/10\n",
            "868/868 [==============================] - 6s 7ms/step - loss: 0.0016 - acc: 0.9727 - val_loss: 0.0068 - val_acc: 0.9206\n",
            "Epoch 6/10\n",
            "868/868 [==============================] - 6s 7ms/step - loss: 0.0016 - acc: 0.9399 - val_loss: 0.0067 - val_acc: 0.9209\n",
            "Epoch 7/10\n",
            "868/868 [==============================] - 6s 7ms/step - loss: 0.0016 - acc: 0.9382 - val_loss: 0.0065 - val_acc: 0.9208\n",
            "Epoch 8/10\n",
            "868/868 [==============================] - 6s 7ms/step - loss: 0.0016 - acc: 0.9370 - val_loss: 0.0065 - val_acc: 0.9210\n",
            "Epoch 9/10\n",
            "868/868 [==============================] - 6s 7ms/step - loss: 0.0016 - acc: 0.9361 - val_loss: 0.0060 - val_acc: 0.9210\n",
            "Epoch 10/10\n",
            "868/868 [==============================] - 6s 7ms/step - loss: 0.0016 - acc: 0.9356 - val_loss: 0.0059 - val_acc: 0.9212\n",
            "31907/31907 [==============================] - 37s 1ms/step\n"
          ]
        }
      ]
    },
    {
      "cell_type": "code",
      "source": [
        "X = pd.DataFrame(reduced_data)"
      ],
      "metadata": {
        "id": "Y9vt_sYGr1se"
      },
      "execution_count": null,
      "outputs": []
    },
    {
      "cell_type": "code",
      "source": [
        "X.to_csv('/content/drive/MyDrive/thesis/train/reduce_ae_tf-idf.csv', index=False)"
      ],
      "metadata": {
        "id": "XoamrF86wAV0"
      },
      "execution_count": null,
      "outputs": []
    },
    {
      "cell_type": "code",
      "source": [
        "outlier = encoder.predict(df_out)"
      ],
      "metadata": {
        "id": "gRJF_hqfnGj1",
        "colab": {
          "base_uri": "https://localhost:8080/"
        },
        "outputId": "987eba30-bd0f-422c-c14e-c94aa58abbb5"
      },
      "execution_count": null,
      "outputs": [
        {
          "output_type": "stream",
          "name": "stdout",
          "text": [
            "3188/3188 [==============================] - 4s 1ms/step\n"
          ]
        }
      ]
    },
    {
      "cell_type": "code",
      "source": [
        "x_out = pd.DataFrame(outlier)"
      ],
      "metadata": {
        "id": "z6IH_aM_EJTQ"
      },
      "execution_count": null,
      "outputs": []
    },
    {
      "cell_type": "code",
      "source": [
        "x_out.to_csv('/content/drive/MyDrive/thesis/val/val-reduce_ae_tf-idf.csv', index=False)"
      ],
      "metadata": {
        "id": "bVHSME5y5DhB"
      },
      "execution_count": null,
      "outputs": []
    },
    {
      "cell_type": "markdown",
      "source": [
        "OH_DATA"
      ],
      "metadata": {
        "id": "IX-XGD8wEJq7"
      }
    },
    {
      "cell_type": "code",
      "source": [
        "import pandas as pd\n",
        "import tensorflow as tf\n",
        "from tensorflow.keras import Model\n",
        "from tensorflow.keras import Sequential\n",
        "from tensorflow.keras.layers import Dense\n",
        "from tensorflow.keras.losses import CategoricalCrossentropy\n",
        "from tensorflow.keras.metrics import Accuracy"
      ],
      "metadata": {
        "id": "KZy8RpC6ELrl"
      },
      "execution_count": null,
      "outputs": []
    },
    {
      "cell_type": "code",
      "source": [
        "from google.colab import drive\n",
        "drive.mount('/content/drive')"
      ],
      "metadata": {
        "colab": {
          "base_uri": "https://localhost:8080/"
        },
        "id": "5soxoAlDEOop",
        "outputId": "a6294b66-075f-40b0-e074-a74a38748a67"
      },
      "execution_count": null,
      "outputs": [
        {
          "output_type": "stream",
          "name": "stdout",
          "text": [
            "Drive already mounted at /content/drive; to attempt to forcibly remount, call drive.mount(\"/content/drive\", force_remount=True).\n"
          ]
        }
      ]
    },
    {
      "cell_type": "code",
      "source": [
        "df = pd.read_csv('/content/drive/MyDrive/thesis/train/oh_data.csv', sep=',')\n",
        "x_out = pd.read_csv('/content/drive/MyDrive/thesis/val/val-x_out_oh.csv', sep=',')"
      ],
      "metadata": {
        "id": "iViBFzjDESPr"
      },
      "execution_count": null,
      "outputs": []
    },
    {
      "cell_type": "code",
      "source": [
        "from tensorflow.keras.layers import Input, Dense\n",
        "from tensorflow.keras.models import Model\n",
        "\n",
        "# Prepare your data\n",
        "\n",
        "# Define the dimensions of your input data\n",
        "input_dim = df.shape[1]\n",
        "\n",
        "# Define the architecture of the autoencoder\n",
        "input_layer = Input(shape=(input_dim,))\n",
        "encoded = Dense(128, activation='relu')(input_layer)\n",
        "encoded = Dense(64, activation='relu')(encoded)\n",
        "encoded = Dense(32, activation='relu')(encoded)\n",
        "\n",
        "decoded = Dense(64, activation='relu')(encoded)\n",
        "decoded = Dense(128, activation='relu')(decoded)\n",
        "decoded = Dense(input_dim, activation='sigmoid')(decoded)\n",
        "\n",
        "# Create the autoencoder model\n",
        "autoencoder = Model(input_layer, decoded)\n",
        "\n",
        "# Compile the autoencoder model\n",
        "autoencoder.compile(optimizer='adam', loss='mse', metrics = 'acc')\n",
        "\n",
        "# Train the autoencoder\n",
        "history = autoencoder.fit(df, df, epochs=10, batch_size=64, validation_split=0.15)\n",
        "\n",
        "# Extract the encoder part\n",
        "encoder = Model(input_layer, encoded)\n",
        "\n",
        "# Apply the encoder for dimensionality reduction\n",
        "reduced_data = encoder.predict(df)\n"
      ],
      "metadata": {
        "colab": {
          "base_uri": "https://localhost:8080/"
        },
        "id": "72RY3DUWE5Qz",
        "outputId": "5db141b9-ccf4-4c93-d4b8-35cca9fa72e2"
      },
      "execution_count": null,
      "outputs": [
        {
          "output_type": "stream",
          "name": "stdout",
          "text": [
            "Epoch 1/10\n",
            "13561/13561 [==============================] - 54s 4ms/step - loss: 0.0022 - acc: 0.6216 - val_loss: 0.0023 - val_acc: 0.6973\n",
            "Epoch 2/10\n",
            "13561/13561 [==============================] - 49s 4ms/step - loss: 0.0018 - acc: 0.8692 - val_loss: 0.0023 - val_acc: 0.8823\n",
            "Epoch 3/10\n",
            "13561/13561 [==============================] - 49s 4ms/step - loss: 0.0018 - acc: 0.9370 - val_loss: 0.0023 - val_acc: 0.9281\n",
            "Epoch 4/10\n",
            "13561/13561 [==============================] - 49s 4ms/step - loss: 0.0018 - acc: 0.9383 - val_loss: 0.0023 - val_acc: 0.9281\n",
            "Epoch 5/10\n",
            "13561/13561 [==============================] - 49s 4ms/step - loss: 0.0018 - acc: 0.9383 - val_loss: 0.0023 - val_acc: 0.9281\n",
            "Epoch 6/10\n",
            "13561/13561 [==============================] - 49s 4ms/step - loss: 0.0018 - acc: 0.9383 - val_loss: 0.0023 - val_acc: 0.9281\n",
            "Epoch 7/10\n",
            "13561/13561 [==============================] - 49s 4ms/step - loss: 0.0018 - acc: 0.9383 - val_loss: 0.0023 - val_acc: 0.9281\n",
            "Epoch 8/10\n",
            "13561/13561 [==============================] - 49s 4ms/step - loss: 0.0018 - acc: 0.9383 - val_loss: 0.0023 - val_acc: 0.9281\n",
            "Epoch 9/10\n",
            "13561/13561 [==============================] - 49s 4ms/step - loss: 0.0018 - acc: 0.9383 - val_loss: 0.0023 - val_acc: 0.9281\n",
            "Epoch 10/10\n",
            "13561/13561 [==============================] - 49s 4ms/step - loss: 0.0018 - acc: 0.9383 - val_loss: 0.0023 - val_acc: 0.9281\n",
            "31907/31907 [==============================] - 36s 1ms/step\n"
          ]
        }
      ]
    },
    {
      "cell_type": "code",
      "source": [
        "outlier_data = encoder.predict(x_out)"
      ],
      "metadata": {
        "colab": {
          "base_uri": "https://localhost:8080/"
        },
        "id": "ElchOJIQFIAA",
        "outputId": "0080c66e-e7d2-4182-e8a1-7ad59bfa4e00"
      },
      "execution_count": null,
      "outputs": [
        {
          "output_type": "stream",
          "name": "stdout",
          "text": [
            "3188/3188 [==============================] - 4s 1ms/step\n"
          ]
        }
      ]
    },
    {
      "cell_type": "code",
      "source": [
        "df_oh = pd.DataFrame(reduced_data)\n",
        "x_out_oh = pd.DataFrame(outlier_data)"
      ],
      "metadata": {
        "id": "yYxkSHNcFkET"
      },
      "execution_count": null,
      "outputs": []
    },
    {
      "cell_type": "code",
      "source": [
        "from sklearn.preprocessing import MinMaxScaler\n",
        "\n",
        "mm_scaler = MinMaxScaler()\n",
        "x_scaled_oh = mm_scaler.fit_transform(df_oh)"
      ],
      "metadata": {
        "id": "2rD1ennvFTED"
      },
      "execution_count": null,
      "outputs": []
    },
    {
      "cell_type": "code",
      "source": [
        "x_out_oh = mm_scaler.transform(x_out_oh)"
      ],
      "metadata": {
        "id": "4YswRTGZILwL"
      },
      "execution_count": null,
      "outputs": []
    },
    {
      "cell_type": "code",
      "source": [
        "train = pd.DataFrame(x_scaled_oh)\n",
        "test = pd.DataFrame(x_out_oh)"
      ],
      "metadata": {
        "id": "rHX8KxnjIUj-"
      },
      "execution_count": null,
      "outputs": []
    },
    {
      "cell_type": "code",
      "source": [
        "train.to_csv('/content/drive/MyDrive/thesis/train/reduce_ae_oh_data.csv', index=False)\n",
        "test.to_csv('/content/drive/MyDrive/thesis/val/val-reduce_ae_oh_data.csv', index=False)"
      ],
      "metadata": {
        "id": "XRHASdV-IgYE"
      },
      "execution_count": null,
      "outputs": []
    },
    {
      "cell_type": "code",
      "source": [],
      "metadata": {
        "id": "lWGfvXtUIs9V"
      },
      "execution_count": null,
      "outputs": []
    }
  ]
}